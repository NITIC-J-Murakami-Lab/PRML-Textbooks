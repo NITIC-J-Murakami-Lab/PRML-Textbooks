{
  "cells": [
    {
      "cell_type": "markdown",
      "id": "d3e42f24-bea0-481d-9a15-e52dc2fb0847",
      "metadata": {
        "id": "d3e42f24-bea0-481d-9a15-e52dc2fb0847"
      },
      "source": [
        "# Step-by-step k-NN実装"
      ]
    },
    {
      "cell_type": "code",
      "execution_count": 2,
      "id": "fb6fd4ba-56aa-438c-8699-8368dd921ff6",
      "metadata": {
        "id": "fb6fd4ba-56aa-438c-8699-8368dd921ff6",
        "outputId": "b72cfd3d-16e4-4d1f-9abc-2384b9f19959"
      },
      "outputs": [
        {
          "data": {
            "text/plain": [
              "{'date': '2022/07/09', 'author': '村上力'}"
            ]
          },
          "execution_count": 2,
          "metadata": {},
          "output_type": "execute_result"
        }
      ],
      "source": [
        "config = dict(\n",
        "    date = \"2022/07/09\",\n",
        "    author = \"村上力\",\n",
        ")\n",
        "config"
      ]
    },
    {
      "cell_type": "markdown",
      "id": "c8183732-5379-428a-9bc2-b909a5ee1429",
      "metadata": {
        "id": "c8183732-5379-428a-9bc2-b909a5ee1429",
        "tags": []
      },
      "source": [
        "k-NNクラスを一から実装するのは少し大変です。このノートでは、いきなりk-NNをクラスとして実装することが難しいなぁ…と思っている人のために、一歩一歩k-NNの実装を行っていきます。\n",
        "\n",
        "さて、k-NNを行うためには、\n",
        "\n",
        "::::{important}\n",
        "k-NNクラスに必要な機能:  \n",
        "1. 初期化: どんな条件のk-NNを行うのかを決める。\n",
        "2. 訓練: データとラベルを保存する\n",
        "3. 予測: 保存されたデータとラベルを使って未知データのクラスを予測する\n",
        "::::\n",
        "\n",
        "の3ステップが必要でした。（これは、scikit-learnの機械学習モデルクラスの実装に倣った設計になっています。）\n",
        "\n",
        "そこで、ここでは初期化、訓練、予測の3ステップに実装を分けて考えていきます。"
      ]
    },
    {
      "cell_type": "markdown",
      "id": "f3598d90-0cfa-44a4-acff-34e8451013cb",
      "metadata": {
        "id": "f3598d90-0cfa-44a4-acff-34e8451013cb"
      },
      "source": [
        "## データの準備"
      ]
    },
    {
      "cell_type": "markdown",
      "id": "4d147f58-fc6f-482e-85b1-5a666e6d5f03",
      "metadata": {
        "id": "4d147f58-fc6f-482e-85b1-5a666e6d5f03"
      },
      "source": [
        "実装したk-NNがちゃんと動いているのかを確かめるために、今回のコードではiris datasetを例として利用します。"
      ]
    },
    {
      "cell_type": "code",
      "execution_count": 3,
      "id": "5dd88c97-217e-4965-955d-d5d8a0453519",
      "metadata": {
        "id": "5dd88c97-217e-4965-955d-d5d8a0453519"
      },
      "outputs": [],
      "source": [
        "import numpy as np\n",
        "import pandas as pd\n",
        "import plotly.express as px"
      ]
    },
    {
      "cell_type": "code",
      "execution_count": 4,
      "id": "00134e38-9fb1-4b22-b11f-c9eeddd797f9",
      "metadata": {
        "id": "00134e38-9fb1-4b22-b11f-c9eeddd797f9"
      },
      "outputs": [],
      "source": [
        "from sklearn.datasets import load_iris\n",
        "from sklearn.model_selection import train_test_split\n",
        "from sklearn.preprocessing import StandardScaler"
      ]
    },
    {
      "cell_type": "code",
      "execution_count": 5,
      "id": "ba94ab44-9648-4ac6-94d4-951da4df877d",
      "metadata": {
        "id": "ba94ab44-9648-4ac6-94d4-951da4df877d"
      },
      "outputs": [],
      "source": [
        "data1 = load_iris()\n",
        "X_train, X_test, y_train, y_test = train_test_split(data1.data, data1.target, test_size=0.3)"
      ]
    },
    {
      "cell_type": "code",
      "execution_count": 6,
      "id": "de4f01df-5705-41ce-a9bf-8f86a4b3d96e",
      "metadata": {
        "id": "de4f01df-5705-41ce-a9bf-8f86a4b3d96e"
      },
      "outputs": [],
      "source": [
        "scaler = StandardScaler().fit(X_train)\n",
        "X_train = scaler.transform(X_train)\n",
        "X_test = scaler.transform(X_test)"
      ]
    },
    {
      "cell_type": "markdown",
      "id": "58c595bc-9197-484a-8bf1-f8449cc618ca",
      "metadata": {
        "id": "58c595bc-9197-484a-8bf1-f8449cc618ca"
      },
      "source": [
        "## 初期化の実装"
      ]
    },
    {
      "cell_type": "markdown",
      "id": "83e84645-bd58-4b6c-97f0-c2cd819cfa8e",
      "metadata": {
        "id": "83e84645-bd58-4b6c-97f0-c2cd819cfa8e"
      },
      "source": [
        "最終的にはk-NNをクラスとして実装することが目的ですが、まずは訓練と予測をそれぞれ関数として実装します。ただし、関数の中ではできるだけ、「関数の引数」と「関数の中で定義した変数」のみが利用可能であることを意識して下さい。\n",
        "\n",
        "さて、まずはk-NNの初期化ステップです。ここでは、機械学習の訓練をする前に、どのような設定でこの機械学習モデルを構築するのかを定義します。\n",
        "\n",
        "関数として必要な機能を実装していくので、クラスは必要ないのですが、あくまでも「辞書型っぽいなにか」として利用するために、クラスを用意しておきます。"
      ]
    },
    {
      "cell_type": "code",
      "execution_count": 7,
      "id": "8f7fd5ce-bf6a-44b4-8123-c5bd511a641b",
      "metadata": {
        "id": "8f7fd5ce-bf6a-44b4-8123-c5bd511a641b"
      },
      "outputs": [],
      "source": [
        "class knnに必要な情報をまとめたデータ構造:\n",
        "    def __init__(self):\n",
        "        ..."
      ]
    },
    {
      "cell_type": "markdown",
      "id": "e454b764-3186-4091-b791-6015a08ed943",
      "metadata": {
        "id": "e454b764-3186-4091-b791-6015a08ed943"
      },
      "source": [
        "さて、k-NNを利用するときに、最低限確認したい情報は\n",
        "- kを何にするのか\n",
        "\n",
        "だけです。\n",
        "つまりこの下で用意する「knnに必要な情報をまとめたデータ構造」は、メンバ変数としてk（近傍の何個の点を見るのか」のみを持っていることになりそうです。\n",
        "これを上のクラスに追加します。"
      ]
    },
    {
      "cell_type": "code",
      "execution_count": 8,
      "id": "74190f50-155a-4cc1-a008-4e52dca48de0",
      "metadata": {
        "id": "74190f50-155a-4cc1-a008-4e52dca48de0"
      },
      "outputs": [],
      "source": [
        "class knnに必要な情報をまとめたデータ構造:\n",
        "    def __init__(self, k:int):\n",
        "        self.k = k"
      ]
    },
    {
      "cell_type": "markdown",
      "id": "730298b4-78a3-4d74-be03-73a395f25451",
      "metadata": {
        "id": "730298b4-78a3-4d74-be03-73a395f25451"
      },
      "source": [
        "これで、これ以降に実装する関数には、このdata_containerを引数として渡すことで、kの値も参照できるようになりました。"
      ]
    },
    {
      "cell_type": "code",
      "execution_count": 9,
      "id": "4e714553-71e0-40f3-956c-85d15d7c4940",
      "metadata": {
        "id": "4e714553-71e0-40f3-956c-85d15d7c4940",
        "outputId": "3ed5878f-78d4-4136-9ae7-d781947b200d"
      },
      "outputs": [
        {
          "name": "stdout",
          "output_type": "stream",
          "text": [
            "1\n"
          ]
        }
      ],
      "source": [
        "data_container = knnに必要な情報をまとめたデータ構造(1) # ここではkを適当に1とします。\n",
        "print(data_container.k)"
      ]
    },
    {
      "cell_type": "markdown",
      "id": "8be2a6d5-1298-4bef-a5da-02eed22eb48b",
      "metadata": {
        "id": "8be2a6d5-1298-4bef-a5da-02eed22eb48b"
      },
      "source": [
        "## 訓練関数の実装"
      ]
    },
    {
      "cell_type": "markdown",
      "id": "eabe9adf-ca6f-4eee-b617-411e8088161a",
      "metadata": {
        "id": "eabe9adf-ca6f-4eee-b617-411e8088161a"
      },
      "source": [
        "さて次に、この必要情報と、訓練データと訓練ラベルを受け取って、訓練を行う関数を用意します。\n",
        "\n",
        "ただし、knnが訓練ステップで行うのは、訓練というよりはデータペアをすべて保存するだけの「暗記」です。"
      ]
    },
    {
      "cell_type": "code",
      "execution_count": 10,
      "id": "ed70bf76-9c76-434e-864c-15f0f9a393b2",
      "metadata": {
        "id": "ed70bf76-9c76-434e-864c-15f0f9a393b2"
      },
      "outputs": [],
      "source": [
        "# 「必要情報」という引数には、必ず「knnに必要な情報をまとめたデータ構造」クラスの\n",
        "# インスタンス（つまりdata_container）を渡して下さい。\n",
        "def 訓練(必要情報, 教師データ, 教師ラベル):\n",
        "    必要情報.教師データ = 教師データ\n",
        "    必要情報.教師ラベル = 教師ラベル\n",
        "    return 必要情報"
      ]
    },
    {
      "cell_type": "markdown",
      "id": "c44369f3-ebca-418f-9295-2298642a5b8f",
      "metadata": {
        "id": "c44369f3-ebca-418f-9295-2298642a5b8f"
      },
      "source": [
        "ここで定義した関数は、引数として受け取ったデータを必要情報（第一引数）の新しいメンバ変数として追加して、更新した第一引数のオブジェクトをそのまま帰すだけの仕事をします。"
      ]
    },
    {
      "cell_type": "code",
      "execution_count": 11,
      "id": "1b3920c4-190c-4861-9f1d-e92e0931086b",
      "metadata": {
        "id": "1b3920c4-190c-4861-9f1d-e92e0931086b"
      },
      "outputs": [],
      "source": [
        "data_container = 訓練(data_container, X_train, y_train)"
      ]
    },
    {
      "cell_type": "markdown",
      "id": "7f7f56ae-f3a0-4128-b1be-ed49f9464e23",
      "metadata": {
        "id": "7f7f56ae-f3a0-4128-b1be-ed49f9464e23"
      },
      "source": [
        "訓練を行ったあとのdata_containerの中身を確認してみましょう。"
      ]
    },
    {
      "cell_type": "code",
      "execution_count": 12,
      "id": "3126cc0e-3e30-4c42-aaee-100dccfdb065",
      "metadata": {
        "id": "3126cc0e-3e30-4c42-aaee-100dccfdb065",
        "outputId": "a09bbf48-1e37-4a18-a08d-21069a57d380"
      },
      "outputs": [
        {
          "data": {
            "text/plain": [
              "1"
            ]
          },
          "execution_count": 12,
          "metadata": {},
          "output_type": "execute_result"
        }
      ],
      "source": [
        "data_container.k"
      ]
    },
    {
      "cell_type": "markdown",
      "id": "e7a83455",
      "metadata": {},
      "source": [
        "data_containerが持っている「教師データ」をみてみましょう．"
      ]
    },
    {
      "cell_type": "code",
      "execution_count": 13,
      "id": "06d0846d-5821-4a2b-9937-5d5b1e1a4a66",
      "metadata": {
        "collapsed": true,
        "id": "06d0846d-5821-4a2b-9937-5d5b1e1a4a66",
        "jupyter": {
          "outputs_hidden": true
        },
        "outputId": "f7fa194e-2286-457b-dfb8-73287db936e4",
        "tags": [
          "hide-output"
        ]
      },
      "outputs": [
        {
          "data": {
            "text/plain": [
              "array([[ 0.92174281,  0.07663496,  0.24138987,  0.12201152],\n",
              "       [ 0.79907742, -0.37040229,  0.35927795, -0.01006281],\n",
              "       [-1.28623426,  0.07663496, -1.46798726, -1.59495467],\n",
              "       [-1.65423044,  0.74719083, -1.5269313 , -1.33080603],\n",
              "       [-0.6729073 ,  1.86478395, -1.58587534, -1.19873171],\n",
              "       [ 0.06308506, -1.93503266,  0.00561372, -0.40628577],\n",
              "       [-1.40889966,  0.07663496, -1.40904322, -1.46288035],\n",
              "       [-1.28623426, -1.48799541, -0.40699456, -0.40628577],\n",
              "       [ 0.43108124, -1.26447679,  0.59505411,  0.78238313],\n",
              "       [-0.6729073 ,  0.74719083, -1.35009918, -1.46288035],\n",
              "       [ 0.18575045, -1.04095816,  0.94871834,  0.12201152],\n",
              "       [-1.16356887,  0.97070945, -1.40904322, -0.93458306],\n",
              "       [-0.42757651, -0.59392092,  0.53611007,  0.91445745],\n",
              "       [ 1.0444082 ,  0.30015358,  1.12555046,  1.31068042],\n",
              "       [ 0.92174281,  0.52367221,  1.00766238,  1.04653177],\n",
              "       [ 0.30841584, -1.93503266,  0.30033391,  0.25408584],\n",
              "       [-0.42757651, -1.26447679, -0.05333032, -0.27421145],\n",
              "       [-1.40889966,  0.74719083, -1.2322111 , -1.46288035],\n",
              "       [-1.53156505,  0.30015358, -1.58587534, -1.46288035],\n",
              "       [-1.04090348,  1.64126533, -1.40904322, -1.46288035],\n",
              "       [ 0.55374663, -0.81743954,  0.77188623,  0.78238313],\n",
              "       [ 1.1670736 ,  0.07663496,  0.65399815,  1.31068042],\n",
              "       [ 0.92174281, -0.14688367,  0.71294219,  1.31068042],\n",
              "       [ 0.67641202, -0.14688367,  0.71294219,  0.91445745],\n",
              "       [-0.91823808,  2.3118212 , -1.46798726, -1.59495467],\n",
              "       [-0.18224573, -0.81743954,  0.06455776, -0.40628577],\n",
              "       [ 0.92174281,  0.52367221,  1.00766238,  1.57482906],\n",
              "       [ 0.30841584, -0.59392092,  0.47716603,  0.65030881],\n",
              "       [ 0.43108124, -1.71151404,  0.24138987, -0.01006281],\n",
              "       [ 2.14839674,  1.64126533,  1.59710277,  1.1786061 ],\n",
              "       [-2.02222662, -0.14688367, -1.70376341, -1.59495467],\n",
              "       [ 1.65773517, -0.37040229,  1.36132662,  0.65030881],\n",
              "       [ 0.92174281,  0.07663496,  0.41822199,  0.25408584],\n",
              "       [-0.42757651, -0.14688367,  0.06455776, -0.01006281],\n",
              "       [ 1.1670736 ,  0.07663496,  0.53611007,  0.25408584],\n",
              "       [-0.55024191, -1.04095816,  0.24138987, -0.14213713],\n",
              "       [ 0.67641202, -0.14688367,  0.8897743 ,  0.65030881],\n",
              "       [-0.55024191,  2.53533982, -1.5269313 , -1.46288035],\n",
              "       [ 0.55374663,  0.30015358,  0.30033391,  0.25408584],\n",
              "       [ 0.18575045, -0.59392092,  0.00561372, -0.01006281],\n",
              "       [ 2.39372752,  1.64126533,  1.42027066,  0.91445745],\n",
              "       [-1.77689583, -1.71151404, -1.58587534, -1.33080603],\n",
              "       [ 0.79907742, -0.14688367,  0.24138987,  0.12201152],\n",
              "       [ 1.0444082 , -0.14688367,  0.8897743 ,  1.04653177],\n",
              "       [-0.55024191, -1.26447679,  0.00561372, -0.01006281],\n",
              "       [ 0.55374663, -0.59392092,  0.94871834,  1.1786061 ],\n",
              "       [ 1.53506977, -0.14688367,  1.06660642,  0.38616016],\n",
              "       [ 0.18575045, -0.37040229,  0.41822199,  0.12201152],\n",
              "       [-1.04090348,  1.4177467 , -1.46798726, -1.19873171],\n",
              "       [-1.04090348,  0.97070945, -1.5269313 , -1.33080603],\n",
              "       [-0.18224573, -0.81743954, -0.05333032, -0.14213713],\n",
              "       [-0.05958033, -0.14688367,  0.65399815,  0.65030881],\n",
              "       [-0.91823808,  0.97070945, -1.46798726, -1.46288035],\n",
              "       [-1.16356887, -1.71151404, -0.40699456, -0.40628577],\n",
              "       [ 0.43108124,  0.52367221,  0.41822199,  0.38616016],\n",
              "       [-0.6729073 , -0.14688367,  0.30033391,  0.25408584],\n",
              "       [ 0.06308506,  0.74719083,  0.30033391,  0.38616016],\n",
              "       [-0.30491112, -0.37040229,  0.1235018 , -0.01006281],\n",
              "       [ 0.92174281,  0.07663496,  0.94871834,  1.44275474],\n",
              "       [-0.6729073 ,  1.4177467 , -1.46798726, -1.46288035],\n",
              "       [-1.16356887,  0.30015358, -1.64481938, -1.46288035],\n",
              "       [ 0.67641202,  0.30015358,  0.65399815,  0.91445745],\n",
              "       [-0.6729073 ,  1.86478395, -1.35009918, -1.19873171],\n",
              "       [-0.18224573, -0.81743954,  0.65399815,  0.78238313],\n",
              "       [-0.18224573,  2.08830257, -1.64481938, -1.46288035],\n",
              "       [ 0.30841584,  0.74719083,  0.83083026,  1.31068042],\n",
              "       [ 0.55374663,  0.30015358,  0.77188623,  1.31068042],\n",
              "       [ 2.14839674, -0.14688367,  1.24343854,  1.31068042],\n",
              "       [-0.42757651, -0.14688367,  0.30033391,  0.25408584],\n",
              "       [-0.55024191, -1.48799541, -0.11227436, -0.27421145],\n",
              "       [-0.55024191,  0.97070945, -1.58587534, -1.46288035],\n",
              "       [-0.55024191, -1.48799541, -0.1712184 , -0.40628577],\n",
              "       [ 0.43108124,  0.74719083,  0.94871834,  1.44275474],\n",
              "       [ 0.43108124, -0.81743954,  0.53611007,  0.65030881],\n",
              "       [-1.16356887,  0.74719083, -1.46798726, -1.46288035],\n",
              "       [ 1.78040056, -0.59392092,  1.24343854,  0.78238313],\n",
              "       [ 1.1670736 ,  0.07663496,  0.83083026,  1.04653177],\n",
              "       [ 0.55374663,  0.07663496,  0.8897743 ,  0.65030881],\n",
              "       [ 1.53506977,  0.30015358,  1.1844945 ,  0.65030881],\n",
              "       [-0.30491112, -0.14688367,  0.1235018 , -0.14213713],\n",
              "       [ 1.0444082 , -0.59392092,  0.47716603,  0.12201152],\n",
              "       [ 1.28973899,  0.30015358,  0.41822199,  0.12201152],\n",
              "       [ 0.18575045, -0.14688367,  0.53611007,  0.65030881],\n",
              "       [-1.28623426,  1.19422808, -1.5269313 , -1.59495467],\n",
              "       [ 0.92174281, -1.26447679,  1.06660642,  0.65030881],\n",
              "       [-1.04090348,  1.64126533, -1.2322111 , -1.19873171],\n",
              "       [ 0.67641202, -0.14688367,  1.06660642,  1.1786061 ],\n",
              "       [ 0.55374663, -0.37040229,  0.18244584, -0.01006281],\n",
              "       [-1.04090348,  1.64126533, -1.46798726, -1.33080603],\n",
              "       [-1.28623426, -1.26447679,  0.30033391,  0.51823448],\n",
              "       [ 1.53506977,  1.19422808,  1.24343854,  1.57482906],\n",
              "       [ 1.1670736 ,  0.30015358,  1.00766238,  1.31068042],\n",
              "       [ 1.41240438, -0.14688367,  1.12555046,  1.04653177],\n",
              "       [ 0.43108124,  0.52367221,  1.1844945 ,  1.57482906],\n",
              "       [-1.65423044,  0.30015358, -1.5269313 , -1.46288035],\n",
              "       [-1.16356887, -2.38206991, -0.28910648, -0.40628577],\n",
              "       [-0.18224573, -1.04095816,  0.00561372, -0.14213713],\n",
              "       [-1.16356887,  0.97070945, -1.58587534, -1.33080603],\n",
              "       [ 0.06308506, -0.37040229,  0.30033391,  0.25408584],\n",
              "       [ 0.43108124, -0.37040229,  0.94871834,  0.65030881],\n",
              "       [-1.89956123, -0.14688367, -1.58587534, -1.46288035],\n",
              "       [-0.05958033,  0.30015358,  0.47716603,  0.65030881],\n",
              "       [ 0.06308506, -1.93503266,  0.59505411,  0.25408584],\n",
              "       [-0.18224573, -0.59392092,  0.65399815,  1.44275474],\n",
              "       [-1.53156505,  0.30015358, -1.40904322, -1.46288035]])"
            ]
          },
          "execution_count": 13,
          "metadata": {},
          "output_type": "execute_result"
        }
      ],
      "source": [
        "data_container.教師データ"
      ]
    },
    {
      "cell_type": "code",
      "execution_count": 14,
      "id": "0befa445-06a9-4508-9885-e418e98c42ae",
      "metadata": {
        "id": "0befa445-06a9-4508-9885-e418e98c42ae",
        "outputId": "493094a3-ac8e-478e-9667-211a358a600e"
      },
      "outputs": [
        {
          "data": {
            "text/plain": [
              "array([1, 1, 0, 0, 0, 1, 0, 1, 2, 0, 2, 0, 2, 2, 2, 1, 1, 0, 0, 0, 2, 2,\n",
              "       2, 2, 0, 1, 2, 2, 1, 2, 0, 2, 1, 1, 1, 1, 2, 0, 1, 1, 2, 0, 1, 2,\n",
              "       1, 2, 2, 1, 0, 0, 1, 2, 0, 1, 1, 1, 1, 1, 2, 0, 0, 2, 0, 2, 0, 2,\n",
              "       2, 2, 1, 1, 0, 1, 2, 2, 0, 2, 2, 2, 2, 1, 1, 1, 2, 0, 2, 0, 2, 1,\n",
              "       0, 2, 2, 2, 2, 2, 0, 1, 1, 0, 1, 2, 0, 1, 2, 2, 0])"
            ]
          },
          "execution_count": 14,
          "metadata": {},
          "output_type": "execute_result"
        }
      ],
      "source": [
        "data_container.教師ラベル"
      ]
    },
    {
      "cell_type": "markdown",
      "id": "ce23090f-178c-4171-9afd-157459ab5549",
      "metadata": {
        "id": "ce23090f-178c-4171-9afd-157459ab5549"
      },
      "source": [
        "## 予測関数の実装"
      ]
    },
    {
      "cell_type": "markdown",
      "id": "1d672423-5df6-4545-8027-54e8622030c4",
      "metadata": {
        "id": "1d672423-5df6-4545-8027-54e8622030c4"
      },
      "source": [
        "k-nnでは未知データと教師データすべてのとの距離を計算して、距離の近い順番にソートします。その後に教師データのラベルがそれぞれ何個有るのかを調べて、最も多いラベルを未知データのラベルとして採用するのでした。\n",
        "\n",
        "実装を見る前に難しそうな関数を紹介しておきます。"
      ]
    },
    {
      "cell_type": "markdown",
      "id": "3e91d3d6-74d7-4ba7-baee-23909d6953a0",
      "metadata": {
        "id": "3e91d3d6-74d7-4ba7-baee-23909d6953a0"
      },
      "source": [
        "### np.argsort"
      ]
    },
    {
      "cell_type": "code",
      "execution_count": 15,
      "id": "e0590f03-f09b-4c27-896e-85171f3abcb8",
      "metadata": {
        "colab": {
          "base_uri": "https://localhost:8080/",
          "height": 226
        },
        "id": "e0590f03-f09b-4c27-896e-85171f3abcb8",
        "outputId": "83d37ba7-6e9e-4a9a-9aae-cde03403def2"
      },
      "outputs": [
        {
          "name": "stdout",
          "output_type": "stream",
          "text": [
            "np.sort: [140 150 160 180]\n",
            "np.argsort: [2 1 3 0]\n"
          ]
        }
      ],
      "source": [
        "# np.argsortとは\n",
        "身長 = [180,150,140,160]\n",
        "print(\"np.sort:\",np.sort(身長))\n",
        "print(\"np.argsort:\", np.argsort(身長))"
      ]
    },
    {
      "cell_type": "markdown",
      "id": "a404fe40-95b4-45db-ad36-cf2bd792136c",
      "metadata": {
        "id": "a404fe40-95b4-45db-ad36-cf2bd792136c"
      },
      "source": [
        "### np.bincount"
      ]
    },
    {
      "cell_type": "code",
      "execution_count": 16,
      "id": "b9763abe-bc91-43c1-848b-26ec71cb6a28",
      "metadata": {
        "id": "b9763abe-bc91-43c1-848b-26ec71cb6a28",
        "outputId": "ca66ac33-777e-4d13-dd65-eb3cf8ca2547"
      },
      "outputs": [
        {
          "data": {
            "text/plain": [
              "array([0, 1, 1, 3, 1, 1])"
            ]
          },
          "execution_count": 16,
          "metadata": {},
          "output_type": "execute_result"
        }
      ],
      "source": [
        "# 配列内にある数字がそれぞれ何個あったのかを数えてくれる関数（最大値と同じ要素数のベクトルが返ってくる）\n",
        "成績 = [4,2,1,3,3,3,5]\n",
        "np.bincount(成績)"
      ]
    },
    {
      "cell_type": "markdown",
      "id": "74c591a3-5265-45c3-aa24-084f46726564",
      "metadata": {
        "id": "74c591a3-5265-45c3-aa24-084f46726564"
      },
      "source": [
        "### 距離を計算する関数"
      ]
    },
    {
      "cell_type": "markdown",
      "id": "f696c790-a255-46d2-8188-2602059d4979",
      "metadata": {
        "id": "f696c790-a255-46d2-8188-2602059d4979"
      },
      "source": [
        "ではまず、距離を計算する関数を実装しましょう。"
      ]
    },
    {
      "cell_type": "code",
      "execution_count": 17,
      "id": "f70fa594-1ea0-4041-b1f8-024d47fc28ab",
      "metadata": {
        "id": "f70fa594-1ea0-4041-b1f8-024d47fc28ab"
      },
      "outputs": [],
      "source": [
        "def 距離を計算する関数(データ点, 教師データ全部):\n",
        "    距離 = ((データ点 - 教師データ全部) ** 2).sum(axis=1)\n",
        "    return 距離"
      ]
    },
    {
      "cell_type": "markdown",
      "id": "ec401130-2fda-4b71-99e9-0625c9408db3",
      "metadata": {
        "id": "ec401130-2fda-4b71-99e9-0625c9408db3"
      },
      "source": [
        "### 与えられたデータが属するクラスを予測する関数"
      ]
    },
    {
      "cell_type": "code",
      "execution_count": 18,
      "id": "9a8dcbcc-cdc6-4c9e-8d8a-ea7b90ae0af1",
      "metadata": {
        "id": "9a8dcbcc-cdc6-4c9e-8d8a-ea7b90ae0af1"
      },
      "outputs": [],
      "source": [
        "def 予測(必要情報, クラスを予測したいデータ):\n",
        "    予測したクラスラベル = [] # リストとして初期化\n",
        "\n",
        "    for (ループの回数, x) in enumerate(クラスを予測したいデータ):\n",
        "\n",
        "        # データ点xと教師データすべてとの距離を計算し、distance_vectorに格納する。\n",
        "        # distance_vectorの要素数は教師データの数と同じになっているはず。\n",
        "        distance_vector = 距離を計算する関数(x, 必要情報.教師データ)\n",
        "\n",
        "        # これを小さい順にソートして、データの番号を変数に保存しておく\n",
        "        sorted_indexes = np.argsort(distance_vector)\n",
        "\n",
        "        # 先頭からk個だけ取り出して、あとは捨てる\n",
        "        ご近所さん = sorted_indexes[:必要情報.k]\n",
        "\n",
        "        # k個のご近所さんの教師ラベルを変数に保存しておく\n",
        "        ご近所さんのラベル = 必要情報.教師ラベル[ご近所さん]\n",
        "\n",
        "        # ご近所さんの中で一番多いラベルを見つける\n",
        "        近所で一番人気のラベル = np.bincount(ご近所さんのラベル).argmax()\n",
        "\n",
        "        # xのご近所で一番多いのがこのクラスなら、きっとxもこのクラスなんだろうな…\n",
        "        予測したクラスラベル.append(近所で一番人気のラベル)\n",
        "\n",
        "        # あとはこれを「クラスを予測したいデータ」すべてに対して行えばすべての予測ができる。\n",
        "\n",
        "    return np.array(予測したクラスラベル) # 返す時はnumpyの配列としておく（おそらくy_trainもそうだったでしょ？）"
      ]
    },
    {
      "cell_type": "code",
      "execution_count": 19,
      "id": "157c4c18-d4b2-4031-b9f2-ad8564f9873c",
      "metadata": {
        "id": "157c4c18-d4b2-4031-b9f2-ad8564f9873c",
        "outputId": "03b9300a-acb9-41f9-82e8-e5543e4107c7"
      },
      "outputs": [
        {
          "data": {
            "text/plain": [
              "0.9333333333333333"
            ]
          },
          "execution_count": 19,
          "metadata": {},
          "output_type": "execute_result"
        }
      ],
      "source": [
        "pred_labels = 予測(data_container, X_test)\n",
        "\n",
        "# 正答率\n",
        "(pred_labels == y_test).sum() / len(X_test)"
      ]
    },
    {
      "cell_type": "markdown",
      "id": "2180ce8a-4952-42b2-88e9-29e6e959fed4",
      "metadata": {
        "id": "2180ce8a-4952-42b2-88e9-29e6e959fed4"
      },
      "source": [
        "これでk-NNがとりあえず完成しました。"
      ]
    },
    {
      "cell_type": "markdown",
      "id": "15f22f3e-a904-408c-b3e5-2fb60f70eff7",
      "metadata": {
        "id": "15f22f3e-a904-408c-b3e5-2fb60f70eff7"
      },
      "source": [
        "## リファクタリング"
      ]
    },
    {
      "cell_type": "markdown",
      "id": "b7bd3b02-82ed-4270-a7bc-e4d07ba5e317",
      "metadata": {
        "id": "b7bd3b02-82ed-4270-a7bc-e4d07ba5e317"
      },
      "source": [
        "### 想定しない使われ方への対応"
      ]
    },
    {
      "cell_type": "markdown",
      "id": "3c31e9b3-1065-4201-819c-d672209290d2",
      "metadata": {
        "id": "3c31e9b3-1065-4201-819c-d672209290d2"
      },
      "source": [
        "しかし、訓練をしていないのに予測を走らせるとエラーが出そうです。そのために訓練済みかどうかを判別できるフラグも「必要情報」の一つになりそうですね。\n",
        "\n",
        "ここまでで実装したコード⇓"
      ]
    },
    {
      "cell_type": "code",
      "execution_count": 20,
      "id": "efa13cfb-9f4e-444d-8c81-70ab88a4a70a",
      "metadata": {
        "id": "efa13cfb-9f4e-444d-8c81-70ab88a4a70a"
      },
      "outputs": [],
      "source": [
        "class knnに必要な情報をまとめたデータ構造:\n",
        "    def __init__(self, k:int):\n",
        "        self.k = k\n",
        "\n",
        "def 訓練(必要情報, 教師データ, 教師ラベル):\n",
        "    必要情報.教師データ = 教師データ\n",
        "    必要情報.教師ラベル = 教師ラベル\n",
        "    return 必要情報\n",
        "\n",
        "def 距離を計算する関数(データ点, 教師データ全部):\n",
        "    距離 = ((データ点 - 教師データ全部) ** 2).sum(axis=1)\n",
        "    return 距離\n",
        "\n",
        "def 予測(必要情報, クラスを予測したいデータ):\n",
        "    予測したクラスラベル = []\n",
        "\n",
        "    for (ループの回数, x) in enumerate(クラスを予測したいデータ):\n",
        "        distance_vector = 距離を計算する関数(x, 必要情報.教師データ)\n",
        "        sorted_indexes = np.argsort(distance_vector)\n",
        "        ご近所さん = sorted_indexes[:必要情報.k]\n",
        "        ご近所さんのラベル = 必要情報.教師ラベル[ご近所さん]\n",
        "        近所で一番人気のラベル = np.bincount(ご近所さんのラベル).argmax()\n",
        "        予測したクラスラベル.append(近所で一番人気のラベル)\n",
        "    return np.array(予測したクラスラベル)"
      ]
    },
    {
      "cell_type": "markdown",
      "id": "6de5f6cc-51fa-48fe-8e2f-9d49bad3d39d",
      "metadata": {
        "id": "6de5f6cc-51fa-48fe-8e2f-9d49bad3d39d"
      },
      "source": [
        "訓練済みフラグを追加して、予測関数で訓練済みかを確認するように変更したコード⇓"
      ]
    },
    {
      "cell_type": "code",
      "execution_count": 21,
      "id": "e55a7eaf-b6e7-4f66-bf69-79d0bfecc170",
      "metadata": {
        "id": "e55a7eaf-b6e7-4f66-bf69-79d0bfecc170"
      },
      "outputs": [],
      "source": [
        "class knnに必要な情報をまとめたデータ構造:\n",
        "    def __init__(self, k:int):\n",
        "        self.k = k\n",
        "        self.is_fitted = False\n",
        "\n",
        "def 訓練(必要情報, 教師データ, 教師ラベル):\n",
        "    必要情報.教師データ = 教師データ\n",
        "    必要情報.教師ラベル = 教師ラベル\n",
        "    必要情報.is_fitted = True\n",
        "    return 必要情報\n",
        "\n",
        "def 距離を計算する関数(データ点, 教師データ全部):\n",
        "    距離 = ((データ点 - 教師データ全部) ** 2).sum(axis=1)\n",
        "    return 距離\n",
        "\n",
        "def 予測(必要情報, クラスを予測したいデータ):\n",
        "    assert 必要情報.is_fitted, \"先に訓練してから予測して下さい\"\n",
        "    予測したクラスラベル = []\n",
        "\n",
        "    for (ループの回数, x) in enumerate(クラスを予測したいデータ):\n",
        "        distance_vector = 距離を計算する関数(x, 必要情報.教師データ)\n",
        "        sorted_indexes = np.argsort(distance_vector)\n",
        "        ご近所さん = sorted_indexes[:必要情報.k]\n",
        "        ご近所さんのラベル = 必要情報.教師ラベル[ご近所さん]\n",
        "        近所で一番人気のラベル = np.bincount(ご近所さんのラベル).argmax()\n",
        "        予測したクラスラベル.append(近所で一番人気のラベル)\n",
        "    return np.array(予測したクラスラベル)"
      ]
    },
    {
      "cell_type": "markdown",
      "id": "0bf3150c",
      "metadata": {},
      "source": [
        "訓練しないで予測しようとした場合：\n",
        "```py\n",
        "# 訓練しないで予測しようとした場合\n",
        "\n",
        "data_container = knnに必要な情報をまとめたデータ構造(3)\n",
        "pred_labels = 予測(data_container, X_test)\n",
        "```\n",
        "このコードを実行すると次のようなエラーが表示されるはずです．\n",
        "```py\n",
        "---------------------------------------------------------------------------\n",
        "AssertionError                            Traceback (most recent call last)\n",
        "Cell In[31], line 2\n",
        "      1 data_container = knnに必要な情報をまとめたデータ構造(3)\n",
        "----> 2 pred_labels = 予測(data_container, X_test)\n",
        "\n",
        "Cell In[21], line 17\n",
        "     16 def 予測(必要情報, クラスを予測したいデータ):\n",
        "---> 17     assert 必要情報.is_fitted, \"先に訓練してから予測して下さい\"\n",
        "     18     予測したクラスラベル = []\n",
        "     20     for (ループの回数, x) in enumerate(クラスを予測したいデータ):\n",
        "\n",
        "AssertionError: 先に訓練してから予測して下さい\n",
        "```\n",
        "\n",
        "（自分でも試してみてください）\n",
        "\n",
        "これに対して訓練後に予測をしようとした場合は問題なく動作するはずです．"
      ]
    },
    {
      "cell_type": "code",
      "execution_count": 30,
      "id": "bbfcb7c7-e3dd-495f-975c-6653bb04166d",
      "metadata": {
        "id": "bbfcb7c7-e3dd-495f-975c-6653bb04166d"
      },
      "outputs": [],
      "source": [
        "# 訓練後に予測をしようとした場合\n",
        "\n",
        "data_container = knnに必要な情報をまとめたデータ構造(3)\n",
        "data_container = 訓練(data_container, X_train,y_train)\n",
        "pred_labels = 予測(data_container, X_test)"
      ]
    },
    {
      "cell_type": "markdown",
      "id": "7b34e729-6f2e-4642-a7eb-eeaba0651a58",
      "metadata": {
        "id": "7b34e729-6f2e-4642-a7eb-eeaba0651a58"
      },
      "source": [
        "これで例外処理ができそうです。"
      ]
    },
    {
      "cell_type": "markdown",
      "id": "eec5008e-4d23-4abd-b3d4-3d618198f9f0",
      "metadata": {
        "id": "eec5008e-4d23-4abd-b3d4-3d618198f9f0"
      },
      "source": [
        "### 変数名などを英語に直していく"
      ]
    },
    {
      "cell_type": "markdown",
      "id": "a86aefc9-7c06-40a3-8a55-78952453692c",
      "metadata": {
        "id": "a86aefc9-7c06-40a3-8a55-78952453692c"
      },
      "source": [
        "さて、このコードでも十分動くのですが、変数名や関数名は英語で書くのが普通です。とりあえず、いくつか英語に直してみます。\n",
        "また、この際に「必要情報」としていた部分を、全てselfに置き換えておきます。\n",
        "\n",
        "... 教師データとそのラベルをX_train, y_train.　(training dataなのでtrain)。テストデータとそのラベルをX_test, y_testとするのでした。これについてもここで直しておきます。\n",
        "\n"
      ]
    },
    {
      "cell_type": "code",
      "execution_count": 24,
      "id": "1c6d67cd-db48-42ce-85a1-ba231695492f",
      "metadata": {
        "id": "1c6d67cd-db48-42ce-85a1-ba231695492f"
      },
      "outputs": [],
      "source": [
        "class knnに必要な情報をまとめたデータ構造:\n",
        "    def __init__(self, k:int):\n",
        "        self.k = k\n",
        "        self.is_fitted = False\n",
        "\n",
        "def fit(self, X_train, y_train):\n",
        "    self.X_train = X_train\n",
        "    self.y_train = y_train\n",
        "    self.is_fitted = True\n",
        "    return self\n",
        "\n",
        "def compute_distance(data1, data2):\n",
        "    distance = ((data1 - data2) ** 2).sum(axis=1)\n",
        "    return distance\n",
        "\n",
        "def predict(self, X_test):\n",
        "    assert self.is_fitted, \"先に訓練してから予測して下さい\"\n",
        "    pred_labels = []\n",
        "\n",
        "    for (loop_counter, x) in enumerate(X_test):\n",
        "        distance_vector = compute_distance(x, self.X_train)\n",
        "        sorted_indexes = np.argsort(distance_vector)\n",
        "        neighbors = sorted_indexes[:self.k]\n",
        "        neighbors_label = self.y_train[neighbors]\n",
        "        popular_label = np.bincount(neighbors_label).argmax()\n",
        "        pred_labels.append(popular_label)\n",
        "    return np.array(pred_labels)"
      ]
    },
    {
      "cell_type": "markdown",
      "id": "69ceba89-b6d4-4220-977a-5eb4386b5f34",
      "metadata": {
        "id": "69ceba89-b6d4-4220-977a-5eb4386b5f34"
      },
      "source": [
        "よく見るプログラムらしくなってきましたね。\n",
        "\n"
      ]
    },
    {
      "cell_type": "code",
      "execution_count": 25,
      "id": "4dae6957-3045-4151-9293-a8c7c98ab45a",
      "metadata": {
        "id": "4dae6957-3045-4151-9293-a8c7c98ab45a",
        "outputId": "f56c139e-74cf-46f5-e52e-53b51edd4f8c"
      },
      "outputs": [
        {
          "data": {
            "text/plain": [
              "0.9555555555555556"
            ]
          },
          "execution_count": 25,
          "metadata": {},
          "output_type": "execute_result"
        }
      ],
      "source": [
        "data_container = knnに必要な情報をまとめたデータ構造(3)\n",
        "data_container = fit(data_container, X_train,y_train)\n",
        "pred_labels = predict(data_container, X_test)\n",
        "\n",
        "# 正答率\n",
        "(pred_labels == y_test).sum() / len(X_test)"
      ]
    },
    {
      "cell_type": "markdown",
      "id": "89384056-289f-4bdc-a728-c0736021230d",
      "metadata": {
        "id": "89384056-289f-4bdc-a728-c0736021230d"
      },
      "source": [
        "### 関数からクラスへ"
      ]
    },
    {
      "cell_type": "markdown",
      "id": "2d6f89a4-32e4-4412-873d-54d70be24b27",
      "metadata": {
        "id": "2d6f89a4-32e4-4412-873d-54d70be24b27"
      },
      "source": [
        "さて、ここで、fit, predictは「 knnに必要な情報をまとめたデータ構造」のインスタンスを第一引数に取る関数でした。それ以外のデータ構造を渡しても、おそらくエラーが出てしまいそうです。\n",
        "\n",
        "このような「あるデータ構造専用の関数」のことをメソッドと呼び、classの中で定義する事ができます。"
      ]
    },
    {
      "cell_type": "code",
      "execution_count": 26,
      "id": "ee323d00-be7b-4735-88d7-3c97e7840c04",
      "metadata": {
        "id": "ee323d00-be7b-4735-88d7-3c97e7840c04"
      },
      "outputs": [],
      "source": [
        "def compute_distance(data1, data2):\n",
        "        distance = ((data1 - data2) ** 2).sum(axis=1)\n",
        "        return distance\n",
        "\n",
        "class kNN:\n",
        "    def __init__(self, k:int):\n",
        "        self.k = k\n",
        "        self.is_fitted = False\n",
        "\n",
        "    def fit(self, X_train, y_train):\n",
        "        self.X_train = X_train\n",
        "        self.y_train = y_train\n",
        "        self.is_fitted = True\n",
        "        return self\n",
        "\n",
        "    def predict(self, X_test):\n",
        "        assert self.is_fitted, \"先に訓練してから予測して下さい\"\n",
        "        pred_labels = []\n",
        "\n",
        "        for (loop_counter, x) in enumerate(X_test):\n",
        "            distance_vector = compute_distance(x, self.X_train)\n",
        "            sorted_indexes = np.argsort(distance_vector)\n",
        "            neighbors = sorted_indexes[:self.k]\n",
        "            neighbors_label = self.y_train[neighbors]\n",
        "            popular_label = np.bincount(neighbors_label).argmax()\n",
        "            pred_labels.append(popular_label)\n",
        "        return np.array(pred_labels)"
      ]
    },
    {
      "cell_type": "markdown",
      "id": "64f52e76-ef9d-40db-861b-d742bac474f6",
      "metadata": {
        "id": "64f52e76-ef9d-40db-861b-d742bac474f6"
      },
      "source": [
        "この書き方をすることで、インスタンス.メソッド(self以外の引数)の形でメソッドの実行が可能です。\n",
        "\n",
        "また、それぞれのメソッドは、別のメソッドからself.メソッド名で呼び出すことができます。\n",
        "fitメソッドからpredictを呼び出す時は self.predict とすればいいのです。\n",
        "\n",
        "selfはインスタンス自体を示しているので、これはインスタンス.メソッドの形になっています。\n",
        "\n",
        "\n",
        "逆に、それぞれのメソッドの中で、クラス名.メソッドはエラーになります。（ただクラス名を書くだけだとインスタンスになっていませんよね。）"
      ]
    },
    {
      "cell_type": "code",
      "execution_count": 27,
      "id": "6ddbd55f-5e33-4452-9a12-4cefdaaf0812",
      "metadata": {
        "id": "6ddbd55f-5e33-4452-9a12-4cefdaaf0812",
        "outputId": "02bb318f-57c1-498c-aeab-e68006a3ee8c"
      },
      "outputs": [
        {
          "data": {
            "text/plain": [
              "0.9555555555555556"
            ]
          },
          "execution_count": 27,
          "metadata": {},
          "output_type": "execute_result"
        }
      ],
      "source": [
        "model = kNN(3)\n",
        "model.fit(X_train,y_train)\n",
        "pred_labels = model.predict(X_test)\n",
        "\n",
        "# 正答率\n",
        "(pred_labels == y_test).sum() / len(X_test)"
      ]
    },
    {
      "cell_type": "markdown",
      "id": "2deb37f7-a196-49c4-86ad-e68328dc99c1",
      "metadata": {
        "id": "2deb37f7-a196-49c4-86ad-e68328dc99c1"
      },
      "source": [
        "これで基本的なクラスの実装は完了しました。ただこうなると、仲間はずれのcompute_distanceが寂しそうです。\n",
        "\n",
        "この関数はselfを受け取る必要のない関数なので、基本的にはクラスの外で定義しておいたほうがいいでしょう。\n",
        "\n",
        "しかしもしも、「selfを第一引数に置く必要がない関数だけど、実はこのクラスでしか使わないだよなぁ…」とか「このクラスのメソッドとしてまとめておいたほうがわかりやすいんだよなぁ」という場合は、以下のように実装できます。"
      ]
    },
    {
      "cell_type": "code",
      "execution_count": 28,
      "id": "10b58f06-cfd1-4fec-b0f6-45ae35b4ea8b",
      "metadata": {
        "id": "10b58f06-cfd1-4fec-b0f6-45ae35b4ea8b"
      },
      "outputs": [],
      "source": [
        "class kNN:\n",
        "    def __init__(self, k:int):\n",
        "        self.k = k\n",
        "        self.is_fitted = False\n",
        "\n",
        "    def fit(self, X_train, y_train):\n",
        "        self.X_train = X_train\n",
        "        self.y_train = y_train\n",
        "        self.is_fitted = True\n",
        "        return self\n",
        "\n",
        "    def predict(self, X_test):\n",
        "        assert self.is_fitted, \"先に訓練してから予測して下さい\"\n",
        "        pred_labels = []\n",
        "\n",
        "        for (loop_counter, x) in enumerate(X_test):\n",
        "            distance_vector = kNN.compute_distance(x, self.X_train)\n",
        "            sorted_indexes = np.argsort(distance_vector)\n",
        "            neighbors = sorted_indexes[:self.k]\n",
        "            neighbors_label = self.y_train[neighbors]\n",
        "            popular_label = np.bincount(neighbors_label).argmax()\n",
        "            pred_labels.append(popular_label)\n",
        "        return np.array(pred_labels)\n",
        "\n",
        "    @staticmethod\n",
        "    def compute_distance(data1, data2):\n",
        "        distance = ((data1 - data2) ** 2).sum(axis=1)\n",
        "        return distance"
      ]
    },
    {
      "cell_type": "code",
      "execution_count": 29,
      "id": "308b43b3-416a-499a-8a1e-703493fef64b",
      "metadata": {
        "id": "308b43b3-416a-499a-8a1e-703493fef64b",
        "outputId": "7dfef46e-975f-4a4a-e2e0-78ff955057a6"
      },
      "outputs": [
        {
          "data": {
            "text/plain": [
              "0.9555555555555556"
            ]
          },
          "execution_count": 29,
          "metadata": {},
          "output_type": "execute_result"
        }
      ],
      "source": [
        "model = kNN(3)\n",
        "model.fit(X_train,y_train)\n",
        "pred_labels = model.predict(X_test)\n",
        "\n",
        "# 正答率\n",
        "(pred_labels == y_test).sum() / len(X_test)"
      ]
    },
    {
      "cell_type": "markdown",
      "id": "39878fbd-1469-4c33-9579-629266029f1f",
      "metadata": {
        "id": "39878fbd-1469-4c33-9579-629266029f1f"
      },
      "source": [
        "ここで使った@staticmethodは、これがくっついた関数をselfを受け取らないメソッドにしてくれます。\n",
        "\n",
        "詳しく説明すると長くなるので、ここではその程度のイメージで覚えておいて下さい。self.compute_distanceとしてもアクセスできますし、selfを使っていないので、kNN.cumpute_distanceとしてもアクセスできます。この場合の「インスタンス.」とか「クラス.」は名前空間を指定する程度のニュアンスでしかないんですね。"
      ]
    },
    {
      "cell_type": "markdown",
      "id": "0acae8f4-60b0-4857-a263-63b53dfa725e",
      "metadata": {
        "id": "0acae8f4-60b0-4857-a263-63b53dfa725e"
      },
      "source": [
        "これで最低限のk-NNクラスの実装ができたはずです。これをもとに、課題に取り組んでみて下さい。"
      ]
    }
  ],
  "metadata": {
    "colab": {
      "provenance": []
    },
    "kernelspec": {
      "display_name": "Python 3 (ipykernel)",
      "language": "python",
      "name": "python3"
    },
    "language_info": {
      "codemirror_mode": {
        "name": "ipython",
        "version": 3
      },
      "file_extension": ".py",
      "mimetype": "text/x-python",
      "name": "python",
      "nbconvert_exporter": "python",
      "pygments_lexer": "ipython3",
      "version": "3.11.8"
    }
  },
  "nbformat": 4,
  "nbformat_minor": 5
}
