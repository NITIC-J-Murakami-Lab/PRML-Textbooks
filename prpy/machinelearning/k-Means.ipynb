{
 "cells": [
  {
   "cell_type": "markdown",
   "id": "d63adb77",
   "metadata": {},
   "source": [
    "# k平均法(k-Means)"
   ]
  },
  {
   "cell_type": "markdown",
   "id": "56018d8a",
   "metadata": {},
   "source": [
    "クラスタリングにおいて最もシンプルで一般的な手法であるk-Meansについて学びましょう。"
   ]
  },
  {
   "cell_type": "markdown",
   "id": "0faa1fb6",
   "metadata": {},
   "source": [
    "## k-Meansとは"
   ]
  },
  {
   "cell_type": "markdown",
   "id": "c3702e02",
   "metadata": {},
   "source": [
    "### 概要"
   ]
  },
  {
   "cell_type": "markdown",
   "id": "ad44ee21",
   "metadata": {},
   "source": [
    "k-meansとは、教師なし学習の一種です。クラスタリングに利用されます。\n",
    "\n",
    "●k-NNの立ち位置\n",
    "\n",
    "- 機械学習\n",
    "    - 教師あり学習\n",
    "    - 教師なし学習\n",
    "        - クラスタリング\n",
    "            - 階層型クラスタリング\n",
    "            - 非階層型クラスタリング\n",
    "                - ハードクラスタリング\n",
    "                    - k-Means\n",
    "                - ソフトクラスタリング\n",
    "                \n",
    "さて、教師なし学習であるクラスタリングは教師あり学習とは異なり、パラメータの学習に「訓練ラベル（教師ラベル）」を利用しません。\n",
    "\n",
    "K-Meansのパラメータ学習段階では、何らかの指標に基づいて、データを任意の数のクラスタ（グループ）に振り分けます。  \n",
    "このクラスタ（cluster）はクラス（class）とは別物ですので注意してください。"
   ]
  },
  {
   "cell_type": "code",
   "execution_count": 2,
   "id": "1a275a0f",
   "metadata": {
    "tags": [
     "hide-input"
    ]
   },
   "outputs": [
    {
     "data": {
      "text/html": [
       "<iframe width=\"560\" height=\"315\" src=\"https://www.youtube.com/embed/8yptHd0JDlw\" title=\"YouTube video player\" frameborder=\"0\" allow=\"accelerometer; autoplay; clipboard-write; encrypted-media; gyroscope; picture-in-picture\" allowfullscreen></iframe>\n"
      ],
      "text/plain": [
       "<IPython.core.display.HTML object>"
      ]
     },
     "metadata": {},
     "output_type": "display_data"
    }
   ],
   "source": [
    "%%html\n",
    "<iframe width=\"560\" height=\"315\" src=\"https://www.youtube.com/embed/8yptHd0JDlw\" title=\"YouTube video player\" frameborder=\"0\" allow=\"accelerometer; autoplay; clipboard-write; encrypted-media; gyroscope; picture-in-picture\" allowfullscreen></iframe>"
   ]
  },
  {
   "cell_type": "markdown",
   "id": "1b0a346f",
   "metadata": {},
   "source": [
    "###  アルゴリズム\n",
    ">1. 各点$x_i$に対してランダムにクラスタを割り振る\n",
    ">1. 各クラスタに割り当てられた点について重心を計算する\n",
    ">1. 各点について上記で計算された重心からの距離を計算し、距離が一番近いクラスタに割り当て直す。\n",
    ">1. 2.と3.の工程を、割り当てられるクラスタが変化しなくなるまで行う\n",
    ">\n",
    ">(引用 https://qiita.com/g-k/items/0d5d22a12a4507ecbf11)\n",
    "\n",
    "k-Meansの仕組みについては [K-means 法を D3.js でビジュアライズしてみた - てっく煮ブログ](http://tech.nitoyon.com/ja/blog/2013/11/07/k-means/) が非常に分かりやすいので，確認してください．"
   ]
  },
  {
   "cell_type": "markdown",
   "id": "31863ddb",
   "metadata": {},
   "source": [
    "## k-MeansのScikit-Learn実装を使った演習"
   ]
  },
  {
   "cell_type": "markdown",
   "id": "2e7bfe34",
   "metadata": {},
   "source": [
    "### パッケージの用意とデータの確認\n",
    "\n",
    "k-Meansをsklearnを使って試してみましょう。  \n",
    "\n",
    "インポートするパッケージは以下の通りです。(matplotlibとplotlyをimportしていますが、どちらか得意な方を利用すれば問題ありません）"
   ]
  },
  {
   "cell_type": "code",
   "execution_count": 3,
   "id": "175199e3",
   "metadata": {},
   "outputs": [],
   "source": [
    "import numpy as np\n",
    "import pandas as pd\n",
    "import matplotlib.pyplot as plt\n",
    "import plotly.express as px\n",
    "from sklearn.model_selection import train_test_split\n",
    "from sklearn.datasets import load_wine\n",
    "from sklearn.cluster import KMeans\n",
    "from sklearn.preprocessing import StandardScaler\n",
    "SEED = 2022"
   ]
  },
  {
   "cell_type": "markdown",
   "id": "0e599b84",
   "metadata": {},
   "source": [
    "さて、まずはデータを読み込みましょう。  \n",
    "今回はwine datasetを利用します。\n",
    "\n",
    "::::{note}\n",
    "\n",
    "wine datasetは以下で公開されています．\n",
    "- [UCI Machine Learning Repository](https://archive.ics.uci.edu/dataset/109/wine)\n",
    "\n",
    "また，scikit-learnのdatasetsパッケージにはload_wine関数が良いされているので，公開元から直接ダウンロードする必要はありません．\n",
    "- [sklearn.datasets.load_wine](https://scikit-learn.org/stable/modules/generated/sklearn.datasets.load_wine.html)\n",
    "::::\n",
    "\n",
    "load_wine関数にはas_frameというオプションがあります。これをTrueにすることで、DataFrameを含んだ返り値をくれるので、使ってみましょう。"
   ]
  },
  {
   "cell_type": "code",
   "execution_count": 4,
   "id": "f5505ad2",
   "metadata": {},
   "outputs": [
    {
     "data": {
      "text/html": [
       "<div>\n",
       "<style scoped>\n",
       "    .dataframe tbody tr th:only-of-type {\n",
       "        vertical-align: middle;\n",
       "    }\n",
       "\n",
       "    .dataframe tbody tr th {\n",
       "        vertical-align: top;\n",
       "    }\n",
       "\n",
       "    .dataframe thead th {\n",
       "        text-align: right;\n",
       "    }\n",
       "</style>\n",
       "<table border=\"1\" class=\"dataframe\">\n",
       "  <thead>\n",
       "    <tr style=\"text-align: right;\">\n",
       "      <th></th>\n",
       "      <th>alcohol</th>\n",
       "      <th>malic_acid</th>\n",
       "      <th>ash</th>\n",
       "      <th>alcalinity_of_ash</th>\n",
       "      <th>magnesium</th>\n",
       "      <th>total_phenols</th>\n",
       "      <th>flavanoids</th>\n",
       "      <th>nonflavanoid_phenols</th>\n",
       "      <th>proanthocyanins</th>\n",
       "      <th>color_intensity</th>\n",
       "      <th>hue</th>\n",
       "      <th>od280/od315_of_diluted_wines</th>\n",
       "      <th>proline</th>\n",
       "      <th>target</th>\n",
       "    </tr>\n",
       "  </thead>\n",
       "  <tbody>\n",
       "    <tr>\n",
       "      <th>0</th>\n",
       "      <td>14.23</td>\n",
       "      <td>1.71</td>\n",
       "      <td>2.43</td>\n",
       "      <td>15.6</td>\n",
       "      <td>127.0</td>\n",
       "      <td>2.80</td>\n",
       "      <td>3.06</td>\n",
       "      <td>0.28</td>\n",
       "      <td>2.29</td>\n",
       "      <td>5.64</td>\n",
       "      <td>1.04</td>\n",
       "      <td>3.92</td>\n",
       "      <td>1065.0</td>\n",
       "      <td>0</td>\n",
       "    </tr>\n",
       "    <tr>\n",
       "      <th>1</th>\n",
       "      <td>13.20</td>\n",
       "      <td>1.78</td>\n",
       "      <td>2.14</td>\n",
       "      <td>11.2</td>\n",
       "      <td>100.0</td>\n",
       "      <td>2.65</td>\n",
       "      <td>2.76</td>\n",
       "      <td>0.26</td>\n",
       "      <td>1.28</td>\n",
       "      <td>4.38</td>\n",
       "      <td>1.05</td>\n",
       "      <td>3.40</td>\n",
       "      <td>1050.0</td>\n",
       "      <td>0</td>\n",
       "    </tr>\n",
       "    <tr>\n",
       "      <th>2</th>\n",
       "      <td>13.16</td>\n",
       "      <td>2.36</td>\n",
       "      <td>2.67</td>\n",
       "      <td>18.6</td>\n",
       "      <td>101.0</td>\n",
       "      <td>2.80</td>\n",
       "      <td>3.24</td>\n",
       "      <td>0.30</td>\n",
       "      <td>2.81</td>\n",
       "      <td>5.68</td>\n",
       "      <td>1.03</td>\n",
       "      <td>3.17</td>\n",
       "      <td>1185.0</td>\n",
       "      <td>0</td>\n",
       "    </tr>\n",
       "    <tr>\n",
       "      <th>3</th>\n",
       "      <td>14.37</td>\n",
       "      <td>1.95</td>\n",
       "      <td>2.50</td>\n",
       "      <td>16.8</td>\n",
       "      <td>113.0</td>\n",
       "      <td>3.85</td>\n",
       "      <td>3.49</td>\n",
       "      <td>0.24</td>\n",
       "      <td>2.18</td>\n",
       "      <td>7.80</td>\n",
       "      <td>0.86</td>\n",
       "      <td>3.45</td>\n",
       "      <td>1480.0</td>\n",
       "      <td>0</td>\n",
       "    </tr>\n",
       "    <tr>\n",
       "      <th>4</th>\n",
       "      <td>13.24</td>\n",
       "      <td>2.59</td>\n",
       "      <td>2.87</td>\n",
       "      <td>21.0</td>\n",
       "      <td>118.0</td>\n",
       "      <td>2.80</td>\n",
       "      <td>2.69</td>\n",
       "      <td>0.39</td>\n",
       "      <td>1.82</td>\n",
       "      <td>4.32</td>\n",
       "      <td>1.04</td>\n",
       "      <td>2.93</td>\n",
       "      <td>735.0</td>\n",
       "      <td>0</td>\n",
       "    </tr>\n",
       "    <tr>\n",
       "      <th>5</th>\n",
       "      <td>14.20</td>\n",
       "      <td>1.76</td>\n",
       "      <td>2.45</td>\n",
       "      <td>15.2</td>\n",
       "      <td>112.0</td>\n",
       "      <td>3.27</td>\n",
       "      <td>3.39</td>\n",
       "      <td>0.34</td>\n",
       "      <td>1.97</td>\n",
       "      <td>6.75</td>\n",
       "      <td>1.05</td>\n",
       "      <td>2.85</td>\n",
       "      <td>1450.0</td>\n",
       "      <td>0</td>\n",
       "    </tr>\n",
       "    <tr>\n",
       "      <th>6</th>\n",
       "      <td>14.39</td>\n",
       "      <td>1.87</td>\n",
       "      <td>2.45</td>\n",
       "      <td>14.6</td>\n",
       "      <td>96.0</td>\n",
       "      <td>2.50</td>\n",
       "      <td>2.52</td>\n",
       "      <td>0.30</td>\n",
       "      <td>1.98</td>\n",
       "      <td>5.25</td>\n",
       "      <td>1.02</td>\n",
       "      <td>3.58</td>\n",
       "      <td>1290.0</td>\n",
       "      <td>0</td>\n",
       "    </tr>\n",
       "    <tr>\n",
       "      <th>7</th>\n",
       "      <td>14.06</td>\n",
       "      <td>2.15</td>\n",
       "      <td>2.61</td>\n",
       "      <td>17.6</td>\n",
       "      <td>121.0</td>\n",
       "      <td>2.60</td>\n",
       "      <td>2.51</td>\n",
       "      <td>0.31</td>\n",
       "      <td>1.25</td>\n",
       "      <td>5.05</td>\n",
       "      <td>1.06</td>\n",
       "      <td>3.58</td>\n",
       "      <td>1295.0</td>\n",
       "      <td>0</td>\n",
       "    </tr>\n",
       "    <tr>\n",
       "      <th>8</th>\n",
       "      <td>14.83</td>\n",
       "      <td>1.64</td>\n",
       "      <td>2.17</td>\n",
       "      <td>14.0</td>\n",
       "      <td>97.0</td>\n",
       "      <td>2.80</td>\n",
       "      <td>2.98</td>\n",
       "      <td>0.29</td>\n",
       "      <td>1.98</td>\n",
       "      <td>5.20</td>\n",
       "      <td>1.08</td>\n",
       "      <td>2.85</td>\n",
       "      <td>1045.0</td>\n",
       "      <td>0</td>\n",
       "    </tr>\n",
       "    <tr>\n",
       "      <th>9</th>\n",
       "      <td>13.86</td>\n",
       "      <td>1.35</td>\n",
       "      <td>2.27</td>\n",
       "      <td>16.0</td>\n",
       "      <td>98.0</td>\n",
       "      <td>2.98</td>\n",
       "      <td>3.15</td>\n",
       "      <td>0.22</td>\n",
       "      <td>1.85</td>\n",
       "      <td>7.22</td>\n",
       "      <td>1.01</td>\n",
       "      <td>3.55</td>\n",
       "      <td>1045.0</td>\n",
       "      <td>0</td>\n",
       "    </tr>\n",
       "    <tr>\n",
       "      <th>10</th>\n",
       "      <td>14.10</td>\n",
       "      <td>2.16</td>\n",
       "      <td>2.30</td>\n",
       "      <td>18.0</td>\n",
       "      <td>105.0</td>\n",
       "      <td>2.95</td>\n",
       "      <td>3.32</td>\n",
       "      <td>0.22</td>\n",
       "      <td>2.38</td>\n",
       "      <td>5.75</td>\n",
       "      <td>1.25</td>\n",
       "      <td>3.17</td>\n",
       "      <td>1510.0</td>\n",
       "      <td>0</td>\n",
       "    </tr>\n",
       "    <tr>\n",
       "      <th>11</th>\n",
       "      <td>14.12</td>\n",
       "      <td>1.48</td>\n",
       "      <td>2.32</td>\n",
       "      <td>16.8</td>\n",
       "      <td>95.0</td>\n",
       "      <td>2.20</td>\n",
       "      <td>2.43</td>\n",
       "      <td>0.26</td>\n",
       "      <td>1.57</td>\n",
       "      <td>5.00</td>\n",
       "      <td>1.17</td>\n",
       "      <td>2.82</td>\n",
       "      <td>1280.0</td>\n",
       "      <td>0</td>\n",
       "    </tr>\n",
       "    <tr>\n",
       "      <th>12</th>\n",
       "      <td>13.75</td>\n",
       "      <td>1.73</td>\n",
       "      <td>2.41</td>\n",
       "      <td>16.0</td>\n",
       "      <td>89.0</td>\n",
       "      <td>2.60</td>\n",
       "      <td>2.76</td>\n",
       "      <td>0.29</td>\n",
       "      <td>1.81</td>\n",
       "      <td>5.60</td>\n",
       "      <td>1.15</td>\n",
       "      <td>2.90</td>\n",
       "      <td>1320.0</td>\n",
       "      <td>0</td>\n",
       "    </tr>\n",
       "    <tr>\n",
       "      <th>13</th>\n",
       "      <td>14.75</td>\n",
       "      <td>1.73</td>\n",
       "      <td>2.39</td>\n",
       "      <td>11.4</td>\n",
       "      <td>91.0</td>\n",
       "      <td>3.10</td>\n",
       "      <td>3.69</td>\n",
       "      <td>0.43</td>\n",
       "      <td>2.81</td>\n",
       "      <td>5.40</td>\n",
       "      <td>1.25</td>\n",
       "      <td>2.73</td>\n",
       "      <td>1150.0</td>\n",
       "      <td>0</td>\n",
       "    </tr>\n",
       "    <tr>\n",
       "      <th>14</th>\n",
       "      <td>14.38</td>\n",
       "      <td>1.87</td>\n",
       "      <td>2.38</td>\n",
       "      <td>12.0</td>\n",
       "      <td>102.0</td>\n",
       "      <td>3.30</td>\n",
       "      <td>3.64</td>\n",
       "      <td>0.29</td>\n",
       "      <td>2.96</td>\n",
       "      <td>7.50</td>\n",
       "      <td>1.20</td>\n",
       "      <td>3.00</td>\n",
       "      <td>1547.0</td>\n",
       "      <td>0</td>\n",
       "    </tr>\n",
       "    <tr>\n",
       "      <th>15</th>\n",
       "      <td>13.63</td>\n",
       "      <td>1.81</td>\n",
       "      <td>2.70</td>\n",
       "      <td>17.2</td>\n",
       "      <td>112.0</td>\n",
       "      <td>2.85</td>\n",
       "      <td>2.91</td>\n",
       "      <td>0.30</td>\n",
       "      <td>1.46</td>\n",
       "      <td>7.30</td>\n",
       "      <td>1.28</td>\n",
       "      <td>2.88</td>\n",
       "      <td>1310.0</td>\n",
       "      <td>0</td>\n",
       "    </tr>\n",
       "    <tr>\n",
       "      <th>16</th>\n",
       "      <td>14.30</td>\n",
       "      <td>1.92</td>\n",
       "      <td>2.72</td>\n",
       "      <td>20.0</td>\n",
       "      <td>120.0</td>\n",
       "      <td>2.80</td>\n",
       "      <td>3.14</td>\n",
       "      <td>0.33</td>\n",
       "      <td>1.97</td>\n",
       "      <td>6.20</td>\n",
       "      <td>1.07</td>\n",
       "      <td>2.65</td>\n",
       "      <td>1280.0</td>\n",
       "      <td>0</td>\n",
       "    </tr>\n",
       "    <tr>\n",
       "      <th>17</th>\n",
       "      <td>13.83</td>\n",
       "      <td>1.57</td>\n",
       "      <td>2.62</td>\n",
       "      <td>20.0</td>\n",
       "      <td>115.0</td>\n",
       "      <td>2.95</td>\n",
       "      <td>3.40</td>\n",
       "      <td>0.40</td>\n",
       "      <td>1.72</td>\n",
       "      <td>6.60</td>\n",
       "      <td>1.13</td>\n",
       "      <td>2.57</td>\n",
       "      <td>1130.0</td>\n",
       "      <td>0</td>\n",
       "    </tr>\n",
       "    <tr>\n",
       "      <th>18</th>\n",
       "      <td>14.19</td>\n",
       "      <td>1.59</td>\n",
       "      <td>2.48</td>\n",
       "      <td>16.5</td>\n",
       "      <td>108.0</td>\n",
       "      <td>3.30</td>\n",
       "      <td>3.93</td>\n",
       "      <td>0.32</td>\n",
       "      <td>1.86</td>\n",
       "      <td>8.70</td>\n",
       "      <td>1.23</td>\n",
       "      <td>2.82</td>\n",
       "      <td>1680.0</td>\n",
       "      <td>0</td>\n",
       "    </tr>\n",
       "    <tr>\n",
       "      <th>19</th>\n",
       "      <td>13.64</td>\n",
       "      <td>3.10</td>\n",
       "      <td>2.56</td>\n",
       "      <td>15.2</td>\n",
       "      <td>116.0</td>\n",
       "      <td>2.70</td>\n",
       "      <td>3.03</td>\n",
       "      <td>0.17</td>\n",
       "      <td>1.66</td>\n",
       "      <td>5.10</td>\n",
       "      <td>0.96</td>\n",
       "      <td>3.36</td>\n",
       "      <td>845.0</td>\n",
       "      <td>0</td>\n",
       "    </tr>\n",
       "  </tbody>\n",
       "</table>\n",
       "</div>"
      ],
      "text/plain": [
       "    alcohol  malic_acid   ash  alcalinity_of_ash  magnesium  total_phenols  \\\n",
       "0     14.23        1.71  2.43               15.6      127.0           2.80   \n",
       "1     13.20        1.78  2.14               11.2      100.0           2.65   \n",
       "2     13.16        2.36  2.67               18.6      101.0           2.80   \n",
       "3     14.37        1.95  2.50               16.8      113.0           3.85   \n",
       "4     13.24        2.59  2.87               21.0      118.0           2.80   \n",
       "5     14.20        1.76  2.45               15.2      112.0           3.27   \n",
       "6     14.39        1.87  2.45               14.6       96.0           2.50   \n",
       "7     14.06        2.15  2.61               17.6      121.0           2.60   \n",
       "8     14.83        1.64  2.17               14.0       97.0           2.80   \n",
       "9     13.86        1.35  2.27               16.0       98.0           2.98   \n",
       "10    14.10        2.16  2.30               18.0      105.0           2.95   \n",
       "11    14.12        1.48  2.32               16.8       95.0           2.20   \n",
       "12    13.75        1.73  2.41               16.0       89.0           2.60   \n",
       "13    14.75        1.73  2.39               11.4       91.0           3.10   \n",
       "14    14.38        1.87  2.38               12.0      102.0           3.30   \n",
       "15    13.63        1.81  2.70               17.2      112.0           2.85   \n",
       "16    14.30        1.92  2.72               20.0      120.0           2.80   \n",
       "17    13.83        1.57  2.62               20.0      115.0           2.95   \n",
       "18    14.19        1.59  2.48               16.5      108.0           3.30   \n",
       "19    13.64        3.10  2.56               15.2      116.0           2.70   \n",
       "\n",
       "    flavanoids  nonflavanoid_phenols  proanthocyanins  color_intensity   hue  \\\n",
       "0         3.06                  0.28             2.29             5.64  1.04   \n",
       "1         2.76                  0.26             1.28             4.38  1.05   \n",
       "2         3.24                  0.30             2.81             5.68  1.03   \n",
       "3         3.49                  0.24             2.18             7.80  0.86   \n",
       "4         2.69                  0.39             1.82             4.32  1.04   \n",
       "5         3.39                  0.34             1.97             6.75  1.05   \n",
       "6         2.52                  0.30             1.98             5.25  1.02   \n",
       "7         2.51                  0.31             1.25             5.05  1.06   \n",
       "8         2.98                  0.29             1.98             5.20  1.08   \n",
       "9         3.15                  0.22             1.85             7.22  1.01   \n",
       "10        3.32                  0.22             2.38             5.75  1.25   \n",
       "11        2.43                  0.26             1.57             5.00  1.17   \n",
       "12        2.76                  0.29             1.81             5.60  1.15   \n",
       "13        3.69                  0.43             2.81             5.40  1.25   \n",
       "14        3.64                  0.29             2.96             7.50  1.20   \n",
       "15        2.91                  0.30             1.46             7.30  1.28   \n",
       "16        3.14                  0.33             1.97             6.20  1.07   \n",
       "17        3.40                  0.40             1.72             6.60  1.13   \n",
       "18        3.93                  0.32             1.86             8.70  1.23   \n",
       "19        3.03                  0.17             1.66             5.10  0.96   \n",
       "\n",
       "    od280/od315_of_diluted_wines  proline  target  \n",
       "0                           3.92   1065.0       0  \n",
       "1                           3.40   1050.0       0  \n",
       "2                           3.17   1185.0       0  \n",
       "3                           3.45   1480.0       0  \n",
       "4                           2.93    735.0       0  \n",
       "5                           2.85   1450.0       0  \n",
       "6                           3.58   1290.0       0  \n",
       "7                           3.58   1295.0       0  \n",
       "8                           2.85   1045.0       0  \n",
       "9                           3.55   1045.0       0  \n",
       "10                          3.17   1510.0       0  \n",
       "11                          2.82   1280.0       0  \n",
       "12                          2.90   1320.0       0  \n",
       "13                          2.73   1150.0       0  \n",
       "14                          3.00   1547.0       0  \n",
       "15                          2.88   1310.0       0  \n",
       "16                          2.65   1280.0       0  \n",
       "17                          2.57   1130.0       0  \n",
       "18                          2.82   1680.0       0  \n",
       "19                          3.36    845.0       0  "
      ]
     },
     "execution_count": 4,
     "metadata": {},
     "output_type": "execute_result"
    }
   ],
   "source": [
    "wine = load_wine(as_frame=True)\n",
    "wine_df = pd.DataFrame(wine.frame)\n",
    "wine_df.head(20)"
   ]
  },
  {
   "cell_type": "code",
   "execution_count": 5,
   "id": "2ec87b1c",
   "metadata": {},
   "outputs": [
    {
     "name": "stdout",
     "output_type": "stream",
     "text": [
      "<class 'pandas.core.frame.DataFrame'>\n",
      "RangeIndex: 178 entries, 0 to 177\n",
      "Data columns (total 14 columns):\n",
      " #   Column                        Non-Null Count  Dtype  \n",
      "---  ------                        --------------  -----  \n",
      " 0   alcohol                       178 non-null    float64\n",
      " 1   malic_acid                    178 non-null    float64\n",
      " 2   ash                           178 non-null    float64\n",
      " 3   alcalinity_of_ash             178 non-null    float64\n",
      " 4   magnesium                     178 non-null    float64\n",
      " 5   total_phenols                 178 non-null    float64\n",
      " 6   flavanoids                    178 non-null    float64\n",
      " 7   nonflavanoid_phenols          178 non-null    float64\n",
      " 8   proanthocyanins               178 non-null    float64\n",
      " 9   color_intensity               178 non-null    float64\n",
      " 10  hue                           178 non-null    float64\n",
      " 11  od280/od315_of_diluted_wines  178 non-null    float64\n",
      " 12  proline                       178 non-null    float64\n",
      " 13  target                        178 non-null    int64  \n",
      "dtypes: float64(13), int64(1)\n",
      "memory usage: 19.6 KB\n"
     ]
    }
   ],
   "source": [
    "wine_df.info()"
   ]
  },
  {
   "cell_type": "code",
   "execution_count": 6,
   "id": "8ee7fcfb",
   "metadata": {},
   "outputs": [
    {
     "data": {
      "text/html": [
       "<div>\n",
       "<style scoped>\n",
       "    .dataframe tbody tr th:only-of-type {\n",
       "        vertical-align: middle;\n",
       "    }\n",
       "\n",
       "    .dataframe tbody tr th {\n",
       "        vertical-align: top;\n",
       "    }\n",
       "\n",
       "    .dataframe thead th {\n",
       "        text-align: right;\n",
       "    }\n",
       "</style>\n",
       "<table border=\"1\" class=\"dataframe\">\n",
       "  <thead>\n",
       "    <tr style=\"text-align: right;\">\n",
       "      <th></th>\n",
       "      <th>alcohol</th>\n",
       "      <th>malic_acid</th>\n",
       "      <th>ash</th>\n",
       "      <th>alcalinity_of_ash</th>\n",
       "      <th>magnesium</th>\n",
       "      <th>total_phenols</th>\n",
       "      <th>flavanoids</th>\n",
       "      <th>nonflavanoid_phenols</th>\n",
       "      <th>proanthocyanins</th>\n",
       "      <th>color_intensity</th>\n",
       "      <th>hue</th>\n",
       "      <th>od280/od315_of_diluted_wines</th>\n",
       "      <th>proline</th>\n",
       "      <th>target</th>\n",
       "    </tr>\n",
       "  </thead>\n",
       "  <tbody>\n",
       "    <tr>\n",
       "      <th>count</th>\n",
       "      <td>178.000000</td>\n",
       "      <td>178.000000</td>\n",
       "      <td>178.000000</td>\n",
       "      <td>178.000000</td>\n",
       "      <td>178.000000</td>\n",
       "      <td>178.000000</td>\n",
       "      <td>178.000000</td>\n",
       "      <td>178.000000</td>\n",
       "      <td>178.000000</td>\n",
       "      <td>178.000000</td>\n",
       "      <td>178.000000</td>\n",
       "      <td>178.000000</td>\n",
       "      <td>178.000000</td>\n",
       "      <td>178.000000</td>\n",
       "    </tr>\n",
       "    <tr>\n",
       "      <th>mean</th>\n",
       "      <td>13.000618</td>\n",
       "      <td>2.336348</td>\n",
       "      <td>2.366517</td>\n",
       "      <td>19.494944</td>\n",
       "      <td>99.741573</td>\n",
       "      <td>2.295112</td>\n",
       "      <td>2.029270</td>\n",
       "      <td>0.361854</td>\n",
       "      <td>1.590899</td>\n",
       "      <td>5.058090</td>\n",
       "      <td>0.957449</td>\n",
       "      <td>2.611685</td>\n",
       "      <td>746.893258</td>\n",
       "      <td>0.938202</td>\n",
       "    </tr>\n",
       "    <tr>\n",
       "      <th>std</th>\n",
       "      <td>0.811827</td>\n",
       "      <td>1.117146</td>\n",
       "      <td>0.274344</td>\n",
       "      <td>3.339564</td>\n",
       "      <td>14.282484</td>\n",
       "      <td>0.625851</td>\n",
       "      <td>0.998859</td>\n",
       "      <td>0.124453</td>\n",
       "      <td>0.572359</td>\n",
       "      <td>2.318286</td>\n",
       "      <td>0.228572</td>\n",
       "      <td>0.709990</td>\n",
       "      <td>314.907474</td>\n",
       "      <td>0.775035</td>\n",
       "    </tr>\n",
       "    <tr>\n",
       "      <th>min</th>\n",
       "      <td>11.030000</td>\n",
       "      <td>0.740000</td>\n",
       "      <td>1.360000</td>\n",
       "      <td>10.600000</td>\n",
       "      <td>70.000000</td>\n",
       "      <td>0.980000</td>\n",
       "      <td>0.340000</td>\n",
       "      <td>0.130000</td>\n",
       "      <td>0.410000</td>\n",
       "      <td>1.280000</td>\n",
       "      <td>0.480000</td>\n",
       "      <td>1.270000</td>\n",
       "      <td>278.000000</td>\n",
       "      <td>0.000000</td>\n",
       "    </tr>\n",
       "    <tr>\n",
       "      <th>25%</th>\n",
       "      <td>12.362500</td>\n",
       "      <td>1.602500</td>\n",
       "      <td>2.210000</td>\n",
       "      <td>17.200000</td>\n",
       "      <td>88.000000</td>\n",
       "      <td>1.742500</td>\n",
       "      <td>1.205000</td>\n",
       "      <td>0.270000</td>\n",
       "      <td>1.250000</td>\n",
       "      <td>3.220000</td>\n",
       "      <td>0.782500</td>\n",
       "      <td>1.937500</td>\n",
       "      <td>500.500000</td>\n",
       "      <td>0.000000</td>\n",
       "    </tr>\n",
       "    <tr>\n",
       "      <th>50%</th>\n",
       "      <td>13.050000</td>\n",
       "      <td>1.865000</td>\n",
       "      <td>2.360000</td>\n",
       "      <td>19.500000</td>\n",
       "      <td>98.000000</td>\n",
       "      <td>2.355000</td>\n",
       "      <td>2.135000</td>\n",
       "      <td>0.340000</td>\n",
       "      <td>1.555000</td>\n",
       "      <td>4.690000</td>\n",
       "      <td>0.965000</td>\n",
       "      <td>2.780000</td>\n",
       "      <td>673.500000</td>\n",
       "      <td>1.000000</td>\n",
       "    </tr>\n",
       "    <tr>\n",
       "      <th>75%</th>\n",
       "      <td>13.677500</td>\n",
       "      <td>3.082500</td>\n",
       "      <td>2.557500</td>\n",
       "      <td>21.500000</td>\n",
       "      <td>107.000000</td>\n",
       "      <td>2.800000</td>\n",
       "      <td>2.875000</td>\n",
       "      <td>0.437500</td>\n",
       "      <td>1.950000</td>\n",
       "      <td>6.200000</td>\n",
       "      <td>1.120000</td>\n",
       "      <td>3.170000</td>\n",
       "      <td>985.000000</td>\n",
       "      <td>2.000000</td>\n",
       "    </tr>\n",
       "    <tr>\n",
       "      <th>max</th>\n",
       "      <td>14.830000</td>\n",
       "      <td>5.800000</td>\n",
       "      <td>3.230000</td>\n",
       "      <td>30.000000</td>\n",
       "      <td>162.000000</td>\n",
       "      <td>3.880000</td>\n",
       "      <td>5.080000</td>\n",
       "      <td>0.660000</td>\n",
       "      <td>3.580000</td>\n",
       "      <td>13.000000</td>\n",
       "      <td>1.710000</td>\n",
       "      <td>4.000000</td>\n",
       "      <td>1680.000000</td>\n",
       "      <td>2.000000</td>\n",
       "    </tr>\n",
       "  </tbody>\n",
       "</table>\n",
       "</div>"
      ],
      "text/plain": [
       "          alcohol  malic_acid         ash  alcalinity_of_ash   magnesium  \\\n",
       "count  178.000000  178.000000  178.000000         178.000000  178.000000   \n",
       "mean    13.000618    2.336348    2.366517          19.494944   99.741573   \n",
       "std      0.811827    1.117146    0.274344           3.339564   14.282484   \n",
       "min     11.030000    0.740000    1.360000          10.600000   70.000000   \n",
       "25%     12.362500    1.602500    2.210000          17.200000   88.000000   \n",
       "50%     13.050000    1.865000    2.360000          19.500000   98.000000   \n",
       "75%     13.677500    3.082500    2.557500          21.500000  107.000000   \n",
       "max     14.830000    5.800000    3.230000          30.000000  162.000000   \n",
       "\n",
       "       total_phenols  flavanoids  nonflavanoid_phenols  proanthocyanins  \\\n",
       "count     178.000000  178.000000            178.000000       178.000000   \n",
       "mean        2.295112    2.029270              0.361854         1.590899   \n",
       "std         0.625851    0.998859              0.124453         0.572359   \n",
       "min         0.980000    0.340000              0.130000         0.410000   \n",
       "25%         1.742500    1.205000              0.270000         1.250000   \n",
       "50%         2.355000    2.135000              0.340000         1.555000   \n",
       "75%         2.800000    2.875000              0.437500         1.950000   \n",
       "max         3.880000    5.080000              0.660000         3.580000   \n",
       "\n",
       "       color_intensity         hue  od280/od315_of_diluted_wines      proline  \\\n",
       "count       178.000000  178.000000                    178.000000   178.000000   \n",
       "mean          5.058090    0.957449                      2.611685   746.893258   \n",
       "std           2.318286    0.228572                      0.709990   314.907474   \n",
       "min           1.280000    0.480000                      1.270000   278.000000   \n",
       "25%           3.220000    0.782500                      1.937500   500.500000   \n",
       "50%           4.690000    0.965000                      2.780000   673.500000   \n",
       "75%           6.200000    1.120000                      3.170000   985.000000   \n",
       "max          13.000000    1.710000                      4.000000  1680.000000   \n",
       "\n",
       "           target  \n",
       "count  178.000000  \n",
       "mean     0.938202  \n",
       "std      0.775035  \n",
       "min      0.000000  \n",
       "25%      0.000000  \n",
       "50%      1.000000  \n",
       "75%      2.000000  \n",
       "max      2.000000  "
      ]
     },
     "execution_count": 6,
     "metadata": {},
     "output_type": "execute_result"
    }
   ],
   "source": [
    "wine_df.describe()"
   ]
  },
  {
   "cell_type": "markdown",
   "id": "7226b165",
   "metadata": {},
   "source": [
    "このDataFrameを自分で操作して、データがどのような形なのかを確認してください。  \n",
    "データは全部で178個、3クラス。 irisと異なりクラスごとのデータの数はバラバラです。  \n",
    "確認してみましょう。"
   ]
  },
  {
   "cell_type": "code",
   "execution_count": 7,
   "id": "22716716",
   "metadata": {},
   "outputs": [
    {
     "name": "stdout",
     "output_type": "stream",
     "text": [
      "クラス0のデータ数: 59個\n",
      "クラス1のデータ数: 71個\n",
      "クラス2のデータ数: 48個\n"
     ]
    }
   ],
   "source": [
    "for i in range(3):\n",
    "    n_items = (wine_df[\"target\"] == i).sum()\n",
    "    print(f\"クラス{i}のデータ数: {n_items}個\")"
   ]
  },
  {
   "cell_type": "markdown",
   "id": "7c8749e7",
   "metadata": {},
   "source": [
    "ちなみに、クラスを基準に可視化するとこのようになります。"
   ]
  },
  {
   "cell_type": "code",
   "execution_count": 8,
   "id": "82ea0a2c",
   "metadata": {},
   "outputs": [
    {
     "data": {
      "application/vnd.plotly.v1+json": {
       "config": {
        "plotlyServerURL": "https://plot.ly"
       },
       "data": [
        {
         "dimensions": [
          {
           "axis": {
            "matches": true
           },
           "label": "alcohol",
           "values": [
            14.23,
            13.2,
            13.16,
            14.37,
            13.24,
            14.2,
            14.39,
            14.06,
            14.83,
            13.86,
            14.1,
            14.12,
            13.75,
            14.75,
            14.38,
            13.63,
            14.3,
            13.83,
            14.19,
            13.64,
            14.06,
            12.93,
            13.71,
            12.85,
            13.5,
            13.05,
            13.39,
            13.3,
            13.87,
            14.02,
            13.73,
            13.58,
            13.68,
            13.76,
            13.51,
            13.48,
            13.28,
            13.05,
            13.07,
            14.22,
            13.56,
            13.41,
            13.88,
            13.24,
            13.05,
            14.21,
            14.38,
            13.9,
            14.1,
            13.94,
            13.05,
            13.83,
            13.82,
            13.77,
            13.74,
            13.56,
            14.22,
            13.29,
            13.72,
            12.37,
            12.33,
            12.64,
            13.67,
            12.37,
            12.17,
            12.37,
            13.11,
            12.37,
            13.34,
            12.21,
            12.29,
            13.86,
            13.49,
            12.99,
            11.96,
            11.66,
            13.03,
            11.84,
            12.33,
            12.7,
            12,
            12.72,
            12.08,
            13.05,
            11.84,
            12.67,
            12.16,
            11.65,
            11.64,
            12.08,
            12.08,
            12,
            12.69,
            12.29,
            11.62,
            12.47,
            11.81,
            12.29,
            12.37,
            12.29,
            12.08,
            12.6,
            12.34,
            11.82,
            12.51,
            12.42,
            12.25,
            12.72,
            12.22,
            11.61,
            11.46,
            12.52,
            11.76,
            11.41,
            12.08,
            11.03,
            11.82,
            12.42,
            12.77,
            12,
            11.45,
            11.56,
            12.42,
            13.05,
            11.87,
            12.07,
            12.43,
            11.79,
            12.37,
            12.04,
            12.86,
            12.88,
            12.81,
            12.7,
            12.51,
            12.6,
            12.25,
            12.53,
            13.49,
            12.84,
            12.93,
            13.36,
            13.52,
            13.62,
            12.25,
            13.16,
            13.88,
            12.87,
            13.32,
            13.08,
            13.5,
            12.79,
            13.11,
            13.23,
            12.58,
            13.17,
            13.84,
            12.45,
            14.34,
            13.48,
            12.36,
            13.69,
            12.85,
            12.96,
            13.78,
            13.73,
            13.45,
            12.82,
            13.58,
            13.4,
            12.2,
            12.77,
            14.16,
            13.71,
            13.4,
            13.27,
            13.17,
            14.13
           ]
          },
          {
           "axis": {
            "matches": true
           },
           "label": "malic_acid",
           "values": [
            1.71,
            1.78,
            2.36,
            1.95,
            2.59,
            1.76,
            1.87,
            2.15,
            1.64,
            1.35,
            2.16,
            1.48,
            1.73,
            1.73,
            1.87,
            1.81,
            1.92,
            1.57,
            1.59,
            3.1,
            1.63,
            3.8,
            1.86,
            1.6,
            1.81,
            2.05,
            1.77,
            1.72,
            1.9,
            1.68,
            1.5,
            1.66,
            1.83,
            1.53,
            1.8,
            1.81,
            1.64,
            1.65,
            1.5,
            3.99,
            1.71,
            3.84,
            1.89,
            3.98,
            1.77,
            4.04,
            3.59,
            1.68,
            2.02,
            1.73,
            1.73,
            1.65,
            1.75,
            1.9,
            1.67,
            1.73,
            1.7,
            1.97,
            1.43,
            0.94,
            1.1,
            1.36,
            1.25,
            1.13,
            1.45,
            1.21,
            1.01,
            1.17,
            0.94,
            1.19,
            1.61,
            1.51,
            1.66,
            1.67,
            1.09,
            1.88,
            0.9,
            2.89,
            0.99,
            3.87,
            0.92,
            1.81,
            1.13,
            3.86,
            0.89,
            0.98,
            1.61,
            1.67,
            2.06,
            1.33,
            1.83,
            1.51,
            1.53,
            2.83,
            1.99,
            1.52,
            2.12,
            1.41,
            1.07,
            3.17,
            2.08,
            1.34,
            2.45,
            1.72,
            1.73,
            2.55,
            1.73,
            1.75,
            1.29,
            1.35,
            3.74,
            2.43,
            2.68,
            0.74,
            1.39,
            1.51,
            1.47,
            1.61,
            3.43,
            3.43,
            2.4,
            2.05,
            4.43,
            5.8,
            4.31,
            2.16,
            1.53,
            2.13,
            1.63,
            4.3,
            1.35,
            2.99,
            2.31,
            3.55,
            1.24,
            2.46,
            4.72,
            5.51,
            3.59,
            2.96,
            2.81,
            2.56,
            3.17,
            4.95,
            3.88,
            3.57,
            5.04,
            4.61,
            3.24,
            3.9,
            3.12,
            2.67,
            1.9,
            3.3,
            1.29,
            5.19,
            4.12,
            3.03,
            1.68,
            1.67,
            3.83,
            3.26,
            3.27,
            3.45,
            2.76,
            4.36,
            3.7,
            3.37,
            2.58,
            4.6,
            3.03,
            2.39,
            2.51,
            5.65,
            3.91,
            4.28,
            2.59,
            4.1
           ]
          },
          {
           "axis": {
            "matches": true
           },
           "label": "ash",
           "values": [
            2.43,
            2.14,
            2.67,
            2.5,
            2.87,
            2.45,
            2.45,
            2.61,
            2.17,
            2.27,
            2.3,
            2.32,
            2.41,
            2.39,
            2.38,
            2.7,
            2.72,
            2.62,
            2.48,
            2.56,
            2.28,
            2.65,
            2.36,
            2.52,
            2.61,
            3.22,
            2.62,
            2.14,
            2.8,
            2.21,
            2.7,
            2.36,
            2.36,
            2.7,
            2.65,
            2.41,
            2.84,
            2.55,
            2.1,
            2.51,
            2.31,
            2.12,
            2.59,
            2.29,
            2.1,
            2.44,
            2.28,
            2.12,
            2.4,
            2.27,
            2.04,
            2.6,
            2.42,
            2.68,
            2.25,
            2.46,
            2.3,
            2.68,
            2.5,
            1.36,
            2.28,
            2.02,
            1.92,
            2.16,
            2.53,
            2.56,
            1.7,
            1.92,
            2.36,
            1.75,
            2.21,
            2.67,
            2.24,
            2.6,
            2.3,
            1.92,
            1.71,
            2.23,
            1.95,
            2.4,
            2,
            2.2,
            2.51,
            2.32,
            2.58,
            2.24,
            2.31,
            2.62,
            2.46,
            2.3,
            2.32,
            2.42,
            2.26,
            2.22,
            2.28,
            2.2,
            2.74,
            1.98,
            2.1,
            2.21,
            1.7,
            1.9,
            2.46,
            1.88,
            1.98,
            2.27,
            2.12,
            2.28,
            1.94,
            2.7,
            1.82,
            2.17,
            2.92,
            2.5,
            2.5,
            2.2,
            1.99,
            2.19,
            1.98,
            2,
            2.42,
            3.23,
            2.73,
            2.13,
            2.39,
            2.17,
            2.29,
            2.78,
            2.3,
            2.38,
            2.32,
            2.4,
            2.4,
            2.36,
            2.25,
            2.2,
            2.54,
            2.64,
            2.19,
            2.61,
            2.7,
            2.35,
            2.72,
            2.35,
            2.2,
            2.15,
            2.23,
            2.48,
            2.38,
            2.36,
            2.62,
            2.48,
            2.75,
            2.28,
            2.1,
            2.32,
            2.38,
            2.64,
            2.7,
            2.64,
            2.38,
            2.54,
            2.58,
            2.35,
            2.3,
            2.26,
            2.6,
            2.3,
            2.69,
            2.86,
            2.32,
            2.28,
            2.48,
            2.45,
            2.48,
            2.26,
            2.37,
            2.74
           ]
          },
          {
           "axis": {
            "matches": true
           },
           "label": "alcalinity_of_ash",
           "values": [
            15.6,
            11.2,
            18.6,
            16.8,
            21,
            15.2,
            14.6,
            17.6,
            14,
            16,
            18,
            16.8,
            16,
            11.4,
            12,
            17.2,
            20,
            20,
            16.5,
            15.2,
            16,
            18.6,
            16.6,
            17.8,
            20,
            25,
            16.1,
            17,
            19.4,
            16,
            22.5,
            19.1,
            17.2,
            19.5,
            19,
            20.5,
            15.5,
            18,
            15.5,
            13.2,
            16.2,
            18.8,
            15,
            17.5,
            17,
            18.9,
            16,
            16,
            18.8,
            17.4,
            12.4,
            17.2,
            14,
            17.1,
            16.4,
            20.5,
            16.3,
            16.8,
            16.7,
            10.6,
            16,
            16.8,
            18,
            19,
            19,
            18.1,
            15,
            19.6,
            17,
            16.8,
            20.4,
            25,
            24,
            30,
            21,
            16,
            16,
            18,
            14.8,
            23,
            19,
            18.8,
            24,
            22.5,
            18,
            18,
            22.8,
            26,
            21.6,
            23.6,
            18.5,
            22,
            20.7,
            18,
            18,
            19,
            21.5,
            16,
            18.5,
            18,
            17.5,
            18.5,
            21,
            19.5,
            20.5,
            22,
            19,
            22.5,
            19,
            20,
            19.5,
            21,
            20,
            21,
            22.5,
            21.5,
            20.8,
            22.5,
            16,
            19,
            20,
            28.5,
            26.5,
            21.5,
            21,
            21,
            21.5,
            28.5,
            24.5,
            22,
            18,
            20,
            24,
            21.5,
            17.5,
            18.5,
            21,
            25,
            19.5,
            24,
            21,
            20,
            23.5,
            20,
            18.5,
            21,
            20,
            21.5,
            21.5,
            21.5,
            24,
            22,
            25.5,
            18.5,
            20,
            22,
            19.5,
            27,
            25,
            22.5,
            21,
            20,
            22,
            18.5,
            22,
            22.5,
            23,
            19.5,
            24.5,
            25,
            19,
            19.5,
            20,
            20.5,
            23,
            20,
            20,
            24.5
           ]
          },
          {
           "axis": {
            "matches": true
           },
           "label": "magnesium",
           "values": [
            127,
            100,
            101,
            113,
            118,
            112,
            96,
            121,
            97,
            98,
            105,
            95,
            89,
            91,
            102,
            112,
            120,
            115,
            108,
            116,
            126,
            102,
            101,
            95,
            96,
            124,
            93,
            94,
            107,
            96,
            101,
            106,
            104,
            132,
            110,
            100,
            110,
            98,
            98,
            128,
            117,
            90,
            101,
            103,
            107,
            111,
            102,
            101,
            103,
            108,
            92,
            94,
            111,
            115,
            118,
            116,
            118,
            102,
            108,
            88,
            101,
            100,
            94,
            87,
            104,
            98,
            78,
            78,
            110,
            151,
            103,
            86,
            87,
            139,
            101,
            97,
            86,
            112,
            136,
            101,
            86,
            86,
            78,
            85,
            94,
            99,
            90,
            88,
            84,
            70,
            81,
            86,
            80,
            88,
            98,
            162,
            134,
            85,
            88,
            88,
            97,
            88,
            98,
            86,
            85,
            90,
            80,
            84,
            92,
            94,
            107,
            88,
            103,
            88,
            84,
            85,
            86,
            108,
            80,
            87,
            96,
            119,
            102,
            86,
            82,
            85,
            86,
            92,
            88,
            80,
            122,
            104,
            98,
            106,
            85,
            94,
            89,
            96,
            88,
            101,
            96,
            89,
            97,
            92,
            112,
            102,
            80,
            86,
            92,
            113,
            123,
            112,
            116,
            98,
            103,
            93,
            89,
            97,
            98,
            89,
            88,
            107,
            106,
            106,
            90,
            88,
            111,
            88,
            105,
            112,
            96,
            86,
            91,
            95,
            102,
            120,
            120,
            96
           ]
          }
         ],
         "hovertemplate": "%{xaxis.title.text}=%{x}<br>%{yaxis.title.text}=%{y}<br>target=%{marker.color}<extra></extra>",
         "legendgroup": "",
         "marker": {
          "color": [
           0,
           0,
           0,
           0,
           0,
           0,
           0,
           0,
           0,
           0,
           0,
           0,
           0,
           0,
           0,
           0,
           0,
           0,
           0,
           0,
           0,
           0,
           0,
           0,
           0,
           0,
           0,
           0,
           0,
           0,
           0,
           0,
           0,
           0,
           0,
           0,
           0,
           0,
           0,
           0,
           0,
           0,
           0,
           0,
           0,
           0,
           0,
           0,
           0,
           0,
           0,
           0,
           0,
           0,
           0,
           0,
           0,
           0,
           0,
           1,
           1,
           1,
           1,
           1,
           1,
           1,
           1,
           1,
           1,
           1,
           1,
           1,
           1,
           1,
           1,
           1,
           1,
           1,
           1,
           1,
           1,
           1,
           1,
           1,
           1,
           1,
           1,
           1,
           1,
           1,
           1,
           1,
           1,
           1,
           1,
           1,
           1,
           1,
           1,
           1,
           1,
           1,
           1,
           1,
           1,
           1,
           1,
           1,
           1,
           1,
           1,
           1,
           1,
           1,
           1,
           1,
           1,
           1,
           1,
           1,
           1,
           1,
           1,
           1,
           1,
           1,
           1,
           1,
           1,
           1,
           2,
           2,
           2,
           2,
           2,
           2,
           2,
           2,
           2,
           2,
           2,
           2,
           2,
           2,
           2,
           2,
           2,
           2,
           2,
           2,
           2,
           2,
           2,
           2,
           2,
           2,
           2,
           2,
           2,
           2,
           2,
           2,
           2,
           2,
           2,
           2,
           2,
           2,
           2,
           2,
           2,
           2,
           2,
           2,
           2,
           2,
           2,
           2
          ],
          "coloraxis": "coloraxis",
          "symbol": "circle"
         },
         "name": "",
         "showlegend": false,
         "type": "splom"
        }
       ],
       "layout": {
        "coloraxis": {
         "colorbar": {
          "title": {
           "text": "target"
          }
         },
         "colorscale": [
          [
           0,
           "#0d0887"
          ],
          [
           0.1111111111111111,
           "#46039f"
          ],
          [
           0.2222222222222222,
           "#7201a8"
          ],
          [
           0.3333333333333333,
           "#9c179e"
          ],
          [
           0.4444444444444444,
           "#bd3786"
          ],
          [
           0.5555555555555556,
           "#d8576b"
          ],
          [
           0.6666666666666666,
           "#ed7953"
          ],
          [
           0.7777777777777778,
           "#fb9f3a"
          ],
          [
           0.8888888888888888,
           "#fdca26"
          ],
          [
           1,
           "#f0f921"
          ]
         ]
        },
        "dragmode": "select",
        "height": 700,
        "legend": {
         "tracegroupgap": 0
        },
        "template": {
         "data": {
          "bar": [
           {
            "error_x": {
             "color": "#2a3f5f"
            },
            "error_y": {
             "color": "#2a3f5f"
            },
            "marker": {
             "line": {
              "color": "#E5ECF6",
              "width": 0.5
             },
             "pattern": {
              "fillmode": "overlay",
              "size": 10,
              "solidity": 0.2
             }
            },
            "type": "bar"
           }
          ],
          "barpolar": [
           {
            "marker": {
             "line": {
              "color": "#E5ECF6",
              "width": 0.5
             },
             "pattern": {
              "fillmode": "overlay",
              "size": 10,
              "solidity": 0.2
             }
            },
            "type": "barpolar"
           }
          ],
          "carpet": [
           {
            "aaxis": {
             "endlinecolor": "#2a3f5f",
             "gridcolor": "white",
             "linecolor": "white",
             "minorgridcolor": "white",
             "startlinecolor": "#2a3f5f"
            },
            "baxis": {
             "endlinecolor": "#2a3f5f",
             "gridcolor": "white",
             "linecolor": "white",
             "minorgridcolor": "white",
             "startlinecolor": "#2a3f5f"
            },
            "type": "carpet"
           }
          ],
          "choropleth": [
           {
            "colorbar": {
             "outlinewidth": 0,
             "ticks": ""
            },
            "type": "choropleth"
           }
          ],
          "contour": [
           {
            "colorbar": {
             "outlinewidth": 0,
             "ticks": ""
            },
            "colorscale": [
             [
              0,
              "#0d0887"
             ],
             [
              0.1111111111111111,
              "#46039f"
             ],
             [
              0.2222222222222222,
              "#7201a8"
             ],
             [
              0.3333333333333333,
              "#9c179e"
             ],
             [
              0.4444444444444444,
              "#bd3786"
             ],
             [
              0.5555555555555556,
              "#d8576b"
             ],
             [
              0.6666666666666666,
              "#ed7953"
             ],
             [
              0.7777777777777778,
              "#fb9f3a"
             ],
             [
              0.8888888888888888,
              "#fdca26"
             ],
             [
              1,
              "#f0f921"
             ]
            ],
            "type": "contour"
           }
          ],
          "contourcarpet": [
           {
            "colorbar": {
             "outlinewidth": 0,
             "ticks": ""
            },
            "type": "contourcarpet"
           }
          ],
          "heatmap": [
           {
            "colorbar": {
             "outlinewidth": 0,
             "ticks": ""
            },
            "colorscale": [
             [
              0,
              "#0d0887"
             ],
             [
              0.1111111111111111,
              "#46039f"
             ],
             [
              0.2222222222222222,
              "#7201a8"
             ],
             [
              0.3333333333333333,
              "#9c179e"
             ],
             [
              0.4444444444444444,
              "#bd3786"
             ],
             [
              0.5555555555555556,
              "#d8576b"
             ],
             [
              0.6666666666666666,
              "#ed7953"
             ],
             [
              0.7777777777777778,
              "#fb9f3a"
             ],
             [
              0.8888888888888888,
              "#fdca26"
             ],
             [
              1,
              "#f0f921"
             ]
            ],
            "type": "heatmap"
           }
          ],
          "heatmapgl": [
           {
            "colorbar": {
             "outlinewidth": 0,
             "ticks": ""
            },
            "colorscale": [
             [
              0,
              "#0d0887"
             ],
             [
              0.1111111111111111,
              "#46039f"
             ],
             [
              0.2222222222222222,
              "#7201a8"
             ],
             [
              0.3333333333333333,
              "#9c179e"
             ],
             [
              0.4444444444444444,
              "#bd3786"
             ],
             [
              0.5555555555555556,
              "#d8576b"
             ],
             [
              0.6666666666666666,
              "#ed7953"
             ],
             [
              0.7777777777777778,
              "#fb9f3a"
             ],
             [
              0.8888888888888888,
              "#fdca26"
             ],
             [
              1,
              "#f0f921"
             ]
            ],
            "type": "heatmapgl"
           }
          ],
          "histogram": [
           {
            "marker": {
             "pattern": {
              "fillmode": "overlay",
              "size": 10,
              "solidity": 0.2
             }
            },
            "type": "histogram"
           }
          ],
          "histogram2d": [
           {
            "colorbar": {
             "outlinewidth": 0,
             "ticks": ""
            },
            "colorscale": [
             [
              0,
              "#0d0887"
             ],
             [
              0.1111111111111111,
              "#46039f"
             ],
             [
              0.2222222222222222,
              "#7201a8"
             ],
             [
              0.3333333333333333,
              "#9c179e"
             ],
             [
              0.4444444444444444,
              "#bd3786"
             ],
             [
              0.5555555555555556,
              "#d8576b"
             ],
             [
              0.6666666666666666,
              "#ed7953"
             ],
             [
              0.7777777777777778,
              "#fb9f3a"
             ],
             [
              0.8888888888888888,
              "#fdca26"
             ],
             [
              1,
              "#f0f921"
             ]
            ],
            "type": "histogram2d"
           }
          ],
          "histogram2dcontour": [
           {
            "colorbar": {
             "outlinewidth": 0,
             "ticks": ""
            },
            "colorscale": [
             [
              0,
              "#0d0887"
             ],
             [
              0.1111111111111111,
              "#46039f"
             ],
             [
              0.2222222222222222,
              "#7201a8"
             ],
             [
              0.3333333333333333,
              "#9c179e"
             ],
             [
              0.4444444444444444,
              "#bd3786"
             ],
             [
              0.5555555555555556,
              "#d8576b"
             ],
             [
              0.6666666666666666,
              "#ed7953"
             ],
             [
              0.7777777777777778,
              "#fb9f3a"
             ],
             [
              0.8888888888888888,
              "#fdca26"
             ],
             [
              1,
              "#f0f921"
             ]
            ],
            "type": "histogram2dcontour"
           }
          ],
          "mesh3d": [
           {
            "colorbar": {
             "outlinewidth": 0,
             "ticks": ""
            },
            "type": "mesh3d"
           }
          ],
          "parcoords": [
           {
            "line": {
             "colorbar": {
              "outlinewidth": 0,
              "ticks": ""
             }
            },
            "type": "parcoords"
           }
          ],
          "pie": [
           {
            "automargin": true,
            "type": "pie"
           }
          ],
          "scatter": [
           {
            "fillpattern": {
             "fillmode": "overlay",
             "size": 10,
             "solidity": 0.2
            },
            "type": "scatter"
           }
          ],
          "scatter3d": [
           {
            "line": {
             "colorbar": {
              "outlinewidth": 0,
              "ticks": ""
             }
            },
            "marker": {
             "colorbar": {
              "outlinewidth": 0,
              "ticks": ""
             }
            },
            "type": "scatter3d"
           }
          ],
          "scattercarpet": [
           {
            "marker": {
             "colorbar": {
              "outlinewidth": 0,
              "ticks": ""
             }
            },
            "type": "scattercarpet"
           }
          ],
          "scattergeo": [
           {
            "marker": {
             "colorbar": {
              "outlinewidth": 0,
              "ticks": ""
             }
            },
            "type": "scattergeo"
           }
          ],
          "scattergl": [
           {
            "marker": {
             "colorbar": {
              "outlinewidth": 0,
              "ticks": ""
             }
            },
            "type": "scattergl"
           }
          ],
          "scattermapbox": [
           {
            "marker": {
             "colorbar": {
              "outlinewidth": 0,
              "ticks": ""
             }
            },
            "type": "scattermapbox"
           }
          ],
          "scatterpolar": [
           {
            "marker": {
             "colorbar": {
              "outlinewidth": 0,
              "ticks": ""
             }
            },
            "type": "scatterpolar"
           }
          ],
          "scatterpolargl": [
           {
            "marker": {
             "colorbar": {
              "outlinewidth": 0,
              "ticks": ""
             }
            },
            "type": "scatterpolargl"
           }
          ],
          "scatterternary": [
           {
            "marker": {
             "colorbar": {
              "outlinewidth": 0,
              "ticks": ""
             }
            },
            "type": "scatterternary"
           }
          ],
          "surface": [
           {
            "colorbar": {
             "outlinewidth": 0,
             "ticks": ""
            },
            "colorscale": [
             [
              0,
              "#0d0887"
             ],
             [
              0.1111111111111111,
              "#46039f"
             ],
             [
              0.2222222222222222,
              "#7201a8"
             ],
             [
              0.3333333333333333,
              "#9c179e"
             ],
             [
              0.4444444444444444,
              "#bd3786"
             ],
             [
              0.5555555555555556,
              "#d8576b"
             ],
             [
              0.6666666666666666,
              "#ed7953"
             ],
             [
              0.7777777777777778,
              "#fb9f3a"
             ],
             [
              0.8888888888888888,
              "#fdca26"
             ],
             [
              1,
              "#f0f921"
             ]
            ],
            "type": "surface"
           }
          ],
          "table": [
           {
            "cells": {
             "fill": {
              "color": "#EBF0F8"
             },
             "line": {
              "color": "white"
             }
            },
            "header": {
             "fill": {
              "color": "#C8D4E3"
             },
             "line": {
              "color": "white"
             }
            },
            "type": "table"
           }
          ]
         },
         "layout": {
          "annotationdefaults": {
           "arrowcolor": "#2a3f5f",
           "arrowhead": 0,
           "arrowwidth": 1
          },
          "autotypenumbers": "strict",
          "coloraxis": {
           "colorbar": {
            "outlinewidth": 0,
            "ticks": ""
           }
          },
          "colorscale": {
           "diverging": [
            [
             0,
             "#8e0152"
            ],
            [
             0.1,
             "#c51b7d"
            ],
            [
             0.2,
             "#de77ae"
            ],
            [
             0.3,
             "#f1b6da"
            ],
            [
             0.4,
             "#fde0ef"
            ],
            [
             0.5,
             "#f7f7f7"
            ],
            [
             0.6,
             "#e6f5d0"
            ],
            [
             0.7,
             "#b8e186"
            ],
            [
             0.8,
             "#7fbc41"
            ],
            [
             0.9,
             "#4d9221"
            ],
            [
             1,
             "#276419"
            ]
           ],
           "sequential": [
            [
             0,
             "#0d0887"
            ],
            [
             0.1111111111111111,
             "#46039f"
            ],
            [
             0.2222222222222222,
             "#7201a8"
            ],
            [
             0.3333333333333333,
             "#9c179e"
            ],
            [
             0.4444444444444444,
             "#bd3786"
            ],
            [
             0.5555555555555556,
             "#d8576b"
            ],
            [
             0.6666666666666666,
             "#ed7953"
            ],
            [
             0.7777777777777778,
             "#fb9f3a"
            ],
            [
             0.8888888888888888,
             "#fdca26"
            ],
            [
             1,
             "#f0f921"
            ]
           ],
           "sequentialminus": [
            [
             0,
             "#0d0887"
            ],
            [
             0.1111111111111111,
             "#46039f"
            ],
            [
             0.2222222222222222,
             "#7201a8"
            ],
            [
             0.3333333333333333,
             "#9c179e"
            ],
            [
             0.4444444444444444,
             "#bd3786"
            ],
            [
             0.5555555555555556,
             "#d8576b"
            ],
            [
             0.6666666666666666,
             "#ed7953"
            ],
            [
             0.7777777777777778,
             "#fb9f3a"
            ],
            [
             0.8888888888888888,
             "#fdca26"
            ],
            [
             1,
             "#f0f921"
            ]
           ]
          },
          "colorway": [
           "#636efa",
           "#EF553B",
           "#00cc96",
           "#ab63fa",
           "#FFA15A",
           "#19d3f3",
           "#FF6692",
           "#B6E880",
           "#FF97FF",
           "#FECB52"
          ],
          "font": {
           "color": "#2a3f5f"
          },
          "geo": {
           "bgcolor": "white",
           "lakecolor": "white",
           "landcolor": "#E5ECF6",
           "showlakes": true,
           "showland": true,
           "subunitcolor": "white"
          },
          "hoverlabel": {
           "align": "left"
          },
          "hovermode": "closest",
          "mapbox": {
           "style": "light"
          },
          "paper_bgcolor": "white",
          "plot_bgcolor": "#E5ECF6",
          "polar": {
           "angularaxis": {
            "gridcolor": "white",
            "linecolor": "white",
            "ticks": ""
           },
           "bgcolor": "#E5ECF6",
           "radialaxis": {
            "gridcolor": "white",
            "linecolor": "white",
            "ticks": ""
           }
          },
          "scene": {
           "xaxis": {
            "backgroundcolor": "#E5ECF6",
            "gridcolor": "white",
            "gridwidth": 2,
            "linecolor": "white",
            "showbackground": true,
            "ticks": "",
            "zerolinecolor": "white"
           },
           "yaxis": {
            "backgroundcolor": "#E5ECF6",
            "gridcolor": "white",
            "gridwidth": 2,
            "linecolor": "white",
            "showbackground": true,
            "ticks": "",
            "zerolinecolor": "white"
           },
           "zaxis": {
            "backgroundcolor": "#E5ECF6",
            "gridcolor": "white",
            "gridwidth": 2,
            "linecolor": "white",
            "showbackground": true,
            "ticks": "",
            "zerolinecolor": "white"
           }
          },
          "shapedefaults": {
           "line": {
            "color": "#2a3f5f"
           }
          },
          "ternary": {
           "aaxis": {
            "gridcolor": "white",
            "linecolor": "white",
            "ticks": ""
           },
           "baxis": {
            "gridcolor": "white",
            "linecolor": "white",
            "ticks": ""
           },
           "bgcolor": "#E5ECF6",
           "caxis": {
            "gridcolor": "white",
            "linecolor": "white",
            "ticks": ""
           }
          },
          "title": {
           "x": 0.05
          },
          "xaxis": {
           "automargin": true,
           "gridcolor": "white",
           "linecolor": "white",
           "ticks": "",
           "title": {
            "standoff": 15
           },
           "zerolinecolor": "white",
           "zerolinewidth": 2
          },
          "yaxis": {
           "automargin": true,
           "gridcolor": "white",
           "linecolor": "white",
           "ticks": "",
           "title": {
            "standoff": 15
           },
           "zerolinecolor": "white",
           "zerolinewidth": 2
          }
         }
        },
        "title": {
         "text": "一部の説明変数ペアを使ったクラスの確認"
        },
        "width": 800
       }
      }
     },
     "metadata": {},
     "output_type": "display_data"
    }
   ],
   "source": [
    "px.scatter_matrix(wine_df, \n",
    "                  dimensions=wine_df.columns[:5], \n",
    "                  color=wine_df[\"target\"],\n",
    "                  height=700,width=800,\n",
    "                  title=\"一部の説明変数ペアを使ったクラスの確認\"\n",
    "                 )"
   ]
  },
  {
   "cell_type": "markdown",
   "id": "612fc79b",
   "metadata": {},
   "source": [
    "train_test_splitはdataframeを渡すこともできます。確認してみましょう。"
   ]
  },
  {
   "cell_type": "code",
   "execution_count": 9,
   "id": "9b6f45c5",
   "metadata": {},
   "outputs": [],
   "source": [
    "X_train,X_test, y_train, y_test = train_test_split(wine_df.iloc[:,:-1], # 分割したいデータを列挙\n",
    "                                                   wine_df.target, # 分割したいデータを列挙\n",
    "                                                   test_size=0.3, # テストデータの割合\n",
    "                                                   stratify=wine_df.target, # 層化サンプリングの指針になるlabelを指定\n",
    "                                                   random_state=SEED # 乱数シードの設定\n",
    "                                                  )"
   ]
  },
  {
   "cell_type": "code",
   "execution_count": 10,
   "id": "ff722b1e",
   "metadata": {},
   "outputs": [
    {
     "name": "stdout",
     "output_type": "stream",
     "text": [
      "<class 'pandas.core.frame.DataFrame'>\n"
     ]
    },
    {
     "data": {
      "text/html": [
       "<div>\n",
       "<style scoped>\n",
       "    .dataframe tbody tr th:only-of-type {\n",
       "        vertical-align: middle;\n",
       "    }\n",
       "\n",
       "    .dataframe tbody tr th {\n",
       "        vertical-align: top;\n",
       "    }\n",
       "\n",
       "    .dataframe thead th {\n",
       "        text-align: right;\n",
       "    }\n",
       "</style>\n",
       "<table border=\"1\" class=\"dataframe\">\n",
       "  <thead>\n",
       "    <tr style=\"text-align: right;\">\n",
       "      <th></th>\n",
       "      <th>alcohol</th>\n",
       "      <th>malic_acid</th>\n",
       "      <th>ash</th>\n",
       "      <th>alcalinity_of_ash</th>\n",
       "      <th>magnesium</th>\n",
       "      <th>total_phenols</th>\n",
       "      <th>flavanoids</th>\n",
       "      <th>nonflavanoid_phenols</th>\n",
       "      <th>proanthocyanins</th>\n",
       "      <th>color_intensity</th>\n",
       "      <th>hue</th>\n",
       "      <th>od280/od315_of_diluted_wines</th>\n",
       "      <th>proline</th>\n",
       "    </tr>\n",
       "  </thead>\n",
       "  <tbody>\n",
       "    <tr>\n",
       "      <th>118</th>\n",
       "      <td>12.77</td>\n",
       "      <td>3.43</td>\n",
       "      <td>1.98</td>\n",
       "      <td>16.0</td>\n",
       "      <td>80.0</td>\n",
       "      <td>1.63</td>\n",
       "      <td>1.25</td>\n",
       "      <td>0.43</td>\n",
       "      <td>0.83</td>\n",
       "      <td>3.40</td>\n",
       "      <td>0.70</td>\n",
       "      <td>2.12</td>\n",
       "      <td>372.0</td>\n",
       "    </tr>\n",
       "    <tr>\n",
       "      <th>47</th>\n",
       "      <td>13.90</td>\n",
       "      <td>1.68</td>\n",
       "      <td>2.12</td>\n",
       "      <td>16.0</td>\n",
       "      <td>101.0</td>\n",
       "      <td>3.10</td>\n",
       "      <td>3.39</td>\n",
       "      <td>0.21</td>\n",
       "      <td>2.14</td>\n",
       "      <td>6.10</td>\n",
       "      <td>0.91</td>\n",
       "      <td>3.33</td>\n",
       "      <td>985.0</td>\n",
       "    </tr>\n",
       "    <tr>\n",
       "      <th>14</th>\n",
       "      <td>14.38</td>\n",
       "      <td>1.87</td>\n",
       "      <td>2.38</td>\n",
       "      <td>12.0</td>\n",
       "      <td>102.0</td>\n",
       "      <td>3.30</td>\n",
       "      <td>3.64</td>\n",
       "      <td>0.29</td>\n",
       "      <td>2.96</td>\n",
       "      <td>7.50</td>\n",
       "      <td>1.20</td>\n",
       "      <td>3.00</td>\n",
       "      <td>1547.0</td>\n",
       "    </tr>\n",
       "    <tr>\n",
       "      <th>37</th>\n",
       "      <td>13.05</td>\n",
       "      <td>1.65</td>\n",
       "      <td>2.55</td>\n",
       "      <td>18.0</td>\n",
       "      <td>98.0</td>\n",
       "      <td>2.45</td>\n",
       "      <td>2.43</td>\n",
       "      <td>0.29</td>\n",
       "      <td>1.44</td>\n",
       "      <td>4.25</td>\n",
       "      <td>1.12</td>\n",
       "      <td>2.51</td>\n",
       "      <td>1105.0</td>\n",
       "    </tr>\n",
       "    <tr>\n",
       "      <th>174</th>\n",
       "      <td>13.40</td>\n",
       "      <td>3.91</td>\n",
       "      <td>2.48</td>\n",
       "      <td>23.0</td>\n",
       "      <td>102.0</td>\n",
       "      <td>1.80</td>\n",
       "      <td>0.75</td>\n",
       "      <td>0.43</td>\n",
       "      <td>1.41</td>\n",
       "      <td>7.30</td>\n",
       "      <td>0.70</td>\n",
       "      <td>1.56</td>\n",
       "      <td>750.0</td>\n",
       "    </tr>\n",
       "  </tbody>\n",
       "</table>\n",
       "</div>"
      ],
      "text/plain": [
       "     alcohol  malic_acid   ash  alcalinity_of_ash  magnesium  total_phenols  \\\n",
       "118    12.77        3.43  1.98               16.0       80.0           1.63   \n",
       "47     13.90        1.68  2.12               16.0      101.0           3.10   \n",
       "14     14.38        1.87  2.38               12.0      102.0           3.30   \n",
       "37     13.05        1.65  2.55               18.0       98.0           2.45   \n",
       "174    13.40        3.91  2.48               23.0      102.0           1.80   \n",
       "\n",
       "     flavanoids  nonflavanoid_phenols  proanthocyanins  color_intensity   hue  \\\n",
       "118        1.25                  0.43             0.83             3.40  0.70   \n",
       "47         3.39                  0.21             2.14             6.10  0.91   \n",
       "14         3.64                  0.29             2.96             7.50  1.20   \n",
       "37         2.43                  0.29             1.44             4.25  1.12   \n",
       "174        0.75                  0.43             1.41             7.30  0.70   \n",
       "\n",
       "     od280/od315_of_diluted_wines  proline  \n",
       "118                          2.12    372.0  \n",
       "47                           3.33    985.0  \n",
       "14                           3.00   1547.0  \n",
       "37                           2.51   1105.0  \n",
       "174                          1.56    750.0  "
      ]
     },
     "execution_count": 10,
     "metadata": {},
     "output_type": "execute_result"
    }
   ],
   "source": [
    "print(type(X_train))\n",
    "X_train.head()"
   ]
  },
  {
   "cell_type": "code",
   "execution_count": 11,
   "id": "191ade3c",
   "metadata": {},
   "outputs": [
    {
     "name": "stdout",
     "output_type": "stream",
     "text": [
      "<class 'pandas.core.frame.DataFrame'>\n"
     ]
    },
    {
     "data": {
      "text/html": [
       "<div>\n",
       "<style scoped>\n",
       "    .dataframe tbody tr th:only-of-type {\n",
       "        vertical-align: middle;\n",
       "    }\n",
       "\n",
       "    .dataframe tbody tr th {\n",
       "        vertical-align: top;\n",
       "    }\n",
       "\n",
       "    .dataframe thead th {\n",
       "        text-align: right;\n",
       "    }\n",
       "</style>\n",
       "<table border=\"1\" class=\"dataframe\">\n",
       "  <thead>\n",
       "    <tr style=\"text-align: right;\">\n",
       "      <th></th>\n",
       "      <th>alcohol</th>\n",
       "      <th>malic_acid</th>\n",
       "      <th>ash</th>\n",
       "      <th>alcalinity_of_ash</th>\n",
       "      <th>magnesium</th>\n",
       "      <th>total_phenols</th>\n",
       "      <th>flavanoids</th>\n",
       "      <th>nonflavanoid_phenols</th>\n",
       "      <th>proanthocyanins</th>\n",
       "      <th>color_intensity</th>\n",
       "      <th>hue</th>\n",
       "      <th>od280/od315_of_diluted_wines</th>\n",
       "      <th>proline</th>\n",
       "    </tr>\n",
       "  </thead>\n",
       "  <tbody>\n",
       "    <tr>\n",
       "      <th>115</th>\n",
       "      <td>11.03</td>\n",
       "      <td>1.51</td>\n",
       "      <td>2.20</td>\n",
       "      <td>21.5</td>\n",
       "      <td>85.0</td>\n",
       "      <td>2.46</td>\n",
       "      <td>2.17</td>\n",
       "      <td>0.52</td>\n",
       "      <td>2.01</td>\n",
       "      <td>1.900000</td>\n",
       "      <td>1.71</td>\n",
       "      <td>2.87</td>\n",
       "      <td>407.0</td>\n",
       "    </tr>\n",
       "    <tr>\n",
       "      <th>158</th>\n",
       "      <td>14.34</td>\n",
       "      <td>1.68</td>\n",
       "      <td>2.70</td>\n",
       "      <td>25.0</td>\n",
       "      <td>98.0</td>\n",
       "      <td>2.80</td>\n",
       "      <td>1.31</td>\n",
       "      <td>0.53</td>\n",
       "      <td>2.70</td>\n",
       "      <td>13.000000</td>\n",
       "      <td>0.57</td>\n",
       "      <td>1.96</td>\n",
       "      <td>660.0</td>\n",
       "    </tr>\n",
       "    <tr>\n",
       "      <th>171</th>\n",
       "      <td>12.77</td>\n",
       "      <td>2.39</td>\n",
       "      <td>2.28</td>\n",
       "      <td>19.5</td>\n",
       "      <td>86.0</td>\n",
       "      <td>1.39</td>\n",
       "      <td>0.51</td>\n",
       "      <td>0.48</td>\n",
       "      <td>0.64</td>\n",
       "      <td>9.899999</td>\n",
       "      <td>0.57</td>\n",
       "      <td>1.63</td>\n",
       "      <td>470.0</td>\n",
       "    </tr>\n",
       "    <tr>\n",
       "      <th>18</th>\n",
       "      <td>14.19</td>\n",
       "      <td>1.59</td>\n",
       "      <td>2.48</td>\n",
       "      <td>16.5</td>\n",
       "      <td>108.0</td>\n",
       "      <td>3.30</td>\n",
       "      <td>3.93</td>\n",
       "      <td>0.32</td>\n",
       "      <td>1.86</td>\n",
       "      <td>8.700000</td>\n",
       "      <td>1.23</td>\n",
       "      <td>2.82</td>\n",
       "      <td>1680.0</td>\n",
       "    </tr>\n",
       "    <tr>\n",
       "      <th>108</th>\n",
       "      <td>12.22</td>\n",
       "      <td>1.29</td>\n",
       "      <td>1.94</td>\n",
       "      <td>19.0</td>\n",
       "      <td>92.0</td>\n",
       "      <td>2.36</td>\n",
       "      <td>2.04</td>\n",
       "      <td>0.39</td>\n",
       "      <td>2.08</td>\n",
       "      <td>2.700000</td>\n",
       "      <td>0.86</td>\n",
       "      <td>3.02</td>\n",
       "      <td>312.0</td>\n",
       "    </tr>\n",
       "  </tbody>\n",
       "</table>\n",
       "</div>"
      ],
      "text/plain": [
       "     alcohol  malic_acid   ash  alcalinity_of_ash  magnesium  total_phenols  \\\n",
       "115    11.03        1.51  2.20               21.5       85.0           2.46   \n",
       "158    14.34        1.68  2.70               25.0       98.0           2.80   \n",
       "171    12.77        2.39  2.28               19.5       86.0           1.39   \n",
       "18     14.19        1.59  2.48               16.5      108.0           3.30   \n",
       "108    12.22        1.29  1.94               19.0       92.0           2.36   \n",
       "\n",
       "     flavanoids  nonflavanoid_phenols  proanthocyanins  color_intensity   hue  \\\n",
       "115        2.17                  0.52             2.01         1.900000  1.71   \n",
       "158        1.31                  0.53             2.70        13.000000  0.57   \n",
       "171        0.51                  0.48             0.64         9.899999  0.57   \n",
       "18         3.93                  0.32             1.86         8.700000  1.23   \n",
       "108        2.04                  0.39             2.08         2.700000  0.86   \n",
       "\n",
       "     od280/od315_of_diluted_wines  proline  \n",
       "115                          2.87    407.0  \n",
       "158                          1.96    660.0  \n",
       "171                          1.63    470.0  \n",
       "18                           2.82   1680.0  \n",
       "108                          3.02    312.0  "
      ]
     },
     "execution_count": 11,
     "metadata": {},
     "output_type": "execute_result"
    }
   ],
   "source": [
    "print(type(X_test))\n",
    "X_test.head()"
   ]
  },
  {
   "cell_type": "code",
   "execution_count": 12,
   "id": "219b5ab3",
   "metadata": {},
   "outputs": [
    {
     "name": "stdout",
     "output_type": "stream",
     "text": [
      "<class 'pandas.core.series.Series'>\n"
     ]
    },
    {
     "data": {
      "text/plain": [
       "118    1\n",
       "47     0\n",
       "14     0\n",
       "37     0\n",
       "174    2\n",
       "Name: target, dtype: int64"
      ]
     },
     "execution_count": 12,
     "metadata": {},
     "output_type": "execute_result"
    }
   ],
   "source": [
    "print(type(y_train))\n",
    "y_train.head()"
   ]
  },
  {
   "cell_type": "code",
   "execution_count": 13,
   "id": "4a703a68",
   "metadata": {},
   "outputs": [
    {
     "name": "stdout",
     "output_type": "stream",
     "text": [
      "<class 'pandas.core.series.Series'>\n"
     ]
    },
    {
     "data": {
      "text/plain": [
       "115    1\n",
       "158    2\n",
       "171    2\n",
       "18     0\n",
       "108    1\n",
       "Name: target, dtype: int64"
      ]
     },
     "execution_count": 13,
     "metadata": {},
     "output_type": "execute_result"
    }
   ],
   "source": [
    "print(type(y_test))\n",
    "y_test.head()"
   ]
  },
  {
   "cell_type": "markdown",
   "id": "00fd561d",
   "metadata": {},
   "source": [
    "sklearnはDataFrameを入力に受け取っても正しく動作するので、今回はこのまま利用していくことにしましょう。"
   ]
  },
  {
   "cell_type": "markdown",
   "id": "7f8d1bd3",
   "metadata": {},
   "source": [
    "### データの前処理\n",
    "\n",
    "それではsklearnのk-Meansを利用してみましょう。\n",
    "\n",
    "1. クラスからインスタンスを生成\n",
    "2. `fit`で訓練\n",
    "3. 各種評価指標でクラスタリングの性能を評価\n",
    "\n",
    "この流れにそって、実験を行います。"
   ]
  },
  {
   "cell_type": "markdown",
   "id": "621f0ab5",
   "metadata": {},
   "source": [
    "しかしその前に、データの前処理を行います。\n",
    "\n",
    "参考: https://www.rm48.net/post/python-k-means%E3%82%AF%E3%83%A9%E3%82%B9%E3%82%BF%E3%83%AA%E3%83%B3%E3%82%B0%E3%82%92%E3%81%99%E3%82%8B%E3%81%A8%E3%81%8D%E3%81%AF%E3%83%87%E3%83%BC%E3%82%BF%E3%81%AE%E8%A6%8F%E6%A0%BC%E5%8C%96%E3%80%81%E6%A8%99%E6%BA%96%E5%8C%96%E3%82%92%E3%81%99%E3%82%8B"
   ]
  },
  {
   "cell_type": "code",
   "execution_count": 14,
   "id": "b45d3f1f",
   "metadata": {},
   "outputs": [],
   "source": [
    "scaler =  StandardScaler()\n",
    "scaled_X_train = scaler.fit_transform(X_train)\n",
    "scaled_X_test = scaler.transform(X_test)"
   ]
  },
  {
   "cell_type": "markdown",
   "id": "92ff1332",
   "metadata": {},
   "source": [
    "### sklearnによる訓練"
   ]
  },
  {
   "cell_type": "markdown",
   "id": "e96578bd",
   "metadata": {},
   "source": [
    "K-Meansクラスの使い方は?を使って確認しておきます。\n",
    "\n",
    "```python\n",
    ">>>KMeans?\n",
    "```\n",
    "```python\n",
    "Init signature:\n",
    "KMeans(\n",
    "    n_clusters=8, # クラスタの数\n",
    "    *,\n",
    "    init='k-means++', # 初期化の方法。k-means++は非常に優秀な初期化方法です。ナイーブに実装した場合の初期化は\"randam\"が相当します。\n",
    "    n_init=10, # k-meansの性能は初期値に大きく影響されます。sklearnは異なるseedで初期化をn_init回行い、最も良いものを選択します。\n",
    "    max_iter=300, # 最大更新回数\n",
    "    tol=0.0001, # 許容誤差, これ以下になれば最大更新回数に達していなくても学習を終了します。\n",
    "    verbose=0,  # 詳しい解析結果を表示するなら1、何も表示しないならば0\n",
    "    random_state=None, # 擬似乱数生成器に渡すSEED\n",
    "    copy_x=True, # \n",
    "    algorithm='auto',\n",
    ")\n",
    "```\n",
    "\n",
    "algorithm  \n",
    "- {\"lloyd\"、\"elkan\"、\"auto\"、\"full\"}、default =\"lloyd\"\n",
    "- 使用するK-meansのアルゴリズムを設定します。\n",
    "- 古典的なEM式アルゴリズムは \"lloyd \"ですが、\"elkan \"は三角形の不等式を用いることにより、クラスタが明確に定義されたデータセットではより効率的となることがあります。しかし、形状の配列(n_samples, n_clusters) を追加で割り当てるため、よりメモリを消費します。\n",
    "\n",
    "\"auto\"と \"full\"は非推奨で、Scikit-Learn 1.3 で削除される予定です。これらは両方とも \"lloyd\" のエイリアスです。\n",
    "\n",
    "それではインスタンスを生成します。"
   ]
  },
  {
   "cell_type": "code",
   "execution_count": 15,
   "id": "6d0dcd4a",
   "metadata": {},
   "outputs": [],
   "source": [
    "skmodel = KMeans(3, random_state=SEED)"
   ]
  },
  {
   "cell_type": "markdown",
   "id": "4b842754",
   "metadata": {
    "tags": []
   },
   "source": [
    "次に、`fit`の使い方を確認してから、実行しましょう。"
   ]
  },
  {
   "cell_type": "code",
   "execution_count": 16,
   "id": "b1d24d04",
   "metadata": {},
   "outputs": [
    {
     "name": "stdout",
     "output_type": "stream",
     "text": [
      "\u001b[0;31mSignature:\u001b[0m \u001b[0mskmodel\u001b[0m\u001b[0;34m.\u001b[0m\u001b[0mfit\u001b[0m\u001b[0;34m(\u001b[0m\u001b[0mX\u001b[0m\u001b[0;34m,\u001b[0m \u001b[0my\u001b[0m\u001b[0;34m=\u001b[0m\u001b[0;32mNone\u001b[0m\u001b[0;34m,\u001b[0m \u001b[0msample_weight\u001b[0m\u001b[0;34m=\u001b[0m\u001b[0;32mNone\u001b[0m\u001b[0;34m)\u001b[0m\u001b[0;34m\u001b[0m\u001b[0;34m\u001b[0m\u001b[0m\n",
      "\u001b[0;31mDocstring:\u001b[0m\n",
      "Compute k-means clustering.\n",
      "\n",
      "Parameters\n",
      "----------\n",
      "X : {array-like, sparse matrix} of shape (n_samples, n_features)\n",
      "    Training instances to cluster. It must be noted that the data\n",
      "    will be converted to C ordering, which will cause a memory\n",
      "    copy if the given data is not C-contiguous.\n",
      "    If a sparse matrix is passed, a copy will be made if it's not in\n",
      "    CSR format.\n",
      "\n",
      "y : Ignored\n",
      "    Not used, present here for API consistency by convention.\n",
      "\n",
      "sample_weight : array-like of shape (n_samples,), default=None\n",
      "    The weights for each observation in X. If None, all observations\n",
      "    are assigned equal weight. `sample_weight` is not used during\n",
      "    initialization if `init` is a callable or a user provided array.\n",
      "\n",
      "    .. versionadded:: 0.20\n",
      "\n",
      "Returns\n",
      "-------\n",
      "self : object\n",
      "    Fitted estimator.\n",
      "\u001b[0;31mFile:\u001b[0m      ~/workspace/prpy/.venv/lib/python3.11/site-packages/sklearn/cluster/_kmeans.py\n",
      "\u001b[0;31mType:\u001b[0m      method"
     ]
    }
   ],
   "source": [
    "skmodel.fit?"
   ]
  },
  {
   "cell_type": "code",
   "execution_count": 17,
   "id": "b657f85d",
   "metadata": {},
   "outputs": [
    {
     "data": {
      "text/html": [
       "<style>#sk-container-id-1 {\n",
       "  /* Definition of color scheme common for light and dark mode */\n",
       "  --sklearn-color-text: black;\n",
       "  --sklearn-color-line: gray;\n",
       "  /* Definition of color scheme for unfitted estimators */\n",
       "  --sklearn-color-unfitted-level-0: #fff5e6;\n",
       "  --sklearn-color-unfitted-level-1: #f6e4d2;\n",
       "  --sklearn-color-unfitted-level-2: #ffe0b3;\n",
       "  --sklearn-color-unfitted-level-3: chocolate;\n",
       "  /* Definition of color scheme for fitted estimators */\n",
       "  --sklearn-color-fitted-level-0: #f0f8ff;\n",
       "  --sklearn-color-fitted-level-1: #d4ebff;\n",
       "  --sklearn-color-fitted-level-2: #b3dbfd;\n",
       "  --sklearn-color-fitted-level-3: cornflowerblue;\n",
       "\n",
       "  /* Specific color for light theme */\n",
       "  --sklearn-color-text-on-default-background: var(--sg-text-color, var(--theme-code-foreground, var(--jp-content-font-color1, black)));\n",
       "  --sklearn-color-background: var(--sg-background-color, var(--theme-background, var(--jp-layout-color0, white)));\n",
       "  --sklearn-color-border-box: var(--sg-text-color, var(--theme-code-foreground, var(--jp-content-font-color1, black)));\n",
       "  --sklearn-color-icon: #696969;\n",
       "\n",
       "  @media (prefers-color-scheme: dark) {\n",
       "    /* Redefinition of color scheme for dark theme */\n",
       "    --sklearn-color-text-on-default-background: var(--sg-text-color, var(--theme-code-foreground, var(--jp-content-font-color1, white)));\n",
       "    --sklearn-color-background: var(--sg-background-color, var(--theme-background, var(--jp-layout-color0, #111)));\n",
       "    --sklearn-color-border-box: var(--sg-text-color, var(--theme-code-foreground, var(--jp-content-font-color1, white)));\n",
       "    --sklearn-color-icon: #878787;\n",
       "  }\n",
       "}\n",
       "\n",
       "#sk-container-id-1 {\n",
       "  color: var(--sklearn-color-text);\n",
       "}\n",
       "\n",
       "#sk-container-id-1 pre {\n",
       "  padding: 0;\n",
       "}\n",
       "\n",
       "#sk-container-id-1 input.sk-hidden--visually {\n",
       "  border: 0;\n",
       "  clip: rect(1px 1px 1px 1px);\n",
       "  clip: rect(1px, 1px, 1px, 1px);\n",
       "  height: 1px;\n",
       "  margin: -1px;\n",
       "  overflow: hidden;\n",
       "  padding: 0;\n",
       "  position: absolute;\n",
       "  width: 1px;\n",
       "}\n",
       "\n",
       "#sk-container-id-1 div.sk-dashed-wrapped {\n",
       "  border: 1px dashed var(--sklearn-color-line);\n",
       "  margin: 0 0.4em 0.5em 0.4em;\n",
       "  box-sizing: border-box;\n",
       "  padding-bottom: 0.4em;\n",
       "  background-color: var(--sklearn-color-background);\n",
       "}\n",
       "\n",
       "#sk-container-id-1 div.sk-container {\n",
       "  /* jupyter's `normalize.less` sets `[hidden] { display: none; }`\n",
       "     but bootstrap.min.css set `[hidden] { display: none !important; }`\n",
       "     so we also need the `!important` here to be able to override the\n",
       "     default hidden behavior on the sphinx rendered scikit-learn.org.\n",
       "     See: https://github.com/scikit-learn/scikit-learn/issues/21755 */\n",
       "  display: inline-block !important;\n",
       "  position: relative;\n",
       "}\n",
       "\n",
       "#sk-container-id-1 div.sk-text-repr-fallback {\n",
       "  display: none;\n",
       "}\n",
       "\n",
       "div.sk-parallel-item,\n",
       "div.sk-serial,\n",
       "div.sk-item {\n",
       "  /* draw centered vertical line to link estimators */\n",
       "  background-image: linear-gradient(var(--sklearn-color-text-on-default-background), var(--sklearn-color-text-on-default-background));\n",
       "  background-size: 2px 100%;\n",
       "  background-repeat: no-repeat;\n",
       "  background-position: center center;\n",
       "}\n",
       "\n",
       "/* Parallel-specific style estimator block */\n",
       "\n",
       "#sk-container-id-1 div.sk-parallel-item::after {\n",
       "  content: \"\";\n",
       "  width: 100%;\n",
       "  border-bottom: 2px solid var(--sklearn-color-text-on-default-background);\n",
       "  flex-grow: 1;\n",
       "}\n",
       "\n",
       "#sk-container-id-1 div.sk-parallel {\n",
       "  display: flex;\n",
       "  align-items: stretch;\n",
       "  justify-content: center;\n",
       "  background-color: var(--sklearn-color-background);\n",
       "  position: relative;\n",
       "}\n",
       "\n",
       "#sk-container-id-1 div.sk-parallel-item {\n",
       "  display: flex;\n",
       "  flex-direction: column;\n",
       "}\n",
       "\n",
       "#sk-container-id-1 div.sk-parallel-item:first-child::after {\n",
       "  align-self: flex-end;\n",
       "  width: 50%;\n",
       "}\n",
       "\n",
       "#sk-container-id-1 div.sk-parallel-item:last-child::after {\n",
       "  align-self: flex-start;\n",
       "  width: 50%;\n",
       "}\n",
       "\n",
       "#sk-container-id-1 div.sk-parallel-item:only-child::after {\n",
       "  width: 0;\n",
       "}\n",
       "\n",
       "/* Serial-specific style estimator block */\n",
       "\n",
       "#sk-container-id-1 div.sk-serial {\n",
       "  display: flex;\n",
       "  flex-direction: column;\n",
       "  align-items: center;\n",
       "  background-color: var(--sklearn-color-background);\n",
       "  padding-right: 1em;\n",
       "  padding-left: 1em;\n",
       "}\n",
       "\n",
       "\n",
       "/* Toggleable style: style used for estimator/Pipeline/ColumnTransformer box that is\n",
       "clickable and can be expanded/collapsed.\n",
       "- Pipeline and ColumnTransformer use this feature and define the default style\n",
       "- Estimators will overwrite some part of the style using the `sk-estimator` class\n",
       "*/\n",
       "\n",
       "/* Pipeline and ColumnTransformer style (default) */\n",
       "\n",
       "#sk-container-id-1 div.sk-toggleable {\n",
       "  /* Default theme specific background. It is overwritten whether we have a\n",
       "  specific estimator or a Pipeline/ColumnTransformer */\n",
       "  background-color: var(--sklearn-color-background);\n",
       "}\n",
       "\n",
       "/* Toggleable label */\n",
       "#sk-container-id-1 label.sk-toggleable__label {\n",
       "  cursor: pointer;\n",
       "  display: block;\n",
       "  width: 100%;\n",
       "  margin-bottom: 0;\n",
       "  padding: 0.5em;\n",
       "  box-sizing: border-box;\n",
       "  text-align: center;\n",
       "}\n",
       "\n",
       "#sk-container-id-1 label.sk-toggleable__label-arrow:before {\n",
       "  /* Arrow on the left of the label */\n",
       "  content: \"▸\";\n",
       "  float: left;\n",
       "  margin-right: 0.25em;\n",
       "  color: var(--sklearn-color-icon);\n",
       "}\n",
       "\n",
       "#sk-container-id-1 label.sk-toggleable__label-arrow:hover:before {\n",
       "  color: var(--sklearn-color-text);\n",
       "}\n",
       "\n",
       "/* Toggleable content - dropdown */\n",
       "\n",
       "#sk-container-id-1 div.sk-toggleable__content {\n",
       "  max-height: 0;\n",
       "  max-width: 0;\n",
       "  overflow: hidden;\n",
       "  text-align: left;\n",
       "  /* unfitted */\n",
       "  background-color: var(--sklearn-color-unfitted-level-0);\n",
       "}\n",
       "\n",
       "#sk-container-id-1 div.sk-toggleable__content.fitted {\n",
       "  /* fitted */\n",
       "  background-color: var(--sklearn-color-fitted-level-0);\n",
       "}\n",
       "\n",
       "#sk-container-id-1 div.sk-toggleable__content pre {\n",
       "  margin: 0.2em;\n",
       "  border-radius: 0.25em;\n",
       "  color: var(--sklearn-color-text);\n",
       "  /* unfitted */\n",
       "  background-color: var(--sklearn-color-unfitted-level-0);\n",
       "}\n",
       "\n",
       "#sk-container-id-1 div.sk-toggleable__content.fitted pre {\n",
       "  /* unfitted */\n",
       "  background-color: var(--sklearn-color-fitted-level-0);\n",
       "}\n",
       "\n",
       "#sk-container-id-1 input.sk-toggleable__control:checked~div.sk-toggleable__content {\n",
       "  /* Expand drop-down */\n",
       "  max-height: 200px;\n",
       "  max-width: 100%;\n",
       "  overflow: auto;\n",
       "}\n",
       "\n",
       "#sk-container-id-1 input.sk-toggleable__control:checked~label.sk-toggleable__label-arrow:before {\n",
       "  content: \"▾\";\n",
       "}\n",
       "\n",
       "/* Pipeline/ColumnTransformer-specific style */\n",
       "\n",
       "#sk-container-id-1 div.sk-label input.sk-toggleable__control:checked~label.sk-toggleable__label {\n",
       "  color: var(--sklearn-color-text);\n",
       "  background-color: var(--sklearn-color-unfitted-level-2);\n",
       "}\n",
       "\n",
       "#sk-container-id-1 div.sk-label.fitted input.sk-toggleable__control:checked~label.sk-toggleable__label {\n",
       "  background-color: var(--sklearn-color-fitted-level-2);\n",
       "}\n",
       "\n",
       "/* Estimator-specific style */\n",
       "\n",
       "/* Colorize estimator box */\n",
       "#sk-container-id-1 div.sk-estimator input.sk-toggleable__control:checked~label.sk-toggleable__label {\n",
       "  /* unfitted */\n",
       "  background-color: var(--sklearn-color-unfitted-level-2);\n",
       "}\n",
       "\n",
       "#sk-container-id-1 div.sk-estimator.fitted input.sk-toggleable__control:checked~label.sk-toggleable__label {\n",
       "  /* fitted */\n",
       "  background-color: var(--sklearn-color-fitted-level-2);\n",
       "}\n",
       "\n",
       "#sk-container-id-1 div.sk-label label.sk-toggleable__label,\n",
       "#sk-container-id-1 div.sk-label label {\n",
       "  /* The background is the default theme color */\n",
       "  color: var(--sklearn-color-text-on-default-background);\n",
       "}\n",
       "\n",
       "/* On hover, darken the color of the background */\n",
       "#sk-container-id-1 div.sk-label:hover label.sk-toggleable__label {\n",
       "  color: var(--sklearn-color-text);\n",
       "  background-color: var(--sklearn-color-unfitted-level-2);\n",
       "}\n",
       "\n",
       "/* Label box, darken color on hover, fitted */\n",
       "#sk-container-id-1 div.sk-label.fitted:hover label.sk-toggleable__label.fitted {\n",
       "  color: var(--sklearn-color-text);\n",
       "  background-color: var(--sklearn-color-fitted-level-2);\n",
       "}\n",
       "\n",
       "/* Estimator label */\n",
       "\n",
       "#sk-container-id-1 div.sk-label label {\n",
       "  font-family: monospace;\n",
       "  font-weight: bold;\n",
       "  display: inline-block;\n",
       "  line-height: 1.2em;\n",
       "}\n",
       "\n",
       "#sk-container-id-1 div.sk-label-container {\n",
       "  text-align: center;\n",
       "}\n",
       "\n",
       "/* Estimator-specific */\n",
       "#sk-container-id-1 div.sk-estimator {\n",
       "  font-family: monospace;\n",
       "  border: 1px dotted var(--sklearn-color-border-box);\n",
       "  border-radius: 0.25em;\n",
       "  box-sizing: border-box;\n",
       "  margin-bottom: 0.5em;\n",
       "  /* unfitted */\n",
       "  background-color: var(--sklearn-color-unfitted-level-0);\n",
       "}\n",
       "\n",
       "#sk-container-id-1 div.sk-estimator.fitted {\n",
       "  /* fitted */\n",
       "  background-color: var(--sklearn-color-fitted-level-0);\n",
       "}\n",
       "\n",
       "/* on hover */\n",
       "#sk-container-id-1 div.sk-estimator:hover {\n",
       "  /* unfitted */\n",
       "  background-color: var(--sklearn-color-unfitted-level-2);\n",
       "}\n",
       "\n",
       "#sk-container-id-1 div.sk-estimator.fitted:hover {\n",
       "  /* fitted */\n",
       "  background-color: var(--sklearn-color-fitted-level-2);\n",
       "}\n",
       "\n",
       "/* Specification for estimator info (e.g. \"i\" and \"?\") */\n",
       "\n",
       "/* Common style for \"i\" and \"?\" */\n",
       "\n",
       ".sk-estimator-doc-link,\n",
       "a:link.sk-estimator-doc-link,\n",
       "a:visited.sk-estimator-doc-link {\n",
       "  float: right;\n",
       "  font-size: smaller;\n",
       "  line-height: 1em;\n",
       "  font-family: monospace;\n",
       "  background-color: var(--sklearn-color-background);\n",
       "  border-radius: 1em;\n",
       "  height: 1em;\n",
       "  width: 1em;\n",
       "  text-decoration: none !important;\n",
       "  margin-left: 1ex;\n",
       "  /* unfitted */\n",
       "  border: var(--sklearn-color-unfitted-level-1) 1pt solid;\n",
       "  color: var(--sklearn-color-unfitted-level-1);\n",
       "}\n",
       "\n",
       ".sk-estimator-doc-link.fitted,\n",
       "a:link.sk-estimator-doc-link.fitted,\n",
       "a:visited.sk-estimator-doc-link.fitted {\n",
       "  /* fitted */\n",
       "  border: var(--sklearn-color-fitted-level-1) 1pt solid;\n",
       "  color: var(--sklearn-color-fitted-level-1);\n",
       "}\n",
       "\n",
       "/* On hover */\n",
       "div.sk-estimator:hover .sk-estimator-doc-link:hover,\n",
       ".sk-estimator-doc-link:hover,\n",
       "div.sk-label-container:hover .sk-estimator-doc-link:hover,\n",
       ".sk-estimator-doc-link:hover {\n",
       "  /* unfitted */\n",
       "  background-color: var(--sklearn-color-unfitted-level-3);\n",
       "  color: var(--sklearn-color-background);\n",
       "  text-decoration: none;\n",
       "}\n",
       "\n",
       "div.sk-estimator.fitted:hover .sk-estimator-doc-link.fitted:hover,\n",
       ".sk-estimator-doc-link.fitted:hover,\n",
       "div.sk-label-container:hover .sk-estimator-doc-link.fitted:hover,\n",
       ".sk-estimator-doc-link.fitted:hover {\n",
       "  /* fitted */\n",
       "  background-color: var(--sklearn-color-fitted-level-3);\n",
       "  color: var(--sklearn-color-background);\n",
       "  text-decoration: none;\n",
       "}\n",
       "\n",
       "/* Span, style for the box shown on hovering the info icon */\n",
       ".sk-estimator-doc-link span {\n",
       "  display: none;\n",
       "  z-index: 9999;\n",
       "  position: relative;\n",
       "  font-weight: normal;\n",
       "  right: .2ex;\n",
       "  padding: .5ex;\n",
       "  margin: .5ex;\n",
       "  width: min-content;\n",
       "  min-width: 20ex;\n",
       "  max-width: 50ex;\n",
       "  color: var(--sklearn-color-text);\n",
       "  box-shadow: 2pt 2pt 4pt #999;\n",
       "  /* unfitted */\n",
       "  background: var(--sklearn-color-unfitted-level-0);\n",
       "  border: .5pt solid var(--sklearn-color-unfitted-level-3);\n",
       "}\n",
       "\n",
       ".sk-estimator-doc-link.fitted span {\n",
       "  /* fitted */\n",
       "  background: var(--sklearn-color-fitted-level-0);\n",
       "  border: var(--sklearn-color-fitted-level-3);\n",
       "}\n",
       "\n",
       ".sk-estimator-doc-link:hover span {\n",
       "  display: block;\n",
       "}\n",
       "\n",
       "/* \"?\"-specific style due to the `<a>` HTML tag */\n",
       "\n",
       "#sk-container-id-1 a.estimator_doc_link {\n",
       "  float: right;\n",
       "  font-size: 1rem;\n",
       "  line-height: 1em;\n",
       "  font-family: monospace;\n",
       "  background-color: var(--sklearn-color-background);\n",
       "  border-radius: 1rem;\n",
       "  height: 1rem;\n",
       "  width: 1rem;\n",
       "  text-decoration: none;\n",
       "  /* unfitted */\n",
       "  color: var(--sklearn-color-unfitted-level-1);\n",
       "  border: var(--sklearn-color-unfitted-level-1) 1pt solid;\n",
       "}\n",
       "\n",
       "#sk-container-id-1 a.estimator_doc_link.fitted {\n",
       "  /* fitted */\n",
       "  border: var(--sklearn-color-fitted-level-1) 1pt solid;\n",
       "  color: var(--sklearn-color-fitted-level-1);\n",
       "}\n",
       "\n",
       "/* On hover */\n",
       "#sk-container-id-1 a.estimator_doc_link:hover {\n",
       "  /* unfitted */\n",
       "  background-color: var(--sklearn-color-unfitted-level-3);\n",
       "  color: var(--sklearn-color-background);\n",
       "  text-decoration: none;\n",
       "}\n",
       "\n",
       "#sk-container-id-1 a.estimator_doc_link.fitted:hover {\n",
       "  /* fitted */\n",
       "  background-color: var(--sklearn-color-fitted-level-3);\n",
       "}\n",
       "</style><div id=\"sk-container-id-1\" class=\"sk-top-container\"><div class=\"sk-text-repr-fallback\"><pre>KMeans(n_clusters=3, random_state=2022)</pre><b>In a Jupyter environment, please rerun this cell to show the HTML representation or trust the notebook. <br />On GitHub, the HTML representation is unable to render, please try loading this page with nbviewer.org.</b></div><div class=\"sk-container\" hidden><div class=\"sk-item\"><div class=\"sk-estimator fitted sk-toggleable\"><input class=\"sk-toggleable__control sk-hidden--visually\" id=\"sk-estimator-id-1\" type=\"checkbox\" checked><label for=\"sk-estimator-id-1\" class=\"sk-toggleable__label fitted sk-toggleable__label-arrow fitted\">&nbsp;&nbsp;KMeans<a class=\"sk-estimator-doc-link fitted\" rel=\"noreferrer\" target=\"_blank\" href=\"https://scikit-learn.org/1.4/modules/generated/sklearn.cluster.KMeans.html\">?<span>Documentation for KMeans</span></a><span class=\"sk-estimator-doc-link fitted\">i<span>Fitted</span></span></label><div class=\"sk-toggleable__content fitted\"><pre>KMeans(n_clusters=3, random_state=2022)</pre></div> </div></div></div></div>"
      ],
      "text/plain": [
       "KMeans(n_clusters=3, random_state=2022)"
      ]
     },
     "execution_count": 17,
     "metadata": {},
     "output_type": "execute_result"
    }
   ],
   "source": [
    "skmodel.fit(scaled_X_train)"
   ]
  },
  {
   "cell_type": "markdown",
   "id": "c0f0aa1b",
   "metadata": {},
   "source": [
    "### 結果の可視化"
   ]
  },
  {
   "cell_type": "markdown",
   "id": "a393b1ba",
   "metadata": {},
   "source": [
    "クラスタリングの結果を散布図にして確認してみます。  \n",
    "ここでは、説明変数が多すぎるので幾つかのペアを取り出して可視化を行います。"
   ]
  },
  {
   "cell_type": "code",
   "execution_count": 18,
   "id": "f359a0c7",
   "metadata": {},
   "outputs": [
    {
     "data": {
      "text/html": [
       "<div>\n",
       "<style scoped>\n",
       "    .dataframe tbody tr th:only-of-type {\n",
       "        vertical-align: middle;\n",
       "    }\n",
       "\n",
       "    .dataframe tbody tr th {\n",
       "        vertical-align: top;\n",
       "    }\n",
       "\n",
       "    .dataframe thead th {\n",
       "        text-align: right;\n",
       "    }\n",
       "</style>\n",
       "<table border=\"1\" class=\"dataframe\">\n",
       "  <thead>\n",
       "    <tr style=\"text-align: right;\">\n",
       "      <th></th>\n",
       "      <th>alcohol</th>\n",
       "      <th>malic_acid</th>\n",
       "      <th>ash</th>\n",
       "      <th>alcalinity_of_ash</th>\n",
       "      <th>magnesium</th>\n",
       "      <th>cluster_index</th>\n",
       "    </tr>\n",
       "  </thead>\n",
       "  <tbody>\n",
       "    <tr>\n",
       "      <th>118</th>\n",
       "      <td>12.77</td>\n",
       "      <td>3.43</td>\n",
       "      <td>1.98</td>\n",
       "      <td>16.0</td>\n",
       "      <td>80.0</td>\n",
       "      <td>2</td>\n",
       "    </tr>\n",
       "    <tr>\n",
       "      <th>47</th>\n",
       "      <td>13.90</td>\n",
       "      <td>1.68</td>\n",
       "      <td>2.12</td>\n",
       "      <td>16.0</td>\n",
       "      <td>101.0</td>\n",
       "      <td>0</td>\n",
       "    </tr>\n",
       "    <tr>\n",
       "      <th>14</th>\n",
       "      <td>14.38</td>\n",
       "      <td>1.87</td>\n",
       "      <td>2.38</td>\n",
       "      <td>12.0</td>\n",
       "      <td>102.0</td>\n",
       "      <td>0</td>\n",
       "    </tr>\n",
       "    <tr>\n",
       "      <th>37</th>\n",
       "      <td>13.05</td>\n",
       "      <td>1.65</td>\n",
       "      <td>2.55</td>\n",
       "      <td>18.0</td>\n",
       "      <td>98.0</td>\n",
       "      <td>0</td>\n",
       "    </tr>\n",
       "    <tr>\n",
       "      <th>174</th>\n",
       "      <td>13.40</td>\n",
       "      <td>3.91</td>\n",
       "      <td>2.48</td>\n",
       "      <td>23.0</td>\n",
       "      <td>102.0</td>\n",
       "      <td>2</td>\n",
       "    </tr>\n",
       "  </tbody>\n",
       "</table>\n",
       "</div>"
      ],
      "text/plain": [
       "     alcohol  malic_acid   ash  alcalinity_of_ash  magnesium  cluster_index\n",
       "118    12.77        3.43  1.98               16.0       80.0              2\n",
       "47     13.90        1.68  2.12               16.0      101.0              0\n",
       "14     14.38        1.87  2.38               12.0      102.0              0\n",
       "37     13.05        1.65  2.55               18.0       98.0              0\n",
       "174    13.40        3.91  2.48               23.0      102.0              2"
      ]
     },
     "execution_count": 18,
     "metadata": {},
     "output_type": "execute_result"
    }
   ],
   "source": [
    "result_df = X_train.iloc[:,:5].copy()\n",
    "result_df[\"cluster_index\"] = skmodel.predict(scaled_X_train)\n",
    "result_df.head()"
   ]
  },
  {
   "cell_type": "code",
   "execution_count": 19,
   "id": "663429fa",
   "metadata": {},
   "outputs": [
    {
     "data": {
      "application/vnd.plotly.v1+json": {
       "config": {
        "plotlyServerURL": "https://plot.ly"
       },
       "data": [
        {
         "dimensions": [
          {
           "axis": {
            "matches": true
           },
           "label": "alcohol",
           "values": [
            12.77,
            13.9,
            14.38,
            13.05,
            13.4,
            13.58,
            13.05,
            13.23,
            12.53,
            13.05,
            14.2,
            12.37,
            13.51,
            11.66,
            13.49,
            12.07,
            12.37,
            12.17,
            12.6,
            12.52,
            13.88,
            13.32,
            11.41,
            12,
            13.49,
            12.33,
            12.86,
            13.24,
            11.84,
            13.72,
            13.62,
            12.42,
            13.75,
            12.58,
            14.23,
            11.96,
            13.24,
            12.45,
            14.39,
            11.79,
            12.82,
            12.93,
            12.96,
            12.85,
            11.82,
            12.08,
            13.07,
            13.16,
            13.05,
            13.4,
            14.06,
            12.37,
            13.71,
            12.72,
            13.36,
            12.2,
            13.48,
            12.37,
            14.16,
            12.72,
            12.79,
            14.37,
            12.93,
            12.29,
            12,
            13.68,
            13.45,
            13.63,
            12.85,
            14.1,
            12,
            13.11,
            11.87,
            13.71,
            12.51,
            13.52,
            12.29,
            12.21,
            13.77,
            12.7,
            13.39,
            14.02,
            12.51,
            13.17,
            14.83,
            14.75,
            13.11,
            11.56,
            13.03,
            14.22,
            14.06,
            11.81,
            13.67,
            13.74,
            13.83,
            13.86,
            13.48,
            12.87,
            13.69,
            13.27,
            12.37,
            12.99,
            12.36,
            12.34,
            12.42,
            13.73,
            12.84,
            13.83,
            12.47,
            11.62,
            13.28,
            12.33,
            14.38,
            12.08,
            12.64,
            13.16,
            12.67,
            12.08,
            13.2,
            11.84,
            12.6,
            12.29,
            13.86,
            13.05
           ]
          },
          {
           "axis": {
            "matches": true
           },
           "label": "malic_acid",
           "values": [
            3.43,
            1.68,
            1.87,
            1.65,
            3.91,
            1.66,
            3.86,
            3.3,
            5.51,
            1.77,
            1.76,
            1.13,
            1.8,
            1.88,
            3.59,
            2.16,
            1.63,
            1.45,
            2.46,
            2.43,
            1.89,
            3.24,
            0.74,
            3.43,
            1.66,
            1.1,
            1.35,
            3.98,
            2.89,
            1.43,
            4.95,
            1.61,
            1.73,
            1.29,
            1.71,
            1.09,
            2.59,
            3.03,
            1.87,
            2.13,
            3.37,
            2.81,
            3.45,
            3.27,
            1.72,
            1.33,
            1.5,
            3.57,
            1.73,
            4.6,
            1.63,
            1.07,
            5.65,
            1.75,
            2.56,
            3.03,
            1.67,
            1.17,
            2.51,
            1.81,
            2.67,
            1.95,
            3.8,
            1.61,
            1.51,
            1.83,
            3.7,
            1.81,
            1.6,
            2.16,
            0.92,
            1.01,
            4.31,
            1.86,
            1.24,
            3.17,
            1.41,
            1.19,
            1.9,
            3.87,
            1.77,
            1.68,
            1.73,
            5.19,
            1.64,
            1.73,
            1.9,
            2.05,
            0.9,
            3.99,
            2.15,
            2.12,
            1.25,
            1.67,
            1.57,
            1.35,
            1.81,
            4.61,
            3.26,
            4.28,
            0.94,
            1.67,
            3.83,
            2.45,
            4.43,
            4.36,
            2.96,
            1.65,
            1.52,
            1.99,
            1.64,
            0.99,
            3.59,
            1.83,
            1.36,
            2.36,
            0.98,
            1.39,
            1.78,
            0.89,
            1.34,
            3.17,
            1.51,
            2.05
           ]
          },
          {
           "axis": {
            "matches": true
           },
           "label": "ash",
           "values": [
            1.98,
            2.12,
            2.38,
            2.55,
            2.48,
            2.36,
            2.32,
            2.28,
            2.64,
            2.1,
            2.45,
            2.16,
            2.65,
            1.92,
            2.19,
            2.17,
            2.3,
            2.53,
            2.2,
            2.17,
            2.59,
            2.38,
            2.5,
            2,
            2.24,
            2.28,
            2.32,
            2.29,
            2.23,
            2.5,
            2.35,
            2.19,
            2.41,
            2.1,
            2.43,
            2.3,
            2.87,
            2.64,
            2.45,
            2.78,
            2.3,
            2.7,
            2.35,
            2.58,
            1.88,
            2.3,
            2.1,
            2.15,
            2.04,
            2.86,
            2.28,
            2.1,
            2.45,
            2.28,
            2.35,
            2.32,
            2.64,
            1.92,
            2.48,
            2.2,
            2.48,
            2.5,
            2.65,
            2.21,
            2.42,
            2.36,
            2.6,
            2.7,
            2.52,
            2.3,
            2,
            1.7,
            2.39,
            2.36,
            2.25,
            2.72,
            1.98,
            1.75,
            2.68,
            2.4,
            2.62,
            2.21,
            1.98,
            2.32,
            2.17,
            2.39,
            2.75,
            3.23,
            1.71,
            2.51,
            2.61,
            2.74,
            1.92,
            2.25,
            2.62,
            2.27,
            2.41,
            2.48,
            2.54,
            2.26,
            1.36,
            2.6,
            2.38,
            2.46,
            2.73,
            2.26,
            2.61,
            2.6,
            2.2,
            2.28,
            2.84,
            1.95,
            2.28,
            2.32,
            2.02,
            2.67,
            2.24,
            2.5,
            2.14,
            2.58,
            1.9,
            2.21,
            2.67,
            3.22
           ]
          },
          {
           "axis": {
            "matches": true
           },
           "label": "alcalinity_of_ash",
           "values": [
            16,
            16,
            12,
            18,
            23,
            19.1,
            22.5,
            18.5,
            25,
            17,
            15.2,
            19,
            19,
            16,
            19.5,
            21,
            24.5,
            19,
            18.5,
            21,
            15,
            21.5,
            21,
            19,
            24,
            16,
            18,
            17.5,
            18,
            16.7,
            20,
            22.5,
            16,
            20,
            15.6,
            21,
            21,
            27,
            14.6,
            28.5,
            19.5,
            21,
            18.5,
            22,
            19.5,
            23.6,
            15.5,
            21,
            12.4,
            25,
            16,
            18.5,
            20.5,
            22.5,
            20,
            19,
            22.5,
            19.6,
            20,
            18.8,
            22,
            16.8,
            18.6,
            20.4,
            22,
            17.2,
            23,
            17.2,
            17.8,
            18,
            19,
            15,
            21,
            16.6,
            17.5,
            23.5,
            16,
            16.8,
            17.1,
            23,
            16.1,
            16,
            20.5,
            22,
            14,
            11.4,
            25.5,
            28.5,
            16,
            13.2,
            17.6,
            21.5,
            18,
            16.4,
            20,
            16,
            20.5,
            21.5,
            20,
            20,
            10.6,
            30,
            21,
            21,
            26.5,
            22.5,
            24,
            17.2,
            19,
            18,
            15.5,
            14.8,
            16,
            18.5,
            16.8,
            18.6,
            18,
            22.5,
            11.2,
            18,
            18.5,
            18,
            25,
            25
           ]
          }
         ],
         "hovertemplate": "%{xaxis.title.text}=%{x}<br>%{yaxis.title.text}=%{y}<br>cluster_index=%{marker.color}<extra></extra>",
         "legendgroup": "",
         "marker": {
          "color": [
           2,
           0,
           0,
           0,
           2,
           0,
           2,
           2,
           2,
           0,
           0,
           1,
           0,
           1,
           2,
           1,
           1,
           1,
           2,
           1,
           0,
           2,
           1,
           1,
           1,
           1,
           2,
           0,
           1,
           0,
           2,
           1,
           0,
           2,
           0,
           1,
           0,
           2,
           0,
           1,
           2,
           2,
           2,
           2,
           1,
           1,
           0,
           2,
           0,
           2,
           0,
           1,
           2,
           1,
           2,
           2,
           2,
           1,
           2,
           1,
           2,
           0,
           0,
           1,
           1,
           0,
           2,
           0,
           0,
           0,
           1,
           1,
           1,
           0,
           2,
           2,
           1,
           0,
           0,
           1,
           0,
           0,
           1,
           2,
           0,
           0,
           2,
           1,
           1,
           0,
           0,
           1,
           1,
           0,
           0,
           0,
           0,
           2,
           2,
           2,
           1,
           0,
           2,
           1,
           1,
           2,
           2,
           0,
           0,
           1,
           0,
           0,
           0,
           1,
           2,
           0,
           1,
           1,
           0,
           1,
           1,
           1,
           1,
           0
          ],
          "coloraxis": "coloraxis",
          "symbol": "circle"
         },
         "name": "",
         "showlegend": false,
         "type": "splom"
        }
       ],
       "layout": {
        "coloraxis": {
         "colorbar": {
          "title": {
           "text": "cluster_index"
          }
         },
         "colorscale": [
          [
           0,
           "#0d0887"
          ],
          [
           0.1111111111111111,
           "#46039f"
          ],
          [
           0.2222222222222222,
           "#7201a8"
          ],
          [
           0.3333333333333333,
           "#9c179e"
          ],
          [
           0.4444444444444444,
           "#bd3786"
          ],
          [
           0.5555555555555556,
           "#d8576b"
          ],
          [
           0.6666666666666666,
           "#ed7953"
          ],
          [
           0.7777777777777778,
           "#fb9f3a"
          ],
          [
           0.8888888888888888,
           "#fdca26"
          ],
          [
           1,
           "#f0f921"
          ]
         ]
        },
        "dragmode": "select",
        "height": 700,
        "legend": {
         "tracegroupgap": 0
        },
        "template": {
         "data": {
          "bar": [
           {
            "error_x": {
             "color": "#2a3f5f"
            },
            "error_y": {
             "color": "#2a3f5f"
            },
            "marker": {
             "line": {
              "color": "#E5ECF6",
              "width": 0.5
             },
             "pattern": {
              "fillmode": "overlay",
              "size": 10,
              "solidity": 0.2
             }
            },
            "type": "bar"
           }
          ],
          "barpolar": [
           {
            "marker": {
             "line": {
              "color": "#E5ECF6",
              "width": 0.5
             },
             "pattern": {
              "fillmode": "overlay",
              "size": 10,
              "solidity": 0.2
             }
            },
            "type": "barpolar"
           }
          ],
          "carpet": [
           {
            "aaxis": {
             "endlinecolor": "#2a3f5f",
             "gridcolor": "white",
             "linecolor": "white",
             "minorgridcolor": "white",
             "startlinecolor": "#2a3f5f"
            },
            "baxis": {
             "endlinecolor": "#2a3f5f",
             "gridcolor": "white",
             "linecolor": "white",
             "minorgridcolor": "white",
             "startlinecolor": "#2a3f5f"
            },
            "type": "carpet"
           }
          ],
          "choropleth": [
           {
            "colorbar": {
             "outlinewidth": 0,
             "ticks": ""
            },
            "type": "choropleth"
           }
          ],
          "contour": [
           {
            "colorbar": {
             "outlinewidth": 0,
             "ticks": ""
            },
            "colorscale": [
             [
              0,
              "#0d0887"
             ],
             [
              0.1111111111111111,
              "#46039f"
             ],
             [
              0.2222222222222222,
              "#7201a8"
             ],
             [
              0.3333333333333333,
              "#9c179e"
             ],
             [
              0.4444444444444444,
              "#bd3786"
             ],
             [
              0.5555555555555556,
              "#d8576b"
             ],
             [
              0.6666666666666666,
              "#ed7953"
             ],
             [
              0.7777777777777778,
              "#fb9f3a"
             ],
             [
              0.8888888888888888,
              "#fdca26"
             ],
             [
              1,
              "#f0f921"
             ]
            ],
            "type": "contour"
           }
          ],
          "contourcarpet": [
           {
            "colorbar": {
             "outlinewidth": 0,
             "ticks": ""
            },
            "type": "contourcarpet"
           }
          ],
          "heatmap": [
           {
            "colorbar": {
             "outlinewidth": 0,
             "ticks": ""
            },
            "colorscale": [
             [
              0,
              "#0d0887"
             ],
             [
              0.1111111111111111,
              "#46039f"
             ],
             [
              0.2222222222222222,
              "#7201a8"
             ],
             [
              0.3333333333333333,
              "#9c179e"
             ],
             [
              0.4444444444444444,
              "#bd3786"
             ],
             [
              0.5555555555555556,
              "#d8576b"
             ],
             [
              0.6666666666666666,
              "#ed7953"
             ],
             [
              0.7777777777777778,
              "#fb9f3a"
             ],
             [
              0.8888888888888888,
              "#fdca26"
             ],
             [
              1,
              "#f0f921"
             ]
            ],
            "type": "heatmap"
           }
          ],
          "heatmapgl": [
           {
            "colorbar": {
             "outlinewidth": 0,
             "ticks": ""
            },
            "colorscale": [
             [
              0,
              "#0d0887"
             ],
             [
              0.1111111111111111,
              "#46039f"
             ],
             [
              0.2222222222222222,
              "#7201a8"
             ],
             [
              0.3333333333333333,
              "#9c179e"
             ],
             [
              0.4444444444444444,
              "#bd3786"
             ],
             [
              0.5555555555555556,
              "#d8576b"
             ],
             [
              0.6666666666666666,
              "#ed7953"
             ],
             [
              0.7777777777777778,
              "#fb9f3a"
             ],
             [
              0.8888888888888888,
              "#fdca26"
             ],
             [
              1,
              "#f0f921"
             ]
            ],
            "type": "heatmapgl"
           }
          ],
          "histogram": [
           {
            "marker": {
             "pattern": {
              "fillmode": "overlay",
              "size": 10,
              "solidity": 0.2
             }
            },
            "type": "histogram"
           }
          ],
          "histogram2d": [
           {
            "colorbar": {
             "outlinewidth": 0,
             "ticks": ""
            },
            "colorscale": [
             [
              0,
              "#0d0887"
             ],
             [
              0.1111111111111111,
              "#46039f"
             ],
             [
              0.2222222222222222,
              "#7201a8"
             ],
             [
              0.3333333333333333,
              "#9c179e"
             ],
             [
              0.4444444444444444,
              "#bd3786"
             ],
             [
              0.5555555555555556,
              "#d8576b"
             ],
             [
              0.6666666666666666,
              "#ed7953"
             ],
             [
              0.7777777777777778,
              "#fb9f3a"
             ],
             [
              0.8888888888888888,
              "#fdca26"
             ],
             [
              1,
              "#f0f921"
             ]
            ],
            "type": "histogram2d"
           }
          ],
          "histogram2dcontour": [
           {
            "colorbar": {
             "outlinewidth": 0,
             "ticks": ""
            },
            "colorscale": [
             [
              0,
              "#0d0887"
             ],
             [
              0.1111111111111111,
              "#46039f"
             ],
             [
              0.2222222222222222,
              "#7201a8"
             ],
             [
              0.3333333333333333,
              "#9c179e"
             ],
             [
              0.4444444444444444,
              "#bd3786"
             ],
             [
              0.5555555555555556,
              "#d8576b"
             ],
             [
              0.6666666666666666,
              "#ed7953"
             ],
             [
              0.7777777777777778,
              "#fb9f3a"
             ],
             [
              0.8888888888888888,
              "#fdca26"
             ],
             [
              1,
              "#f0f921"
             ]
            ],
            "type": "histogram2dcontour"
           }
          ],
          "mesh3d": [
           {
            "colorbar": {
             "outlinewidth": 0,
             "ticks": ""
            },
            "type": "mesh3d"
           }
          ],
          "parcoords": [
           {
            "line": {
             "colorbar": {
              "outlinewidth": 0,
              "ticks": ""
             }
            },
            "type": "parcoords"
           }
          ],
          "pie": [
           {
            "automargin": true,
            "type": "pie"
           }
          ],
          "scatter": [
           {
            "fillpattern": {
             "fillmode": "overlay",
             "size": 10,
             "solidity": 0.2
            },
            "type": "scatter"
           }
          ],
          "scatter3d": [
           {
            "line": {
             "colorbar": {
              "outlinewidth": 0,
              "ticks": ""
             }
            },
            "marker": {
             "colorbar": {
              "outlinewidth": 0,
              "ticks": ""
             }
            },
            "type": "scatter3d"
           }
          ],
          "scattercarpet": [
           {
            "marker": {
             "colorbar": {
              "outlinewidth": 0,
              "ticks": ""
             }
            },
            "type": "scattercarpet"
           }
          ],
          "scattergeo": [
           {
            "marker": {
             "colorbar": {
              "outlinewidth": 0,
              "ticks": ""
             }
            },
            "type": "scattergeo"
           }
          ],
          "scattergl": [
           {
            "marker": {
             "colorbar": {
              "outlinewidth": 0,
              "ticks": ""
             }
            },
            "type": "scattergl"
           }
          ],
          "scattermapbox": [
           {
            "marker": {
             "colorbar": {
              "outlinewidth": 0,
              "ticks": ""
             }
            },
            "type": "scattermapbox"
           }
          ],
          "scatterpolar": [
           {
            "marker": {
             "colorbar": {
              "outlinewidth": 0,
              "ticks": ""
             }
            },
            "type": "scatterpolar"
           }
          ],
          "scatterpolargl": [
           {
            "marker": {
             "colorbar": {
              "outlinewidth": 0,
              "ticks": ""
             }
            },
            "type": "scatterpolargl"
           }
          ],
          "scatterternary": [
           {
            "marker": {
             "colorbar": {
              "outlinewidth": 0,
              "ticks": ""
             }
            },
            "type": "scatterternary"
           }
          ],
          "surface": [
           {
            "colorbar": {
             "outlinewidth": 0,
             "ticks": ""
            },
            "colorscale": [
             [
              0,
              "#0d0887"
             ],
             [
              0.1111111111111111,
              "#46039f"
             ],
             [
              0.2222222222222222,
              "#7201a8"
             ],
             [
              0.3333333333333333,
              "#9c179e"
             ],
             [
              0.4444444444444444,
              "#bd3786"
             ],
             [
              0.5555555555555556,
              "#d8576b"
             ],
             [
              0.6666666666666666,
              "#ed7953"
             ],
             [
              0.7777777777777778,
              "#fb9f3a"
             ],
             [
              0.8888888888888888,
              "#fdca26"
             ],
             [
              1,
              "#f0f921"
             ]
            ],
            "type": "surface"
           }
          ],
          "table": [
           {
            "cells": {
             "fill": {
              "color": "#EBF0F8"
             },
             "line": {
              "color": "white"
             }
            },
            "header": {
             "fill": {
              "color": "#C8D4E3"
             },
             "line": {
              "color": "white"
             }
            },
            "type": "table"
           }
          ]
         },
         "layout": {
          "annotationdefaults": {
           "arrowcolor": "#2a3f5f",
           "arrowhead": 0,
           "arrowwidth": 1
          },
          "autotypenumbers": "strict",
          "coloraxis": {
           "colorbar": {
            "outlinewidth": 0,
            "ticks": ""
           }
          },
          "colorscale": {
           "diverging": [
            [
             0,
             "#8e0152"
            ],
            [
             0.1,
             "#c51b7d"
            ],
            [
             0.2,
             "#de77ae"
            ],
            [
             0.3,
             "#f1b6da"
            ],
            [
             0.4,
             "#fde0ef"
            ],
            [
             0.5,
             "#f7f7f7"
            ],
            [
             0.6,
             "#e6f5d0"
            ],
            [
             0.7,
             "#b8e186"
            ],
            [
             0.8,
             "#7fbc41"
            ],
            [
             0.9,
             "#4d9221"
            ],
            [
             1,
             "#276419"
            ]
           ],
           "sequential": [
            [
             0,
             "#0d0887"
            ],
            [
             0.1111111111111111,
             "#46039f"
            ],
            [
             0.2222222222222222,
             "#7201a8"
            ],
            [
             0.3333333333333333,
             "#9c179e"
            ],
            [
             0.4444444444444444,
             "#bd3786"
            ],
            [
             0.5555555555555556,
             "#d8576b"
            ],
            [
             0.6666666666666666,
             "#ed7953"
            ],
            [
             0.7777777777777778,
             "#fb9f3a"
            ],
            [
             0.8888888888888888,
             "#fdca26"
            ],
            [
             1,
             "#f0f921"
            ]
           ],
           "sequentialminus": [
            [
             0,
             "#0d0887"
            ],
            [
             0.1111111111111111,
             "#46039f"
            ],
            [
             0.2222222222222222,
             "#7201a8"
            ],
            [
             0.3333333333333333,
             "#9c179e"
            ],
            [
             0.4444444444444444,
             "#bd3786"
            ],
            [
             0.5555555555555556,
             "#d8576b"
            ],
            [
             0.6666666666666666,
             "#ed7953"
            ],
            [
             0.7777777777777778,
             "#fb9f3a"
            ],
            [
             0.8888888888888888,
             "#fdca26"
            ],
            [
             1,
             "#f0f921"
            ]
           ]
          },
          "colorway": [
           "#636efa",
           "#EF553B",
           "#00cc96",
           "#ab63fa",
           "#FFA15A",
           "#19d3f3",
           "#FF6692",
           "#B6E880",
           "#FF97FF",
           "#FECB52"
          ],
          "font": {
           "color": "#2a3f5f"
          },
          "geo": {
           "bgcolor": "white",
           "lakecolor": "white",
           "landcolor": "#E5ECF6",
           "showlakes": true,
           "showland": true,
           "subunitcolor": "white"
          },
          "hoverlabel": {
           "align": "left"
          },
          "hovermode": "closest",
          "mapbox": {
           "style": "light"
          },
          "paper_bgcolor": "white",
          "plot_bgcolor": "#E5ECF6",
          "polar": {
           "angularaxis": {
            "gridcolor": "white",
            "linecolor": "white",
            "ticks": ""
           },
           "bgcolor": "#E5ECF6",
           "radialaxis": {
            "gridcolor": "white",
            "linecolor": "white",
            "ticks": ""
           }
          },
          "scene": {
           "xaxis": {
            "backgroundcolor": "#E5ECF6",
            "gridcolor": "white",
            "gridwidth": 2,
            "linecolor": "white",
            "showbackground": true,
            "ticks": "",
            "zerolinecolor": "white"
           },
           "yaxis": {
            "backgroundcolor": "#E5ECF6",
            "gridcolor": "white",
            "gridwidth": 2,
            "linecolor": "white",
            "showbackground": true,
            "ticks": "",
            "zerolinecolor": "white"
           },
           "zaxis": {
            "backgroundcolor": "#E5ECF6",
            "gridcolor": "white",
            "gridwidth": 2,
            "linecolor": "white",
            "showbackground": true,
            "ticks": "",
            "zerolinecolor": "white"
           }
          },
          "shapedefaults": {
           "line": {
            "color": "#2a3f5f"
           }
          },
          "ternary": {
           "aaxis": {
            "gridcolor": "white",
            "linecolor": "white",
            "ticks": ""
           },
           "baxis": {
            "gridcolor": "white",
            "linecolor": "white",
            "ticks": ""
           },
           "bgcolor": "#E5ECF6",
           "caxis": {
            "gridcolor": "white",
            "linecolor": "white",
            "ticks": ""
           }
          },
          "title": {
           "x": 0.05
          },
          "xaxis": {
           "automargin": true,
           "gridcolor": "white",
           "linecolor": "white",
           "ticks": "",
           "title": {
            "standoff": 15
           },
           "zerolinecolor": "white",
           "zerolinewidth": 2
          },
          "yaxis": {
           "automargin": true,
           "gridcolor": "white",
           "linecolor": "white",
           "ticks": "",
           "title": {
            "standoff": 15
           },
           "zerolinecolor": "white",
           "zerolinewidth": 2
          }
         }
        },
        "title": {
         "text": "一部の説明変数ペアを使ったクラスタの確認"
        },
        "width": 800
       }
      }
     },
     "metadata": {},
     "output_type": "display_data"
    }
   ],
   "source": [
    "px.scatter_matrix(result_df, \n",
    "                  dimensions=result_df.columns[:4], \n",
    "                  color=\"cluster_index\",\n",
    "                  height=700,width=800,\n",
    "                  title=\"一部の説明変数ペアを使ったクラスタの確認\"\n",
    "                 )"
   ]
  },
  {
   "cell_type": "markdown",
   "id": "7be38fa1",
   "metadata": {},
   "source": [
    "割り当てたクラスタが色に対応するような可視化を行いました。黄色クラスタとそれ以外に関しては比較的わかりやすい分かれ方をしていますが、青と紫に関してはかぶりが多いようです。"
   ]
  },
  {
   "cell_type": "markdown",
   "id": "a4aa29fd",
   "metadata": {},
   "source": [
    "### エルボー法によるクラスタ数の決定"
   ]
  },
  {
   "cell_type": "markdown",
   "id": "a2fffa1d",
   "metadata": {},
   "source": [
    "もっともらしいクラスタの数はどうやって決めれば良いのでしょうか。ここでは、エルボー法という最もシンプルな方法でのクラスタ数決定に挑戦します。\n",
    "\n",
    "\n",
    "\n",
    "**エルボー法**   \n",
    "Kの値を変えながら、SSE(Sum of Squared errors of prediction, クラスタ内誤差平方和)をプロットする。SSEが急激に減少した点（Elbow（エルボー、肘）のように折れ線がカクッと折れ曲がる点）がより良いクラスタ数である。\n",
    "\n",
    "<u>SSEはデータ点からクラスタ重心までの距離の合計を凝集度とします</u>。  \n",
    "それを全クラスタに関して計算し足し合わせます。  \n",
    "足し合わせた値を歪み(distortion)と言っているところが多いです。  \n",
    "\n",
    "sklearnではSSEをself.inertia_として持っています。これを使ってエルボー法を試します。"
   ]
  },
  {
   "cell_type": "code",
   "execution_count": 20,
   "id": "9e4b180e",
   "metadata": {},
   "outputs": [],
   "source": [
    "score_df = {\"num_cluster\":[], \"cluster inertia (SSE)\":[]}\n",
    "for i in range(2,20):\n",
    "    skmodel = KMeans(n_clusters=i, random_state=SEED)\n",
    "    skmodel.fit(scaled_X_train)\n",
    "    score_df[\"num_cluster\"] += [i]\n",
    "    score_df[\"cluster inertia (SSE)\"] += [skmodel.inertia_]"
   ]
  },
  {
   "cell_type": "code",
   "execution_count": 21,
   "id": "5d79fb58",
   "metadata": {},
   "outputs": [
    {
     "data": {
      "application/vnd.plotly.v1+json": {
       "config": {
        "plotlyServerURL": "https://plot.ly"
       },
       "data": [
        {
         "hovertemplate": "num_cluster=%{x}<br>cluster inertia (SSE)=%{y}<extra></extra>",
         "legendgroup": "",
         "line": {
          "color": "#636efa",
          "dash": "solid"
         },
         "marker": {
          "symbol": "circle"
         },
         "mode": "lines",
         "name": "",
         "orientation": "v",
         "showlegend": false,
         "type": "scatter",
         "x": [
          2,
          3,
          4,
          5,
          6,
          7,
          8,
          9,
          10,
          11,
          12,
          13,
          14,
          15,
          16,
          17,
          18,
          19
         ],
         "xaxis": "x",
         "y": [
          1137.5378239525764,
          888.5875880186401,
          804.8618134792573,
          788.4600381300962,
          697.7724229368037,
          680.0137629063412,
          660.927132966293,
          615.6233333759283,
          578.3609705718478,
          546.0104581208676,
          538.4216414808816,
          522.5542875906325,
          505.547314320875,
          483.9876818675134,
          469.01607030526486,
          443.8643236593586,
          428.98552930141904,
          410.13897855483265
         ],
         "yaxis": "y"
        }
       ],
       "layout": {
        "legend": {
         "tracegroupgap": 0
        },
        "template": {
         "data": {
          "bar": [
           {
            "error_x": {
             "color": "#2a3f5f"
            },
            "error_y": {
             "color": "#2a3f5f"
            },
            "marker": {
             "line": {
              "color": "#E5ECF6",
              "width": 0.5
             },
             "pattern": {
              "fillmode": "overlay",
              "size": 10,
              "solidity": 0.2
             }
            },
            "type": "bar"
           }
          ],
          "barpolar": [
           {
            "marker": {
             "line": {
              "color": "#E5ECF6",
              "width": 0.5
             },
             "pattern": {
              "fillmode": "overlay",
              "size": 10,
              "solidity": 0.2
             }
            },
            "type": "barpolar"
           }
          ],
          "carpet": [
           {
            "aaxis": {
             "endlinecolor": "#2a3f5f",
             "gridcolor": "white",
             "linecolor": "white",
             "minorgridcolor": "white",
             "startlinecolor": "#2a3f5f"
            },
            "baxis": {
             "endlinecolor": "#2a3f5f",
             "gridcolor": "white",
             "linecolor": "white",
             "minorgridcolor": "white",
             "startlinecolor": "#2a3f5f"
            },
            "type": "carpet"
           }
          ],
          "choropleth": [
           {
            "colorbar": {
             "outlinewidth": 0,
             "ticks": ""
            },
            "type": "choropleth"
           }
          ],
          "contour": [
           {
            "colorbar": {
             "outlinewidth": 0,
             "ticks": ""
            },
            "colorscale": [
             [
              0,
              "#0d0887"
             ],
             [
              0.1111111111111111,
              "#46039f"
             ],
             [
              0.2222222222222222,
              "#7201a8"
             ],
             [
              0.3333333333333333,
              "#9c179e"
             ],
             [
              0.4444444444444444,
              "#bd3786"
             ],
             [
              0.5555555555555556,
              "#d8576b"
             ],
             [
              0.6666666666666666,
              "#ed7953"
             ],
             [
              0.7777777777777778,
              "#fb9f3a"
             ],
             [
              0.8888888888888888,
              "#fdca26"
             ],
             [
              1,
              "#f0f921"
             ]
            ],
            "type": "contour"
           }
          ],
          "contourcarpet": [
           {
            "colorbar": {
             "outlinewidth": 0,
             "ticks": ""
            },
            "type": "contourcarpet"
           }
          ],
          "heatmap": [
           {
            "colorbar": {
             "outlinewidth": 0,
             "ticks": ""
            },
            "colorscale": [
             [
              0,
              "#0d0887"
             ],
             [
              0.1111111111111111,
              "#46039f"
             ],
             [
              0.2222222222222222,
              "#7201a8"
             ],
             [
              0.3333333333333333,
              "#9c179e"
             ],
             [
              0.4444444444444444,
              "#bd3786"
             ],
             [
              0.5555555555555556,
              "#d8576b"
             ],
             [
              0.6666666666666666,
              "#ed7953"
             ],
             [
              0.7777777777777778,
              "#fb9f3a"
             ],
             [
              0.8888888888888888,
              "#fdca26"
             ],
             [
              1,
              "#f0f921"
             ]
            ],
            "type": "heatmap"
           }
          ],
          "heatmapgl": [
           {
            "colorbar": {
             "outlinewidth": 0,
             "ticks": ""
            },
            "colorscale": [
             [
              0,
              "#0d0887"
             ],
             [
              0.1111111111111111,
              "#46039f"
             ],
             [
              0.2222222222222222,
              "#7201a8"
             ],
             [
              0.3333333333333333,
              "#9c179e"
             ],
             [
              0.4444444444444444,
              "#bd3786"
             ],
             [
              0.5555555555555556,
              "#d8576b"
             ],
             [
              0.6666666666666666,
              "#ed7953"
             ],
             [
              0.7777777777777778,
              "#fb9f3a"
             ],
             [
              0.8888888888888888,
              "#fdca26"
             ],
             [
              1,
              "#f0f921"
             ]
            ],
            "type": "heatmapgl"
           }
          ],
          "histogram": [
           {
            "marker": {
             "pattern": {
              "fillmode": "overlay",
              "size": 10,
              "solidity": 0.2
             }
            },
            "type": "histogram"
           }
          ],
          "histogram2d": [
           {
            "colorbar": {
             "outlinewidth": 0,
             "ticks": ""
            },
            "colorscale": [
             [
              0,
              "#0d0887"
             ],
             [
              0.1111111111111111,
              "#46039f"
             ],
             [
              0.2222222222222222,
              "#7201a8"
             ],
             [
              0.3333333333333333,
              "#9c179e"
             ],
             [
              0.4444444444444444,
              "#bd3786"
             ],
             [
              0.5555555555555556,
              "#d8576b"
             ],
             [
              0.6666666666666666,
              "#ed7953"
             ],
             [
              0.7777777777777778,
              "#fb9f3a"
             ],
             [
              0.8888888888888888,
              "#fdca26"
             ],
             [
              1,
              "#f0f921"
             ]
            ],
            "type": "histogram2d"
           }
          ],
          "histogram2dcontour": [
           {
            "colorbar": {
             "outlinewidth": 0,
             "ticks": ""
            },
            "colorscale": [
             [
              0,
              "#0d0887"
             ],
             [
              0.1111111111111111,
              "#46039f"
             ],
             [
              0.2222222222222222,
              "#7201a8"
             ],
             [
              0.3333333333333333,
              "#9c179e"
             ],
             [
              0.4444444444444444,
              "#bd3786"
             ],
             [
              0.5555555555555556,
              "#d8576b"
             ],
             [
              0.6666666666666666,
              "#ed7953"
             ],
             [
              0.7777777777777778,
              "#fb9f3a"
             ],
             [
              0.8888888888888888,
              "#fdca26"
             ],
             [
              1,
              "#f0f921"
             ]
            ],
            "type": "histogram2dcontour"
           }
          ],
          "mesh3d": [
           {
            "colorbar": {
             "outlinewidth": 0,
             "ticks": ""
            },
            "type": "mesh3d"
           }
          ],
          "parcoords": [
           {
            "line": {
             "colorbar": {
              "outlinewidth": 0,
              "ticks": ""
             }
            },
            "type": "parcoords"
           }
          ],
          "pie": [
           {
            "automargin": true,
            "type": "pie"
           }
          ],
          "scatter": [
           {
            "fillpattern": {
             "fillmode": "overlay",
             "size": 10,
             "solidity": 0.2
            },
            "type": "scatter"
           }
          ],
          "scatter3d": [
           {
            "line": {
             "colorbar": {
              "outlinewidth": 0,
              "ticks": ""
             }
            },
            "marker": {
             "colorbar": {
              "outlinewidth": 0,
              "ticks": ""
             }
            },
            "type": "scatter3d"
           }
          ],
          "scattercarpet": [
           {
            "marker": {
             "colorbar": {
              "outlinewidth": 0,
              "ticks": ""
             }
            },
            "type": "scattercarpet"
           }
          ],
          "scattergeo": [
           {
            "marker": {
             "colorbar": {
              "outlinewidth": 0,
              "ticks": ""
             }
            },
            "type": "scattergeo"
           }
          ],
          "scattergl": [
           {
            "marker": {
             "colorbar": {
              "outlinewidth": 0,
              "ticks": ""
             }
            },
            "type": "scattergl"
           }
          ],
          "scattermapbox": [
           {
            "marker": {
             "colorbar": {
              "outlinewidth": 0,
              "ticks": ""
             }
            },
            "type": "scattermapbox"
           }
          ],
          "scatterpolar": [
           {
            "marker": {
             "colorbar": {
              "outlinewidth": 0,
              "ticks": ""
             }
            },
            "type": "scatterpolar"
           }
          ],
          "scatterpolargl": [
           {
            "marker": {
             "colorbar": {
              "outlinewidth": 0,
              "ticks": ""
             }
            },
            "type": "scatterpolargl"
           }
          ],
          "scatterternary": [
           {
            "marker": {
             "colorbar": {
              "outlinewidth": 0,
              "ticks": ""
             }
            },
            "type": "scatterternary"
           }
          ],
          "surface": [
           {
            "colorbar": {
             "outlinewidth": 0,
             "ticks": ""
            },
            "colorscale": [
             [
              0,
              "#0d0887"
             ],
             [
              0.1111111111111111,
              "#46039f"
             ],
             [
              0.2222222222222222,
              "#7201a8"
             ],
             [
              0.3333333333333333,
              "#9c179e"
             ],
             [
              0.4444444444444444,
              "#bd3786"
             ],
             [
              0.5555555555555556,
              "#d8576b"
             ],
             [
              0.6666666666666666,
              "#ed7953"
             ],
             [
              0.7777777777777778,
              "#fb9f3a"
             ],
             [
              0.8888888888888888,
              "#fdca26"
             ],
             [
              1,
              "#f0f921"
             ]
            ],
            "type": "surface"
           }
          ],
          "table": [
           {
            "cells": {
             "fill": {
              "color": "#EBF0F8"
             },
             "line": {
              "color": "white"
             }
            },
            "header": {
             "fill": {
              "color": "#C8D4E3"
             },
             "line": {
              "color": "white"
             }
            },
            "type": "table"
           }
          ]
         },
         "layout": {
          "annotationdefaults": {
           "arrowcolor": "#2a3f5f",
           "arrowhead": 0,
           "arrowwidth": 1
          },
          "autotypenumbers": "strict",
          "coloraxis": {
           "colorbar": {
            "outlinewidth": 0,
            "ticks": ""
           }
          },
          "colorscale": {
           "diverging": [
            [
             0,
             "#8e0152"
            ],
            [
             0.1,
             "#c51b7d"
            ],
            [
             0.2,
             "#de77ae"
            ],
            [
             0.3,
             "#f1b6da"
            ],
            [
             0.4,
             "#fde0ef"
            ],
            [
             0.5,
             "#f7f7f7"
            ],
            [
             0.6,
             "#e6f5d0"
            ],
            [
             0.7,
             "#b8e186"
            ],
            [
             0.8,
             "#7fbc41"
            ],
            [
             0.9,
             "#4d9221"
            ],
            [
             1,
             "#276419"
            ]
           ],
           "sequential": [
            [
             0,
             "#0d0887"
            ],
            [
             0.1111111111111111,
             "#46039f"
            ],
            [
             0.2222222222222222,
             "#7201a8"
            ],
            [
             0.3333333333333333,
             "#9c179e"
            ],
            [
             0.4444444444444444,
             "#bd3786"
            ],
            [
             0.5555555555555556,
             "#d8576b"
            ],
            [
             0.6666666666666666,
             "#ed7953"
            ],
            [
             0.7777777777777778,
             "#fb9f3a"
            ],
            [
             0.8888888888888888,
             "#fdca26"
            ],
            [
             1,
             "#f0f921"
            ]
           ],
           "sequentialminus": [
            [
             0,
             "#0d0887"
            ],
            [
             0.1111111111111111,
             "#46039f"
            ],
            [
             0.2222222222222222,
             "#7201a8"
            ],
            [
             0.3333333333333333,
             "#9c179e"
            ],
            [
             0.4444444444444444,
             "#bd3786"
            ],
            [
             0.5555555555555556,
             "#d8576b"
            ],
            [
             0.6666666666666666,
             "#ed7953"
            ],
            [
             0.7777777777777778,
             "#fb9f3a"
            ],
            [
             0.8888888888888888,
             "#fdca26"
            ],
            [
             1,
             "#f0f921"
            ]
           ]
          },
          "colorway": [
           "#636efa",
           "#EF553B",
           "#00cc96",
           "#ab63fa",
           "#FFA15A",
           "#19d3f3",
           "#FF6692",
           "#B6E880",
           "#FF97FF",
           "#FECB52"
          ],
          "font": {
           "color": "#2a3f5f"
          },
          "geo": {
           "bgcolor": "white",
           "lakecolor": "white",
           "landcolor": "#E5ECF6",
           "showlakes": true,
           "showland": true,
           "subunitcolor": "white"
          },
          "hoverlabel": {
           "align": "left"
          },
          "hovermode": "closest",
          "mapbox": {
           "style": "light"
          },
          "paper_bgcolor": "white",
          "plot_bgcolor": "#E5ECF6",
          "polar": {
           "angularaxis": {
            "gridcolor": "white",
            "linecolor": "white",
            "ticks": ""
           },
           "bgcolor": "#E5ECF6",
           "radialaxis": {
            "gridcolor": "white",
            "linecolor": "white",
            "ticks": ""
           }
          },
          "scene": {
           "xaxis": {
            "backgroundcolor": "#E5ECF6",
            "gridcolor": "white",
            "gridwidth": 2,
            "linecolor": "white",
            "showbackground": true,
            "ticks": "",
            "zerolinecolor": "white"
           },
           "yaxis": {
            "backgroundcolor": "#E5ECF6",
            "gridcolor": "white",
            "gridwidth": 2,
            "linecolor": "white",
            "showbackground": true,
            "ticks": "",
            "zerolinecolor": "white"
           },
           "zaxis": {
            "backgroundcolor": "#E5ECF6",
            "gridcolor": "white",
            "gridwidth": 2,
            "linecolor": "white",
            "showbackground": true,
            "ticks": "",
            "zerolinecolor": "white"
           }
          },
          "shapedefaults": {
           "line": {
            "color": "#2a3f5f"
           }
          },
          "ternary": {
           "aaxis": {
            "gridcolor": "white",
            "linecolor": "white",
            "ticks": ""
           },
           "baxis": {
            "gridcolor": "white",
            "linecolor": "white",
            "ticks": ""
           },
           "bgcolor": "#E5ECF6",
           "caxis": {
            "gridcolor": "white",
            "linecolor": "white",
            "ticks": ""
           }
          },
          "title": {
           "x": 0.05
          },
          "xaxis": {
           "automargin": true,
           "gridcolor": "white",
           "linecolor": "white",
           "ticks": "",
           "title": {
            "standoff": 15
           },
           "zerolinecolor": "white",
           "zerolinewidth": 2
          },
          "yaxis": {
           "automargin": true,
           "gridcolor": "white",
           "linecolor": "white",
           "ticks": "",
           "title": {
            "standoff": 15
           },
           "zerolinecolor": "white",
           "zerolinewidth": 2
          }
         }
        },
        "title": {
         "text": "エルボー法: クラスタ数とクラスタ内誤差平方和（SSE）の関係"
        },
        "xaxis": {
         "anchor": "y",
         "domain": [
          0,
          1
         ],
         "title": {
          "text": "num_cluster"
         }
        },
        "yaxis": {
         "anchor": "x",
         "domain": [
          0,
          1
         ],
         "title": {
          "text": "cluster inertia (SSE)"
         }
        }
       }
      }
     },
     "metadata": {},
     "output_type": "display_data"
    }
   ],
   "source": [
    "px.line(score_df, \n",
    "        x=\"num_cluster\", y=\"cluster inertia (SSE)\",\n",
    "        title=\"エルボー法: クラスタ数とクラスタ内誤差平方和（SSE）の関係\",\n",
    "       )"
   ]
  },
  {
   "cell_type": "markdown",
   "id": "c7a41b7b",
   "metadata": {},
   "source": [
    "ここではk=3が良さそうだとわかります。"
   ]
  },
  {
   "cell_type": "code",
   "execution_count": 22,
   "id": "7ddc4a9a",
   "metadata": {},
   "outputs": [
    {
     "data": {
      "text/plain": [
       "array([[6.55874475, 4.18748589, 7.48529467, ..., 4.80866115, 6.61572635,\n",
       "        5.26553473],\n",
       "       [6.45395404, 6.99780301, 5.46578485, ..., 6.74317749, 6.1764118 ,\n",
       "        6.96826739],\n",
       "       [6.65194357, 5.30732135, 3.08178342, ..., 6.36043976, 2.87516042,\n",
       "        7.43434015],\n",
       "       ...,\n",
       "       [2.53297739, 3.61712581, 5.50516809, ..., 3.90846158, 4.34940304,\n",
       "        4.72671423],\n",
       "       [1.27874731, 4.93845711, 6.44699755, ..., 4.09845814, 5.83402466,\n",
       "        4.68153257],\n",
       "       [6.07682719, 5.73098528, 3.90684894, ..., 5.94310883, 4.07570302,\n",
       "        6.61594602]])"
      ]
     },
     "execution_count": 22,
     "metadata": {},
     "output_type": "execute_result"
    }
   ],
   "source": [
    "skmodel.transform(scaled_X_test)"
   ]
  },
  {
   "cell_type": "markdown",
   "id": "5ab76fbd",
   "metadata": {},
   "source": [
    "## k-MeansのNumpyによる実装\n",
    "\n",
    "このセクションではk-NNをNumPyを使って実装してもらいます。"
   ]
  },
  {
   "cell_type": "markdown",
   "id": "b6e7d0a3",
   "metadata": {},
   "source": [
    "### k-Meansクラス実装のヒント"
   ]
  },
  {
   "cell_type": "markdown",
   "id": "dba1023e",
   "metadata": {},
   "source": [
    "k-Meansクラスの雛形を示します。"
   ]
  },
  {
   "cell_type": "code",
   "execution_count": 34,
   "id": "707a3dcb",
   "metadata": {},
   "outputs": [],
   "source": [
    "class KMeansClustering():\n",
    "    def __init__(self,k, max_iter, delta, seed=1000):\n",
    "        \"\"\"初期化\n",
    "\n",
    "        Parameters\n",
    "        ----------\n",
    "        k : int, optional\n",
    "            クラスタ数, by default 3\n",
    "        max_iter : int, optional\n",
    "            最大更新回数, by default 100\n",
    "        delta : float, optional\n",
    "            許容誤差, by default 1e-15\n",
    "        seed : int, optional\n",
    "            疑似乱数シード, by default None.\n",
    "            Noneなら[0,2**20)の範囲でランダムにSEEDを生成\n",
    "        \"\"\"\n",
    "        ...\n",
    "        self.is_fitted = False\n",
    "        \n",
    "        \n",
    "    def fit(self, X,y=None):\n",
    "        self.inertia_ = ... # クラスタ内SSEを保存しましょう。\n",
    "        ...\n",
    "        return self\n",
    "    \n",
    "    def predict(self,X:np.ndarray)->np.ndarray:\n",
    "        # 入力データに対してクラスタを割り当てる\n",
    "        pred_labels = ...\n",
    "        return pred_labels\n",
    "    \n",
    "    def transform(self, X:np.ndarray)->np.ndarray:\n",
    "        \"\"\"入力データとすべてのクラスタ重心との距離を計算し、行列として返す\n",
    "\n",
    "        Parameters\n",
    "        ----------\n",
    "        X : np.ndarray\n",
    "            入力データ Shape(n_data, n_features)\n",
    "\n",
    "        Returns\n",
    "        -------\n",
    "        embedded\n",
    "            Shape(n_data, self.k)\n",
    "        \"\"\"\n",
    "        embedded = ...\n",
    "        return embedded"
   ]
  },
  {
   "cell_type": "markdown",
   "id": "cf5fdbe6",
   "metadata": {},
   "source": [
    "### [基礎]以下の要点を満たすように、`KMeansClustering`クラスを修正してk-Meansを実装してください。"
   ]
  },
  {
   "cell_type": "markdown",
   "id": "80408b36",
   "metadata": {},
   "source": [
    "`__init__`について\n",
    "\n",
    "1. docstringを参考に引数の表記を修正 (ex. `seed:int=1000`) \n",
    "1. すべての引数を同様の名前のインスタンス変数として束縛\n",
    "1. クラス内からは`self.rng`の名前でnumpyの乱数生成器インスタンスにアクセスできるようにする\n",
    "\n",
    "\n",
    "`fit`について\n",
    "1. クラスタ内SSEをself.inertia_に保存する\n",
    "1. データ点と各クラスタの暫定重心とのユークリッド距離を基準に訓練を行う\n",
    "1. t時点の重心とt-1時点の重心のユークリッド距離がself.delta以下になったら訓練終了\n",
    "\n",
    "`transform`について\n",
    "1. Xのdtypeとembeddedのdtypeを揃える\n",
    "1. このメソッドは`fit`が実行されていないのに呼び出された場合、警告する\n",
    "1. このメソッドの入力Xがfitの入力Xと異なる次元数（特徴数）である場合、警告する\n"
   ]
  },
  {
   "cell_type": "markdown",
   "id": "b1bb3172",
   "metadata": {},
   "source": [
    "#### KMeansClustering クラスの実装例\n",
    "\n",
    "上の問題の回答にあたる，KMeansClusteringクラスの実装例を示します．"
   ]
  },
  {
   "cell_type": "code",
   "execution_count": 67,
   "id": "65054a65",
   "metadata": {
    "tags": [
     "hide-input"
    ]
   },
   "outputs": [
    {
     "name": "stdout",
     "output_type": "stream",
     "text": [
      "[0 1 1 1 0 1 0 0 0 1 1 2 1 2 0 2 2 2 0 2 1 0 2 2 2 2 0 1 2 1 0 2 1 0 1 2 1\n",
      " 0 1 2 0 0 0 0 2 2 1 0 1 0 1 2 0 2 0 0 0 2 0 2 0 1 1 2 2 1 0 1 1 1 2 2 2 1\n",
      " 0 0 2 2 1 2 1 1 2 0 1 1 0 2 2 1 1 2 2 1 1 1 1 0 0 0 2 1 0 2 2 0 0 1 1 2 1\n",
      " 2 1 2 0 1 2 2 1 2 2 2 2 1]\n"
     ]
    },
    {
     "data": {
      "application/vnd.plotly.v1+json": {
       "config": {
        "plotlyServerURL": "https://plot.ly"
       },
       "data": [
        {
         "hovertemplate": "epoch=0<br>PC1=%{x}<br>PC2=%{y}<br>cluster_index=%{marker.color}<extra></extra>",
         "legendgroup": "",
         "marker": {
          "color": [
           2,
           0,
           1,
           0,
           0,
           1,
           2,
           0,
           1,
           1,
           1,
           1,
           2,
           0,
           2,
           0,
           2,
           2,
           0,
           1,
           1,
           0,
           2,
           2,
           0,
           0,
           0,
           2,
           2,
           2,
           0,
           2,
           1,
           0,
           1,
           1,
           1,
           0,
           2,
           2,
           0,
           2,
           2,
           2,
           1,
           0,
           2,
           0,
           0,
           0,
           2,
           0,
           0,
           1,
           1,
           1,
           2,
           0,
           0,
           2,
           1,
           2,
           1,
           1,
           0,
           1,
           2,
           1,
           2,
           1,
           2,
           1,
           1,
           2,
           0,
           1,
           2,
           2,
           0,
           1,
           0,
           0,
           0,
           0,
           1,
           0,
           2,
           2,
           1,
           2,
           0,
           0,
           2,
           0,
           1,
           0,
           2,
           0,
           1,
           2,
           2,
           2,
           1,
           0,
           0,
           1,
           1,
           1,
           2,
           2,
           0,
           1,
           2,
           2,
           0,
           2,
           2,
           2,
           1,
           2,
           2,
           2,
           2,
           2
          ],
          "coloraxis": "coloraxis",
          "symbol": "circle"
         },
         "mode": "markers",
         "name": "",
         "orientation": "v",
         "showlegend": false,
         "type": "scatter",
         "x": [
          -2.4934497413760304,
          2.7557130367555893,
          4.2022653229136635,
          1.0648084662515207,
          -2.671434776660838,
          2.603796327446539,
          -2.594721718550969,
          -2.926243914996834,
          -4.014021740902897,
          2.0096248591756325,
          2.921833885417049,
          2.06077989750281,
          1.3521981737482542,
          -0.9099797047670538,
          -3.1495257450395564,
          -0.1352034074895759,
          -0.4795479964860858,
          -0.6327671243370174,
          -3.2007366448118697,
          -0.2707031271748899,
          2.977767617379,
          -2.8970077421526073,
          -0.506145161419109,
          -0.5748117673341143,
          -0.6617437900113853,
          -1.6405271689404637,
          -1.4107734345113365,
          0.37685481161784284,
          -1.5553428383112766,
          3.023942608828664,
          -2.3992319444230237,
          -0.10876941070746268,
          2.0637728577409327,
          -2.865932965634858,
          3.2201994760265746,
          1.8102472730912709,
          0.9215792964285674,
          -3.5016429008537586,
          2.3908772300881753,
          -1.6420551617279342,
          -3.022336266207958,
          -2.8554580282287683,
          -2.6976095163582214,
          -2.939596729803179,
          -0.6798386314844405,
          -0.5177256132455116,
          1.4550098160453169,
          -2.695897920023748,
          3.134554931466901,
          -2.4443632633778773,
          3.054242074816373,
          2.2031209178619635,
          -3.467624560948888,
          -1.6377276621190981,
          -2.324776425480508,
          -3.306769339442557,
          -1.721009636018667,
          0.21279574804160636,
          -2.537280315191168,
          1.0385658914597584,
          -2.6733320758943955,
          3.6320996994575987,
          1.034166382295299,
          -1.626165311623221,
          -1.5876155861399532,
          1.5775737697560925,
          -2.4955322242943216,
          2.213010758305895,
          1.6015640030765623,
          3.444874454124993,
          0.8048017173046709,
          2.2493912393929474,
          0.9446011549225045,
          2.4984337210522862,
          -2.479847151627778,
          -3.003545669948948,
          1.0281202295890681,
          1.9376143187998096,
          2.1029530678928228,
          0.36719938353427717,
          1.6691215417534309,
          2.2351038922547324,
          0.4078648360968305,
          -3.7204576512888368,
          2.4768051822979675,
          3.378476495141127,
          -1.8724819474680459,
          1.1720329577978066,
          0.4028292135918978,
          2.4133722885230977,
          1.9700201723268733,
          -0.6060138707251654,
          0.0636573084565147,
          2.055492670166884,
          1.798485052409815,
          2.6923171025652093,
          1.8767710594927993,
          -3.681216332535182,
          -2.300360824555153,
          -2.831654564478887,
          -0.945470338317009,
          2.5826622770235157,
          -3.265957038234608,
          -0.21584186374940467,
          -1.1987005080851305,
          -3.550928668270723,
          -2.4257611141863293,
          2.835532306583564,
          2.420108868704765,
          0.9357310918267011,
          1.2749894177429792,
          1.1412270820743513,
          2.67788704655042,
          -1.38908637042265,
          -1.933580559557834,
          2.4253613256407114,
          0.7948882747893435,
          -0.5276444538622875,
          2.108774431487832,
          0.7656555832914669,
          -0.5270043998813982,
          1.3993508524900078,
          1.775221623402144,
          0.9078379876071792
         ],
         "xaxis": "x",
         "y": [
          1.2447481742928912,
          -0.7705994269838928,
          -2.357492672484804,
          -0.12555570578365674,
          -1.8392386942989023,
          -1.5834174764049622,
          -0.14182857616895117,
          -2.301552042894497,
          -0.877128941855077,
          -0.014606770189128895,
          -2.249749384005215,
          1.892140800633152,
          -0.7100865021041488,
          2.6281848800521743,
          -0.4246225179026076,
          1.9903754195292667,
          1.836107640150195,
          2.0663908323643123,
          -0.35817978268738093,
          1.9219557838596488,
          -1.2912145802259305,
          -1.661331287292168,
          2.298805111884783,
          2.07672709681336,
          1.0787918021752796,
          1.5825741462529035,
          0.22296953192230012,
          -0.48611547736903893,
          1.502962061982527,
          -1.8276877244920622,
          -0.6171125000316329,
          2.003471635671958,
          -0.8284057265912756,
          -0.314051918647423,
          -1.525480844645019,
          1.3132146037849308,
          -0.9662792827319789,
          -1.4730042825667236,
          -1.3667649027990576,
          1.015822732841161,
          -1.3337788410589093,
          -0.317711107273334,
          -0.6168741803212815,
          -0.5947146931004221,
          2.71012646367616,
          2.4983601452047273,
          0.818987339892884,
          -0.5573257497003908,
          -0.3283764754148374,
          -2.651032734678997,
          -0.7938548127405414,
          1.3563195254103395,
          -2.4276342998045877,
          1.277887210378588,
          -0.36965876255637914,
          0.34189884151211514,
          -2.642236162111409,
          2.4066966269376735,
          -2.2575227095438035,
          1.3631085495107935,
          -1.930371925783633,
          -2.978632934216291,
          -0.4545392787847557,
          1.0299729671349518,
          1.7873296708749962,
          -0.14154186195961044,
          -2.6503999477235554,
          -1.7172310332233258,
          0.42389732209797665,
          -1.4897118870806818,
          3.43135142617868,
          1.7675653750419564,
          1.0424027203680009,
          -0.041759617708311964,
          0.47684923147595043,
          -0.49236172336423684,
          2.5782139981352654,
          1.7542776316291229,
          -1.9813340941980635,
          0.8027167612922286,
          -0.846343031682379,
          -0.32332279604813924,
          2.0041043724638588,
          -2.056603891936218,
          -1.004888744737959,
          -1.3925435590052202,
          -1.3911012137510896,
          -0.5193368525342545,
          2.2910025220434362,
          -1.896793779677866,
          -1.6505988623608843,
          0.6559673788522935,
          1.4201294649462488,
          -0.9834053182790684,
          -1.7034187333521946,
          -0.9176884333717319,
          -0.3178481855740449,
          -1.4433260646015904,
          -1.1392574053180573,
          -2.7649100263453117,
          3.449384897093548,
          -0.2501402658485063,
          -0.8611585019533458,
          1.0829168289603956,
          0.4245726058097903,
          -1.0174910203045742,
          -0.3335832076550274,
          -0.9369598802333218,
          0.013399142244218202,
          2.2979045895130215,
          -0.6411934315040021,
          0.9877835291580429,
          -1.4540335696539164,
          2.0618401145858147,
          1.0216079007274734,
          -1.31407181101088,
          2.114528816709095,
          1.8497435783770917,
          0.33282678264147475,
          1.4423705597264098,
          2.3880228155978913,
          1.9079604490196063,
          0.8246278984864165,
          -1.073767867676914
         ],
         "yaxis": "y"
        }
       ],
       "frames": [
        {
         "data": [
          {
           "hovertemplate": "epoch=0<br>PC1=%{x}<br>PC2=%{y}<br>cluster_index=%{marker.color}<extra></extra>",
           "legendgroup": "",
           "marker": {
            "color": [
             2,
             0,
             1,
             0,
             0,
             1,
             2,
             0,
             1,
             1,
             1,
             1,
             2,
             0,
             2,
             0,
             2,
             2,
             0,
             1,
             1,
             0,
             2,
             2,
             0,
             0,
             0,
             2,
             2,
             2,
             0,
             2,
             1,
             0,
             1,
             1,
             1,
             0,
             2,
             2,
             0,
             2,
             2,
             2,
             1,
             0,
             2,
             0,
             0,
             0,
             2,
             0,
             0,
             1,
             1,
             1,
             2,
             0,
             0,
             2,
             1,
             2,
             1,
             1,
             0,
             1,
             2,
             1,
             2,
             1,
             2,
             1,
             1,
             2,
             0,
             1,
             2,
             2,
             0,
             1,
             0,
             0,
             0,
             0,
             1,
             0,
             2,
             2,
             1,
             2,
             0,
             0,
             2,
             0,
             1,
             0,
             2,
             0,
             1,
             2,
             2,
             2,
             1,
             0,
             0,
             1,
             1,
             1,
             2,
             2,
             0,
             1,
             2,
             2,
             0,
             2,
             2,
             2,
             1,
             2,
             2,
             2,
             2,
             2
            ],
            "coloraxis": "coloraxis",
            "symbol": "circle"
           },
           "mode": "markers",
           "name": "",
           "orientation": "v",
           "showlegend": false,
           "type": "scatter",
           "x": [
            -2.4934497413760304,
            2.7557130367555893,
            4.2022653229136635,
            1.0648084662515207,
            -2.671434776660838,
            2.603796327446539,
            -2.594721718550969,
            -2.926243914996834,
            -4.014021740902897,
            2.0096248591756325,
            2.921833885417049,
            2.06077989750281,
            1.3521981737482542,
            -0.9099797047670538,
            -3.1495257450395564,
            -0.1352034074895759,
            -0.4795479964860858,
            -0.6327671243370174,
            -3.2007366448118697,
            -0.2707031271748899,
            2.977767617379,
            -2.8970077421526073,
            -0.506145161419109,
            -0.5748117673341143,
            -0.6617437900113853,
            -1.6405271689404637,
            -1.4107734345113365,
            0.37685481161784284,
            -1.5553428383112766,
            3.023942608828664,
            -2.3992319444230237,
            -0.10876941070746268,
            2.0637728577409327,
            -2.865932965634858,
            3.2201994760265746,
            1.8102472730912709,
            0.9215792964285674,
            -3.5016429008537586,
            2.3908772300881753,
            -1.6420551617279342,
            -3.022336266207958,
            -2.8554580282287683,
            -2.6976095163582214,
            -2.939596729803179,
            -0.6798386314844405,
            -0.5177256132455116,
            1.4550098160453169,
            -2.695897920023748,
            3.134554931466901,
            -2.4443632633778773,
            3.054242074816373,
            2.2031209178619635,
            -3.467624560948888,
            -1.6377276621190981,
            -2.324776425480508,
            -3.306769339442557,
            -1.721009636018667,
            0.21279574804160636,
            -2.537280315191168,
            1.0385658914597584,
            -2.6733320758943955,
            3.6320996994575987,
            1.034166382295299,
            -1.626165311623221,
            -1.5876155861399532,
            1.5775737697560925,
            -2.4955322242943216,
            2.213010758305895,
            1.6015640030765623,
            3.444874454124993,
            0.8048017173046709,
            2.2493912393929474,
            0.9446011549225045,
            2.4984337210522862,
            -2.479847151627778,
            -3.003545669948948,
            1.0281202295890681,
            1.9376143187998096,
            2.1029530678928228,
            0.36719938353427717,
            1.6691215417534309,
            2.2351038922547324,
            0.4078648360968305,
            -3.7204576512888368,
            2.4768051822979675,
            3.378476495141127,
            -1.8724819474680459,
            1.1720329577978066,
            0.4028292135918978,
            2.4133722885230977,
            1.9700201723268733,
            -0.6060138707251654,
            0.0636573084565147,
            2.055492670166884,
            1.798485052409815,
            2.6923171025652093,
            1.8767710594927993,
            -3.681216332535182,
            -2.300360824555153,
            -2.831654564478887,
            -0.945470338317009,
            2.5826622770235157,
            -3.265957038234608,
            -0.21584186374940467,
            -1.1987005080851305,
            -3.550928668270723,
            -2.4257611141863293,
            2.835532306583564,
            2.420108868704765,
            0.9357310918267011,
            1.2749894177429792,
            1.1412270820743513,
            2.67788704655042,
            -1.38908637042265,
            -1.933580559557834,
            2.4253613256407114,
            0.7948882747893435,
            -0.5276444538622875,
            2.108774431487832,
            0.7656555832914669,
            -0.5270043998813982,
            1.3993508524900078,
            1.775221623402144,
            0.9078379876071792
           ],
           "xaxis": "x",
           "y": [
            1.2447481742928912,
            -0.7705994269838928,
            -2.357492672484804,
            -0.12555570578365674,
            -1.8392386942989023,
            -1.5834174764049622,
            -0.14182857616895117,
            -2.301552042894497,
            -0.877128941855077,
            -0.014606770189128895,
            -2.249749384005215,
            1.892140800633152,
            -0.7100865021041488,
            2.6281848800521743,
            -0.4246225179026076,
            1.9903754195292667,
            1.836107640150195,
            2.0663908323643123,
            -0.35817978268738093,
            1.9219557838596488,
            -1.2912145802259305,
            -1.661331287292168,
            2.298805111884783,
            2.07672709681336,
            1.0787918021752796,
            1.5825741462529035,
            0.22296953192230012,
            -0.48611547736903893,
            1.502962061982527,
            -1.8276877244920622,
            -0.6171125000316329,
            2.003471635671958,
            -0.8284057265912756,
            -0.314051918647423,
            -1.525480844645019,
            1.3132146037849308,
            -0.9662792827319789,
            -1.4730042825667236,
            -1.3667649027990576,
            1.015822732841161,
            -1.3337788410589093,
            -0.317711107273334,
            -0.6168741803212815,
            -0.5947146931004221,
            2.71012646367616,
            2.4983601452047273,
            0.818987339892884,
            -0.5573257497003908,
            -0.3283764754148374,
            -2.651032734678997,
            -0.7938548127405414,
            1.3563195254103395,
            -2.4276342998045877,
            1.277887210378588,
            -0.36965876255637914,
            0.34189884151211514,
            -2.642236162111409,
            2.4066966269376735,
            -2.2575227095438035,
            1.3631085495107935,
            -1.930371925783633,
            -2.978632934216291,
            -0.4545392787847557,
            1.0299729671349518,
            1.7873296708749962,
            -0.14154186195961044,
            -2.6503999477235554,
            -1.7172310332233258,
            0.42389732209797665,
            -1.4897118870806818,
            3.43135142617868,
            1.7675653750419564,
            1.0424027203680009,
            -0.041759617708311964,
            0.47684923147595043,
            -0.49236172336423684,
            2.5782139981352654,
            1.7542776316291229,
            -1.9813340941980635,
            0.8027167612922286,
            -0.846343031682379,
            -0.32332279604813924,
            2.0041043724638588,
            -2.056603891936218,
            -1.004888744737959,
            -1.3925435590052202,
            -1.3911012137510896,
            -0.5193368525342545,
            2.2910025220434362,
            -1.896793779677866,
            -1.6505988623608843,
            0.6559673788522935,
            1.4201294649462488,
            -0.9834053182790684,
            -1.7034187333521946,
            -0.9176884333717319,
            -0.3178481855740449,
            -1.4433260646015904,
            -1.1392574053180573,
            -2.7649100263453117,
            3.449384897093548,
            -0.2501402658485063,
            -0.8611585019533458,
            1.0829168289603956,
            0.4245726058097903,
            -1.0174910203045742,
            -0.3335832076550274,
            -0.9369598802333218,
            0.013399142244218202,
            2.2979045895130215,
            -0.6411934315040021,
            0.9877835291580429,
            -1.4540335696539164,
            2.0618401145858147,
            1.0216079007274734,
            -1.31407181101088,
            2.114528816709095,
            1.8497435783770917,
            0.33282678264147475,
            1.4423705597264098,
            2.3880228155978913,
            1.9079604490196063,
            0.8246278984864165,
            -1.073767867676914
           ],
           "yaxis": "y"
          }
         ],
         "name": "0"
        },
        {
         "data": [
          {
           "hovertemplate": "epoch=1<br>PC1=%{x}<br>PC2=%{y}<br>cluster_index=%{marker.color}<extra></extra>",
           "legendgroup": "",
           "marker": {
            "color": [
             0,
             1,
             1,
             1,
             0,
             1,
             0,
             0,
             0,
             1,
             1,
             2,
             1,
             2,
             0,
             2,
             2,
             2,
             0,
             2,
             1,
             0,
             2,
             2,
             2,
             0,
             0,
             1,
             0,
             1,
             0,
             2,
             1,
             0,
             1,
             2,
             2,
             0,
             1,
             2,
             0,
             0,
             0,
             0,
             2,
             2,
             1,
             0,
             1,
             0,
             1,
             1,
             0,
             0,
             0,
             0,
             0,
             2,
             0,
             2,
             0,
             1,
             1,
             0,
             2,
             1,
             0,
             1,
             1,
             1,
             2,
             1,
             2,
             1,
             0,
             0,
             2,
             2,
             1,
             2,
             1,
             1,
             2,
             0,
             1,
             1,
             0,
             2,
             2,
             1,
             1,
             2,
             2,
             1,
             1,
             1,
             1,
             0,
             0,
             0,
             0,
             2,
             0,
             2,
             2,
             0,
             0,
             1,
             2,
             2,
             1,
             2,
             1,
             2,
             0,
             1,
             2,
             2,
             1,
             2,
             2,
             2,
             2,
             2
            ],
            "coloraxis": "coloraxis",
            "symbol": "circle"
           },
           "mode": "markers",
           "name": "",
           "orientation": "v",
           "showlegend": false,
           "type": "scatter",
           "x": [
            -2.4934497413760304,
            2.7557130367555893,
            4.2022653229136635,
            1.0648084662515207,
            -2.671434776660838,
            2.603796327446539,
            -2.594721718550969,
            -2.926243914996834,
            -4.014021740902897,
            2.0096248591756325,
            2.921833885417049,
            2.06077989750281,
            1.3521981737482542,
            -0.9099797047670538,
            -3.1495257450395564,
            -0.1352034074895759,
            -0.4795479964860858,
            -0.6327671243370174,
            -3.2007366448118697,
            -0.2707031271748899,
            2.977767617379,
            -2.8970077421526073,
            -0.506145161419109,
            -0.5748117673341143,
            -0.6617437900113853,
            -1.6405271689404637,
            -1.4107734345113365,
            0.37685481161784284,
            -1.5553428383112766,
            3.023942608828664,
            -2.3992319444230237,
            -0.10876941070746268,
            2.0637728577409327,
            -2.865932965634858,
            3.2201994760265746,
            1.8102472730912709,
            0.9215792964285674,
            -3.5016429008537586,
            2.3908772300881753,
            -1.6420551617279342,
            -3.022336266207958,
            -2.8554580282287683,
            -2.6976095163582214,
            -2.939596729803179,
            -0.6798386314844405,
            -0.5177256132455116,
            1.4550098160453169,
            -2.695897920023748,
            3.134554931466901,
            -2.4443632633778773,
            3.054242074816373,
            2.2031209178619635,
            -3.467624560948888,
            -1.6377276621190981,
            -2.324776425480508,
            -3.306769339442557,
            -1.721009636018667,
            0.21279574804160636,
            -2.537280315191168,
            1.0385658914597584,
            -2.6733320758943955,
            3.6320996994575987,
            1.034166382295299,
            -1.626165311623221,
            -1.5876155861399532,
            1.5775737697560925,
            -2.4955322242943216,
            2.213010758305895,
            1.6015640030765623,
            3.444874454124993,
            0.8048017173046709,
            2.2493912393929474,
            0.9446011549225045,
            2.4984337210522862,
            -2.479847151627778,
            -3.003545669948948,
            1.0281202295890681,
            1.9376143187998096,
            2.1029530678928228,
            0.36719938353427717,
            1.6691215417534309,
            2.2351038922547324,
            0.4078648360968305,
            -3.7204576512888368,
            2.4768051822979675,
            3.378476495141127,
            -1.8724819474680459,
            1.1720329577978066,
            0.4028292135918978,
            2.4133722885230977,
            1.9700201723268733,
            -0.6060138707251654,
            0.0636573084565147,
            2.055492670166884,
            1.798485052409815,
            2.6923171025652093,
            1.8767710594927993,
            -3.681216332535182,
            -2.300360824555153,
            -2.831654564478887,
            -0.945470338317009,
            2.5826622770235157,
            -3.265957038234608,
            -0.21584186374940467,
            -1.1987005080851305,
            -3.550928668270723,
            -2.4257611141863293,
            2.835532306583564,
            2.420108868704765,
            0.9357310918267011,
            1.2749894177429792,
            1.1412270820743513,
            2.67788704655042,
            -1.38908637042265,
            -1.933580559557834,
            2.4253613256407114,
            0.7948882747893435,
            -0.5276444538622875,
            2.108774431487832,
            0.7656555832914669,
            -0.5270043998813982,
            1.3993508524900078,
            1.775221623402144,
            0.9078379876071792
           ],
           "xaxis": "x",
           "y": [
            1.2447481742928912,
            -0.7705994269838928,
            -2.357492672484804,
            -0.12555570578365674,
            -1.8392386942989023,
            -1.5834174764049622,
            -0.14182857616895117,
            -2.301552042894497,
            -0.877128941855077,
            -0.014606770189128895,
            -2.249749384005215,
            1.892140800633152,
            -0.7100865021041488,
            2.6281848800521743,
            -0.4246225179026076,
            1.9903754195292667,
            1.836107640150195,
            2.0663908323643123,
            -0.35817978268738093,
            1.9219557838596488,
            -1.2912145802259305,
            -1.661331287292168,
            2.298805111884783,
            2.07672709681336,
            1.0787918021752796,
            1.5825741462529035,
            0.22296953192230012,
            -0.48611547736903893,
            1.502962061982527,
            -1.8276877244920622,
            -0.6171125000316329,
            2.003471635671958,
            -0.8284057265912756,
            -0.314051918647423,
            -1.525480844645019,
            1.3132146037849308,
            -0.9662792827319789,
            -1.4730042825667236,
            -1.3667649027990576,
            1.015822732841161,
            -1.3337788410589093,
            -0.317711107273334,
            -0.6168741803212815,
            -0.5947146931004221,
            2.71012646367616,
            2.4983601452047273,
            0.818987339892884,
            -0.5573257497003908,
            -0.3283764754148374,
            -2.651032734678997,
            -0.7938548127405414,
            1.3563195254103395,
            -2.4276342998045877,
            1.277887210378588,
            -0.36965876255637914,
            0.34189884151211514,
            -2.642236162111409,
            2.4066966269376735,
            -2.2575227095438035,
            1.3631085495107935,
            -1.930371925783633,
            -2.978632934216291,
            -0.4545392787847557,
            1.0299729671349518,
            1.7873296708749962,
            -0.14154186195961044,
            -2.6503999477235554,
            -1.7172310332233258,
            0.42389732209797665,
            -1.4897118870806818,
            3.43135142617868,
            1.7675653750419564,
            1.0424027203680009,
            -0.041759617708311964,
            0.47684923147595043,
            -0.49236172336423684,
            2.5782139981352654,
            1.7542776316291229,
            -1.9813340941980635,
            0.8027167612922286,
            -0.846343031682379,
            -0.32332279604813924,
            2.0041043724638588,
            -2.056603891936218,
            -1.004888744737959,
            -1.3925435590052202,
            -1.3911012137510896,
            -0.5193368525342545,
            2.2910025220434362,
            -1.896793779677866,
            -1.6505988623608843,
            0.6559673788522935,
            1.4201294649462488,
            -0.9834053182790684,
            -1.7034187333521946,
            -0.9176884333717319,
            -0.3178481855740449,
            -1.4433260646015904,
            -1.1392574053180573,
            -2.7649100263453117,
            3.449384897093548,
            -0.2501402658485063,
            -0.8611585019533458,
            1.0829168289603956,
            0.4245726058097903,
            -1.0174910203045742,
            -0.3335832076550274,
            -0.9369598802333218,
            0.013399142244218202,
            2.2979045895130215,
            -0.6411934315040021,
            0.9877835291580429,
            -1.4540335696539164,
            2.0618401145858147,
            1.0216079007274734,
            -1.31407181101088,
            2.114528816709095,
            1.8497435783770917,
            0.33282678264147475,
            1.4423705597264098,
            2.3880228155978913,
            1.9079604490196063,
            0.8246278984864165,
            -1.073767867676914
           ],
           "yaxis": "y"
          }
         ],
         "name": "1"
        },
        {
         "data": [
          {
           "hovertemplate": "epoch=2<br>PC1=%{x}<br>PC2=%{y}<br>cluster_index=%{marker.color}<extra></extra>",
           "legendgroup": "",
           "marker": {
            "color": [
             0,
             1,
             1,
             1,
             0,
             1,
             0,
             0,
             0,
             1,
             1,
             2,
             1,
             2,
             0,
             2,
             2,
             2,
             0,
             2,
             1,
             0,
             2,
             2,
             2,
             0,
             0,
             1,
             0,
             1,
             0,
             2,
             1,
             0,
             1,
             2,
             2,
             0,
             1,
             2,
             0,
             0,
             0,
             0,
             2,
             2,
             1,
             0,
             1,
             0,
             1,
             1,
             0,
             0,
             0,
             0,
             0,
             2,
             0,
             2,
             0,
             1,
             1,
             0,
             2,
             1,
             0,
             1,
             1,
             1,
             2,
             1,
             2,
             1,
             0,
             0,
             2,
             2,
             1,
             2,
             1,
             1,
             2,
             0,
             1,
             1,
             0,
             2,
             2,
             1,
             1,
             2,
             2,
             1,
             1,
             1,
             1,
             0,
             0,
             0,
             0,
             2,
             0,
             2,
             2,
             0,
             0,
             1,
             2,
             2,
             1,
             2,
             1,
             2,
             0,
             1,
             2,
             2,
             1,
             2,
             2,
             2,
             2,
             2
            ],
            "coloraxis": "coloraxis",
            "symbol": "circle"
           },
           "mode": "markers",
           "name": "",
           "orientation": "v",
           "showlegend": false,
           "type": "scatter",
           "x": [
            -2.4934497413760304,
            2.7557130367555893,
            4.2022653229136635,
            1.0648084662515207,
            -2.671434776660838,
            2.603796327446539,
            -2.594721718550969,
            -2.926243914996834,
            -4.014021740902897,
            2.0096248591756325,
            2.921833885417049,
            2.06077989750281,
            1.3521981737482542,
            -0.9099797047670538,
            -3.1495257450395564,
            -0.1352034074895759,
            -0.4795479964860858,
            -0.6327671243370174,
            -3.2007366448118697,
            -0.2707031271748899,
            2.977767617379,
            -2.8970077421526073,
            -0.506145161419109,
            -0.5748117673341143,
            -0.6617437900113853,
            -1.6405271689404637,
            -1.4107734345113365,
            0.37685481161784284,
            -1.5553428383112766,
            3.023942608828664,
            -2.3992319444230237,
            -0.10876941070746268,
            2.0637728577409327,
            -2.865932965634858,
            3.2201994760265746,
            1.8102472730912709,
            0.9215792964285674,
            -3.5016429008537586,
            2.3908772300881753,
            -1.6420551617279342,
            -3.022336266207958,
            -2.8554580282287683,
            -2.6976095163582214,
            -2.939596729803179,
            -0.6798386314844405,
            -0.5177256132455116,
            1.4550098160453169,
            -2.695897920023748,
            3.134554931466901,
            -2.4443632633778773,
            3.054242074816373,
            2.2031209178619635,
            -3.467624560948888,
            -1.6377276621190981,
            -2.324776425480508,
            -3.306769339442557,
            -1.721009636018667,
            0.21279574804160636,
            -2.537280315191168,
            1.0385658914597584,
            -2.6733320758943955,
            3.6320996994575987,
            1.034166382295299,
            -1.626165311623221,
            -1.5876155861399532,
            1.5775737697560925,
            -2.4955322242943216,
            2.213010758305895,
            1.6015640030765623,
            3.444874454124993,
            0.8048017173046709,
            2.2493912393929474,
            0.9446011549225045,
            2.4984337210522862,
            -2.479847151627778,
            -3.003545669948948,
            1.0281202295890681,
            1.9376143187998096,
            2.1029530678928228,
            0.36719938353427717,
            1.6691215417534309,
            2.2351038922547324,
            0.4078648360968305,
            -3.7204576512888368,
            2.4768051822979675,
            3.378476495141127,
            -1.8724819474680459,
            1.1720329577978066,
            0.4028292135918978,
            2.4133722885230977,
            1.9700201723268733,
            -0.6060138707251654,
            0.0636573084565147,
            2.055492670166884,
            1.798485052409815,
            2.6923171025652093,
            1.8767710594927993,
            -3.681216332535182,
            -2.300360824555153,
            -2.831654564478887,
            -0.945470338317009,
            2.5826622770235157,
            -3.265957038234608,
            -0.21584186374940467,
            -1.1987005080851305,
            -3.550928668270723,
            -2.4257611141863293,
            2.835532306583564,
            2.420108868704765,
            0.9357310918267011,
            1.2749894177429792,
            1.1412270820743513,
            2.67788704655042,
            -1.38908637042265,
            -1.933580559557834,
            2.4253613256407114,
            0.7948882747893435,
            -0.5276444538622875,
            2.108774431487832,
            0.7656555832914669,
            -0.5270043998813982,
            1.3993508524900078,
            1.775221623402144,
            0.9078379876071792
           ],
           "xaxis": "x",
           "y": [
            1.2447481742928912,
            -0.7705994269838928,
            -2.357492672484804,
            -0.12555570578365674,
            -1.8392386942989023,
            -1.5834174764049622,
            -0.14182857616895117,
            -2.301552042894497,
            -0.877128941855077,
            -0.014606770189128895,
            -2.249749384005215,
            1.892140800633152,
            -0.7100865021041488,
            2.6281848800521743,
            -0.4246225179026076,
            1.9903754195292667,
            1.836107640150195,
            2.0663908323643123,
            -0.35817978268738093,
            1.9219557838596488,
            -1.2912145802259305,
            -1.661331287292168,
            2.298805111884783,
            2.07672709681336,
            1.0787918021752796,
            1.5825741462529035,
            0.22296953192230012,
            -0.48611547736903893,
            1.502962061982527,
            -1.8276877244920622,
            -0.6171125000316329,
            2.003471635671958,
            -0.8284057265912756,
            -0.314051918647423,
            -1.525480844645019,
            1.3132146037849308,
            -0.9662792827319789,
            -1.4730042825667236,
            -1.3667649027990576,
            1.015822732841161,
            -1.3337788410589093,
            -0.317711107273334,
            -0.6168741803212815,
            -0.5947146931004221,
            2.71012646367616,
            2.4983601452047273,
            0.818987339892884,
            -0.5573257497003908,
            -0.3283764754148374,
            -2.651032734678997,
            -0.7938548127405414,
            1.3563195254103395,
            -2.4276342998045877,
            1.277887210378588,
            -0.36965876255637914,
            0.34189884151211514,
            -2.642236162111409,
            2.4066966269376735,
            -2.2575227095438035,
            1.3631085495107935,
            -1.930371925783633,
            -2.978632934216291,
            -0.4545392787847557,
            1.0299729671349518,
            1.7873296708749962,
            -0.14154186195961044,
            -2.6503999477235554,
            -1.7172310332233258,
            0.42389732209797665,
            -1.4897118870806818,
            3.43135142617868,
            1.7675653750419564,
            1.0424027203680009,
            -0.041759617708311964,
            0.47684923147595043,
            -0.49236172336423684,
            2.5782139981352654,
            1.7542776316291229,
            -1.9813340941980635,
            0.8027167612922286,
            -0.846343031682379,
            -0.32332279604813924,
            2.0041043724638588,
            -2.056603891936218,
            -1.004888744737959,
            -1.3925435590052202,
            -1.3911012137510896,
            -0.5193368525342545,
            2.2910025220434362,
            -1.896793779677866,
            -1.6505988623608843,
            0.6559673788522935,
            1.4201294649462488,
            -0.9834053182790684,
            -1.7034187333521946,
            -0.9176884333717319,
            -0.3178481855740449,
            -1.4433260646015904,
            -1.1392574053180573,
            -2.7649100263453117,
            3.449384897093548,
            -0.2501402658485063,
            -0.8611585019533458,
            1.0829168289603956,
            0.4245726058097903,
            -1.0174910203045742,
            -0.3335832076550274,
            -0.9369598802333218,
            0.013399142244218202,
            2.2979045895130215,
            -0.6411934315040021,
            0.9877835291580429,
            -1.4540335696539164,
            2.0618401145858147,
            1.0216079007274734,
            -1.31407181101088,
            2.114528816709095,
            1.8497435783770917,
            0.33282678264147475,
            1.4423705597264098,
            2.3880228155978913,
            1.9079604490196063,
            0.8246278984864165,
            -1.073767867676914
           ],
           "yaxis": "y"
          }
         ],
         "name": "2"
        },
        {
         "data": [
          {
           "hovertemplate": "epoch=3<br>PC1=%{x}<br>PC2=%{y}<br>cluster_index=%{marker.color}<extra></extra>",
           "legendgroup": "",
           "marker": {
            "color": [
             0,
             1,
             1,
             1,
             0,
             1,
             0,
             0,
             0,
             1,
             1,
             2,
             1,
             2,
             0,
             2,
             2,
             2,
             0,
             2,
             1,
             0,
             2,
             2,
             2,
             0,
             0,
             1,
             2,
             1,
             0,
             2,
             1,
             0,
             1,
             2,
             1,
             0,
             1,
             2,
             0,
             0,
             0,
             0,
             2,
             2,
             1,
             0,
             1,
             0,
             1,
             2,
             0,
             2,
             0,
             0,
             0,
             2,
             0,
             2,
             0,
             1,
             1,
             0,
             2,
             1,
             0,
             1,
             1,
             1,
             2,
             1,
             2,
             1,
             0,
             0,
             2,
             2,
             1,
             2,
             1,
             1,
             2,
             0,
             1,
             1,
             0,
             2,
             2,
             1,
             1,
             2,
             2,
             1,
             1,
             1,
             1,
             0,
             0,
             0,
             2,
             2,
             0,
             2,
             2,
             0,
             0,
             1,
             1,
             2,
             1,
             2,
             1,
             2,
             0,
             1,
             2,
             2,
             1,
             2,
             2,
             2,
             2,
             2
            ],
            "coloraxis": "coloraxis",
            "symbol": "circle"
           },
           "mode": "markers",
           "name": "",
           "orientation": "v",
           "showlegend": false,
           "type": "scatter",
           "x": [
            -2.4934497413760304,
            2.7557130367555893,
            4.2022653229136635,
            1.0648084662515207,
            -2.671434776660838,
            2.603796327446539,
            -2.594721718550969,
            -2.926243914996834,
            -4.014021740902897,
            2.0096248591756325,
            2.921833885417049,
            2.06077989750281,
            1.3521981737482542,
            -0.9099797047670538,
            -3.1495257450395564,
            -0.1352034074895759,
            -0.4795479964860858,
            -0.6327671243370174,
            -3.2007366448118697,
            -0.2707031271748899,
            2.977767617379,
            -2.8970077421526073,
            -0.506145161419109,
            -0.5748117673341143,
            -0.6617437900113853,
            -1.6405271689404637,
            -1.4107734345113365,
            0.37685481161784284,
            -1.5553428383112766,
            3.023942608828664,
            -2.3992319444230237,
            -0.10876941070746268,
            2.0637728577409327,
            -2.865932965634858,
            3.2201994760265746,
            1.8102472730912709,
            0.9215792964285674,
            -3.5016429008537586,
            2.3908772300881753,
            -1.6420551617279342,
            -3.022336266207958,
            -2.8554580282287683,
            -2.6976095163582214,
            -2.939596729803179,
            -0.6798386314844405,
            -0.5177256132455116,
            1.4550098160453169,
            -2.695897920023748,
            3.134554931466901,
            -2.4443632633778773,
            3.054242074816373,
            2.2031209178619635,
            -3.467624560948888,
            -1.6377276621190981,
            -2.324776425480508,
            -3.306769339442557,
            -1.721009636018667,
            0.21279574804160636,
            -2.537280315191168,
            1.0385658914597584,
            -2.6733320758943955,
            3.6320996994575987,
            1.034166382295299,
            -1.626165311623221,
            -1.5876155861399532,
            1.5775737697560925,
            -2.4955322242943216,
            2.213010758305895,
            1.6015640030765623,
            3.444874454124993,
            0.8048017173046709,
            2.2493912393929474,
            0.9446011549225045,
            2.4984337210522862,
            -2.479847151627778,
            -3.003545669948948,
            1.0281202295890681,
            1.9376143187998096,
            2.1029530678928228,
            0.36719938353427717,
            1.6691215417534309,
            2.2351038922547324,
            0.4078648360968305,
            -3.7204576512888368,
            2.4768051822979675,
            3.378476495141127,
            -1.8724819474680459,
            1.1720329577978066,
            0.4028292135918978,
            2.4133722885230977,
            1.9700201723268733,
            -0.6060138707251654,
            0.0636573084565147,
            2.055492670166884,
            1.798485052409815,
            2.6923171025652093,
            1.8767710594927993,
            -3.681216332535182,
            -2.300360824555153,
            -2.831654564478887,
            -0.945470338317009,
            2.5826622770235157,
            -3.265957038234608,
            -0.21584186374940467,
            -1.1987005080851305,
            -3.550928668270723,
            -2.4257611141863293,
            2.835532306583564,
            2.420108868704765,
            0.9357310918267011,
            1.2749894177429792,
            1.1412270820743513,
            2.67788704655042,
            -1.38908637042265,
            -1.933580559557834,
            2.4253613256407114,
            0.7948882747893435,
            -0.5276444538622875,
            2.108774431487832,
            0.7656555832914669,
            -0.5270043998813982,
            1.3993508524900078,
            1.775221623402144,
            0.9078379876071792
           ],
           "xaxis": "x",
           "y": [
            1.2447481742928912,
            -0.7705994269838928,
            -2.357492672484804,
            -0.12555570578365674,
            -1.8392386942989023,
            -1.5834174764049622,
            -0.14182857616895117,
            -2.301552042894497,
            -0.877128941855077,
            -0.014606770189128895,
            -2.249749384005215,
            1.892140800633152,
            -0.7100865021041488,
            2.6281848800521743,
            -0.4246225179026076,
            1.9903754195292667,
            1.836107640150195,
            2.0663908323643123,
            -0.35817978268738093,
            1.9219557838596488,
            -1.2912145802259305,
            -1.661331287292168,
            2.298805111884783,
            2.07672709681336,
            1.0787918021752796,
            1.5825741462529035,
            0.22296953192230012,
            -0.48611547736903893,
            1.502962061982527,
            -1.8276877244920622,
            -0.6171125000316329,
            2.003471635671958,
            -0.8284057265912756,
            -0.314051918647423,
            -1.525480844645019,
            1.3132146037849308,
            -0.9662792827319789,
            -1.4730042825667236,
            -1.3667649027990576,
            1.015822732841161,
            -1.3337788410589093,
            -0.317711107273334,
            -0.6168741803212815,
            -0.5947146931004221,
            2.71012646367616,
            2.4983601452047273,
            0.818987339892884,
            -0.5573257497003908,
            -0.3283764754148374,
            -2.651032734678997,
            -0.7938548127405414,
            1.3563195254103395,
            -2.4276342998045877,
            1.277887210378588,
            -0.36965876255637914,
            0.34189884151211514,
            -2.642236162111409,
            2.4066966269376735,
            -2.2575227095438035,
            1.3631085495107935,
            -1.930371925783633,
            -2.978632934216291,
            -0.4545392787847557,
            1.0299729671349518,
            1.7873296708749962,
            -0.14154186195961044,
            -2.6503999477235554,
            -1.7172310332233258,
            0.42389732209797665,
            -1.4897118870806818,
            3.43135142617868,
            1.7675653750419564,
            1.0424027203680009,
            -0.041759617708311964,
            0.47684923147595043,
            -0.49236172336423684,
            2.5782139981352654,
            1.7542776316291229,
            -1.9813340941980635,
            0.8027167612922286,
            -0.846343031682379,
            -0.32332279604813924,
            2.0041043724638588,
            -2.056603891936218,
            -1.004888744737959,
            -1.3925435590052202,
            -1.3911012137510896,
            -0.5193368525342545,
            2.2910025220434362,
            -1.896793779677866,
            -1.6505988623608843,
            0.6559673788522935,
            1.4201294649462488,
            -0.9834053182790684,
            -1.7034187333521946,
            -0.9176884333717319,
            -0.3178481855740449,
            -1.4433260646015904,
            -1.1392574053180573,
            -2.7649100263453117,
            3.449384897093548,
            -0.2501402658485063,
            -0.8611585019533458,
            1.0829168289603956,
            0.4245726058097903,
            -1.0174910203045742,
            -0.3335832076550274,
            -0.9369598802333218,
            0.013399142244218202,
            2.2979045895130215,
            -0.6411934315040021,
            0.9877835291580429,
            -1.4540335696539164,
            2.0618401145858147,
            1.0216079007274734,
            -1.31407181101088,
            2.114528816709095,
            1.8497435783770917,
            0.33282678264147475,
            1.4423705597264098,
            2.3880228155978913,
            1.9079604490196063,
            0.8246278984864165,
            -1.073767867676914
           ],
           "yaxis": "y"
          }
         ],
         "name": "3"
        },
        {
         "data": [
          {
           "hovertemplate": "epoch=4<br>PC1=%{x}<br>PC2=%{y}<br>cluster_index=%{marker.color}<extra></extra>",
           "legendgroup": "",
           "marker": {
            "color": [
             0,
             1,
             1,
             1,
             0,
             1,
             0,
             0,
             0,
             1,
             1,
             2,
             1,
             2,
             0,
             2,
             2,
             2,
             0,
             2,
             1,
             0,
             2,
             2,
             2,
             2,
             0,
             1,
             2,
             1,
             0,
             2,
             1,
             0,
             1,
             2,
             1,
             0,
             1,
             2,
             0,
             0,
             0,
             0,
             2,
             2,
             1,
             0,
             1,
             0,
             1,
             2,
             0,
             2,
             0,
             0,
             0,
             2,
             0,
             2,
             0,
             1,
             1,
             0,
             2,
             1,
             0,
             1,
             1,
             1,
             2,
             2,
             2,
             1,
             0,
             0,
             2,
             2,
             1,
             2,
             1,
             1,
             2,
             0,
             1,
             1,
             0,
             2,
             2,
             1,
             1,
             2,
             2,
             1,
             1,
             1,
             1,
             0,
             0,
             0,
             2,
             1,
             0,
             2,
             2,
             0,
             0,
             1,
             1,
             2,
             1,
             2,
             1,
             2,
             0,
             1,
             2,
             2,
             1,
             2,
             2,
             2,
             2,
             1
            ],
            "coloraxis": "coloraxis",
            "symbol": "circle"
           },
           "mode": "markers",
           "name": "",
           "orientation": "v",
           "showlegend": false,
           "type": "scatter",
           "x": [
            -2.4934497413760304,
            2.7557130367555893,
            4.2022653229136635,
            1.0648084662515207,
            -2.671434776660838,
            2.603796327446539,
            -2.594721718550969,
            -2.926243914996834,
            -4.014021740902897,
            2.0096248591756325,
            2.921833885417049,
            2.06077989750281,
            1.3521981737482542,
            -0.9099797047670538,
            -3.1495257450395564,
            -0.1352034074895759,
            -0.4795479964860858,
            -0.6327671243370174,
            -3.2007366448118697,
            -0.2707031271748899,
            2.977767617379,
            -2.8970077421526073,
            -0.506145161419109,
            -0.5748117673341143,
            -0.6617437900113853,
            -1.6405271689404637,
            -1.4107734345113365,
            0.37685481161784284,
            -1.5553428383112766,
            3.023942608828664,
            -2.3992319444230237,
            -0.10876941070746268,
            2.0637728577409327,
            -2.865932965634858,
            3.2201994760265746,
            1.8102472730912709,
            0.9215792964285674,
            -3.5016429008537586,
            2.3908772300881753,
            -1.6420551617279342,
            -3.022336266207958,
            -2.8554580282287683,
            -2.6976095163582214,
            -2.939596729803179,
            -0.6798386314844405,
            -0.5177256132455116,
            1.4550098160453169,
            -2.695897920023748,
            3.134554931466901,
            -2.4443632633778773,
            3.054242074816373,
            2.2031209178619635,
            -3.467624560948888,
            -1.6377276621190981,
            -2.324776425480508,
            -3.306769339442557,
            -1.721009636018667,
            0.21279574804160636,
            -2.537280315191168,
            1.0385658914597584,
            -2.6733320758943955,
            3.6320996994575987,
            1.034166382295299,
            -1.626165311623221,
            -1.5876155861399532,
            1.5775737697560925,
            -2.4955322242943216,
            2.213010758305895,
            1.6015640030765623,
            3.444874454124993,
            0.8048017173046709,
            2.2493912393929474,
            0.9446011549225045,
            2.4984337210522862,
            -2.479847151627778,
            -3.003545669948948,
            1.0281202295890681,
            1.9376143187998096,
            2.1029530678928228,
            0.36719938353427717,
            1.6691215417534309,
            2.2351038922547324,
            0.4078648360968305,
            -3.7204576512888368,
            2.4768051822979675,
            3.378476495141127,
            -1.8724819474680459,
            1.1720329577978066,
            0.4028292135918978,
            2.4133722885230977,
            1.9700201723268733,
            -0.6060138707251654,
            0.0636573084565147,
            2.055492670166884,
            1.798485052409815,
            2.6923171025652093,
            1.8767710594927993,
            -3.681216332535182,
            -2.300360824555153,
            -2.831654564478887,
            -0.945470338317009,
            2.5826622770235157,
            -3.265957038234608,
            -0.21584186374940467,
            -1.1987005080851305,
            -3.550928668270723,
            -2.4257611141863293,
            2.835532306583564,
            2.420108868704765,
            0.9357310918267011,
            1.2749894177429792,
            1.1412270820743513,
            2.67788704655042,
            -1.38908637042265,
            -1.933580559557834,
            2.4253613256407114,
            0.7948882747893435,
            -0.5276444538622875,
            2.108774431487832,
            0.7656555832914669,
            -0.5270043998813982,
            1.3993508524900078,
            1.775221623402144,
            0.9078379876071792
           ],
           "xaxis": "x",
           "y": [
            1.2447481742928912,
            -0.7705994269838928,
            -2.357492672484804,
            -0.12555570578365674,
            -1.8392386942989023,
            -1.5834174764049622,
            -0.14182857616895117,
            -2.301552042894497,
            -0.877128941855077,
            -0.014606770189128895,
            -2.249749384005215,
            1.892140800633152,
            -0.7100865021041488,
            2.6281848800521743,
            -0.4246225179026076,
            1.9903754195292667,
            1.836107640150195,
            2.0663908323643123,
            -0.35817978268738093,
            1.9219557838596488,
            -1.2912145802259305,
            -1.661331287292168,
            2.298805111884783,
            2.07672709681336,
            1.0787918021752796,
            1.5825741462529035,
            0.22296953192230012,
            -0.48611547736903893,
            1.502962061982527,
            -1.8276877244920622,
            -0.6171125000316329,
            2.003471635671958,
            -0.8284057265912756,
            -0.314051918647423,
            -1.525480844645019,
            1.3132146037849308,
            -0.9662792827319789,
            -1.4730042825667236,
            -1.3667649027990576,
            1.015822732841161,
            -1.3337788410589093,
            -0.317711107273334,
            -0.6168741803212815,
            -0.5947146931004221,
            2.71012646367616,
            2.4983601452047273,
            0.818987339892884,
            -0.5573257497003908,
            -0.3283764754148374,
            -2.651032734678997,
            -0.7938548127405414,
            1.3563195254103395,
            -2.4276342998045877,
            1.277887210378588,
            -0.36965876255637914,
            0.34189884151211514,
            -2.642236162111409,
            2.4066966269376735,
            -2.2575227095438035,
            1.3631085495107935,
            -1.930371925783633,
            -2.978632934216291,
            -0.4545392787847557,
            1.0299729671349518,
            1.7873296708749962,
            -0.14154186195961044,
            -2.6503999477235554,
            -1.7172310332233258,
            0.42389732209797665,
            -1.4897118870806818,
            3.43135142617868,
            1.7675653750419564,
            1.0424027203680009,
            -0.041759617708311964,
            0.47684923147595043,
            -0.49236172336423684,
            2.5782139981352654,
            1.7542776316291229,
            -1.9813340941980635,
            0.8027167612922286,
            -0.846343031682379,
            -0.32332279604813924,
            2.0041043724638588,
            -2.056603891936218,
            -1.004888744737959,
            -1.3925435590052202,
            -1.3911012137510896,
            -0.5193368525342545,
            2.2910025220434362,
            -1.896793779677866,
            -1.6505988623608843,
            0.6559673788522935,
            1.4201294649462488,
            -0.9834053182790684,
            -1.7034187333521946,
            -0.9176884333717319,
            -0.3178481855740449,
            -1.4433260646015904,
            -1.1392574053180573,
            -2.7649100263453117,
            3.449384897093548,
            -0.2501402658485063,
            -0.8611585019533458,
            1.0829168289603956,
            0.4245726058097903,
            -1.0174910203045742,
            -0.3335832076550274,
            -0.9369598802333218,
            0.013399142244218202,
            2.2979045895130215,
            -0.6411934315040021,
            0.9877835291580429,
            -1.4540335696539164,
            2.0618401145858147,
            1.0216079007274734,
            -1.31407181101088,
            2.114528816709095,
            1.8497435783770917,
            0.33282678264147475,
            1.4423705597264098,
            2.3880228155978913,
            1.9079604490196063,
            0.8246278984864165,
            -1.073767867676914
           ],
           "yaxis": "y"
          }
         ],
         "name": "4"
        },
        {
         "data": [
          {
           "hovertemplate": "epoch=5<br>PC1=%{x}<br>PC2=%{y}<br>cluster_index=%{marker.color}<extra></extra>",
           "legendgroup": "",
           "marker": {
            "color": [
             0,
             1,
             1,
             1,
             0,
             1,
             0,
             0,
             0,
             1,
             1,
             2,
             1,
             2,
             0,
             2,
             2,
             2,
             0,
             2,
             1,
             0,
             2,
             2,
             2,
             2,
             0,
             1,
             2,
             1,
             0,
             2,
             1,
             0,
             1,
             2,
             1,
             0,
             1,
             2,
             0,
             0,
             0,
             0,
             2,
             2,
             1,
             0,
             1,
             0,
             1,
             2,
             0,
             2,
             0,
             0,
             0,
             2,
             0,
             2,
             0,
             1,
             1,
             2,
             2,
             1,
             0,
             1,
             1,
             1,
             2,
             2,
             2,
             1,
             0,
             0,
             2,
             2,
             1,
             2,
             1,
             1,
             2,
             0,
             1,
             1,
             0,
             2,
             2,
             1,
             1,
             2,
             2,
             1,
             1,
             1,
             1,
             0,
             0,
             0,
             2,
             1,
             0,
             2,
             2,
             0,
             0,
             1,
             1,
             2,
             1,
             2,
             1,
             2,
             0,
             1,
             2,
             2,
             1,
             2,
             2,
             2,
             2,
             1
            ],
            "coloraxis": "coloraxis",
            "symbol": "circle"
           },
           "mode": "markers",
           "name": "",
           "orientation": "v",
           "showlegend": false,
           "type": "scatter",
           "x": [
            -2.4934497413760304,
            2.7557130367555893,
            4.2022653229136635,
            1.0648084662515207,
            -2.671434776660838,
            2.603796327446539,
            -2.594721718550969,
            -2.926243914996834,
            -4.014021740902897,
            2.0096248591756325,
            2.921833885417049,
            2.06077989750281,
            1.3521981737482542,
            -0.9099797047670538,
            -3.1495257450395564,
            -0.1352034074895759,
            -0.4795479964860858,
            -0.6327671243370174,
            -3.2007366448118697,
            -0.2707031271748899,
            2.977767617379,
            -2.8970077421526073,
            -0.506145161419109,
            -0.5748117673341143,
            -0.6617437900113853,
            -1.6405271689404637,
            -1.4107734345113365,
            0.37685481161784284,
            -1.5553428383112766,
            3.023942608828664,
            -2.3992319444230237,
            -0.10876941070746268,
            2.0637728577409327,
            -2.865932965634858,
            3.2201994760265746,
            1.8102472730912709,
            0.9215792964285674,
            -3.5016429008537586,
            2.3908772300881753,
            -1.6420551617279342,
            -3.022336266207958,
            -2.8554580282287683,
            -2.6976095163582214,
            -2.939596729803179,
            -0.6798386314844405,
            -0.5177256132455116,
            1.4550098160453169,
            -2.695897920023748,
            3.134554931466901,
            -2.4443632633778773,
            3.054242074816373,
            2.2031209178619635,
            -3.467624560948888,
            -1.6377276621190981,
            -2.324776425480508,
            -3.306769339442557,
            -1.721009636018667,
            0.21279574804160636,
            -2.537280315191168,
            1.0385658914597584,
            -2.6733320758943955,
            3.6320996994575987,
            1.034166382295299,
            -1.626165311623221,
            -1.5876155861399532,
            1.5775737697560925,
            -2.4955322242943216,
            2.213010758305895,
            1.6015640030765623,
            3.444874454124993,
            0.8048017173046709,
            2.2493912393929474,
            0.9446011549225045,
            2.4984337210522862,
            -2.479847151627778,
            -3.003545669948948,
            1.0281202295890681,
            1.9376143187998096,
            2.1029530678928228,
            0.36719938353427717,
            1.6691215417534309,
            2.2351038922547324,
            0.4078648360968305,
            -3.7204576512888368,
            2.4768051822979675,
            3.378476495141127,
            -1.8724819474680459,
            1.1720329577978066,
            0.4028292135918978,
            2.4133722885230977,
            1.9700201723268733,
            -0.6060138707251654,
            0.0636573084565147,
            2.055492670166884,
            1.798485052409815,
            2.6923171025652093,
            1.8767710594927993,
            -3.681216332535182,
            -2.300360824555153,
            -2.831654564478887,
            -0.945470338317009,
            2.5826622770235157,
            -3.265957038234608,
            -0.21584186374940467,
            -1.1987005080851305,
            -3.550928668270723,
            -2.4257611141863293,
            2.835532306583564,
            2.420108868704765,
            0.9357310918267011,
            1.2749894177429792,
            1.1412270820743513,
            2.67788704655042,
            -1.38908637042265,
            -1.933580559557834,
            2.4253613256407114,
            0.7948882747893435,
            -0.5276444538622875,
            2.108774431487832,
            0.7656555832914669,
            -0.5270043998813982,
            1.3993508524900078,
            1.775221623402144,
            0.9078379876071792
           ],
           "xaxis": "x",
           "y": [
            1.2447481742928912,
            -0.7705994269838928,
            -2.357492672484804,
            -0.12555570578365674,
            -1.8392386942989023,
            -1.5834174764049622,
            -0.14182857616895117,
            -2.301552042894497,
            -0.877128941855077,
            -0.014606770189128895,
            -2.249749384005215,
            1.892140800633152,
            -0.7100865021041488,
            2.6281848800521743,
            -0.4246225179026076,
            1.9903754195292667,
            1.836107640150195,
            2.0663908323643123,
            -0.35817978268738093,
            1.9219557838596488,
            -1.2912145802259305,
            -1.661331287292168,
            2.298805111884783,
            2.07672709681336,
            1.0787918021752796,
            1.5825741462529035,
            0.22296953192230012,
            -0.48611547736903893,
            1.502962061982527,
            -1.8276877244920622,
            -0.6171125000316329,
            2.003471635671958,
            -0.8284057265912756,
            -0.314051918647423,
            -1.525480844645019,
            1.3132146037849308,
            -0.9662792827319789,
            -1.4730042825667236,
            -1.3667649027990576,
            1.015822732841161,
            -1.3337788410589093,
            -0.317711107273334,
            -0.6168741803212815,
            -0.5947146931004221,
            2.71012646367616,
            2.4983601452047273,
            0.818987339892884,
            -0.5573257497003908,
            -0.3283764754148374,
            -2.651032734678997,
            -0.7938548127405414,
            1.3563195254103395,
            -2.4276342998045877,
            1.277887210378588,
            -0.36965876255637914,
            0.34189884151211514,
            -2.642236162111409,
            2.4066966269376735,
            -2.2575227095438035,
            1.3631085495107935,
            -1.930371925783633,
            -2.978632934216291,
            -0.4545392787847557,
            1.0299729671349518,
            1.7873296708749962,
            -0.14154186195961044,
            -2.6503999477235554,
            -1.7172310332233258,
            0.42389732209797665,
            -1.4897118870806818,
            3.43135142617868,
            1.7675653750419564,
            1.0424027203680009,
            -0.041759617708311964,
            0.47684923147595043,
            -0.49236172336423684,
            2.5782139981352654,
            1.7542776316291229,
            -1.9813340941980635,
            0.8027167612922286,
            -0.846343031682379,
            -0.32332279604813924,
            2.0041043724638588,
            -2.056603891936218,
            -1.004888744737959,
            -1.3925435590052202,
            -1.3911012137510896,
            -0.5193368525342545,
            2.2910025220434362,
            -1.896793779677866,
            -1.6505988623608843,
            0.6559673788522935,
            1.4201294649462488,
            -0.9834053182790684,
            -1.7034187333521946,
            -0.9176884333717319,
            -0.3178481855740449,
            -1.4433260646015904,
            -1.1392574053180573,
            -2.7649100263453117,
            3.449384897093548,
            -0.2501402658485063,
            -0.8611585019533458,
            1.0829168289603956,
            0.4245726058097903,
            -1.0174910203045742,
            -0.3335832076550274,
            -0.9369598802333218,
            0.013399142244218202,
            2.2979045895130215,
            -0.6411934315040021,
            0.9877835291580429,
            -1.4540335696539164,
            2.0618401145858147,
            1.0216079007274734,
            -1.31407181101088,
            2.114528816709095,
            1.8497435783770917,
            0.33282678264147475,
            1.4423705597264098,
            2.3880228155978913,
            1.9079604490196063,
            0.8246278984864165,
            -1.073767867676914
           ],
           "yaxis": "y"
          }
         ],
         "name": "5"
        },
        {
         "data": [
          {
           "hovertemplate": "epoch=6<br>PC1=%{x}<br>PC2=%{y}<br>cluster_index=%{marker.color}<extra></extra>",
           "legendgroup": "",
           "marker": {
            "color": [
             0,
             1,
             1,
             1,
             0,
             1,
             0,
             0,
             0,
             1,
             1,
             2,
             1,
             2,
             0,
             2,
             2,
             2,
             0,
             2,
             1,
             0,
             2,
             2,
             2,
             2,
             0,
             1,
             2,
             1,
             0,
             2,
             1,
             0,
             1,
             2,
             1,
             0,
             1,
             2,
             0,
             0,
             0,
             0,
             2,
             2,
             1,
             0,
             1,
             0,
             1,
             2,
             0,
             2,
             0,
             0,
             0,
             2,
             0,
             2,
             0,
             1,
             1,
             2,
             2,
             1,
             0,
             1,
             1,
             1,
             2,
             2,
             2,
             1,
             0,
             0,
             2,
             2,
             1,
             2,
             1,
             1,
             2,
             0,
             1,
             1,
             0,
             2,
             2,
             1,
             1,
             2,
             2,
             1,
             1,
             1,
             1,
             0,
             0,
             0,
             2,
             1,
             0,
             2,
             2,
             0,
             0,
             1,
             1,
             2,
             1,
             2,
             1,
             2,
             0,
             1,
             2,
             2,
             1,
             2,
             2,
             2,
             2,
             1
            ],
            "coloraxis": "coloraxis",
            "symbol": "circle"
           },
           "mode": "markers",
           "name": "",
           "orientation": "v",
           "showlegend": false,
           "type": "scatter",
           "x": [
            -2.4934497413760304,
            2.7557130367555893,
            4.2022653229136635,
            1.0648084662515207,
            -2.671434776660838,
            2.603796327446539,
            -2.594721718550969,
            -2.926243914996834,
            -4.014021740902897,
            2.0096248591756325,
            2.921833885417049,
            2.06077989750281,
            1.3521981737482542,
            -0.9099797047670538,
            -3.1495257450395564,
            -0.1352034074895759,
            -0.4795479964860858,
            -0.6327671243370174,
            -3.2007366448118697,
            -0.2707031271748899,
            2.977767617379,
            -2.8970077421526073,
            -0.506145161419109,
            -0.5748117673341143,
            -0.6617437900113853,
            -1.6405271689404637,
            -1.4107734345113365,
            0.37685481161784284,
            -1.5553428383112766,
            3.023942608828664,
            -2.3992319444230237,
            -0.10876941070746268,
            2.0637728577409327,
            -2.865932965634858,
            3.2201994760265746,
            1.8102472730912709,
            0.9215792964285674,
            -3.5016429008537586,
            2.3908772300881753,
            -1.6420551617279342,
            -3.022336266207958,
            -2.8554580282287683,
            -2.6976095163582214,
            -2.939596729803179,
            -0.6798386314844405,
            -0.5177256132455116,
            1.4550098160453169,
            -2.695897920023748,
            3.134554931466901,
            -2.4443632633778773,
            3.054242074816373,
            2.2031209178619635,
            -3.467624560948888,
            -1.6377276621190981,
            -2.324776425480508,
            -3.306769339442557,
            -1.721009636018667,
            0.21279574804160636,
            -2.537280315191168,
            1.0385658914597584,
            -2.6733320758943955,
            3.6320996994575987,
            1.034166382295299,
            -1.626165311623221,
            -1.5876155861399532,
            1.5775737697560925,
            -2.4955322242943216,
            2.213010758305895,
            1.6015640030765623,
            3.444874454124993,
            0.8048017173046709,
            2.2493912393929474,
            0.9446011549225045,
            2.4984337210522862,
            -2.479847151627778,
            -3.003545669948948,
            1.0281202295890681,
            1.9376143187998096,
            2.1029530678928228,
            0.36719938353427717,
            1.6691215417534309,
            2.2351038922547324,
            0.4078648360968305,
            -3.7204576512888368,
            2.4768051822979675,
            3.378476495141127,
            -1.8724819474680459,
            1.1720329577978066,
            0.4028292135918978,
            2.4133722885230977,
            1.9700201723268733,
            -0.6060138707251654,
            0.0636573084565147,
            2.055492670166884,
            1.798485052409815,
            2.6923171025652093,
            1.8767710594927993,
            -3.681216332535182,
            -2.300360824555153,
            -2.831654564478887,
            -0.945470338317009,
            2.5826622770235157,
            -3.265957038234608,
            -0.21584186374940467,
            -1.1987005080851305,
            -3.550928668270723,
            -2.4257611141863293,
            2.835532306583564,
            2.420108868704765,
            0.9357310918267011,
            1.2749894177429792,
            1.1412270820743513,
            2.67788704655042,
            -1.38908637042265,
            -1.933580559557834,
            2.4253613256407114,
            0.7948882747893435,
            -0.5276444538622875,
            2.108774431487832,
            0.7656555832914669,
            -0.5270043998813982,
            1.3993508524900078,
            1.775221623402144,
            0.9078379876071792
           ],
           "xaxis": "x",
           "y": [
            1.2447481742928912,
            -0.7705994269838928,
            -2.357492672484804,
            -0.12555570578365674,
            -1.8392386942989023,
            -1.5834174764049622,
            -0.14182857616895117,
            -2.301552042894497,
            -0.877128941855077,
            -0.014606770189128895,
            -2.249749384005215,
            1.892140800633152,
            -0.7100865021041488,
            2.6281848800521743,
            -0.4246225179026076,
            1.9903754195292667,
            1.836107640150195,
            2.0663908323643123,
            -0.35817978268738093,
            1.9219557838596488,
            -1.2912145802259305,
            -1.661331287292168,
            2.298805111884783,
            2.07672709681336,
            1.0787918021752796,
            1.5825741462529035,
            0.22296953192230012,
            -0.48611547736903893,
            1.502962061982527,
            -1.8276877244920622,
            -0.6171125000316329,
            2.003471635671958,
            -0.8284057265912756,
            -0.314051918647423,
            -1.525480844645019,
            1.3132146037849308,
            -0.9662792827319789,
            -1.4730042825667236,
            -1.3667649027990576,
            1.015822732841161,
            -1.3337788410589093,
            -0.317711107273334,
            -0.6168741803212815,
            -0.5947146931004221,
            2.71012646367616,
            2.4983601452047273,
            0.818987339892884,
            -0.5573257497003908,
            -0.3283764754148374,
            -2.651032734678997,
            -0.7938548127405414,
            1.3563195254103395,
            -2.4276342998045877,
            1.277887210378588,
            -0.36965876255637914,
            0.34189884151211514,
            -2.642236162111409,
            2.4066966269376735,
            -2.2575227095438035,
            1.3631085495107935,
            -1.930371925783633,
            -2.978632934216291,
            -0.4545392787847557,
            1.0299729671349518,
            1.7873296708749962,
            -0.14154186195961044,
            -2.6503999477235554,
            -1.7172310332233258,
            0.42389732209797665,
            -1.4897118870806818,
            3.43135142617868,
            1.7675653750419564,
            1.0424027203680009,
            -0.041759617708311964,
            0.47684923147595043,
            -0.49236172336423684,
            2.5782139981352654,
            1.7542776316291229,
            -1.9813340941980635,
            0.8027167612922286,
            -0.846343031682379,
            -0.32332279604813924,
            2.0041043724638588,
            -2.056603891936218,
            -1.004888744737959,
            -1.3925435590052202,
            -1.3911012137510896,
            -0.5193368525342545,
            2.2910025220434362,
            -1.896793779677866,
            -1.6505988623608843,
            0.6559673788522935,
            1.4201294649462488,
            -0.9834053182790684,
            -1.7034187333521946,
            -0.9176884333717319,
            -0.3178481855740449,
            -1.4433260646015904,
            -1.1392574053180573,
            -2.7649100263453117,
            3.449384897093548,
            -0.2501402658485063,
            -0.8611585019533458,
            1.0829168289603956,
            0.4245726058097903,
            -1.0174910203045742,
            -0.3335832076550274,
            -0.9369598802333218,
            0.013399142244218202,
            2.2979045895130215,
            -0.6411934315040021,
            0.9877835291580429,
            -1.4540335696539164,
            2.0618401145858147,
            1.0216079007274734,
            -1.31407181101088,
            2.114528816709095,
            1.8497435783770917,
            0.33282678264147475,
            1.4423705597264098,
            2.3880228155978913,
            1.9079604490196063,
            0.8246278984864165,
            -1.073767867676914
           ],
           "yaxis": "y"
          }
         ],
         "name": "6"
        }
       ],
       "layout": {
        "coloraxis": {
         "colorbar": {
          "title": {
           "text": "cluster_index"
          }
         },
         "colorscale": [
          [
           0,
           "#0d0887"
          ],
          [
           0.1111111111111111,
           "#46039f"
          ],
          [
           0.2222222222222222,
           "#7201a8"
          ],
          [
           0.3333333333333333,
           "#9c179e"
          ],
          [
           0.4444444444444444,
           "#bd3786"
          ],
          [
           0.5555555555555556,
           "#d8576b"
          ],
          [
           0.6666666666666666,
           "#ed7953"
          ],
          [
           0.7777777777777778,
           "#fb9f3a"
          ],
          [
           0.8888888888888888,
           "#fdca26"
          ],
          [
           1,
           "#f0f921"
          ]
         ]
        },
        "height": 600,
        "legend": {
         "tracegroupgap": 0
        },
        "margin": {
         "t": 60
        },
        "sliders": [
         {
          "active": 0,
          "currentvalue": {
           "prefix": "epoch="
          },
          "len": 0.9,
          "pad": {
           "b": 10,
           "t": 60
          },
          "steps": [
           {
            "args": [
             [
              "0"
             ],
             {
              "frame": {
               "duration": 0,
               "redraw": false
              },
              "fromcurrent": true,
              "mode": "immediate",
              "transition": {
               "duration": 0,
               "easing": "linear"
              }
             }
            ],
            "label": "0",
            "method": "animate"
           },
           {
            "args": [
             [
              "1"
             ],
             {
              "frame": {
               "duration": 0,
               "redraw": false
              },
              "fromcurrent": true,
              "mode": "immediate",
              "transition": {
               "duration": 0,
               "easing": "linear"
              }
             }
            ],
            "label": "1",
            "method": "animate"
           },
           {
            "args": [
             [
              "2"
             ],
             {
              "frame": {
               "duration": 0,
               "redraw": false
              },
              "fromcurrent": true,
              "mode": "immediate",
              "transition": {
               "duration": 0,
               "easing": "linear"
              }
             }
            ],
            "label": "2",
            "method": "animate"
           },
           {
            "args": [
             [
              "3"
             ],
             {
              "frame": {
               "duration": 0,
               "redraw": false
              },
              "fromcurrent": true,
              "mode": "immediate",
              "transition": {
               "duration": 0,
               "easing": "linear"
              }
             }
            ],
            "label": "3",
            "method": "animate"
           },
           {
            "args": [
             [
              "4"
             ],
             {
              "frame": {
               "duration": 0,
               "redraw": false
              },
              "fromcurrent": true,
              "mode": "immediate",
              "transition": {
               "duration": 0,
               "easing": "linear"
              }
             }
            ],
            "label": "4",
            "method": "animate"
           },
           {
            "args": [
             [
              "5"
             ],
             {
              "frame": {
               "duration": 0,
               "redraw": false
              },
              "fromcurrent": true,
              "mode": "immediate",
              "transition": {
               "duration": 0,
               "easing": "linear"
              }
             }
            ],
            "label": "5",
            "method": "animate"
           },
           {
            "args": [
             [
              "6"
             ],
             {
              "frame": {
               "duration": 0,
               "redraw": false
              },
              "fromcurrent": true,
              "mode": "immediate",
              "transition": {
               "duration": 0,
               "easing": "linear"
              }
             }
            ],
            "label": "6",
            "method": "animate"
           }
          ],
          "x": 0.1,
          "xanchor": "left",
          "y": 0,
          "yanchor": "top"
         }
        ],
        "template": {
         "data": {
          "bar": [
           {
            "error_x": {
             "color": "#2a3f5f"
            },
            "error_y": {
             "color": "#2a3f5f"
            },
            "marker": {
             "line": {
              "color": "#E5ECF6",
              "width": 0.5
             },
             "pattern": {
              "fillmode": "overlay",
              "size": 10,
              "solidity": 0.2
             }
            },
            "type": "bar"
           }
          ],
          "barpolar": [
           {
            "marker": {
             "line": {
              "color": "#E5ECF6",
              "width": 0.5
             },
             "pattern": {
              "fillmode": "overlay",
              "size": 10,
              "solidity": 0.2
             }
            },
            "type": "barpolar"
           }
          ],
          "carpet": [
           {
            "aaxis": {
             "endlinecolor": "#2a3f5f",
             "gridcolor": "white",
             "linecolor": "white",
             "minorgridcolor": "white",
             "startlinecolor": "#2a3f5f"
            },
            "baxis": {
             "endlinecolor": "#2a3f5f",
             "gridcolor": "white",
             "linecolor": "white",
             "minorgridcolor": "white",
             "startlinecolor": "#2a3f5f"
            },
            "type": "carpet"
           }
          ],
          "choropleth": [
           {
            "colorbar": {
             "outlinewidth": 0,
             "ticks": ""
            },
            "type": "choropleth"
           }
          ],
          "contour": [
           {
            "colorbar": {
             "outlinewidth": 0,
             "ticks": ""
            },
            "colorscale": [
             [
              0,
              "#0d0887"
             ],
             [
              0.1111111111111111,
              "#46039f"
             ],
             [
              0.2222222222222222,
              "#7201a8"
             ],
             [
              0.3333333333333333,
              "#9c179e"
             ],
             [
              0.4444444444444444,
              "#bd3786"
             ],
             [
              0.5555555555555556,
              "#d8576b"
             ],
             [
              0.6666666666666666,
              "#ed7953"
             ],
             [
              0.7777777777777778,
              "#fb9f3a"
             ],
             [
              0.8888888888888888,
              "#fdca26"
             ],
             [
              1,
              "#f0f921"
             ]
            ],
            "type": "contour"
           }
          ],
          "contourcarpet": [
           {
            "colorbar": {
             "outlinewidth": 0,
             "ticks": ""
            },
            "type": "contourcarpet"
           }
          ],
          "heatmap": [
           {
            "colorbar": {
             "outlinewidth": 0,
             "ticks": ""
            },
            "colorscale": [
             [
              0,
              "#0d0887"
             ],
             [
              0.1111111111111111,
              "#46039f"
             ],
             [
              0.2222222222222222,
              "#7201a8"
             ],
             [
              0.3333333333333333,
              "#9c179e"
             ],
             [
              0.4444444444444444,
              "#bd3786"
             ],
             [
              0.5555555555555556,
              "#d8576b"
             ],
             [
              0.6666666666666666,
              "#ed7953"
             ],
             [
              0.7777777777777778,
              "#fb9f3a"
             ],
             [
              0.8888888888888888,
              "#fdca26"
             ],
             [
              1,
              "#f0f921"
             ]
            ],
            "type": "heatmap"
           }
          ],
          "heatmapgl": [
           {
            "colorbar": {
             "outlinewidth": 0,
             "ticks": ""
            },
            "colorscale": [
             [
              0,
              "#0d0887"
             ],
             [
              0.1111111111111111,
              "#46039f"
             ],
             [
              0.2222222222222222,
              "#7201a8"
             ],
             [
              0.3333333333333333,
              "#9c179e"
             ],
             [
              0.4444444444444444,
              "#bd3786"
             ],
             [
              0.5555555555555556,
              "#d8576b"
             ],
             [
              0.6666666666666666,
              "#ed7953"
             ],
             [
              0.7777777777777778,
              "#fb9f3a"
             ],
             [
              0.8888888888888888,
              "#fdca26"
             ],
             [
              1,
              "#f0f921"
             ]
            ],
            "type": "heatmapgl"
           }
          ],
          "histogram": [
           {
            "marker": {
             "pattern": {
              "fillmode": "overlay",
              "size": 10,
              "solidity": 0.2
             }
            },
            "type": "histogram"
           }
          ],
          "histogram2d": [
           {
            "colorbar": {
             "outlinewidth": 0,
             "ticks": ""
            },
            "colorscale": [
             [
              0,
              "#0d0887"
             ],
             [
              0.1111111111111111,
              "#46039f"
             ],
             [
              0.2222222222222222,
              "#7201a8"
             ],
             [
              0.3333333333333333,
              "#9c179e"
             ],
             [
              0.4444444444444444,
              "#bd3786"
             ],
             [
              0.5555555555555556,
              "#d8576b"
             ],
             [
              0.6666666666666666,
              "#ed7953"
             ],
             [
              0.7777777777777778,
              "#fb9f3a"
             ],
             [
              0.8888888888888888,
              "#fdca26"
             ],
             [
              1,
              "#f0f921"
             ]
            ],
            "type": "histogram2d"
           }
          ],
          "histogram2dcontour": [
           {
            "colorbar": {
             "outlinewidth": 0,
             "ticks": ""
            },
            "colorscale": [
             [
              0,
              "#0d0887"
             ],
             [
              0.1111111111111111,
              "#46039f"
             ],
             [
              0.2222222222222222,
              "#7201a8"
             ],
             [
              0.3333333333333333,
              "#9c179e"
             ],
             [
              0.4444444444444444,
              "#bd3786"
             ],
             [
              0.5555555555555556,
              "#d8576b"
             ],
             [
              0.6666666666666666,
              "#ed7953"
             ],
             [
              0.7777777777777778,
              "#fb9f3a"
             ],
             [
              0.8888888888888888,
              "#fdca26"
             ],
             [
              1,
              "#f0f921"
             ]
            ],
            "type": "histogram2dcontour"
           }
          ],
          "mesh3d": [
           {
            "colorbar": {
             "outlinewidth": 0,
             "ticks": ""
            },
            "type": "mesh3d"
           }
          ],
          "parcoords": [
           {
            "line": {
             "colorbar": {
              "outlinewidth": 0,
              "ticks": ""
             }
            },
            "type": "parcoords"
           }
          ],
          "pie": [
           {
            "automargin": true,
            "type": "pie"
           }
          ],
          "scatter": [
           {
            "fillpattern": {
             "fillmode": "overlay",
             "size": 10,
             "solidity": 0.2
            },
            "type": "scatter"
           }
          ],
          "scatter3d": [
           {
            "line": {
             "colorbar": {
              "outlinewidth": 0,
              "ticks": ""
             }
            },
            "marker": {
             "colorbar": {
              "outlinewidth": 0,
              "ticks": ""
             }
            },
            "type": "scatter3d"
           }
          ],
          "scattercarpet": [
           {
            "marker": {
             "colorbar": {
              "outlinewidth": 0,
              "ticks": ""
             }
            },
            "type": "scattercarpet"
           }
          ],
          "scattergeo": [
           {
            "marker": {
             "colorbar": {
              "outlinewidth": 0,
              "ticks": ""
             }
            },
            "type": "scattergeo"
           }
          ],
          "scattergl": [
           {
            "marker": {
             "colorbar": {
              "outlinewidth": 0,
              "ticks": ""
             }
            },
            "type": "scattergl"
           }
          ],
          "scattermapbox": [
           {
            "marker": {
             "colorbar": {
              "outlinewidth": 0,
              "ticks": ""
             }
            },
            "type": "scattermapbox"
           }
          ],
          "scatterpolar": [
           {
            "marker": {
             "colorbar": {
              "outlinewidth": 0,
              "ticks": ""
             }
            },
            "type": "scatterpolar"
           }
          ],
          "scatterpolargl": [
           {
            "marker": {
             "colorbar": {
              "outlinewidth": 0,
              "ticks": ""
             }
            },
            "type": "scatterpolargl"
           }
          ],
          "scatterternary": [
           {
            "marker": {
             "colorbar": {
              "outlinewidth": 0,
              "ticks": ""
             }
            },
            "type": "scatterternary"
           }
          ],
          "surface": [
           {
            "colorbar": {
             "outlinewidth": 0,
             "ticks": ""
            },
            "colorscale": [
             [
              0,
              "#0d0887"
             ],
             [
              0.1111111111111111,
              "#46039f"
             ],
             [
              0.2222222222222222,
              "#7201a8"
             ],
             [
              0.3333333333333333,
              "#9c179e"
             ],
             [
              0.4444444444444444,
              "#bd3786"
             ],
             [
              0.5555555555555556,
              "#d8576b"
             ],
             [
              0.6666666666666666,
              "#ed7953"
             ],
             [
              0.7777777777777778,
              "#fb9f3a"
             ],
             [
              0.8888888888888888,
              "#fdca26"
             ],
             [
              1,
              "#f0f921"
             ]
            ],
            "type": "surface"
           }
          ],
          "table": [
           {
            "cells": {
             "fill": {
              "color": "#EBF0F8"
             },
             "line": {
              "color": "white"
             }
            },
            "header": {
             "fill": {
              "color": "#C8D4E3"
             },
             "line": {
              "color": "white"
             }
            },
            "type": "table"
           }
          ]
         },
         "layout": {
          "annotationdefaults": {
           "arrowcolor": "#2a3f5f",
           "arrowhead": 0,
           "arrowwidth": 1
          },
          "autotypenumbers": "strict",
          "coloraxis": {
           "colorbar": {
            "outlinewidth": 0,
            "ticks": ""
           }
          },
          "colorscale": {
           "diverging": [
            [
             0,
             "#8e0152"
            ],
            [
             0.1,
             "#c51b7d"
            ],
            [
             0.2,
             "#de77ae"
            ],
            [
             0.3,
             "#f1b6da"
            ],
            [
             0.4,
             "#fde0ef"
            ],
            [
             0.5,
             "#f7f7f7"
            ],
            [
             0.6,
             "#e6f5d0"
            ],
            [
             0.7,
             "#b8e186"
            ],
            [
             0.8,
             "#7fbc41"
            ],
            [
             0.9,
             "#4d9221"
            ],
            [
             1,
             "#276419"
            ]
           ],
           "sequential": [
            [
             0,
             "#0d0887"
            ],
            [
             0.1111111111111111,
             "#46039f"
            ],
            [
             0.2222222222222222,
             "#7201a8"
            ],
            [
             0.3333333333333333,
             "#9c179e"
            ],
            [
             0.4444444444444444,
             "#bd3786"
            ],
            [
             0.5555555555555556,
             "#d8576b"
            ],
            [
             0.6666666666666666,
             "#ed7953"
            ],
            [
             0.7777777777777778,
             "#fb9f3a"
            ],
            [
             0.8888888888888888,
             "#fdca26"
            ],
            [
             1,
             "#f0f921"
            ]
           ],
           "sequentialminus": [
            [
             0,
             "#0d0887"
            ],
            [
             0.1111111111111111,
             "#46039f"
            ],
            [
             0.2222222222222222,
             "#7201a8"
            ],
            [
             0.3333333333333333,
             "#9c179e"
            ],
            [
             0.4444444444444444,
             "#bd3786"
            ],
            [
             0.5555555555555556,
             "#d8576b"
            ],
            [
             0.6666666666666666,
             "#ed7953"
            ],
            [
             0.7777777777777778,
             "#fb9f3a"
            ],
            [
             0.8888888888888888,
             "#fdca26"
            ],
            [
             1,
             "#f0f921"
            ]
           ]
          },
          "colorway": [
           "#636efa",
           "#EF553B",
           "#00cc96",
           "#ab63fa",
           "#FFA15A",
           "#19d3f3",
           "#FF6692",
           "#B6E880",
           "#FF97FF",
           "#FECB52"
          ],
          "font": {
           "color": "#2a3f5f"
          },
          "geo": {
           "bgcolor": "white",
           "lakecolor": "white",
           "landcolor": "#E5ECF6",
           "showlakes": true,
           "showland": true,
           "subunitcolor": "white"
          },
          "hoverlabel": {
           "align": "left"
          },
          "hovermode": "closest",
          "mapbox": {
           "style": "light"
          },
          "paper_bgcolor": "white",
          "plot_bgcolor": "#E5ECF6",
          "polar": {
           "angularaxis": {
            "gridcolor": "white",
            "linecolor": "white",
            "ticks": ""
           },
           "bgcolor": "#E5ECF6",
           "radialaxis": {
            "gridcolor": "white",
            "linecolor": "white",
            "ticks": ""
           }
          },
          "scene": {
           "xaxis": {
            "backgroundcolor": "#E5ECF6",
            "gridcolor": "white",
            "gridwidth": 2,
            "linecolor": "white",
            "showbackground": true,
            "ticks": "",
            "zerolinecolor": "white"
           },
           "yaxis": {
            "backgroundcolor": "#E5ECF6",
            "gridcolor": "white",
            "gridwidth": 2,
            "linecolor": "white",
            "showbackground": true,
            "ticks": "",
            "zerolinecolor": "white"
           },
           "zaxis": {
            "backgroundcolor": "#E5ECF6",
            "gridcolor": "white",
            "gridwidth": 2,
            "linecolor": "white",
            "showbackground": true,
            "ticks": "",
            "zerolinecolor": "white"
           }
          },
          "shapedefaults": {
           "line": {
            "color": "#2a3f5f"
           }
          },
          "ternary": {
           "aaxis": {
            "gridcolor": "white",
            "linecolor": "white",
            "ticks": ""
           },
           "baxis": {
            "gridcolor": "white",
            "linecolor": "white",
            "ticks": ""
           },
           "bgcolor": "#E5ECF6",
           "caxis": {
            "gridcolor": "white",
            "linecolor": "white",
            "ticks": ""
           }
          },
          "title": {
           "x": 0.05
          },
          "xaxis": {
           "automargin": true,
           "gridcolor": "white",
           "linecolor": "white",
           "ticks": "",
           "title": {
            "standoff": 15
           },
           "zerolinecolor": "white",
           "zerolinewidth": 2
          },
          "yaxis": {
           "automargin": true,
           "gridcolor": "white",
           "linecolor": "white",
           "ticks": "",
           "title": {
            "standoff": 15
           },
           "zerolinecolor": "white",
           "zerolinewidth": 2
          }
         }
        },
        "updatemenus": [
         {
          "buttons": [
           {
            "args": [
             null,
             {
              "frame": {
               "duration": 500,
               "redraw": false
              },
              "fromcurrent": true,
              "mode": "immediate",
              "transition": {
               "duration": 500,
               "easing": "linear"
              }
             }
            ],
            "label": "&#9654;",
            "method": "animate"
           },
           {
            "args": [
             [
              null
             ],
             {
              "frame": {
               "duration": 0,
               "redraw": false
              },
              "fromcurrent": true,
              "mode": "immediate",
              "transition": {
               "duration": 0,
               "easing": "linear"
              }
             }
            ],
            "label": "&#9724;",
            "method": "animate"
           }
          ],
          "direction": "left",
          "pad": {
           "r": 10,
           "t": 70
          },
          "showactive": false,
          "type": "buttons",
          "x": 0.1,
          "xanchor": "right",
          "y": 0,
          "yanchor": "top"
         }
        ],
        "width": 700,
        "xaxis": {
         "anchor": "y",
         "domain": [
          0,
          1
         ],
         "title": {
          "text": "PC1"
         }
        },
        "yaxis": {
         "anchor": "x",
         "domain": [
          0,
          1
         ],
         "title": {
          "text": "PC2"
         }
        }
       }
      }
     },
     "metadata": {},
     "output_type": "display_data"
    }
   ],
   "source": [
    "class KMeansClustering():\n",
    "    def __init__(self,k:int=3,max_epochs:int=100, n_init:int=1, delta:float=1e-15, seed:int|None=None):\n",
    "        \"\"\"初期化\n",
    "\n",
    "        Parameters\n",
    "        ----------\n",
    "        k : int, optional\n",
    "            クラスタ数, by default 3\n",
    "        max_epochs : int, optional\n",
    "            最大更新回数, by default 100\n",
    "        n_init : int, optional\n",
    "            初期インスタンス生成数, by default 1\n",
    "        delta : float, optional\n",
    "            許容誤差, by default 1e-15\n",
    "        seed : int, optional\n",
    "            疑似乱数シード, by default None\n",
    "        \"\"\"\n",
    "        self.k = k \n",
    "        self.max_epochs = max_epochs\n",
    "        self.delta = delta # Tolerance for stopping criterion. \n",
    "        self.seed = seed if isinstance(seed, int) else np.random.randint(2**20)\n",
    "        self.rng = np.random.default_rng(self.seed)\n",
    "        self.n_init=n_init\n",
    "        \n",
    "    def fit(self, X,y=None):\n",
    "        num_data, num_features = X.shape\n",
    "        \n",
    "        # initialize centroids\n",
    "        \"\"\"\n",
    "        self.centroids = np.zeros((self.k, num_features))\n",
    "        for i in range(num_features):\n",
    "            max_value = np.max(X[:,i])\n",
    "            min_value = np.min(X[:,i])\n",
    "            centroid = self.rng.uniform(min_value,max_value, size=(self.k,))\n",
    "            self.centroids[:,i] = centroid\n",
    "        \"\"\"\n",
    "        # initialize labels\n",
    "        labels = self.rng.integers(self.k, size=(num_data))\n",
    "        \n",
    "        # initialize centroids\n",
    "        centroids = []\n",
    "        for label in range(self.k):\n",
    "            current_members = X[labels == label]\n",
    "            new_centroid = current_members.mean(axis=0)\n",
    "            centroids.append(new_centroid)\n",
    "        self.centroids = np.vstack(centroids)\n",
    "        self._labels = [labels]\n",
    "        # initialize labels  \n",
    "        labels = self.predict(X)\n",
    "        self._labels.append(labels)\n",
    "        \n",
    "        for epoch in range(self.max_epochs):\n",
    "            delta = np.zeros(self.k)\n",
    "            # update labels  \n",
    "            labels = self.predict(X)\n",
    "            self._labels.append(labels)\n",
    "            \n",
    "            # update centroids\n",
    "            for label in range(self.k):\n",
    "                mask = labels == label\n",
    "                assert mask.sum()!=0, f\"更新{epoch}回目でクラスタ{label}が消滅した. {mask.sum()}\"\n",
    "                \n",
    "                current_members = X[mask]\n",
    "                new_centroid = current_members.mean(axis=0)\n",
    "                delta[label] = np.linalg.norm(self.centroids[label] - new_centroid)\n",
    "                self.centroids[label] = new_centroid\n",
    "                \n",
    "            # breaking condition\n",
    "            if self.delta >= delta.mean():\n",
    "                #print(f\"breaking at epoch-{epoch}\")\n",
    "                #labels = self.predict(X)\n",
    "                #self._labels.append(labels)\n",
    "                break\n",
    "                \n",
    "        return self\n",
    "    \n",
    "    def predict(self,X):\n",
    "        # update labels \n",
    "        labels = np.zeros(X.shape[0], dtype=int)\n",
    "        for index, x in enumerate(X):\n",
    "            distance = np.linalg.norm(self.centroids - x, axis=1)\n",
    "            labels[index] = np.argmin(distance)\n",
    "        return labels\n",
    "    \n",
    "    def transform(self, X):\n",
    "        embed = []\n",
    "        for index, x in enumerate(X):\n",
    "            distance = np.linalg.norm(self.centroids - x, axis=1)\n",
    "            embed.append(distance)\n",
    "        \n",
    "        embed = np.concatenate(embed)\n",
    "        return embed\n",
    "    \n",
    "# ------ 訓練と推論の実行\n",
    "from sklearn.preprocessing import StandardScaler\n",
    "scaler = StandardScaler()\n",
    "scaler.fit(X_train)\n",
    "X = scaler.transform(X_train)\n",
    "\n",
    "model = KMeansClustering(k=3)\n",
    "model.fit(X)\n",
    "\n",
    "print(\"予測したクラスタ\",model.predict(X))\n",
    "\n",
    "\n",
    "# ------ 学習中のクラスタの変化を可視化\n",
    "\n",
    "from sklearn.decomposition import PCA\n",
    "\n",
    "pca = PCA(2)\n",
    "X_embed = pca.fit_transform(X)\n",
    "\n",
    "tmp = []\n",
    "for i,l in enumerate(model._labels):\n",
    "    df= pd.DataFrame(X_embed, columns=[\"PC1\", \"PC2\"])\n",
    "    #df= pd.DataFrame(X_train, columns=iris.feature_names)\n",
    "    df[\"cluster_index\"] = l\n",
    "    df[\"epoch\"] = i\n",
    "    tmp.append(df)\n",
    "\n",
    "df = pd.concat(tmp)\n",
    "\n",
    "#px.scatter(df, x='sepal length (cm)', y='sepal width (cm)',color=\"cluster_index\",\n",
    "px.scatter(df, x='PC1', y='PC2',color=\"cluster_index\",\n",
    "           width=700, height=600, \n",
    "           animation_frame=\"epoch\"\n",
    "          )\n"
   ]
  },
  {
   "cell_type": "markdown",
   "id": "b4b9f3aa",
   "metadata": {},
   "source": [
    "関数として実装した例を以下に示します．"
   ]
  },
  {
   "cell_type": "code",
   "execution_count": 1,
   "id": "6b027d1c",
   "metadata": {
    "tags": [
     "hide-input",
     "hide-output"
    ]
   },
   "outputs": [
    {
     "ename": "NameError",
     "evalue": "name 'X' is not defined",
     "output_type": "error",
     "traceback": [
      "\u001b[0;31m---------------------------------------------------------------------------\u001b[0m",
      "\u001b[0;31mNameError\u001b[0m                                 Traceback (most recent call last)",
      "Cell \u001b[0;32mIn[1], line 46\u001b[0m\n\u001b[1;32m     38\u001b[0m     \u001b[38;5;28;01mreturn\u001b[39;00m labels\n\u001b[1;32m     40\u001b[0m \u001b[38;5;124;03m\"\"\"\u001b[39;00m\n\u001b[1;32m     41\u001b[0m \u001b[38;5;124;03mdistance = np.zeros((D,K))\u001b[39;00m\n\u001b[1;32m     42\u001b[0m \u001b[38;5;124;03mfor d in range(D):\u001b[39;00m\n\u001b[1;32m     43\u001b[0m \u001b[38;5;124;03m    for k in range(K):\u001b[39;00m\n\u001b[1;32m     44\u001b[0m \u001b[38;5;124;03m        distance[d,k] = np.sum((X[d]-centroids[k])**2)**(1/2)\u001b[39;00m\n\u001b[1;32m     45\u001b[0m \u001b[38;5;124;03m\"\"\"\u001b[39;00m;\n\u001b[0;32m---> 46\u001b[0m kmeans(\u001b[43mX\u001b[49m)\n",
      "\u001b[0;31mNameError\u001b[0m: name 'X' is not defined"
     ]
    }
   ],
   "source": [
    "# 関数として実装した例\n",
    "\n",
    "def kmeans(X, K:int=3, N:int=100):\n",
    "    D,F = X.shape # インスタンス数 ✖️ 特徴数\n",
    "    labels = np.random.randint(0,K,size=D)\n",
    "    centroids = np.zeros((K,F))\n",
    "    for k in range(K): \n",
    "        centroids[k] = X[labels==k].mean(axis=0)\n",
    "    for i in range(N):\n",
    "        _labels = labels\n",
    "        distance = np.linalg.norm(centroids[None,:,:] - X[:,None,:],axis=-1)\n",
    "        print(distance.shape)\n",
    "        labels = np.argmin(distance,axis=-1)\n",
    "        for k in range(K): \n",
    "            centroids[k] = X[labels==k].mean(axis=0)\n",
    "        if (_labels == labels).sum() == D:\n",
    "            break    \n",
    "    return labels\n",
    "\n",
    "def kmeans(X, K:int=3, N:int=100, eps:float=1e-7):\n",
    "    D,F = X.shape # インスタンス数 ✖️ 特徴数\n",
    "    labels = np.random.randint(0,K,size=D)\n",
    "    centroids = np.zeros((K,F))\n",
    "    for k in range(K): \n",
    "        centroids[k] = X[labels==k].mean(axis=0)\n",
    "    for i in range(N):\n",
    "        _labels = labels\n",
    "        #distance = np.linalg.norm(centroids[None,:,:] - X[:,None,:],axis=-1)\n",
    "        distance = np.zeros((D,K))\n",
    "        for d in range(D):\n",
    "            for k in range(K):\n",
    "                distance[d,k] = np.sum((X[d]-centroids[k])**2)**(1/2)\n",
    "        labels = np.argmin(distance,axis=-1)\n",
    "        for k in range(K): \n",
    "            centroids[k] = X[labels==k].mean(axis=0)\n",
    "        if (_labels == labels).sum() == D:\n",
    "            break    \n",
    "    return labels\n",
    "\n",
    "\"\"\"\n",
    "distance = np.zeros((D,K))\n",
    "for d in range(D):\n",
    "    for k in range(K):\n",
    "        distance[d,k] = np.sum((X[d]-centroids[k])**2)**(1/2)\n",
    "\"\"\";\n",
    "kmeans(X)"
   ]
  },
  {
   "cell_type": "markdown",
   "id": "fa00afbc",
   "metadata": {
    "tags": []
   },
   "source": [
    "### [基礎] KMeansClustering`を使って、iris datasetに適切なkをエルボー法で求めよ\n",
    "\n"
   ]
  },
  {
   "cell_type": "code",
   "execution_count": 70,
   "id": "38d78805",
   "metadata": {},
   "outputs": [],
   "source": [
    "pass"
   ]
  },
  {
   "cell_type": "markdown",
   "id": "1c784362",
   "metadata": {},
   "source": [
    "### [発展] クラスタリングの評価指標として利用されるPurityについて調べて、関数として実装せよ。またK=2からk=20までのpurityを計算し、折れ線グラフで示せ。\n",
    "\n",
    "純度(Purity)はクラスター内に含まれる教師ラベルの内，最もクラスター内に多くのインスタンス数を持つものの割合の重み付き和のこと。"
   ]
  },
  {
   "cell_type": "code",
   "execution_count": 69,
   "id": "210c53c6",
   "metadata": {},
   "outputs": [],
   "source": [
    "pass"
   ]
  },
  {
   "cell_type": "markdown",
   "id": "95b0bf1b",
   "metadata": {},
   "source": [
    "### [発展]シルエット分析について調べ、これを実装せよ。またK=3,10の場合の結果を示せ。"
   ]
  },
  {
   "cell_type": "code",
   "execution_count": 71,
   "id": "461ead2b",
   "metadata": {},
   "outputs": [],
   "source": [
    "pass"
   ]
  },
  {
   "cell_type": "markdown",
   "id": "1c9397da",
   "metadata": {},
   "source": [
    "https://hkawabata.github.io/technical-note/note/ML/k-means.html"
   ]
  }
 ],
 "metadata": {
  "kernelspec": {
   "display_name": "datasci",
   "language": "python",
   "name": "python3"
  },
  "language_info": {
   "codemirror_mode": {
    "name": "ipython",
    "version": 3
   },
   "file_extension": ".py",
   "mimetype": "text/x-python",
   "name": "python",
   "nbconvert_exporter": "python",
   "pygments_lexer": "ipython3",
   "version": "3.11.8"
  }
 },
 "nbformat": 4,
 "nbformat_minor": 5
}
