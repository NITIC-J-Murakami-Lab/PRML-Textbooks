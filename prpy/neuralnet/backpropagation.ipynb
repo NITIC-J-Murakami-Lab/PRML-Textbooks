{
 "cells": [
  {
   "cell_type": "markdown",
   "metadata": {},
   "source": [
    "# Back Propagation (誤差逆伝播法)\n",
    "\n",
    "1. https://deepage.net/deep_learning/2017/04/02/backpropagation.html\n",
    "2. https://qiita.com/ys_dirard/items/5c3590833a2e08e99643\n"
   ]
  },
  {
   "cell_type": "code",
   "execution_count": null,
   "metadata": {},
   "outputs": [],
   "source": []
  }
 ],
 "metadata": {
  "language_info": {
   "name": "python"
  }
 },
 "nbformat": 4,
 "nbformat_minor": 2
}
