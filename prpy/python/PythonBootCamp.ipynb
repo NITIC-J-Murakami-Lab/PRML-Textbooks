{
 "cells": [
  {
   "cell_type": "markdown",
   "metadata": {},
   "source": [
    "# Python BootCamp "
   ]
  },
  {
   "cell_type": "markdown",
   "metadata": {},
   "source": [
    "## 「fizzbuzzを行う関数を実装しよう」\n",
    "\n",
    "fizzbuzzを行う関数を実装しましょう。\n",
    "Fizz Buzzについては[wikiを参照](https://ja.wikipedia.org/wiki/Fizz_Buzz)してください。\n",
    "\n",
    "\n",
    "関数の雛形として、以下を用意しました。\n",
    "```python\n",
    "def fizzbuzz(max_number):\n",
    "    for i in range(max_number):\n",
    "        print(\"{}\".format(i))\n",
    "```\n",
    "これを拡張して、max_numberとして与えられた数字(int)までfizz buzzする関数を作成し、実行結果を示してください。\n"
   ]
  },
  {
   "cell_type": "code",
   "execution_count": 1,
   "metadata": {},
   "outputs": [
    {
     "name": "stdout",
     "output_type": "stream",
     "text": [
      "0\n",
      "1\n",
      "2\n",
      "3\n",
      "4\n"
     ]
    }
   ],
   "source": [
    "# 関数の宣言\n",
    "def fizzbuzz(max_number):\n",
    "    for i in range(max_number):\n",
    "        print(\"{}\".format(i))\n",
    "        \n",
    "# 実行\n",
    "fizzbuzz(5)"
   ]
  },
  {
   "cell_type": "markdown",
   "metadata": {},
   "source": [
    "## 「フィボナッチ数列を100桁目まで返す関数を実装しよう」\n",
    "\n",
    "\n",
    "フィボナッチ数列を列挙する関数を作りましょう。\n",
    "\n",
    "```python\n",
    "fib_list = [1,1]\n",
    "```\n",
    "が最初に与えられます。これを元にしてどんどんfib_listにフォボナッチ数列を作成して、len(fib_list)==100になるまでそれを繰り返してください。"
   ]
  },
  {
   "cell_type": "code",
   "execution_count": 2,
   "metadata": {},
   "outputs": [],
   "source": [
    "fib_list = [1,1]"
   ]
  },
  {
   "cell_type": "markdown",
   "metadata": {},
   "source": [
    "## 「aからbまでの和を計算する関数を実装しよう」\n",
    "\n",
    "$a=5, b=10$ ならば \n",
    " \n",
    "$$\n",
    "\\text{result} = 5+6+7+8+9+10\n",
    "$$\n",
    "\n",
    "のように、aとbの２つのint型数字を受け取って、aからbまで足し合わせた答えを返す関数を作りましょう。\n",
    "\n",
    "ただし、以下の条件をみたすようにしてください。\n",
    "* a < bの場合は正しく動作し、それ以外の場合（a >= b）は標準出力に\"ERROR\"と表示。\n",
    "* Pythonの組み込み関数であるsum()は使わない事。\n"
   ]
  },
  {
   "cell_type": "code",
   "execution_count": 5,
   "metadata": {},
   "outputs": [],
   "source": [
    "def mysum():\n",
    "    ..."
   ]
  },
  {
   "cell_type": "markdown",
   "metadata": {},
   "source": [
    "## 「階乗を計算する関数を実装しよう」\n",
    "\n",
    "\n",
    " [階乗とは](https://ja.wikipedia.org/wiki/%E9%9A%8E%E4%B9%97)\n",
    "\n",
    "階乗を実装する関数を作成しましょう。\n",
    "\n",
    "```python\n",
    "def factorial(target_number):\n",
    "    result = 1\n",
    "    return result\n",
    "```\n",
    "上記の関数を元にして、階乗を計算する関数を完成させましょう。"
   ]
  },
  {
   "cell_type": "code",
   "execution_count": 3,
   "metadata": {},
   "outputs": [],
   "source": [
    "def factorial(target_number):\n",
    "    result = 0\n",
    "    return result"
   ]
  },
  {
   "cell_type": "markdown",
   "metadata": {},
   "source": [
    "# 「最大公約数を求める関数を実装しよう」\n",
    "\n",
    "ユークリッドの互除法を使って、２つの数字から最大公約数を求める関数を作成しましょう！\n",
    "\n",
    "ただし、これは非常に簡単なコードになります。ですので、ユークリッドの互除法について知りたい場合は[このページ](https://ja.wikipedia.org/wiki/%E3%83%A6%E3%83%BC%E3%82%AF%E3%83%AA%E3%83%83%E3%83%89%E3%81%AE%E4%BA%92%E9%99%A4%E6%B3%95)以外のみから理解して、プログラムを実装してください。\n",
    "\n",
    "```python\n",
    "def euclidean_algorithm(a, b):\n",
    "    pass\n",
    "```\n"
   ]
  },
  {
   "cell_type": "code",
   "execution_count": 8,
   "metadata": {},
   "outputs": [],
   "source": [
    "def euclidean_algorithm(a, b):\n",
    "    ..."
   ]
  },
  {
   "cell_type": "markdown",
   "metadata": {},
   "source": [
    "## 「数字を逆順にしよう」\n",
    "\n",
    "与えられた数字を逆に並べ替える関数を作成して下さい。\n",
    "\n",
    "例：4365->5634\n",
    "\n",
    "以降、問題文の下に関数の雛形が与えられた場合はそれを改変して答えを作成してください。  \n",
    "また、作成した関数の実行結果まで示してください。"
   ]
  },
  {
   "cell_type": "code",
   "execution_count": 7,
   "metadata": {},
   "outputs": [],
   "source": [
    "def reversed_int(x):\n",
    "    ...\n"
   ]
  },
  {
   "cell_type": "markdown",
   "metadata": {},
   "source": [
    "## 「与えられた文書中の任意の文字列の出現回数を数える関数を作成しよう」\n",
    "\n",
    "与えられた文書に任意の文字列が何個出現するのか数える関数を作成して下さい。\n",
    "\n",
    "例：一寸法師の歌詞中に「一寸法師」という文字列は何回出現するか"
   ]
  },
  {
   "cell_type": "code",
   "execution_count": 10,
   "metadata": {
    "tags": [
     "hide-input"
    ]
   },
   "outputs": [],
   "source": [
    "# ref http://www.worldfolksong.com/songbook/japan/issun-boshi.htm\n",
    "sample_docs = \"\"\"\n",
    "指にたりない一寸法師\n",
    "小さいからだに大きな望み\n",
    "お椀の舟に箸のかい\n",
    "京へはるばるのぼりゆく\n",
    "\n",
    "打出の小槌京は三条の大臣どのに\n",
    "抱えられたる一寸法師\n",
    "法師法師とお気に入り\n",
    "姫のお伴で清水へ\n",
    "\n",
    "さても帰りの清水寺に\n",
    "鬼が一匹現れ出でて\n",
    "食ってかかればその口へ\n",
    "法師たちまち踊りこむ\n",
    "\n",
    "針の刀を逆手にもって\n",
    "チクリチクリと腹つけば\n",
    "鬼は法師を吐きだして\n",
    "一生けんめい逃げていく\n",
    "\n",
    "鬼が忘れた打ち出の小槌\n",
    "打てばふしぎや一寸法師\n",
    "ひと打ちごとに背がのびて\n",
    "今は立派な大男\n",
    "\"\"\";"
   ]
  },
  {
   "cell_type": "code",
   "execution_count": 14,
   "metadata": {},
   "outputs": [],
   "source": [
    "def keyword_counter(keyword, sample_docs):\n",
    "    ..."
   ]
  },
  {
   "cell_type": "markdown",
   "metadata": {},
   "source": [
    "## 「hoge.txtを読み込む関数を作成しよう」\n",
    "\n",
    "任意のテキストファイルを読み込んで、テキストファイル内に書かれた内容を文字列型オブジェクトとして返す関数を作成しましょう。\n",
    "\n",
    "この関数はファイルパスを受け取り、読み込んだファイル内に記述された内容を文字列として返す機能を実装します。"
   ]
  },
  {
   "cell_type": "code",
   "execution_count": 20,
   "metadata": {},
   "outputs": [],
   "source": [
    "def read_textfile(path:str):\n",
    "    \"\"\"ファイルを読み込んで文字列を返す\n",
    "    \"\"\"\n",
    "    return contents"
   ]
  },
  {
   "cell_type": "markdown",
   "metadata": {},
   "source": [
    "## 「文字列をテキストファイルとして保存する関数を作成しよう」\n",
    "\n",
    "任意の文字列型オブジェクトと、保存先のパスを受け取り、文字列をファイルに書き込む（ファイルに保存する）関数を作成してください。\n",
    "\n",
    "返り値はなくて構いません。保存が終わったらファイルの保存先を標準出力にprintしてください。  \n",
    "printの形式は「文字列を/your/path/text.txtに保存しました。」という形式にしてください。"
   ]
  },
  {
   "cell_type": "code",
   "execution_count": 19,
   "metadata": {},
   "outputs": [],
   "source": [
    "def write_textfile(path:str, content:str):\n",
    "    pass\n"
   ]
  },
  {
   "cell_type": "markdown",
   "metadata": {},
   "source": [
    "## 「受け取った文字列が回文か否かを判別する関数を作成しよう」\n",
    "\n",
    "うけとった文字列が回文か否かを判別する関数を作成してください。\n",
    "\n",
    "ただしこの時、関数が受け取る文字列は句読点や記号を含まないものと仮定します。（記号などが含まれる場合については考えなくても良い）\n",
    "\n",
    "回分であればTrue, 回文でなければFalseを返り値として返してください。"
   ]
  },
  {
   "cell_type": "code",
   "execution_count": 21,
   "metadata": {},
   "outputs": [],
   "source": [
    "def palindrome_checker(sent:str)->bool:\n",
    "    ..."
   ]
  },
  {
   "cell_type": "markdown",
   "metadata": {},
   "source": [
    "## 「六面のサイコロを再現した関数を作ろう」\n",
    "```python\n",
    "import random\n",
    "```\n",
    "を使って六面（1～6）のサイコロを実装した関数を作りましょう。  \n",
    "この関数は引数を受け取らず、返り値は面の数です。\n",
    "\n",
    "例：\n",
    "```python\n",
    ">>>dice()\n",
    "3\n",
    "```"
   ]
  },
  {
   "cell_type": "code",
   "execution_count": null,
   "metadata": {},
   "outputs": [],
   "source": []
  },
  {
   "cell_type": "markdown",
   "metadata": {},
   "source": [
    "## 「面の数を変えられるサイコロを実装した関数を作ろう」\n",
    "\n",
    "先程は六面に限定していましたが、今度は面の数を自由に変えられるようにしましょう。  \n",
    "\n",
    "目の数はn_rollで決定します。  \n",
    "それ以外は先程の関数と同様にしましょう。  "
   ]
  },
  {
   "cell_type": "code",
   "execution_count": 22,
   "metadata": {},
   "outputs": [],
   "source": [
    "def mutable_dice(n_roll:int)->int:\n",
    "    ..."
   ]
  },
  {
   "cell_type": "markdown",
   "metadata": {},
   "source": [
    "## 「歪なサイコロを再現した関数を作ろう」\n",
    "\n",
    ">歪なサイコロがあります。  \n",
    ">このサイコロは歪なので、それぞれの面がでる確率は等しくはありません。  \n",
    "\n",
    "このサイコロを実装しましょう。  \n",
    "このサイコロ関数は出目の出やすさの確率分布を受け取ります。  \n",
    "例として[0.1, 0.4, 0.23, 0.17, 0.08, 0.02]という確率分布を受け取る場合、\n",
    "* 1の面は0.1\n",
    "* 2の面は0.4\n",
    "* ...\n",
    "* 6の面は0.02\n",
    "\n",
    "の割合でサイコロの目が出ます。\n",
    "\n",
    "\n"
   ]
  },
  {
   "cell_type": "code",
   "execution_count": 23,
   "metadata": {},
   "outputs": [],
   "source": [
    "sample_prob = [0.1, 0.4, 0.23, 0.17, 0.08, 0.02]\n",
    "\n",
    "def distorted_dice(prob:list)->int:\n",
    "    \"\"\"歪なサイコロの関数。引数としてサイコロの出目の「出やすさ」を表す確率分布を受け取り、一回試行して出た目の数字を返す。\n",
    "    \"\"\"\n",
    "    # numは出目\n",
    "    return num "
   ]
  },
  {
   "cell_type": "markdown",
   "metadata": {},
   "source": [
    "## 「歪なサイコロの出目をでやすさの順に並べよう」\n",
    "\n",
    "sample_probを元に、keyを「出目の番号」、値を「出る確率」として辞書を作ってください。 \n",
    "\n",
    "そして、辞書.values(), 辞書.keys(),辞書.values()などのメソッドと、sorted関数を使い、  \n",
    "でやすさの順に出目の番号を並べたリストを作成してみましょう。"
   ]
  },
  {
   "cell_type": "markdown",
   "metadata": {},
   "source": [
    "## 「歪なサイコロの出やすさを10000回試行して確かめてみよう」\n",
    "\n",
    "3で作った歪なサイコロ。sample_probの確率が本当にその通り出目に反映されているのか、10000回関数を実行して確かめてみましょう。\n",
    "\n",
    "サイコロを投げて出目を見る作業を、任意の回数繰り返して、各面の出た回数をリストにして返す関数を作成してみましょう。\n",
    "\n",
    "また、その関数を使って実際に10000回試行してみてください。"
   ]
  },
  {
   "cell_type": "markdown",
   "metadata": {},
   "source": [
    "## 「サイコロの出やすさを棒グラフで表してみよう」\n",
    "\n",
    "matplotlib.pyplotの中にbarという関数があります。これを使って先程5で得たリストを棒グラフにしてみて下さい。\n",
    "\n",
    "参考: http://pythondatascience.plavox.info/matplotlib/棒グラフ\n",
    "\n",
    "\n",
    "::::{margin}\n",
    "ちなみに、jupyter notebookでグラフを表示するためのipython magicとして、上記の\n",
    "```\n",
    "%matplotlib inline\n",
    "```\n",
    "または\n",
    "```\n",
    "%matplotlib notebook\n",
    "```\n",
    "などがあります。\n",
    "\n",
    "これをjupyter notebookの上で実行すると、notebookの上にグラフを表示できるようになります。\n",
    "\n",
    "::::"
   ]
  },
  {
   "cell_type": "code",
   "execution_count": 24,
   "metadata": {},
   "outputs": [
    {
     "data": {
      "text/plain": [
       "Ellipsis"
      ]
     },
     "execution_count": 24,
     "metadata": {},
     "output_type": "execute_result"
    }
   ],
   "source": [
    "import matplotlib.pyplot as plt\n",
    "\n",
    "..."
   ]
  },
  {
   "cell_type": "markdown",
   "metadata": {},
   "source": [
    "## 「乱数でサンプルデータを作ろう」\n",
    "\n",
    "ランダムに0～1の範囲から取り出された乱数を20個まとめたリストを作りましょう。\n",
    "\n",
    "ここで「ランダムに0～1の範囲から取り出された乱数」とは__「 $0 \\leq x \\leq 1$の範囲の一様乱数からサンプリングされた数字」__を指します。\n",
    "\n",
    "randomモジュールを使って一様乱数を使う方法を以下に示します。"
   ]
  },
  {
   "cell_type": "code",
   "execution_count": 25,
   "metadata": {},
   "outputs": [
    {
     "data": {
      "text/plain": [
       "0.9803828439509389"
      ]
     },
     "execution_count": 25,
     "metadata": {},
     "output_type": "execute_result"
    }
   ],
   "source": [
    "import random\n",
    "\n",
    "random.uniform(0,1)"
   ]
  },
  {
   "cell_type": "markdown",
   "metadata": {},
   "source": [
    "::::{margin}\n",
    "※random.uniform(最小値,最大値)です。\n",
    "::::\n",
    "\n",
    "では課題を解くために、以下の関数を完成させてください。\n",
    "\n",
    "完成したらこれを実行してsample_list変数に返り値を入れてください。"
   ]
  },
  {
   "cell_type": "code",
   "execution_count": 26,
   "metadata": {},
   "outputs": [],
   "source": [
    "def sample_list_generator(min_val, max_val, sample_size)->list:\n",
    "    \"\"\"\n",
    "    min_valは乱数の最小値\n",
    "    max_valは乱数の最大値\n",
    "    sample_sizeはサンプルリストのサイズ\n",
    "    \"\"\"\n",
    "    sample_list = [] # とりあえずからのリストを作成\n",
    "    for i in range(sample_size):\n",
    "      x = random.uniform(min_val, max_val) # 第一引数～第２引数の間からランダムに数字を取り出す関数\n",
    "      sample_list.append(x) # appendはlistに要素を追加するメソッド\n",
    "    return sample_list # :list"
   ]
  },
  {
   "cell_type": "markdown",
   "metadata": {},
   "source": [
    "## 「サンプルデータを可視化してみよう」\n",
    "\n",
    "「乱数でサンプルデータを作ろう」で作ったサンプルデータをmatplotlibで可視化してみましょう。"
   ]
  },
  {
   "cell_type": "markdown",
   "metadata": {},
   "source": [
    "matplotlibライブラリはPythonの最も有名な可視化ツールです。\n",
    "\n",
    "`matplotlib.pyplot`でmatplotlibの中のpyplotモジュールを呼び出します。  \n",
    "`as plt`でこれにpltというあだ名をつけています。  \n",
    "以降は`plt.なんとか` で`matplotlib.pyplot`の中身にアクセスできます。\n",
    "\n",
    "\n",
    "ではこれを使って、先程のサンプルデータを棒グラフで表してみてください。  "
   ]
  },
  {
   "cell_type": "code",
   "execution_count": 27,
   "metadata": {},
   "outputs": [],
   "source": [
    "# 棒グラフを作る機能 plt.bar()"
   ]
  }
 ],
 "metadata": {
  "kernelspec": {
   "display_name": ".venv",
   "language": "python",
   "name": "python3"
  },
  "language_info": {
   "codemirror_mode": {
    "name": "ipython",
    "version": 3
   },
   "file_extension": ".py",
   "mimetype": "text/x-python",
   "name": "python",
   "nbconvert_exporter": "python",
   "pygments_lexer": "ipython3",
   "version": "3.11.8"
  }
 },
 "nbformat": 4,
 "nbformat_minor": 2
}
