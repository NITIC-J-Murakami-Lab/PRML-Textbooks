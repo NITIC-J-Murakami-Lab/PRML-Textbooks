{
 "cells": [
  {
   "cell_type": "markdown",
   "metadata": {},
   "source": [
    "# 条件分岐"
   ]
  },
  {
   "cell_type": "markdown",
   "metadata": {},
   "source": [
    "## if文\n",
    "\n",
    "ようやくプログラミングらしいことをできる準備が整いました．\n",
    "\n",
    "ここで行う処理：\n",
    "```\n",
    "もし「条件１が正しい」なら\n",
    "    処理１を実行\n",
    "```\n",
    "\n",
    "これを実現するためのコード：\n",
    "```python\n",
    "if 条件1:\n",
    "    print(\"処理1を実行\")\n",
    "```\n",
    "\n",
    "\n",
    "では例えば`weight`という体重を入れる変数があったときに，weightが80以上なら「肥満だぞ！痩せろ！」と表示するプログラムはどうなる？\n",
    "\n",
    "こうなる👇\n",
    "```py\n",
    "if weight >= 80:\n",
    "    print(\"肥満だぞ！痩せろ！\")\n",
    "```\n",
    "\n",
    "これをコードセルにコピーして，weightが60, 80, 100の場合でそれぞれどんな結果になるか確かめてみよう．"
   ]
  },
  {
   "cell_type": "code",
   "execution_count": null,
   "metadata": {},
   "outputs": [],
   "source": []
  },
  {
   "cell_type": "markdown",
   "metadata": {},
   "source": [
    "ここで，printの前に半角スペース4つが入っていることに注目．これを __インデント（字下げ）__ と呼びます．Python中では`:`が出てきた次の行からインデントが登場します．  \n",
    "Pythonではインデントは非常に重要です．インデントが下がっている間は，同じ高さのコードがすべて，ひとまとまりの __コードブロック__ として扱われるからです．  \n",
    "\n",
    "ここではifのコントロール下にあることをインデントが表しています．なのでifに関係ないコードを書く場合は，インデントを消してifと同じ位置からプログラムを書き始めればOKです．\n",
    "\n",
    "*[試してみよう！]*\n",
    "```py\n",
    "if weight >= 80:\n",
    "    print(\"肥満だぞ！痩せろ！\")\n",
    "print(\"ダイエットには運動が一番！\")\n",
    "```\n",
    "\n",
    "\n"
   ]
  },
  {
   "cell_type": "code",
   "execution_count": null,
   "metadata": {},
   "outputs": [],
   "source": []
  },
  {
   "cell_type": "markdown",
   "metadata": {},
   "source": [
    "## else節\n",
    "\n",
    "先ほどの処理の続きです．weightが80以上でなければ「普通だぞ」と表示するプログラムはどう書けばいい？\n",
    "\n",
    "こう書けばいい👇\n",
    "```python\n",
    "if weight >= 80:\n",
    "    print(\"肥満だぞ！痩せろ！\")\n",
    "else:\n",
    "    print(\"普通だぞ\")\n",
    "```\n",
    "こちらもいろんな数字を入れて確かめてみよう．"
   ]
  },
  {
   "cell_type": "code",
   "execution_count": null,
   "metadata": {},
   "outputs": [],
   "source": []
  },
  {
   "cell_type": "markdown",
   "metadata": {},
   "source": [
    "### [問題]ビッグサンダーマウンテンの身長制限プログラムを作ってみよう\n",
    "\n",
    "東京ディズニーランドのアトラクション「ビッグサンダーマウンテン」では，身長102cm未満のお客さんは搭乗することができないそうです．これをPythonプログラムで実装してみましょう．\n",
    "\n",
    "> ![](https://media1.tokyodisneyresort.jp/images/adventure/attraction/461_main_visual_name_2.jpg?mod=20240221131113)  \n",
    "> ビッグサンダー・マウンテン｜東京ディズニーランド｜東京ディズニーリゾート より\n",
    "\n",
    "\n",
    "また，Aさん，Bさん，Cさんは「ビッグサンダーマウンテン」で遊ぶことができますか？プログラムを使って確認してみましょう．\n",
    "\n",
    "```python\n",
    "Aさん = 150 # cm\n",
    "Bさん = 100 # cm\n",
    "Cさん = 102 # cm\n",
    "```"
   ]
  },
  {
   "cell_type": "code",
   "execution_count": null,
   "metadata": {
    "tags": [
     "hide-input"
    ]
   },
   "outputs": [],
   "source": [
    "# ビッグサンダーマウンテンの身長チェックプログラム\n",
    "\n",
    "Aさん = 150 # cm\n",
    "Bさん = 100 # cm\n",
    "Cさん = 102 # cm\n",
    "\n",
    "if Aさん < 120:\n",
    "    print(\"乗れません\")\n",
    "else:\n",
    "    print(\"乗れますよ\")"
   ]
  },
  {
   "cell_type": "markdown",
   "metadata": {},
   "source": [
    "## elif節\n",
    "\n",
    "体重ネタの続き．先ほどのプログラムに追加で，体重が50未満の場合「痩せすぎだぞ」と表示するようにしたい．どうすればいい？\n",
    "\n",
    "こうすればいい👇\n",
    "```python\n",
    "if weight >= 80:\n",
    "    print(\"肥満だぞ！痩せろ！\")\n",
    "elif weight < 50:\n",
    "    print(\"痩せすぎだぞ\")\n",
    "else:\n",
    "    print(\"普通だぞ\")\n",
    "\n",
    "```"
   ]
  },
  {
   "cell_type": "code",
   "execution_count": null,
   "metadata": {},
   "outputs": [],
   "source": []
  },
  {
   "cell_type": "markdown",
   "metadata": {},
   "source": [
    "### [問題]if elif elseを使わなければ解けない問題を自分で考えて，これを解くプログラムを書いてみよう．（ただし，elifは2回以上使ってみよう）\n",
    "\n",
    "例：\n",
    "```python\n",
    "if weight <=20:\n",
    "    print(\"そんな軽い人間がいるものか！\")\n",
    "elif weight >= 80:\n",
    "    print(\"肥満だぞ！痩せろ！\")\n",
    "elif weight < 50:\n",
    "    print(\"痩せすぎだぞ\")\n",
    "else:\n",
    "    print(\"普通だぞ\")\n",
    "\n",
    "```"
   ]
  },
  {
   "cell_type": "code",
   "execution_count": null,
   "metadata": {},
   "outputs": [],
   "source": []
  }
 ],
 "metadata": {
  "kernelspec": {
   "display_name": ".venv",
   "language": "python",
   "name": "python3"
  },
  "language_info": {
   "codemirror_mode": {
    "name": "ipython",
    "version": 3
   },
   "file_extension": ".py",
   "mimetype": "text/x-python",
   "name": "python",
   "nbconvert_exporter": "python",
   "pygments_lexer": "ipython3",
   "version": "3.12.1"
  }
 },
 "nbformat": 4,
 "nbformat_minor": 2
}
