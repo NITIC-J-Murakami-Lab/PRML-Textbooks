{
 "cells": [
  {
   "cell_type": "markdown",
   "metadata": {},
   "source": [
    "# 外部モジュールの使い方"
   ]
  },
  {
   "cell_type": "markdown",
   "metadata": {},
   "source": [
    "## モジュールとは？\n",
    "\n",
    "モジュールとは.pyファイルのことです．ここでは自分や他の人が作った.pyファイルを読み込んで，自分のプログラムの中で利用する方法を学びます．\n",
    "\n",
    "\n",
    "## モジュールとパッケージ，ライブラリ\n",
    "\n",
    "> これらはすべて先人たちが書いたコードであり、それをほかの人が利用しやすい形に整えたり、よく使うものを集めたりしたものがモジュール、パッケージ、ライブラリと呼ばれています。  \n",
    "> ![](https://log.dot-co.co.jp/wp-content/uploads/2019/10/%E3%83%A9%E3%82%A4%E3%83%96%E3%83%A9%E3%83%AA%E3%81%A8%E3%83%91%E3%83%83%E3%82%B1%E3%83%BC%E3%82%B8%E3%81%A8%E3%83%A2%E3%82%B8%E3%83%A5%E3%83%BC%E3%83%AB%E3%81%AE%E9%81%95%E3%81%84.jpg)  \n",
    ">\n",
    "> モジュールは実行可能なコードファイル、パッケージはそれのセット、さらにライブラリはパッケージのセットとなっています。  \n",
    "> (出典：モジュールやパッケージ、ライブラリの違いとは？ python | .LOG https://log.dot-co.co.jp/module-package-lybrary/ )\n",
    "\n",
    "\n"
   ]
  },
  {
   "cell_type": "markdown",
   "metadata": {},
   "source": [
    "例えば数学的な関数をたくさん収めた標準モジュール`math`を使ってみます．"
   ]
  },
  {
   "cell_type": "code",
   "execution_count": 1,
   "metadata": {},
   "outputs": [],
   "source": [
    "import math # mathモジュールをそのまま，今扱っているPythonファイルに取り込みます．"
   ]
  },
  {
   "cell_type": "markdown",
   "metadata": {},
   "source": [
    "`import モジュール名`をすると，モジュールの中で定義された関数や変数を自分のプログラムの中で使うことができます．例えば："
   ]
  },
  {
   "cell_type": "code",
   "execution_count": 5,
   "metadata": {},
   "outputs": [
    {
     "data": {
      "text/plain": [
       "3.141592653589793"
      ]
     },
     "execution_count": 5,
     "metadata": {},
     "output_type": "execute_result"
    }
   ],
   "source": [
    "math.pi # 円周率"
   ]
  },
  {
   "cell_type": "code",
   "execution_count": 6,
   "metadata": {},
   "outputs": [
    {
     "data": {
      "text/plain": [
       "2.718281828459045"
      ]
     },
     "execution_count": 6,
     "metadata": {},
     "output_type": "execute_result"
    }
   ],
   "source": [
    "math.e # ネイピア数"
   ]
  },
  {
   "cell_type": "code",
   "execution_count": 7,
   "metadata": {},
   "outputs": [
    {
     "data": {
      "text/plain": [
       "32.0"
      ]
     },
     "execution_count": 7,
     "metadata": {},
     "output_type": "execute_result"
    }
   ],
   "source": [
    "math.pow(2,5) # 2**5"
   ]
  },
  {
   "cell_type": "code",
   "execution_count": 9,
   "metadata": {},
   "outputs": [
    {
     "data": {
      "text/plain": [
       "-0.5440211108893698"
      ]
     },
     "execution_count": 9,
     "metadata": {},
     "output_type": "execute_result"
    }
   ],
   "source": [
    "math.sin(10) # sin関数"
   ]
  },
  {
   "cell_type": "markdown",
   "metadata": {},
   "source": [
    "他にも様々な関数がmathライブラリには実装されているので，調べて使ってみましょう．"
   ]
  },
  {
   "cell_type": "markdown",
   "metadata": {},
   "source": [
    "### 特定の関数，変数，モジュールだけをimportする\n",
    "\n",
    "1. ライブラリの中から，特定のパッケージをimportする\n",
    "2. モジュールの中から，特定の関数をimportする\n",
    "\n",
    "のようなことをするには\n",
    "```python\n",
    "from モジュール import 関数\n",
    "```\n",
    "\n",
    "のようにfromとimportを使います．\n"
   ]
  },
  {
   "cell_type": "code",
   "execution_count": 21,
   "metadata": {},
   "outputs": [
    {
     "name": "stdout",
     "output_type": "stream",
     "text": [
      "1\n",
      "3\n",
      "3\n",
      "1\n",
      "2\n",
      "1\n",
      "1\n",
      "5\n",
      "5\n",
      "4\n"
     ]
    }
   ],
   "source": [
    "from random import randint\n",
    "\n",
    "for i in range(10):\n",
    "    x = randint(1,5)\n",
    "    print(x)"
   ]
  },
  {
   "cell_type": "code",
   "execution_count": 23,
   "metadata": {},
   "outputs": [
    {
     "name": "stdout",
     "output_type": "stream",
     "text": [
      "お\n",
      "う\n",
      "え\n",
      "う\n",
      "あ\n",
      "い\n",
      "い\n",
      "お\n",
      "う\n",
      "え\n"
     ]
    }
   ],
   "source": [
    "from random import choice\n",
    "seq = \"あいうえお\"\n",
    "\n",
    "for i in range(10):\n",
    "    x = choice(seq)\n",
    "    print(x)"
   ]
  },
  {
   "cell_type": "code",
   "execution_count": 24,
   "metadata": {},
   "outputs": [],
   "source": [
    "from random import choice, randint"
   ]
  },
  {
   "cell_type": "markdown",
   "metadata": {},
   "source": [
    "randomは乱数に関するモジュールです．実際にはファイルが一つだけなので，`from random import 関数名`で特定の関数を取り出すことができます．これがライブラリならば\n",
    "```python\n",
    "from ライブラリ.パッケージ import 関数名\n",
    "```\n",
    "のようになります．\n"
   ]
  },
  {
   "cell_type": "markdown",
   "metadata": {},
   "source": [
    "### importした名前空間にあだ名をつける\n",
    "\n",
    "`matplotlib`ライブラリの`pyplot`パッケージをimportして，この下にある関数を使いたいとしましょう．毎回matplotlib.pyplotと入力するのは不便なので，以下のようにしてあだ名をつけます．"
   ]
  },
  {
   "cell_type": "code",
   "execution_count": 29,
   "metadata": {},
   "outputs": [
    {
     "data": {
      "text/plain": [
       "[<matplotlib.lines.Line2D at 0x117b62650>]"
      ]
     },
     "execution_count": 29,
     "metadata": {},
     "output_type": "execute_result"
    },
    {
     "data": {
      "image/png": "[encoded data removed]",
      "text/plain": [
       "<Figure size 640x480 with 1 Axes>"
      ]
     },
     "metadata": {},
     "output_type": "display_data"
    }
   ],
   "source": [
    "import matplotlib.pyplot as plt\n",
    "\n",
    "x_axis = list(range(10))\n",
    "y_axis = []\n",
    "for i in range(10):\n",
    "    y_axis.append(randint(0,10))\n",
    "\n",
    "plt.plot(x_axis, y_axis) # 折れ線グラフを作る"
   ]
  },
  {
   "cell_type": "markdown",
   "metadata": {},
   "source": [
    "asを使ったあだ名の命名は，importした名前空間ならば何に対しても可能です．"
   ]
  },
  {
   "cell_type": "code",
   "execution_count": 30,
   "metadata": {},
   "outputs": [],
   "source": [
    "import numpy as np \n",
    "import pandas as pd "
   ]
  },
  {
   "cell_type": "markdown",
   "metadata": {},
   "source": [
    "## importするPythonファイルはどこにある？\n",
    "\n",
    "さて，import文は，任意のディレクトリに置いてあるファイルを読み込むための命令です．このpythonモジュールやパッケージなどがおいてあるディレクトリは，pythonの環境変数として定義されています．これを確認するには："
   ]
  },
  {
   "cell_type": "code",
   "execution_count": 13,
   "metadata": {},
   "outputs": [
    {
     "data": {
      "text/plain": [
       "['/Users/mriki/workspace/prpy/prpy/python',\n",
       " '/Users/mriki/.rye/py/cpython@3.11.8/lib/python311.zip',\n",
       " '/Users/mriki/.rye/py/cpython@3.11.8/lib/python3.11',\n",
       " '/Users/mriki/.rye/py/cpython@3.11.8/lib/python3.11/lib-dynload',\n",
       " '',\n",
       " '/Users/mriki/workspace/prpy/.venv/lib/python3.11/site-packages',\n",
       " '/Users/mriki/workspace/prpy/src']"
      ]
     },
     "execution_count": 13,
     "metadata": {},
     "output_type": "execute_result"
    }
   ],
   "source": [
    "import sys\n",
    "sys.path"
   ]
  },
  {
   "cell_type": "markdown",
   "metadata": {},
   "source": [
    "Pythonモジュールを探すディレクトリの中には，今操作している.ipynbファイルや.pyファイルと同じディレクトリ（これを __カレントディレクトリ__ と呼びます．）も含まれています．そのため，自分が作ったモジュールも簡単にimportできます．\n",
    "\n",
    "他のディレクトリについてはいくつかルールがありますが，`site-packages`ディレクトリは，pythonライブラリをinstallしたりuninstallしたりするためのパッケージ管理コマンド`pip`を使ってインストールしたPythonパッケージ/ライブラリ/モジュールが自動的に保存されています． "
   ]
  },
  {
   "cell_type": "code",
   "execution_count": 31,
   "metadata": {},
   "outputs": [],
   "source": [
    "# lsコマンドやos.listdir関数でsite-packagesの中身を確認してみましょう．"
   ]
  },
  {
   "cell_type": "markdown",
   "metadata": {},
   "source": [
    "## pip install \n",
    "\n",
    "colabでは必要なパッケージがすでにインストールされていますが，追加でインストールをする場合には以下のコマンドを使います．\n",
    "```sh\n",
    "# 自分のPCでpythonライブラリのinstall\n",
    "$ pip install ライブラリ名\n",
    "\n",
    "# 自分のPCでpythonライブラリのuninstall \n",
    "$ pip uninstall ライブラリ名\n",
    "\n",
    "# colabのcodeセルでpythonライブラリのinstall\n",
    "!pip install ライブラリ名\n",
    "\n",
    "# colabのcodeセルでpythonライブラリのuninstall \n",
    "!pip uninstall ライブラリ名\n",
    "```\n",
    "\n"
   ]
  },
  {
   "cell_type": "code",
   "execution_count": null,
   "metadata": {},
   "outputs": [],
   "source": []
  },
  {
   "cell_type": "code",
   "execution_count": null,
   "metadata": {},
   "outputs": [],
   "source": []
  }
 ],
 "metadata": {
  "kernelspec": {
   "display_name": ".venv",
   "language": "python",
   "name": "python3"
  },
  "language_info": {
   "codemirror_mode": {
    "name": "ipython",
    "version": 3
   },
   "file_extension": ".py",
   "mimetype": "text/x-python",
   "name": "python",
   "nbconvert_exporter": "python",
   "pygments_lexer": "ipython3",
   "version": "3.11.8"
  }
 },
 "nbformat": 4,
 "nbformat_minor": 2
}
