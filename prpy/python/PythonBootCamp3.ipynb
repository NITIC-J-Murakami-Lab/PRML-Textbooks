{
  "cells": [
    {
      "cell_type": "markdown",
      "metadata": {
        "id": "9_UvumLVt4D6"
      },
      "source": [
        "# Python BootCamp 3"
      ]
    },
    {
      "cell_type": "markdown",
      "metadata": {
        "id": "f4cs8FSSYKDT"
      },
      "source": [
        "## ベクトル（≒一次元配列）に対する計算の実装\n",
        "\n",
        "~~このノートブックはcolabではなくlocalのjupyter labかjupyter notebookで実行してください。~~\n",
        "\n",
        "~~今回の課題はPythonの復習が目的です。内容はPythonによる機械学習向けの計算の実装と、クラスによる見通しの良い設計ができることを目的にしています。~~"
      ]
    },
    {
      "cell_type": "markdown",
      "metadata": {
        "id": "rMkMCXqwHmVW"
      },
      "source": [
        "## [問題] filter関数実装の準備問題\n",
        "\n",
        "以下の作りかけの関数mod_filterを元に、関数の第一引数Xから第二引数yで割り切れる値だけを抽出してリストとして返す関数を完成させよ。\n",
        "\n",
        "条件：\n",
        "1. 引数Xは一次元配列。各要素には数字が入っている。\n",
        "2. yは数字。intでもfloatでもいいがここではintにしておく。\n",
        "\n",
        "実装のヒント\n",
        "1. forループでXの中身を取り出していき、それぞれyで割り切れるか確認していく。\n",
        "2. mod_filterの返り値resultはlist型でなければならない。\n",
        "\n"
      ]
    },
    {
      "cell_type": "code",
      "execution_count": 1,
      "metadata": {
        "id": "rNcaVtNhHk1c"
      },
      "outputs": [],
      "source": [
        "def mod_filter(X:list, y:int):\n",
        "\n",
        "    return result"
      ]
    },
    {
      "cell_type": "code",
      "execution_count": 2,
      "metadata": {
        "colab": {
          "base_uri": "https://localhost:8080/",
          "height": 276
        },
        "id": "Lcp-eZb2J1Yy",
        "outputId": "67b948d6-d8e3-4d48-b6a7-942fd4288d18",
        "tags": [
          "hide-output"
        ]
      },
      "outputs": [
        {
          "ename": "NameError",
          "evalue": "name 'result' is not defined",
          "output_type": "error",
          "traceback": [
            "\u001b[0;31m---------------------------------------------------------------------------\u001b[0m",
            "\u001b[0;31mNameError\u001b[0m                                 Traceback (most recent call last)",
            "\u001b[0;32m<ipython-input-2-dc024949cef7>\u001b[0m in \u001b[0;36m<cell line: 4>\u001b[0;34m()\u001b[0m\n\u001b[1;32m      2\u001b[0m \u001b[0msample_vector\u001b[0m \u001b[0;34m=\u001b[0m \u001b[0mlist\u001b[0m\u001b[0;34m(\u001b[0m\u001b[0mrange\u001b[0m\u001b[0;34m(\u001b[0m\u001b[0;36m100\u001b[0m\u001b[0;34m)\u001b[0m\u001b[0;34m)\u001b[0m\u001b[0;34m\u001b[0m\u001b[0;34m\u001b[0m\u001b[0m\n\u001b[1;32m      3\u001b[0m \u001b[0my\u001b[0m \u001b[0;34m=\u001b[0m \u001b[0;36m7\u001b[0m\u001b[0;34m\u001b[0m\u001b[0;34m\u001b[0m\u001b[0m\n\u001b[0;32m----> 4\u001b[0;31m \u001b[0mmod_filter\u001b[0m\u001b[0;34m(\u001b[0m\u001b[0msample_vector\u001b[0m\u001b[0;34m,\u001b[0m\u001b[0my\u001b[0m\u001b[0;34m)\u001b[0m\u001b[0;34m\u001b[0m\u001b[0;34m\u001b[0m\u001b[0m\n\u001b[0m",
            "\u001b[0;32m<ipython-input-1-1fb047b7495a>\u001b[0m in \u001b[0;36mmod_filter\u001b[0;34m(X, y)\u001b[0m\n\u001b[1;32m      1\u001b[0m \u001b[0;32mdef\u001b[0m \u001b[0mmod_filter\u001b[0m\u001b[0;34m(\u001b[0m\u001b[0mX\u001b[0m\u001b[0;34m:\u001b[0m\u001b[0mlist\u001b[0m\u001b[0;34m,\u001b[0m \u001b[0my\u001b[0m\u001b[0;34m:\u001b[0m\u001b[0mint\u001b[0m\u001b[0;34m)\u001b[0m\u001b[0;34m:\u001b[0m\u001b[0;34m\u001b[0m\u001b[0;34m\u001b[0m\u001b[0m\n\u001b[1;32m      2\u001b[0m \u001b[0;34m\u001b[0m\u001b[0m\n\u001b[0;32m----> 3\u001b[0;31m     \u001b[0;32mreturn\u001b[0m \u001b[0mresult\u001b[0m\u001b[0;34m\u001b[0m\u001b[0;34m\u001b[0m\u001b[0m\n\u001b[0m",
            "\u001b[0;31mNameError\u001b[0m: name 'result' is not defined"
          ]
        }
      ],
      "source": [
        "# *** test ***\n",
        "sample_vector = list(range(100))\n",
        "y = 7\n",
        "mod_filter(sample_vector,y)"
      ]
    },
    {
      "cell_type": "markdown",
      "metadata": {
        "id": "9FmZo3a5LDWB"
      },
      "source": [
        "## [問題] filter関数の実装\n",
        "\n",
        "以下に示す未完成の関数_filterを元に、関数の第__2__引数Xの中から第__1__引数で指定された関数の返り値がTrueになるものだけを抽出してリストとして返す関数を完成させよ。\n",
        "\n",
        "条件：\n",
        "- 引数Xは一次元配列。要素はすべて文字列。\n",
        "- funcは関数。lamdba式などで定義される。\n",
        "\n",
        "実装のヒント：\n",
        "1. 基本はmod_filterと同じ。\n",
        "2. 引数funcに渡される関数は、値を一つ受け取ったら、それが何かの条件にあっていればTrue,それ以外ならFalseを返すような関数。例えば以下の関数eval_fnならば、単語の文字数が3以上のものだけを取り出すフィルターになる。\n",
        "```python\n",
        "eval_fn = lambda token: len(token)>=3\n",
        "```"
      ]
    },
    {
      "cell_type": "code",
      "execution_count": 3,
      "metadata": {
        "id": "u0rh4LEiLCeU"
      },
      "outputs": [],
      "source": [
        "def _filter(func, X:list):\n",
        "    return result"
      ]
    },
    {
      "cell_type": "code",
      "execution_count": 4,
      "metadata": {
        "colab": {
          "base_uri": "https://localhost:8080/",
          "height": 276
        },
        "id": "0nGb7o_ONysF",
        "outputId": "0fec69d4-4328-443a-b363-fb5ae159334e",
        "tags": [
          "hide-output"
        ]
      },
      "outputs": [
        {
          "ename": "NameError",
          "evalue": "name 'result' is not defined",
          "output_type": "error",
          "traceback": [
            "\u001b[0;31m---------------------------------------------------------------------------\u001b[0m",
            "\u001b[0;31mNameError\u001b[0m                                 Traceback (most recent call last)",
            "\u001b[0;32m<ipython-input-4-a7038ba2b909>\u001b[0m in \u001b[0;36m<cell line: 4>\u001b[0;34m()\u001b[0m\n\u001b[1;32m      2\u001b[0m \u001b[0msample_text\u001b[0m \u001b[0;34m=\u001b[0m \u001b[0;34m\"k-means clustering is a method of vector quantization, originally from signal processing, that aims to partition n observations into k clusters in which each observation belongs to the cluster with the nearest mean (cluster centers or cluster centroid), serving as a prototype of the cluster.\"\u001b[0m\u001b[0;34m\u001b[0m\u001b[0;34m\u001b[0m\u001b[0m\n\u001b[1;32m      3\u001b[0m \u001b[0msample_words\u001b[0m \u001b[0;34m=\u001b[0m \u001b[0msample_text\u001b[0m\u001b[0;34m.\u001b[0m\u001b[0msplit\u001b[0m\u001b[0;34m(\u001b[0m\u001b[0;34m\" \"\u001b[0m\u001b[0;34m)\u001b[0m\u001b[0;34m\u001b[0m\u001b[0;34m\u001b[0m\u001b[0m\n\u001b[0;32m----> 4\u001b[0;31m \u001b[0m_filter\u001b[0m\u001b[0;34m(\u001b[0m\u001b[0;32mlambda\u001b[0m \u001b[0mtoken\u001b[0m\u001b[0;34m:\u001b[0m \u001b[0mlen\u001b[0m\u001b[0;34m(\u001b[0m\u001b[0mtoken\u001b[0m\u001b[0;34m)\u001b[0m\u001b[0;34m>=\u001b[0m\u001b[0;36m3\u001b[0m\u001b[0;34m,\u001b[0m \u001b[0msample_words\u001b[0m\u001b[0;34m)\u001b[0m\u001b[0;34m\u001b[0m\u001b[0;34m\u001b[0m\u001b[0m\n\u001b[0m",
            "\u001b[0;32m<ipython-input-3-41cf94f6a59e>\u001b[0m in \u001b[0;36m_filter\u001b[0;34m(func, X)\u001b[0m\n\u001b[1;32m      1\u001b[0m \u001b[0;32mdef\u001b[0m \u001b[0m_filter\u001b[0m\u001b[0;34m(\u001b[0m\u001b[0mfunc\u001b[0m\u001b[0;34m,\u001b[0m \u001b[0mX\u001b[0m\u001b[0;34m:\u001b[0m\u001b[0mlist\u001b[0m\u001b[0;34m)\u001b[0m\u001b[0;34m:\u001b[0m\u001b[0;34m\u001b[0m\u001b[0;34m\u001b[0m\u001b[0m\n\u001b[0;32m----> 2\u001b[0;31m     \u001b[0;32mreturn\u001b[0m \u001b[0mresult\u001b[0m\u001b[0;34m\u001b[0m\u001b[0;34m\u001b[0m\u001b[0m\n\u001b[0m",
            "\u001b[0;31mNameError\u001b[0m: name 'result' is not defined"
          ]
        }
      ],
      "source": [
        "# *** test ***\n",
        "sample_text = \"k-means clustering is a method of vector quantization, originally from signal processing, that aims to partition n observations into k clusters in which each observation belongs to the cluster with the nearest mean (cluster centers or cluster centroid), serving as a prototype of the cluster.\"\n",
        "sample_words = sample_text.split(\" \")\n",
        "_filter(lambda token: len(token)>=3, sample_words)"
      ]
    },
    {
      "cell_type": "markdown",
      "metadata": {
        "id": "14h9B6HVWIcy"
      },
      "source": [
        "## [問題] 統計的代表値計算の再現 － 中央値 np.median\n",
        "\n",
        "以下に示すnp.medianに習い、ベクトルAの中央値を求めるpure python関数_medianを作成せよ。"
      ]
    },
    {
      "cell_type": "code",
      "execution_count": 1,
      "metadata": {
        "id": "tuaHaehMPA5_"
      },
      "outputs": [
        {
          "data": {
            "text/plain": [
              "6.0"
            ]
          },
          "execution_count": 1,
          "metadata": {},
          "output_type": "execute_result"
        }
      ],
      "source": [
        "import numpy as np\n",
        "A = [10, 1, 11, 3, 7, 1, 6, 15, 2]\n",
        "np.median(A)"
      ]
    },
    {
      "cell_type": "code",
      "execution_count": 2,
      "metadata": {
        "colab": {
          "base_uri": "https://localhost:8080/"
        },
        "id": "TiS6l-U_Wi11",
        "outputId": "64f97636-b53a-4ae1-f7dc-d6fb1a07b3ee"
      },
      "outputs": [],
      "source": [
        "def _median():\n",
        "    ..."
      ]
    },
    {
      "cell_type": "markdown",
      "metadata": {
        "id": "TXWB93-1XPVy"
      },
      "source": [
        "## [問題] 統計的代表値計算の再現 － 最頻値: statistics.mode\n",
        "\n",
        "statistics.modeに習い、ベクトルAの中央値を求めるpure python関数_modeを作成せよ。"
      ]
    },
    {
      "cell_type": "code",
      "execution_count": 3,
      "metadata": {
        "id": "8hMjlQ-aXdEl"
      },
      "outputs": [
        {
          "data": {
            "text/plain": [
              "1"
            ]
          },
          "execution_count": 3,
          "metadata": {},
          "output_type": "execute_result"
        }
      ],
      "source": [
        "import statistics\n",
        "statistics.mode(A)"
      ]
    },
    {
      "cell_type": "code",
      "execution_count": 4,
      "metadata": {
        "colab": {
          "base_uri": "https://localhost:8080/",
          "height": 34
        },
        "id": "igRSWaSuXdeT",
        "outputId": "35a720a7-4bcb-401b-dcf4-548983ed182f"
      },
      "outputs": [],
      "source": [
        "def _mode():\n",
        "    ..."
      ]
    }
  ],
  "metadata": {
    "colab": {
      "provenance": []
    },
    "kernelspec": {
      "display_name": "Python 3",
      "name": "python3"
    },
    "language_info": {
      "codemirror_mode": {
        "name": "ipython",
        "version": 3
      },
      "file_extension": ".py",
      "mimetype": "text/x-python",
      "name": "python",
      "nbconvert_exporter": "python",
      "pygments_lexer": "ipython3",
      "version": "3.11.8"
    }
  },
  "nbformat": 4,
  "nbformat_minor": 0
}
