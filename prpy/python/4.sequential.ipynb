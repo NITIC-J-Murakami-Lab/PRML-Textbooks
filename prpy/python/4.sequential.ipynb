{
 "cells": [
  {
   "cell_type": "markdown",
   "metadata": {},
   "source": [
    "# シーケンス型"
   ]
  },
  {
   "cell_type": "markdown",
   "metadata": {},
   "source": [
    "プログラムは「人間が嫌になってしまうような単純作業を延々と行うこと」が得意です．これまでに\n",
    "\n",
    "1. 文字列型（str）\n",
    "2. 整数型（int）\n",
    "3. 浮動小数点数型（float）\n",
    "\n",
    "を紹介しましたが，例えば「1年3組のすべての学生の身長，体重データ」から，学生ごとにBMIを計算したい時，どうやればいいか分かりますか？ここまでで紹介した型では複数要素を保持することができないので，40人分の変数を用意して，それぞれ処理を書くことになります．そんなことをしていたら，自分で計算するなり，Excelで計算した方が早いですね．\n",
    "\n",
    "ここでは面倒な単純作業をPythonに行わせるために，複数要素を保存できるデータ型を紹介します．"
   ]
  },
  {
   "cell_type": "markdown",
   "metadata": {},
   "source": [
    "## リスト型\n",
    "\n",
    "複数要素をまとめたリストを作成する型．例えば以下のように利用します．\n",
    "```py\n",
    "\n",
    "変数 = [] # 空のリストを作る\n",
    "変数 = [要素0, 要素1, 要素2, 要素3, 要素4, 要素5, 要素6] # あらかじめ要素を渡して初期化したリストを作る\n",
    "```\n",
    "ここで，それぞれの要素の型は別々でも，揃っていても構いません．\n",
    "\n",
    "例えば先ほどの身長体重データを例に考えてみましょう．身長をheightという変数にすべて持たせてしまいたい時には，以下のように書きます．\n"
   ]
  },
  {
   "cell_type": "code",
   "execution_count": null,
   "metadata": {},
   "outputs": [],
   "source": [
    "height = [181.49154898, 174.594337  , 150.78349215, 156.45215611,\n",
    "       159.16359076, 186.0955449 , 183.4154026 , 172.19241938,\n",
    "       143.09579574, 166.58871137, 152.86424968, 154.69716608,\n",
    "       154.14376378, 174.41741899, 154.77675632, 148.61230709,\n",
    "       174.5988262 , 186.04120426, 145.58260309, 174.86335058,\n",
    "       162.82585791, 168.6440591 , 162.78898705, 167.58953667,\n",
    "       156.72878777, 165.10256566, 152.00426113, 159.05210476,\n",
    "       154.9897736 , 145.93090124, 151.61872105, 167.76277588,\n",
    "       176.64089681, 189.3265343 , 173.97411515, 166.70010256,\n",
    "       171.63787008, 156.66053202, 151.22324011, 143.62535571]\n",
    "\n",
    "weight = [62.39879115, 57.70648792, 84.85042574, 72.42281099, 90.75139248,\n",
    "       68.60505313, 67.0130241 , 73.74472222, 45.88724499, 39.71282091,\n",
    "       97.79812938, 77.51278572, 98.02799002, 52.32031888, 77.48833046,\n",
    "       75.88226259, 32.30121063, 68.97769261, 90.30106644, 37.51962355,\n",
    "       79.70900929, 31.87654392, 56.95206049, 75.31529515, 35.69415348,\n",
    "       36.97097416, 54.78909566, 47.39797699, 55.1677476 , 79.70305538,\n",
    "       32.80857147, 83.99631141, 69.75460334, 48.84786953, 44.03951849,\n",
    "       65.42516493, 51.35428547, 65.2573042 , 92.86989301, 83.77754429]"
   ]
  },
  {
   "cell_type": "markdown",
   "metadata": {},
   "source": [
    "それぞれの変数をprintしてみましょう．また，`len(リスト型のオブジェクト)`とすることで要素数を確認することが可能です．これも試してみましょう．"
   ]
  },
  {
   "cell_type": "code",
   "execution_count": null,
   "metadata": {},
   "outputs": [],
   "source": []
  },
  {
   "cell_type": "markdown",
   "metadata": {},
   "source": [
    "### 特定の要素へのアクセス\n",
    "\n",
    "\n",
    "リスト型オブジェクトは，要素のインデックスを指定することで個別にアクセスすることもできます．"
   ]
  },
  {
   "cell_type": "code",
   "execution_count": null,
   "metadata": {},
   "outputs": [],
   "source": [
    "height[10]"
   ]
  },
  {
   "cell_type": "code",
   "execution_count": null,
   "metadata": {},
   "outputs": [],
   "source": [
    "height[39]"
   ]
  },
  {
   "cell_type": "markdown",
   "metadata": {},
   "source": [
    "インデックスは0からスタートします．"
   ]
  },
  {
   "cell_type": "code",
   "execution_count": null,
   "metadata": {},
   "outputs": [],
   "source": []
  },
  {
   "cell_type": "markdown",
   "metadata": {},
   "source": [
    "マイナスの数字を使うと逆から順になります．"
   ]
  },
  {
   "cell_type": "code",
   "execution_count": null,
   "metadata": {},
   "outputs": [],
   "source": []
  },
  {
   "cell_type": "markdown",
   "metadata": {},
   "source": [
    "0から39のインデックスが使えることが分かりましたが，では40以上を指定するとどうなりますか？"
   ]
  },
  {
   "cell_type": "code",
   "execution_count": null,
   "metadata": {},
   "outputs": [],
   "source": []
  },
  {
   "cell_type": "markdown",
   "metadata": {},
   "source": [
    "### 要素のスライス\n",
    "\n",
    "リストの中の複数の要素にアクセスしたい場合は，`リストオブジェクト[start:end]`のようにします．\n",
    "例えば..."
   ]
  },
  {
   "cell_type": "code",
   "execution_count": null,
   "metadata": {},
   "outputs": [],
   "source": [
    "weight[0:10] # weight[:10]でも同じです．"
   ]
  },
  {
   "cell_type": "code",
   "execution_count": null,
   "metadata": {},
   "outputs": [],
   "source": [
    "weight[35:] # 二つ目の数字を指定しなければ最後の要素まで表示．"
   ]
  },
  {
   "cell_type": "markdown",
   "metadata": {},
   "source": [
    "### 要素の更新\n",
    "\n",
    "\n",
    "特定の要素を更新したい場合は，今までと同様に代入式 `=`を利用しましょう．"
   ]
  },
  {
   "cell_type": "code",
   "execution_count": null,
   "metadata": {},
   "outputs": [],
   "source": [
    "print(\"今の状態：\",weight[0])\n",
    "\n",
    "weight[0] = 100 #kg\n",
    "\n",
    "print(\"代入後の状態：\", weight[0])"
   ]
  },
  {
   "cell_type": "markdown",
   "metadata": {},
   "source": [
    "### リストへの追加\n",
    "\n",
    "これまでprint関数を多用してきましたが，これ以外にもさまざまな関数がPythonにはあります．\n",
    "さらに，それぞれのデータ型（int, float, str, listなどなど）にも専用の関数が用意されています．この専用の関数のことを「メソッド」と呼びます．メソッドは以下のように利用します．\n",
    "\n",
    "```python\n",
    "オブジェクト.メソッド(必要なら引数)\n",
    "```\n",
    "ここではリスト型のメソッド（append）を使って，リストへ要素の追加を行います．\n",
    "\n",
    "appendメソッドの使い方は以下の通り：\n",
    "```python\n",
    "weight.append(追加したい要素)\n",
    "````\n",
    "\n"
   ]
  },
  {
   "cell_type": "code",
   "execution_count": null,
   "metadata": {},
   "outputs": [],
   "source": [
    "# 身長リストと体重リストに，それぞれ，150cm, 50kgの学生を追加しましょう．\n",
    "\n"
   ]
  },
  {
   "cell_type": "markdown",
   "metadata": {},
   "source": [
    "要素はリストの一番最後に追加されます．"
   ]
  },
  {
   "cell_type": "code",
   "execution_count": null,
   "metadata": {},
   "outputs": [],
   "source": []
  },
  {
   "cell_type": "markdown",
   "metadata": {},
   "source": [
    "### リストから要素を削除\n",
    "\n",
    "リストから要素を削除するには`remove`メソッドか`pop`メソッドを利用します．"
   ]
  },
  {
   "cell_type": "markdown",
   "metadata": {},
   "source": [
    "#### removeメソッド\n",
    "\n",
    "使い方：\n",
    "```py\n",
    "リストオブジェクト.remove(削除したい要素)\n",
    "```\n",
    "\n",
    "heightから先ほど追加した150cmの学生を削除しましょう．"
   ]
  },
  {
   "cell_type": "code",
   "execution_count": null,
   "metadata": {},
   "outputs": [],
   "source": []
  },
  {
   "cell_type": "markdown",
   "metadata": {},
   "source": [
    "#### popメソッド\n",
    "\n",
    "使い方：\n",
    "```py\n",
    "リストオブジェクト.pop(削除したい要素のインデックス)\n",
    "```\n",
    "\n",
    "weightから先ほど追加した50kgの学生を削除しましょう．"
   ]
  },
  {
   "cell_type": "code",
   "execution_count": null,
   "metadata": {},
   "outputs": [],
   "source": []
  },
  {
   "cell_type": "markdown",
   "metadata": {},
   "source": [
    "### 別の型のオブジェクトをリスト型に変換する\n",
    "\n",
    "`list()`関数を使うことで，別の型のオブジェクトをリスト型に変換することができます．例えば:\n"
   ]
  },
  {
   "cell_type": "code",
   "execution_count": null,
   "metadata": {},
   "outputs": [],
   "source": [
    "a = \"あいうえお\"\n",
    "print(a, type(a))\n",
    "\n",
    "a = list(a)\n",
    "print(a, type(a))"
   ]
  },
  {
   "cell_type": "markdown",
   "metadata": {},
   "source": [
    "またrange(10)をリスト型に変換するとどうなりますか？"
   ]
  },
  {
   "cell_type": "code",
   "execution_count": null,
   "metadata": {},
   "outputs": [],
   "source": []
  },
  {
   "cell_type": "markdown",
   "metadata": {},
   "source": [
    "### for文と一緒に使う\n",
    "\n",
    "forはシーケンス型を一つ一つ取り出して，仮変数に代入します．シーケンス型の要素がなくなったらループ処理が終了します．これにリスト型オブジェクトを利用すると："
   ]
  },
  {
   "cell_type": "code",
   "execution_count": null,
   "metadata": {},
   "outputs": [],
   "source": [
    "for item in height:\n",
    "    print(item)"
   ]
  },
  {
   "cell_type": "markdown",
   "metadata": {},
   "source": [
    "また，要素とそのインデックスを同時に取り出すこともできます．"
   ]
  },
  {
   "cell_type": "code",
   "execution_count": null,
   "metadata": {},
   "outputs": [],
   "source": [
    "for index, item in enumerate(height):\n",
    "    print(index, item)"
   ]
  },
  {
   "cell_type": "markdown",
   "metadata": {},
   "source": [
    "さらに，複数の要素を同時に取り出すには，`zip(リスト1, リスト2)`を使います．これを使って次の問題を解いてみましょう．"
   ]
  },
  {
   "cell_type": "markdown",
   "metadata": {},
   "source": [
    "#### [問題] 身長体重データを使って，BMI値と適正体重を計算して下さい．\n",
    "\n",
    "$$\n",
    "BMI ＝ \\frac{体重[kg]}{(身長[m])^2}\n",
    "$$\n",
    "\n",
    "$$\n",
    "適正体重 ＝ (身長[m])^2 \\times 22\n",
    "$$\n",
    "\n",
    "上から10人分だけ計算して，それぞれprintして下さい．"
   ]
  },
  {
   "cell_type": "code",
   "execution_count": null,
   "metadata": {},
   "outputs": [],
   "source": []
  },
  {
   "cell_type": "markdown",
   "metadata": {},
   "source": [
    "余力がある人は，全員のBMIと適正体重をそれぞれ`bmi`変数と`normal_weight`変数にリストとして保存するように，プログラムを書き換えて下さい．"
   ]
  },
  {
   "cell_type": "code",
   "execution_count": null,
   "metadata": {},
   "outputs": [],
   "source": []
  },
  {
   "cell_type": "markdown",
   "metadata": {},
   "source": [
    "## 辞書型\n",
    "\n",
    "\n",
    "リスト型を思い出して下さい．リストはインデックスと要素を紐付けて保存する型でした．これに対して，インデックスではなくキーとなる文字列などと要素を紐づけて保存する型が辞書型（dict）です．\n",
    "\n",
    "最も簡単な辞書の作り方は，空の辞書を作成した後に，キー（key）と要素（value）を追加していく方法でしょう．\n",
    "\n",
    "```py\n",
    "変数 = {}\n",
    "変数[key1] = value1\n",
    "変数[key2] = value2 \n",
    "変数[key3] = value3 \n",
    "```\n",
    "\n",
    "この時に，keyは他のkeyと被らないように注意して下さい．valueについては被っても大丈夫です．またvalueにはどんな型を渡しても大丈夫です．"
   ]
  },
  {
   "cell_type": "code",
   "execution_count": null,
   "metadata": {},
   "outputs": [],
   "source": [
    "sample_dict = {}\n",
    "sample_dict[\"太郎\"] = \"A型\"\n",
    "sample_dict[\"二郎\"] = \"B型\"\n",
    "\n",
    "print(sample_dict)"
   ]
  },
  {
   "cell_type": "markdown",
   "metadata": {},
   "source": [
    "↑のような形で要素を与えた状態での初期化も可能です．"
   ]
  },
  {
   "cell_type": "code",
   "execution_count": null,
   "metadata": {},
   "outputs": [],
   "source": [
    "sample_dict2 = {'太郎': 'A型', '二郎': 'B型'}\n",
    "\n",
    "sample_dict"
   ]
  },
  {
   "cell_type": "markdown",
   "metadata": {},
   "source": [
    "要素アクセスはリストと同様です．"
   ]
  },
  {
   "cell_type": "code",
   "execution_count": null,
   "metadata": {},
   "outputs": [],
   "source": [
    "sample_dict[\"太郎\"]"
   ]
  },
  {
   "cell_type": "code",
   "execution_count": null,
   "metadata": {},
   "outputs": [],
   "source": []
  },
  {
   "cell_type": "markdown",
   "metadata": {},
   "source": [
    "では存在しないキーにアクセスするとどうなりますか？"
   ]
  },
  {
   "cell_type": "code",
   "execution_count": null,
   "metadata": {},
   "outputs": [],
   "source": []
  },
  {
   "cell_type": "markdown",
   "metadata": {},
   "source": [
    "### [問題]テーブルデータから辞書を作成しよう．\n",
    "\n",
    "[岩手県の人口と世帯数・市区町村別人口ランキング | 地名図鑑online](https://chimei.jitenon.jp/jinko/ken.php?num=03)からコピペしたテーブルを以下に示します．このテーブルからデータを取り出してリストに保存するプログラムを載せたので，これを元に，「keyには市町村名，valueには人口」を持つ辞書型オブジェクトを作成して下さい．"
   ]
  },
  {
   "cell_type": "code",
   "execution_count": null,
   "metadata": {},
   "outputs": [],
   "source": [
    "# https://chimei.jitenon.jp/jinko/ken.php?num=03\n",
    "raw_table = \"\"\"１位\t盛岡市\t282960人\t138238戸\n",
    "２位\t奥州市\t111632人\t46340戸\n",
    "３位\t一関市\t109697人\t46385戸\n",
    "４位\t花巻市\t92385人\t38726戸\n",
    "５位\t北上市\t92056人\t40866戸\n",
    "６位\t紫波郡\t59619人\t23799戸\n",
    "７位\t滝沢市\t55273人\t24034戸\n",
    "８位\t宮古市\t48038人\t22959戸\n",
    "９位\t大船渡市\t33540人\t14765戸\"\"\"\n",
    "\n",
    "\n",
    "city = []\n",
    "population = []\n",
    "for line in raw_table.splitlines(): # splitlinesは文字列を一行ごとに分割してリストを作るメソッド\n",
    "    _, each_city, each_population, _ = line.split(\"\\t\") # splitは引数として与えられた文字列ごとに分割してリストを作るメソッド. \\tはタブを表す．\n",
    "\n",
    "    city.append(each_city)\n",
    "    population.append(each_population)\n",
    "\n",
    "# municipality:自治体\n",
    "\n",
    "\n"
   ]
  },
  {
   "cell_type": "code",
   "execution_count": null,
   "metadata": {},
   "outputs": [],
   "source": []
  },
  {
   "cell_type": "markdown",
   "metadata": {},
   "source": []
  }
 ],
 "metadata": {
  "kernelspec": {
   "display_name": ".venv",
   "language": "python",
   "name": "python3"
  },
  "language_info": {
   "codemirror_mode": {
    "name": "ipython",
    "version": 3
   },
   "file_extension": ".py",
   "mimetype": "text/x-python",
   "name": "python",
   "nbconvert_exporter": "python",
   "pygments_lexer": "ipython3",
   "version": "3.11.8"
  }
 },
 "nbformat": 4,
 "nbformat_minor": 2
}
