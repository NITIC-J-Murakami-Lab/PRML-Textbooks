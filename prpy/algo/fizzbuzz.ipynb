{
 "cells": [
  {
   "cell_type": "markdown",
   "metadata": {},
   "source": [
    "# [問題] fizzbuzz\n",
    "「fizzbuzzを行う関数を実装しよう」\n",
    "\n",
    "fizzbuzzを行う関数を実装しましょう。\n",
    "Fizz Buzzについては[wikiを参照](https://ja.wikipedia.org/wiki/Fizz_Buzz)してください。\n",
    "\n",
    "::::{admonition} Fizz-Buzzのルール\n",
    ":class: note\n",
    "\n",
    "1からスタートして`max_number`（例えば30とか）まで，以下の処理を繰り返します．\n",
    "1. 3の倍数のとき，`fizz`と表示します．\n",
    "2. 5の倍数のとき，`buzz`と表示します．\n",
    "3. 3と5の公倍数（15の倍数）のとき，`fizzbuzz`と表示します．\n",
    "4. 1〜3に当てはまらない時，数字を表示します．\n",
    "\n",
    "\n",
    "::::\n",
    "\n",
    "\n",
    "関数の雛形として、以下を用意しました。\n",
    "```python\n",
    "def fizzbuzz(max_number:int)->None:\n",
    "    for i in range(1, max_number+1):\n",
    "        print(\"{}\".format(i))\n",
    "```\n",
    "これを拡張して、max_numberとして与えられた数字(int)までfizz buzzする関数を作成し、実行結果を示してください。\n"
   ]
  },
  {
   "cell_type": "code",
   "execution_count": 1,
   "metadata": {},
   "outputs": [
    {
     "name": "stdout",
     "output_type": "stream",
     "text": [
      "1\n",
      "2\n",
      "3\n",
      "4\n",
      "5\n"
     ]
    }
   ],
   "source": [
    "# 関数の宣言\n",
    "def fizzbuzz(max_number:int)->None:\n",
    "    for i in range(1, max_number+1):\n",
    "        print(\"{}\".format(i))\n",
    "        \n",
    "# 実行\n",
    "fizzbuzz(5)"
   ]
  },
  {
   "cell_type": "markdown",
   "metadata": {},
   "source": [
    "## 実装例\n",
    "\n",
    ":::{margin}\n",
    "答えを見る前に自分で実装してみよう\n",
    ":::\n"
   ]
  },
  {
   "cell_type": "code",
   "execution_count": 5,
   "metadata": {
    "tags": [
     "hide-input",
     "hide-output"
    ]
   },
   "outputs": [
    {
     "name": "stdout",
     "output_type": "stream",
     "text": [
      "1\n",
      "2\n",
      "fizz\n",
      "4\n",
      "buzz\n",
      "fizz\n",
      "7\n",
      "8\n",
      "fizz\n",
      "buzz\n",
      "11\n",
      "fizz\n",
      "13\n",
      "14\n",
      "fizzbuzz\n",
      "16\n",
      "17\n",
      "fizz\n",
      "19\n",
      "buzz\n",
      "fizz\n",
      "22\n",
      "23\n",
      "fizz\n",
      "buzz\n",
      "26\n",
      "fizz\n",
      "28\n",
      "29\n",
      "fizzbuzz\n",
      "31\n",
      "32\n",
      "fizz\n",
      "34\n",
      "buzz\n",
      "fizz\n",
      "37\n",
      "38\n",
      "fizz\n",
      "buzz\n",
      "41\n",
      "fizz\n",
      "43\n",
      "44\n",
      "fizzbuzz\n",
      "46\n",
      "47\n",
      "fizz\n",
      "49\n",
      "buzz\n"
     ]
    }
   ],
   "source": [
    "def fizzbuzz(max_number:int)->None:\n",
    "    for num in range(1, max_number+1):\n",
    "        if num % 3 == 0 and num % 5 == 0:\n",
    "            print('fizzbuzz')\n",
    "        elif num % 3 == 0:\n",
    "            print('fizz')\n",
    "        elif num % 5 == 0:\n",
    "            print('buzz')\n",
    "        else:\n",
    "            print(num)\n",
    "\n",
    "fizzbuzz(50)"
   ]
  }
 ],
 "metadata": {
  "kernelspec": {
   "display_name": ".venv",
   "language": "python",
   "name": "python3"
  },
  "language_info": {
   "codemirror_mode": {
    "name": "ipython",
    "version": 3
   },
   "file_extension": ".py",
   "mimetype": "text/x-python",
   "name": "python",
   "nbconvert_exporter": "python",
   "pygments_lexer": "ipython3",
   "version": "3.11.8"
  }
 },
 "nbformat": 4,
 "nbformat_minor": 2
}
