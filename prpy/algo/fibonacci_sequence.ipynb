{
 "cells": [
  {
   "cell_type": "markdown",
   "metadata": {},
   "source": [
    "# [問題] フィボナッチ数列\n",
    "\n",
    "「フィボナッチ数列を100桁目まで返す関数を実装しよう」\n",
    "\n",
    "フィボナッチ数列を列挙する関数を作りましょう。\n",
    "\n",
    "```python\n",
    "fib_list = [1,1]\n",
    "```\n",
    "が最初に与えられます。これを元にしてどんどんfib_listにフォボナッチ数列を作成して、len(fib_list)==100になるまでそれを繰り返してください。"
   ]
  },
  {
   "cell_type": "code",
   "execution_count": 1,
   "metadata": {},
   "outputs": [],
   "source": [
    "fib_list = [1,1]"
   ]
  },
  {
   "cell_type": "code",
   "execution_count": 3,
   "metadata": {},
   "outputs": [
    {
     "name": "stdout",
     "output_type": "stream",
     "text": [
      "None\n"
     ]
    }
   ],
   "source": [
    "def fibo(n):\n",
    "    ...\n",
    "\n",
    "print(fibo(10))"
   ]
  },
  {
   "cell_type": "markdown",
   "metadata": {},
   "source": [
    "::::{admonition} 回答例\n",
    ":class: dropdown, hint \n",
    "\n",
    "```python\n",
    "def fibo(n):\n",
    "    if n < 3:\n",
    "        return [1,1]\n",
    "    fibo_list = [1,1]\n",
    "    for i in range(2, n-1):\n",
    "        fibo_i = fibo_list[i-1] + fibo_list[i-2]\n",
    "        fibo_list.append(fibo_i)\n",
    "    return fibo_list\n",
    "        \n",
    "print(fibo(10))\n",
    "```\n",
    "::::"
   ]
  },
  {
   "cell_type": "markdown",
   "metadata": {},
   "source": []
  }
 ],
 "metadata": {
  "kernelspec": {
   "display_name": ".venv",
   "language": "python",
   "name": "python3"
  },
  "language_info": {
   "codemirror_mode": {
    "name": "ipython",
    "version": 3
   },
   "file_extension": ".py",
   "mimetype": "text/x-python",
   "name": "python",
   "nbconvert_exporter": "python",
   "pygments_lexer": "ipython3",
   "version": "3.11.8"
  }
 },
 "nbformat": 4,
 "nbformat_minor": 2
}
