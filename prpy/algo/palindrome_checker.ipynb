{
 "cells": [
  {
   "cell_type": "markdown",
   "metadata": {},
   "source": [
    "# [問題] 回文判定\n",
    "\n",
    "「受け取った文字列が回文か否かを判別する関数を作成しよう」\n",
    "\n",
    "うけとった文字列が回文か否かを判別する関数を作成してください。\n",
    "\n",
    "ただしこの時、関数が受け取る文字列は句読点や記号を含まないものと仮定します。（記号などが含まれる場合については考えなくても良い）  \n",
    "回分であればTrue, 回文でなければFalseを返り値として返してください。"
   ]
  },
  {
   "cell_type": "code",
   "execution_count": 1,
   "metadata": {},
   "outputs": [
    {
     "name": "stdout",
     "output_type": "stream",
     "text": [
      "たけやぶやけた None\n",
      "たけやぶやけたかな None\n"
     ]
    }
   ],
   "source": [
    "def palindrome_checker(sent:str)->bool:\n",
    "    ...\n",
    "\n",
    "print(\"たけやぶやけた\", palindrome_checker(\"たけやぶやけた\"))\n",
    "print(\"たけやぶやけたかな\", palindrome_checker(\"たけやぶやけたかな\"))"
   ]
  },
  {
   "cell_type": "markdown",
   "metadata": {},
   "source": [
    "::::{admonition} 回答例\n",
    ":class: dropdown, hint \n",
    "\n",
    "```py\n",
    "def palindrome_checker(sent:str)->bool:\n",
    "    reversed_sent = \"\".join(list(reversed(sent)))\n",
    "    if sent == reversed_sent:\n",
    "        return True\n",
    "    else:\n",
    "        return False \n",
    "    \n",
    "print(\"たけやぶやけた\", palindrome_checker(\"たけやぶやけた\"))\n",
    "print(\"たけやぶやけたかな\", palindrome_checker(\"たけやぶやけたかな\"))\n",
    "```\n",
    "::::"
   ]
  }
 ],
 "metadata": {
  "kernelspec": {
   "display_name": ".venv",
   "language": "python",
   "name": "python3"
  },
  "language_info": {
   "codemirror_mode": {
    "name": "ipython",
    "version": 3
   },
   "file_extension": ".py",
   "mimetype": "text/x-python",
   "name": "python",
   "nbconvert_exporter": "python",
   "pygments_lexer": "ipython3",
   "version": "3.11.8"
  }
 },
 "nbformat": 4,
 "nbformat_minor": 2
}
