{
 "cells": [
  {
   "cell_type": "markdown",
   "metadata": {},
   "source": [
    "# [問題] 回文判定\n",
    "\n",
    "「受け取った文字列が回文か否かを判別する関数を作成しよう」\n",
    "\n",
    "うけとった文字列が回文か否かを判別する関数を作成してください。\n",
    "\n",
    "ただしこの時、関数が受け取る文字列は句読点や記号を含まないものと仮定します。（記号などが含まれる場合については考えなくても良い）  \n",
    "回分であればTrue, 回文でなければFalseを返り値として返してください。"
   ]
  },
  {
   "cell_type": "code",
   "execution_count": 5,
   "metadata": {},
   "outputs": [
    {
     "name": "stdout",
     "output_type": "stream",
     "text": [
      "たけやぶやけた None\n",
      "たけやぶやけたかな None\n"
     ]
    }
   ],
   "source": [
    "def palindrome_checker(sentence:str)->bool:\n",
    "    ...\n",
    "\n",
    "print(\"たけやぶやけた\", palindrome_checker(\"たけやぶやけた\"))\n",
    "print(\"たけやぶやけたかな\", palindrome_checker(\"たけやぶやけたかな\"))"
   ]
  },
  {
   "cell_type": "markdown",
   "metadata": {},
   "source": [
    "## 解答例\n",
    "\n",
    ":::{margin}\n",
    "答えを見る前に自分で実装してみよう\n",
    ":::\n"
   ]
  },
  {
   "cell_type": "markdown",
   "metadata": {},
   "source": [
    "【一番短い(?)解答例】"
   ]
  },
  {
   "cell_type": "code",
   "execution_count": 6,
   "metadata": {
    "tags": [
     "hide-input",
     "hide-output"
    ]
   },
   "outputs": [
    {
     "name": "stdout",
     "output_type": "stream",
     "text": [
      "たけやぶやけた True\n",
      "たけやぶやけたかな False\n"
     ]
    }
   ],
   "source": [
    "def palindrome_checker(sentence:str)->bool:\n",
    "    return sentence == sentence[::-1]\n",
    "    \n",
    "input = \"たけやぶやけた\"\n",
    "output = palindrome_checker(input)\n",
    "print(input, output)\n",
    "\n",
    "\n",
    "input = \"たけやぶやけたかな\"\n",
    "output = palindrome_checker(input)\n",
    "print(input, output)"
   ]
  },
  {
   "cell_type": "markdown",
   "metadata": {},
   "source": [
    "【わかりやすい解答例】"
   ]
  },
  {
   "cell_type": "code",
   "execution_count": 4,
   "metadata": {
    "tags": [
     "hide-input",
     "hide-output"
    ]
   },
   "outputs": [
    {
     "name": "stdout",
     "output_type": "stream",
     "text": [
      "たけやぶやけた True\n",
      "たけやぶやけたかな False\n"
     ]
    }
   ],
   "source": [
    "def palindrome_checker(sentence:str)->bool:\n",
    "    reversed_sentence = \"\"\n",
    "    for w in sentence:\n",
    "        reversed_sentence = w + reversed_sentence\n",
    "    return sentence == reversed_sentence\n",
    "    \n",
    "input = \"たけやぶやけた\"\n",
    "output = palindrome_checker(input)\n",
    "print(input, output)\n",
    "\n",
    "\n",
    "input = \"たけやぶやけたかな\"\n",
    "output = palindrome_checker(input)\n",
    "print(input, output)"
   ]
  }
 ],
 "metadata": {
  "kernelspec": {
   "display_name": ".venv",
   "language": "python",
   "name": "python3"
  },
  "language_info": {
   "codemirror_mode": {
    "name": "ipython",
    "version": 3
   },
   "file_extension": ".py",
   "mimetype": "text/x-python",
   "name": "python",
   "nbconvert_exporter": "python",
   "pygments_lexer": "ipython3",
   "version": "3.11.8"
  }
 },
 "nbformat": 4,
 "nbformat_minor": 2
}
