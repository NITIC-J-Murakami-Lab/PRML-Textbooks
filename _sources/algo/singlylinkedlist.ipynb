{
 "cells": [
  {
   "cell_type": "markdown",
   "metadata": {},
   "source": [
    "# 単方向連結リスト（singly linked list）"
   ]
  },
  {
   "cell_type": "markdown",
   "metadata": {},
   "source": [
    "ここでは単方向連結リスト（singly linked list）を実装したプログラムを解説します．単方向連結リストは以下のようなデータ構造です．\n",
    "\n",
    "> 連結リスト（れんけつリスト、（英語: Linked list）は、最も基本的なデータ構造の1つであり、他のデータ構造の実装に使われる。リンクリスト、リンクトリストとも表記される。\n",
    "> \n",
    "> 一連のノードが、任意のデータフィールド群を持ち、1つか2つの参照（リンク）により次（および前）のノードを指している。連結リストの主な利点は、リスト上のノードを様々な順番で検索可能な点である。連結リストは自己参照型のデータ型であり、同じデータ型の別のノードへのリンク（またはポインタ）を含んでいる。連結リストは場所が分かっていれば、ノードの挿入や削除を定数時間で行うことができる（場所を探すのにかかる時間はリスト上の順番の条件などにも依存するし、後述する片方向リストなのか双方向リストなのかにも依存する）。連結リストにはいくつかの種類があり、片方向リスト、双方向リスト、線形リスト、循環リストなどがある。  \n",
    "> \n",
    "> 引用：[連結リスト - Wikipedia](https://ja.wikipedia.org/wiki/%E9%80%A3%E7%B5%90%E3%83%AA%E3%82%B9%E3%83%88)\n",
    "\n",
    "![リストの例 - 3つの整数値からなる線形リスト](https://upload.wikimedia.org/wikipedia/commons/thumb/6/6d/Singly-linked-list.svg/2880px-Singly-linked-list.svg.png)\n",
    "\n",
    "Pythonではポインターを直接扱うことはないので，これを実装するならばC言語のようなポインターを直接扱えるプログラミング言語の方が適切かもしれません．（しかし）ここでは簡単のためにPythonのクラスを使って実装していきます．  \n",
    "リストの構成要素を`Node`クラス，リスト自体を`SinglyLinkedList`クラスで実装します．"
   ]
  },
  {
   "cell_type": "code",
   "execution_count": 3,
   "metadata": {},
   "outputs": [],
   "source": [
    "# 型ヒントのためのimport\n",
    "from typing import Any, Self"
   ]
  },
  {
   "cell_type": "markdown",
   "metadata": {},
   "source": [
    "## ノードの定義\n",
    "\n",
    "まずはノードを定義しておきます．\n",
    "\n",
    "このノードは値`self.data`と次のノードへのポインター`self.next`を持っています．"
   ]
  },
  {
   "cell_type": "code",
   "execution_count": 4,
   "metadata": {},
   "outputs": [],
   "source": [
    "class Node():\n",
    "    def __init__(self, data:Any, next: Self|None=None)->None:\n",
    "        self.data = data\n",
    "        self.next = next\n",
    "    \n",
    "    def __str__(self):\n",
    "        #return f\"Node(data={self.data}, next={self.next})\"\n",
    "        return self.data.__str__()"
   ]
  },
  {
   "cell_type": "markdown",
   "metadata": {},
   "source": [
    "::::{note}\n",
    "`__str__`は`print`関数にこのインスタンスを渡した時に表示される文字列を変更するための特殊なメソッドです．\n",
    "\n",
    "`__str__`がない場合はクラスの名前とメモリ番地が表示されます．\n",
    "```py\n",
    "node = Node(1)\n",
    "print(node)\n",
    "# <__main__.Node object at 0x111c89850>\n",
    "```\n",
    "これに対して`__str__`を上のように宣言すると... \n",
    "```py\n",
    "node = Node(\"適当な値\")\n",
    "print(node)\n",
    "# 適当な値\n",
    "```\n",
    "このように表示させることが可能です．\n",
    "\n",
    "::::"
   ]
  },
  {
   "cell_type": "markdown",
   "metadata": {},
   "source": [
    "## 初期化（コンストラクタ）\n",
    "\n",
    "次に単方向連結リストを定義します．まずは先頭ノードを格納するインスタンス変数を用意します．\n",
    "\n",
    "\n",
    "```py\n",
    "class SinglyLinkedList():\n",
    "    def __init__(self) -> None:\n",
    "        self.head = None \n",
    "\n",
    "    @property\n",
    "    def tail(self):\n",
    "        if self.head is None:\n",
    "            return None\n",
    "```\n",
    "\n",
    "::::{note}\n",
    "【headとtailプロパティ】  \n",
    "`self.head`はリストが空の場合は`None`を持ちます．また，`self.head is None`ならば末尾も同様に`None`なので，末尾要素を返す`tail`プロパティも追加しておきます．ここで`tail`をインスタンス変数ではなくプロパティとして宣言したのは，この方がこの次のappendメソッドの実装時に都合が良いからです．\n",
    "\n",
    "::::"
   ]
  },
  {
   "cell_type": "markdown",
   "metadata": {},
   "source": [
    "## 要素の追加（append）\n",
    "\n",
    "リストの末尾に新しいノードを追加するappendメソッドを実装します．\n",
    "\n",
    "::::{note}\n",
    "【appendメソッド】  \n",
    "1. もしも`self.head is None`（先頭要素が空）ならば，先頭要素に直接新しいノードを登録します．\n",
    "2. 先頭が空でなければ末尾要素に新しいノードを登録します．\n",
    "\n",
    "【tailプロパティの修正】  \n",
    "先ほど末尾要素を参照するプロパティ`tail`を設定しましたが，これをappendで使うために，先頭が空でない場合の処理を追加します．  \n",
    "1. 先頭要素から順々に，ノードのnext属性をチェックします．\n",
    "2. next属性が`None`であるノードが末尾ノードです．\n",
    "\n",
    "::::\n",
    "\n",
    "```py\n",
    "class SinglyLinkedList():\n",
    "    ...\n",
    "    \n",
    "    @property\n",
    "    def tail(self):\n",
    "        if self.head is None:\n",
    "            return None\n",
    "        current:Node = self.head\n",
    "        while current.next:\n",
    "            current = current.next\n",
    "        return current\n",
    "    \n",
    "    def append(self, data:Any) -> Self:\n",
    "        new = Node(data)\n",
    "\n",
    "        # initialize\n",
    "        if self.head is None:\n",
    "            self.head = new \n",
    "            return self\n",
    "        \n",
    "        last_node = self.tail\n",
    "        last_node.next = new\n",
    "        return self\n",
    "```\n"
   ]
  },
  {
   "cell_type": "markdown",
   "metadata": {},
   "source": [
    "## 要素の削除（remove）\n",
    "任意の値を持ったノードをリストから削除する`remove`メソッドを実装します．  \n",
    "\n",
    "::::{note}  \n",
    "【removeメソッド】  \n",
    "ここでは評価対象ノード`current`と，今の評価対象ノードの一つ前のノード`previous`を，リストの先頭から一つづつずらしながら，「`current`が削除対象か」をチェックしていきます．\n",
    "- 「`current`が削除対象」ならば前ノードのポインター`previous.next`を評価対象の次のノードに指定します．\n",
    "- ただし，「先頭要素が削除対象」ならば`previous`は空なので，`self.head`を直接「評価対象の次のノード」で上書きします．\n",
    "\n",
    "::::"
   ]
  },
  {
   "cell_type": "markdown",
   "metadata": {},
   "source": [
    "```py\n",
    "class SinglyLinkedList():\n",
    "    ...\n",
    "    \n",
    "    def remove(self, data:Any) -> Self:\n",
    "        # 先頭ノードを評価対象ノードに指定\n",
    "        current = self.head\n",
    "        previous = None\n",
    "        # リストを先頭なら舐める\n",
    "        while current:\n",
    "            # もしも評価対象ノードが削除対象ならば\n",
    "            if current.data  == data:\n",
    "                if previous:\n",
    "                    previous.next = current.next\n",
    "                # 先頭が削除対象ならば\n",
    "                else:\n",
    "                    self.head = current.next\n",
    "                del current\n",
    "                break\n",
    "            # 評価対象が削除対象でないならば\n",
    "            previous = current\n",
    "            current = current.next\n",
    "\n",
    "        # リスト内に削除対象が存在しなかった場合\n",
    "        else:\n",
    "            raise ValueError(\"LinkedList.remove(data): data not in LinkedList\")\n",
    "        return self\n",
    "```"
   ]
  },
  {
   "cell_type": "markdown",
   "metadata": {},
   "source": [
    "## SinglyLinkedListの全プログラム\n",
    "\n",
    "以上で`SinglyLinkedList`クラスの実装が完了しました．プログラム全体とこれの動作チェックを以下に示します．"
   ]
  },
  {
   "cell_type": "code",
   "execution_count": 5,
   "metadata": {},
   "outputs": [],
   "source": [
    "class SinglyLinkedList():\n",
    "    def __init__(self) -> None:\n",
    "        self.head = None \n",
    "\n",
    "    @property\n",
    "    def tail(self):\n",
    "        if self.head is None:\n",
    "            return None\n",
    "        current:Node = self.head\n",
    "        while current.next:\n",
    "            current = current.next\n",
    "        return current\n",
    "    \n",
    "    def append(self, data:Any) -> Self:\n",
    "        new = Node(data)\n",
    "\n",
    "        # initialize\n",
    "        if self.head is None:\n",
    "            self.head = new \n",
    "            return self\n",
    "        \n",
    "        last_node = self.tail\n",
    "        last_node.next = new\n",
    "        return self\n",
    "    \n",
    "    def remove(self, data:Any) -> Self:\n",
    "        # 先頭ノードを評価対象ノードに指定\n",
    "        current = self.head\n",
    "        previous = None\n",
    "        # リストを先頭なら舐める\n",
    "        while current:\n",
    "            # もしも評価対象ノードが削除対象ならば\n",
    "            if current.data  == data:\n",
    "                if previous:\n",
    "                    previous.next = current.next\n",
    "                # 先頭が削除対象ならば\n",
    "                else:\n",
    "                    self.head = current.next\n",
    "                del current\n",
    "                break\n",
    "            # 評価対象が削除対象でないならば\n",
    "            previous = current\n",
    "            current = current.next\n",
    "\n",
    "        # リスト内に削除対象が存在しなかった場合\n",
    "        else:\n",
    "            raise ValueError(\"LinkedList.remove(data): data not in LinkedList\")\n",
    "        return self\n",
    "    \n",
    "    def __str__(self):\n",
    "        if self.head is None:\n",
    "            return \"...\"\n",
    "        display_text = \"\"\n",
    "        current:Node = self.head\n",
    "        display_text+=f\"{current}\"\n",
    "        while current.next:\n",
    "            current = current.next\n",
    "            display_text+=f\", {current}\"\n",
    "        return display_text\n",
    "\n",
    "    "
   ]
  },
  {
   "cell_type": "markdown",
   "metadata": {},
   "source": [
    "動作チェックです．値の追加や削除を試してみましょう．"
   ]
  },
  {
   "cell_type": "code",
   "execution_count": 6,
   "metadata": {},
   "outputs": [
    {
     "name": "stdout",
     "output_type": "stream",
     "text": [
      "...\n",
      "0, 1, 2, 3, 4, 5, 6, 7, 8, 9\n",
      "0, 1, 2, 4, 5, 6, 7, 8, 9\n",
      "1, 2, 4, 5, 6, 7, 8, 9\n",
      "1, 2, 4, 5, 6, 7, 8\n",
      "1, 2, 4, 5, 6, 7, 8, 9\n"
     ]
    }
   ],
   "source": [
    "# 動作チェック\n",
    "linkedlist = SinglyLinkedList()\n",
    "print(linkedlist)\n",
    "\n",
    "for i in range(10):\n",
    "    linkedlist.append(i)\n",
    "print(linkedlist)\n",
    "\n",
    "linkedlist.remove(3)\n",
    "print(linkedlist)\n",
    "\n",
    "linkedlist.remove(0)\n",
    "print(linkedlist)\n",
    "\n",
    "linkedlist.remove(9)\n",
    "print(linkedlist)\n",
    "\n",
    "linkedlist.append(9)\n",
    "print(linkedlist)\n"
   ]
  },
  {
   "cell_type": "markdown",
   "metadata": {},
   "source": [
    "リストに存在しない要素を削除しようとすると，エラーが発生するはずです．"
   ]
  },
  {
   "cell_type": "code",
   "execution_count": 7,
   "metadata": {},
   "outputs": [
    {
     "name": "stdout",
     "output_type": "stream",
     "text": [
      "...\n"
     ]
    },
    {
     "ename": "ValueError",
     "evalue": "LinkedList.remove(data): data not in LinkedList",
     "output_type": "error",
     "traceback": [
      "\u001b[0;31m---------------------------------------------------------------------------\u001b[0m",
      "\u001b[0;31mValueError\u001b[0m                                Traceback (most recent call last)",
      "Cell \u001b[0;32mIn[7], line 3\u001b[0m\n\u001b[1;32m      1\u001b[0m linkedlist \u001b[38;5;241m=\u001b[39m SinglyLinkedList()\n\u001b[1;32m      2\u001b[0m \u001b[38;5;28mprint\u001b[39m(linkedlist)\n\u001b[0;32m----> 3\u001b[0m \u001b[43mlinkedlist\u001b[49m\u001b[38;5;241;43m.\u001b[39;49m\u001b[43mremove\u001b[49m\u001b[43m(\u001b[49m\u001b[38;5;241;43m1\u001b[39;49m\u001b[43m)\u001b[49m\n",
      "Cell \u001b[0;32mIn[5], line 47\u001b[0m, in \u001b[0;36mSinglyLinkedList.remove\u001b[0;34m(self, data)\u001b[0m\n\u001b[1;32m     43\u001b[0m     current \u001b[38;5;241m=\u001b[39m current\u001b[38;5;241m.\u001b[39mnext\n\u001b[1;32m     45\u001b[0m \u001b[38;5;66;03m# リスト内に削除対象が存在しなかった場合\u001b[39;00m\n\u001b[1;32m     46\u001b[0m \u001b[38;5;28;01melse\u001b[39;00m:\n\u001b[0;32m---> 47\u001b[0m     \u001b[38;5;28;01mraise\u001b[39;00m \u001b[38;5;167;01mValueError\u001b[39;00m(\u001b[38;5;124m\"\u001b[39m\u001b[38;5;124mLinkedList.remove(data): data not in LinkedList\u001b[39m\u001b[38;5;124m\"\u001b[39m)\n\u001b[1;32m     48\u001b[0m \u001b[38;5;28;01mreturn\u001b[39;00m \u001b[38;5;28mself\u001b[39m\n",
      "\u001b[0;31mValueError\u001b[0m: LinkedList.remove(data): data not in LinkedList"
     ]
    }
   ],
   "source": [
    "linkedlist = SinglyLinkedList()\n",
    "print(linkedlist)\n",
    "linkedlist.remove(1)"
   ]
  },
  {
   "cell_type": "markdown",
   "metadata": {},
   "source": []
  }
 ],
 "metadata": {
  "kernelspec": {
   "display_name": ".venv",
   "language": "python",
   "name": "python3"
  },
  "language_info": {
   "codemirror_mode": {
    "name": "ipython",
    "version": 3
   },
   "file_extension": ".py",
   "mimetype": "text/x-python",
   "name": "python",
   "nbconvert_exporter": "python",
   "pygments_lexer": "ipython3",
   "version": "3.11.8"
  }
 },
 "nbformat": 4,
 "nbformat_minor": 2
}
