{
 "cells": [
  {
   "cell_type": "markdown",
   "metadata": {},
   "source": [
    "# [問題] ユークリッドの互除法\n",
    "\n",
    "「最大公約数を求める関数を実装しよう」\n",
    "\n",
    "ユークリッドの互除法を使って、２つの数字の最大公約数を求める関数を作成しましょう！\n",
    "\n",
    "::::{admonition} ユークリッドの互除法\n",
    ":class: note\n",
    "\n",
    "ユークリッドの互除法は，二つの自然数の最大公約数を求める方法で，「世界最古のアルゴリズム」として知られています．\n",
    "\n",
    "【手順】\n",
    "1. 2つの自然数(a>b)のうち、大きい数aを小さい数bで割る\n",
    "2. 前の手順の除数bを前の手順の余りで割る\n",
    "3. これを余りが 0 となるまで繰り返す\n",
    "4. 余りが 0 のときの除数が最大公約数\n",
    "\n",
    "::::"
   ]
  },
  {
   "cell_type": "code",
   "execution_count": 1,
   "metadata": {},
   "outputs": [],
   "source": [
    "def euclidean_algorithm(a, b):\n",
    "    ..."
   ]
  },
  {
   "cell_type": "code",
   "execution_count": 3,
   "metadata": {},
   "outputs": [
    {
     "name": "stdout",
     "output_type": "stream",
     "text": [
      "True\n"
     ]
    }
   ],
   "source": [
    "# 正解チェック\n",
    "\n",
    "print(euclidean_algorithm(28, 20) == 4)"
   ]
  },
  {
   "cell_type": "markdown",
   "metadata": {},
   "source": [
    "## 実装例\n",
    "\n",
    ":::{margin}\n",
    "答えを見る前に自分で実装してみよう\n",
    ":::\n"
   ]
  },
  {
   "cell_type": "code",
   "execution_count": 19,
   "metadata": {
    "tags": [
     "hide-input",
     "hide-output"
    ]
   },
   "outputs": [
    {
     "data": {
      "text/plain": [
       "28"
      ]
     },
     "execution_count": 19,
     "metadata": {},
     "output_type": "execute_result"
    }
   ],
   "source": [
    "def euclidean_algorithm(a, b):\n",
    "    while a % b != 0:\n",
    "        c = a % b\n",
    "        a,b = b,c\n",
    "    return b\n",
    "\n",
    "    \n",
    "euclidean_algorithm(28, 28)"
   ]
  },
  {
   "cell_type": "markdown",
   "metadata": {},
   "source": [
    "## 参考文献\n",
    "\n",
    "\n",
    "### Web\n",
    "1. [ユークリッドの互除法 -- 基礎数学演義３・第 2 回 (2024 年 4 月 16 日) | 和久井道久](https://www2.itc.kansai-u.ac.jp/~wakui/abs02BME3_2024.pdf)\n",
    "2. [高校数学の復習 ユークリッドの互除法 | 山形大学大学院理工学研究科廣瀬研究室](https://fhirose.yz.yamagata-u.ac.jp/img/file868.pdf)"
   ]
  },
  {
   "cell_type": "markdown",
   "metadata": {},
   "source": []
  }
 ],
 "metadata": {
  "kernelspec": {
   "display_name": ".venv",
   "language": "python",
   "name": "python3"
  },
  "language_info": {
   "codemirror_mode": {
    "name": "ipython",
    "version": 3
   },
   "file_extension": ".py",
   "mimetype": "text/x-python",
   "name": "python",
   "nbconvert_exporter": "python",
   "pygments_lexer": "ipython3",
   "version": "3.11.8"
  }
 },
 "nbformat": 4,
 "nbformat_minor": 2
}
