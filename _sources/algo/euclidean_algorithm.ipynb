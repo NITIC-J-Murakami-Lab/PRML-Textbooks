{
 "cells": [
  {
   "cell_type": "markdown",
   "metadata": {},
   "source": [
    "# [問題] ユークリッドの互除法\n",
    "\n",
    "「最大公約数を求める関数を実装しよう」\n",
    "\n",
    "ユークリッドの互除法を使って、２つの数字から最大公約数を求める関数を作成しましょう！\n",
    "\n",
    "ユークリッドの互除法について知りたい場合は[このページ](https://ja.wikipedia.org/wiki/%E3%83%A6%E3%83%BC%E3%82%AF%E3%83%AA%E3%83%83%E3%83%89%E3%81%AE%E4%BA%92%E9%99%A4%E6%B3%95)のみを読んでアルゴリズムを理解し、プログラムを実装してください。"
   ]
  },
  {
   "cell_type": "code",
   "execution_count": 1,
   "metadata": {},
   "outputs": [],
   "source": [
    "def euclidean_algorithm(a, b):\n",
    "    ..."
   ]
  },
  {
   "cell_type": "code",
   "execution_count": 3,
   "metadata": {},
   "outputs": [
    {
     "name": "stdout",
     "output_type": "stream",
     "text": [
      "True\n"
     ]
    }
   ],
   "source": [
    "# 正解チェック\n",
    "\n",
    "print(euclidean_algorithm(28, 20) == 4)"
   ]
  },
  {
   "cell_type": "markdown",
   "metadata": {},
   "source": [
    "::::{admonition} 回答例\n",
    ":class: dropdown, hint \n",
    "\n",
    "\n",
    "```py\n",
    "def euclidean_algorithm(a, b):\n",
    "    while a % b != 0:\n",
    "        c = a % b\n",
    "        #a = b\n",
    "        #b = c\n",
    "        a,b = b,c\n",
    "    return b\n",
    "    \n",
    "euclidean_algorithm(28, 20)\n",
    "```\n",
    "::::"
   ]
  }
 ],
 "metadata": {
  "kernelspec": {
   "display_name": ".venv",
   "language": "python",
   "name": "python3"
  },
  "language_info": {
   "codemirror_mode": {
    "name": "ipython",
    "version": 3
   },
   "file_extension": ".py",
   "mimetype": "text/x-python",
   "name": "python",
   "nbconvert_exporter": "python",
   "pygments_lexer": "ipython3",
   "version": "3.11.8"
  }
 },
 "nbformat": 4,
 "nbformat_minor": 2
}
