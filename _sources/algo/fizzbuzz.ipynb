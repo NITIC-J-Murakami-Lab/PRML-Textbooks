{
 "cells": [
  {
   "cell_type": "markdown",
   "metadata": {},
   "source": [
    "# [問題] fizzbuzz\n",
    "「fizzbuzzを行う関数を実装しよう」\n",
    "\n",
    "fizzbuzzを行う関数を実装しましょう。\n",
    "Fizz Buzzについては[wikiを参照](https://ja.wikipedia.org/wiki/Fizz_Buzz)してください。\n",
    "\n",
    "\n",
    "関数の雛形として、以下を用意しました。\n",
    "```python\n",
    "def fizzbuzz(max_number):\n",
    "    for i in range(max_number):\n",
    "        print(\"{}\".format(i))\n",
    "```\n",
    "これを拡張して、max_numberとして与えられた数字(int)までfizz buzzする関数を作成し、実行結果を示してください。\n"
   ]
  },
  {
   "cell_type": "code",
   "execution_count": 2,
   "metadata": {},
   "outputs": [
    {
     "name": "stdout",
     "output_type": "stream",
     "text": [
      "0\n",
      "1\n",
      "2\n",
      "3\n",
      "4\n"
     ]
    }
   ],
   "source": [
    "# 関数の宣言\n",
    "def fizzbuzz(max_number):\n",
    "    for i in range(max_number):\n",
    "        print(\"{}\".format(i))\n",
    "        \n",
    "# 実行\n",
    "fizzbuzz(5)"
   ]
  },
  {
   "cell_type": "markdown",
   "metadata": {},
   "source": [
    "::::{admonition} 回答例\n",
    ":class: dropdown, hint \n",
    "\n",
    "```python\n",
    "def fizzbuzz(max_number):\n",
    "    for num in range(1, max_number):\n",
    "        if num % 3 == 0 and num % 5 == 0:\n",
    "            print('fizzbuzz')\n",
    "        elif num % 3 == 0:\n",
    "            print('fizz')\n",
    "        elif num % 5 == 0:\n",
    "            print('buzz')\n",
    "        else:\n",
    "            print(num)\n",
    "\n",
    "fizzbuzz(50)\n",
    "```\n",
    "::::"
   ]
  }
 ],
 "metadata": {
  "kernelspec": {
   "display_name": ".venv",
   "language": "python",
   "name": "python3"
  },
  "language_info": {
   "codemirror_mode": {
    "name": "ipython",
    "version": 3
   },
   "file_extension": ".py",
   "mimetype": "text/x-python",
   "name": "python",
   "nbconvert_exporter": "python",
   "pygments_lexer": "ipython3",
   "version": "3.11.8"
  }
 },
 "nbformat": 4,
 "nbformat_minor": 2
}
