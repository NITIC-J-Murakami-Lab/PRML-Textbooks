{
  "cells": [
    {
      "cell_type": "markdown",
      "id": "e674eba7-589c-4210-b906-54968251b37e",
      "metadata": {
        "id": "e674eba7-589c-4210-b906-54968251b37e"
      },
      "source": [
        "# パルマーペンギンデータセットを例にPyTorchの使い方を学ぼう\n",
        "\n",
        "ニューラルネットワークの実装のためのライブラリ「PyTorch」の使い方を，penguinデータセットのクラス分類を例に学ぼう．"
      ]
    },
    {
      "cell_type": "code",
      "execution_count": 1,
      "id": "57f64af6-e8a5-4878-85df-3ad0e91e531b",
      "metadata": {
        "id": "57f64af6-e8a5-4878-85df-3ad0e91e531b"
      },
      "outputs": [],
      "source": [
        "import torch\n",
        "import torch.nn as nn\n",
        "import torch.nn.functional as F\n",
        "from sklearn.preprocessing import StandardScaler\n",
        "import pandas as pd\n",
        "import numpy as np\n",
        "import random\n",
        "import os"
      ]
    },
    {
      "cell_type": "code",
      "execution_count": 10,
      "id": "d8fc8955-0f63-463f-9596-f1a84f28f8db",
      "metadata": {
        "id": "d8fc8955-0f63-463f-9596-f1a84f28f8db"
      },
      "outputs": [],
      "source": [
        "SEED = 20220725\n",
        "\n",
        "# seed function for reproducibility\n",
        "def set_seed(seed: int=0):\n",
        "    random.seed(seed)\n",
        "    np.random.seed(seed)\n",
        "    os.environ[\"PYTHONHASHSEED\"] = str(seed)\n",
        "    torch.manual_seed(seed)\n",
        "    torch.cuda.manual_seed(seed)\n",
        "    torch.backends.cudnn.deterministic = True\n",
        "    torch.backends.cudnn.benchmark = False\n",
        "\n",
        "set_seed(SEED)"
      ]
    },
    {
      "cell_type": "markdown",
      "id": "2f770f33-4702-4555-9ff7-f7cc50dcb895",
      "metadata": {
        "id": "2f770f33-4702-4555-9ff7-f7cc50dcb895"
      },
      "source": [
        "## SECTION 1 : 学習用データのロードとセットアップ  \n",
        "\n",
        "- [ペンギンデータについて](https://penguinchord.com/blog/data-science/python-palmerpenguins-engineering) \n",
        "![](https://allisonhorst.github.io/palmerpenguins/reference/figures/lter_penguins.png)\n",
        "\n",
        "[オリジンデータをもとに2つのファイルに分けたデータセット](https://github.com/rianrajagede/penguin-python/tree/master/Datasets) 。   \n",
        "- penguin-clean-train.csv = 学習用データセット、オリジナルデータから70%使用。  \n",
        "- penguin-clean-test.csv = テスト用データセット、オリジナルデータから30%抽出  \n",
        "\n",
        ">SECTION 1 : Load and setup data for training  \n",
        "the datasets separated in two files from originai datasets:  \n",
        "penguin-clean-train.csv = datasets for training purpose, 70% from the original data  \n",
        "penguin-clean-test.csv  = datasets for testing purpose, 30% from the original data  "
      ]
    },
    {
      "cell_type": "markdown",
      "id": "e759de08-35cb-4907-b1a6-2b16004d76ec",
      "metadata": {
        "id": "e759de08-35cb-4907-b1a6-2b16004d76ec"
      },
      "source": [
        "### Section 1.1 Data Loading"
      ]
    },
    {
      "cell_type": "markdown",
      "id": "d8c98a9c-286a-4521-ab50-b8c5c6f6bcfb",
      "metadata": {
        "id": "d8c98a9c-286a-4521-ab50-b8c5c6f6bcfb"
      },
      "source": [
        "データセットは前処理済みのものが既にあるので、これを直接利用する https://github.com/rianrajagede/penguin-python/tree/master/Datasets"
      ]
    },
    {
      "cell_type": "code",
      "execution_count": 11,
      "id": "84badd70-bc38-4d68-b948-ece1c954b5e7",
      "metadata": {
        "id": "84badd70-bc38-4d68-b948-ece1c954b5e7"
      },
      "outputs": [],
      "source": [
        "en2ja = {\n",
        "    \"species\": \"ペンギンの種類\",\n",
        "    \"island\": \"生息する島\",\n",
        "    \"bill_length_mm\": \"クチバシの長さ\",\n",
        "    \"bill_depth_mm\":\"クチバシの厚み\",\n",
        "    \"flipper_length_mm\": \"翼の長さ\",\n",
        "    \"body_mass_g\": \"体重\",\n",
        "    \"sex\": \"性別\",\n",
        "    \"year\": \"調査年\",\n",
        "}"
      ]
    },
    {
      "cell_type": "code",
      "execution_count": 12,
      "id": "6213b9f0-57fb-4c6a-8abb-426ca3e9555c",
      "metadata": {
        "id": "6213b9f0-57fb-4c6a-8abb-426ca3e9555c"
      },
      "outputs": [],
      "source": [
        "#load\n",
        "\n",
        "dataset_url = \"https://raw.githubusercontent.com/rianrajagede/penguin-python/master/Datasets/penguins-clean-all.csv\"\n",
        "training_url = \"https://raw.githubusercontent.com/rianrajagede/penguin-python/master/Datasets/penguins-clean-train.csv\"\n",
        "test_url = \"https://raw.githubusercontent.com/rianrajagede/penguin-python/master/Datasets/penguins-clean-test.csv\"\n",
        "# datatrain = pd.read_csv('../Datasets/penguins-clean-train.csv')\n",
        "df_train = pd.read_csv(training_url)"
      ]
    },
    {
      "cell_type": "code",
      "execution_count": 13,
      "id": "c1f69034-f4d6-45b4-8f1d-0e2fb22da784",
      "metadata": {
        "colab": {
          "base_uri": "https://localhost:8080/"
        },
        "id": "c1f69034-f4d6-45b4-8f1d-0e2fb22da784",
        "outputId": "9dc310b2-87ab-46d3-f22b-0cc1eebfe8f2"
      },
      "outputs": [
        {
          "data": {
            "text/plain": [
              "(240, 5)"
            ]
          },
          "execution_count": 13,
          "metadata": {},
          "output_type": "execute_result"
        }
      ],
      "source": [
        "df_train.shape"
      ]
    },
    {
      "cell_type": "code",
      "execution_count": 14,
      "id": "31bc0242-3d68-41c7-9013-26989a7ff4d2",
      "metadata": {
        "colab": {
          "base_uri": "https://localhost:8080/",
          "height": 424
        },
        "id": "31bc0242-3d68-41c7-9013-26989a7ff4d2",
        "outputId": "ece14c58-6245-4d00-a747-2130ca53a927"
      },
      "outputs": [
        {
          "data": {
            "text/html": [
              "<div>\n",
              "<style scoped>\n",
              "    .dataframe tbody tr th:only-of-type {\n",
              "        vertical-align: middle;\n",
              "    }\n",
              "\n",
              "    .dataframe tbody tr th {\n",
              "        vertical-align: top;\n",
              "    }\n",
              "\n",
              "    .dataframe thead th {\n",
              "        text-align: right;\n",
              "    }\n",
              "</style>\n",
              "<table border=\"1\" class=\"dataframe\">\n",
              "  <thead>\n",
              "    <tr style=\"text-align: right;\">\n",
              "      <th></th>\n",
              "      <th>ペンギンの種類</th>\n",
              "      <th>クチバシの長さ</th>\n",
              "      <th>クチバシの厚み</th>\n",
              "      <th>翼の長さ</th>\n",
              "      <th>体重</th>\n",
              "    </tr>\n",
              "  </thead>\n",
              "  <tbody>\n",
              "    <tr>\n",
              "      <th>0</th>\n",
              "      <td>Gentoo</td>\n",
              "      <td>46.2</td>\n",
              "      <td>14.5</td>\n",
              "      <td>209</td>\n",
              "      <td>4800</td>\n",
              "    </tr>\n",
              "    <tr>\n",
              "      <th>1</th>\n",
              "      <td>Gentoo</td>\n",
              "      <td>43.6</td>\n",
              "      <td>13.9</td>\n",
              "      <td>217</td>\n",
              "      <td>4900</td>\n",
              "    </tr>\n",
              "    <tr>\n",
              "      <th>2</th>\n",
              "      <td>Gentoo</td>\n",
              "      <td>45.3</td>\n",
              "      <td>13.7</td>\n",
              "      <td>210</td>\n",
              "      <td>4300</td>\n",
              "    </tr>\n",
              "    <tr>\n",
              "      <th>3</th>\n",
              "      <td>Gentoo</td>\n",
              "      <td>53.4</td>\n",
              "      <td>15.8</td>\n",
              "      <td>219</td>\n",
              "      <td>5500</td>\n",
              "    </tr>\n",
              "    <tr>\n",
              "      <th>4</th>\n",
              "      <td>Adelie</td>\n",
              "      <td>40.6</td>\n",
              "      <td>18.8</td>\n",
              "      <td>193</td>\n",
              "      <td>3800</td>\n",
              "    </tr>\n",
              "    <tr>\n",
              "      <th>...</th>\n",
              "      <td>...</td>\n",
              "      <td>...</td>\n",
              "      <td>...</td>\n",
              "      <td>...</td>\n",
              "      <td>...</td>\n",
              "    </tr>\n",
              "    <tr>\n",
              "      <th>235</th>\n",
              "      <td>Gentoo</td>\n",
              "      <td>46.8</td>\n",
              "      <td>15.4</td>\n",
              "      <td>215</td>\n",
              "      <td>5150</td>\n",
              "    </tr>\n",
              "    <tr>\n",
              "      <th>236</th>\n",
              "      <td>Gentoo</td>\n",
              "      <td>46.6</td>\n",
              "      <td>14.2</td>\n",
              "      <td>210</td>\n",
              "      <td>4850</td>\n",
              "    </tr>\n",
              "    <tr>\n",
              "      <th>237</th>\n",
              "      <td>Gentoo</td>\n",
              "      <td>43.5</td>\n",
              "      <td>14.2</td>\n",
              "      <td>220</td>\n",
              "      <td>4700</td>\n",
              "    </tr>\n",
              "    <tr>\n",
              "      <th>238</th>\n",
              "      <td>Gentoo</td>\n",
              "      <td>46.9</td>\n",
              "      <td>14.6</td>\n",
              "      <td>222</td>\n",
              "      <td>4875</td>\n",
              "    </tr>\n",
              "    <tr>\n",
              "      <th>239</th>\n",
              "      <td>Chinstrap</td>\n",
              "      <td>50.7</td>\n",
              "      <td>19.7</td>\n",
              "      <td>203</td>\n",
              "      <td>4050</td>\n",
              "    </tr>\n",
              "  </tbody>\n",
              "</table>\n",
              "<p>240 rows × 5 columns</p>\n",
              "</div>"
            ],
            "text/plain": [
              "       ペンギンの種類  クチバシの長さ  クチバシの厚み  翼の長さ    体重\n",
              "0       Gentoo     46.2     14.5   209  4800\n",
              "1       Gentoo     43.6     13.9   217  4900\n",
              "2       Gentoo     45.3     13.7   210  4300\n",
              "3       Gentoo     53.4     15.8   219  5500\n",
              "4       Adelie     40.6     18.8   193  3800\n",
              "..         ...      ...      ...   ...   ...\n",
              "235     Gentoo     46.8     15.4   215  5150\n",
              "236     Gentoo     46.6     14.2   210  4850\n",
              "237     Gentoo     43.5     14.2   220  4700\n",
              "238     Gentoo     46.9     14.6   222  4875\n",
              "239  Chinstrap     50.7     19.7   203  4050\n",
              "\n",
              "[240 rows x 5 columns]"
            ]
          },
          "execution_count": 14,
          "metadata": {},
          "output_type": "execute_result"
        }
      ],
      "source": [
        "df_train_ja = df_train.copy()\n",
        "df_train_ja.columns = [en2ja[key] for key in df_train_ja.columns]\n",
        "df_train_ja"
      ]
    },
    {
      "cell_type": "code",
      "execution_count": 15,
      "id": "76890566-ee95-4536-9713-bab313496812",
      "metadata": {
        "id": "76890566-ee95-4536-9713-bab313496812"
      },
      "outputs": [],
      "source": [
        "#Section 1.2 Preprocessing\n",
        "\n",
        "#change string value to numeric\n",
        "df_train.loc[df_train['species']=='Adelie', 'species']=0\n",
        "df_train.loc[df_train['species']=='Gentoo', 'species']=1\n",
        "df_train.loc[df_train['species']=='Chinstrap', 'species']=2\n",
        "df_train = df_train.apply(pd.to_numeric)\n",
        "\n",
        "#change dataframe to array\n",
        "df_array = df_train.values\n",
        "\n",
        "#split x and y (feature and target)\n",
        "X_train = df_array[:,1:]\n",
        "y_train = df_array[:,0]\n",
        "\n",
        "#standardize\n",
        "#palmer-penguin dataset has varying scales\n",
        "scaler = StandardScaler()\n",
        "X_train = scaler.fit_transform(X_train)"
      ]
    },
    {
      "cell_type": "markdown",
      "id": "98e6382e-a7fa-4325-9a0d-505c5217eb70",
      "metadata": {
        "id": "98e6382e-a7fa-4325-9a0d-505c5217eb70"
      },
      "source": [
        "## SECTION 2 : モデルの構築と学習\n",
        "\n",
        "- 隠れ層を1層持つ、多層パーセプトロンモデル。  \n",
        "- 入力層：4ニューロン、Palmer Penguinデータセットからの特徴を表す。  \n",
        "- 隠れ層：20ニューロン、ReLUで活性化  \n",
        "- 出力層：3ニューロン、種の数を表す、Softmax Layer  \n",
        "- 最適化器 = 確率的勾配降下法、バッチサイズなし  \n",
        "- 損失関数 = カテゴリクロスエントロピー  \n",
        "- 学習率 = 0.01  \n",
        "- エポック = 50  \n",
        "\n",
        ">SECTION 2 : Build and Train Model  \n",
        "Multilayer perceptron model, with one hidden layer.  \n",
        "input layer : 4 neuron, represents the feature from Palmer Penguin dataset  \n",
        "hidden layer : 20 neuron, activation using ReLU\n",
        "output layer : 3 neuron, represents the number of species, Softmax Layer\n",
        "optimizer = stochastic gradient descent with no batch-size  \n",
        "loss function = categorical cross entropy  \n",
        "learning rate = 0.01  #hyperparameters\n",
        "hl = 20\n",
        "lr = 0.01\n",
        "num_epoch = 100\n",
        "\n",
        "epoch = 50  "
      ]
    },
    {
      "cell_type": "code",
      "execution_count": 16,
      "id": "9310c4b1-8738-423a-b811-8b526741ce4c",
      "metadata": {
        "id": "9310c4b1-8738-423a-b811-8b526741ce4c"
      },
      "outputs": [],
      "source": [
        "#hyperparameters\n",
        "hl = 20\n",
        "lr = 0.01\n",
        "num_epoch = 100"
      ]
    },
    {
      "cell_type": "markdown",
      "id": "3934561d",
      "metadata": {},
      "source": [
        "ネットワークはnn.Sequentialを使って作るパターンと，nn.Moduleを継承したクラスを作るパターンがある．"
      ]
    },
    {
      "cell_type": "code",
      "execution_count": 17,
      "id": "waXPSbRLFFuI",
      "metadata": {
        "id": "waXPSbRLFFuI"
      },
      "outputs": [],
      "source": [
        "mynet = nn.Sequential(\n",
        "    nn.Linear(4, 20,),\n",
        "    nn.ReLU(),\n",
        "    nn.Linear(20, 3),\n",
        "    nn.Softmax(dim=1)\n",
        ")"
      ]
    },
    {
      "cell_type": "code",
      "execution_count": 18,
      "id": "523d08d0-65ed-4fd6-acd1-31c721a1a70a",
      "metadata": {
        "id": "523d08d0-65ed-4fd6-acd1-31c721a1a70a"
      },
      "outputs": [],
      "source": [
        "#build model\n",
        "class Net(nn.Module):\n",
        "    def __init__(self):\n",
        "        super().__init__()\n",
        "        self.fc1 = nn.Linear(4, hl)\n",
        "        self.fc2 = nn.Linear(hl, 3)\n",
        "\n",
        "    def forward(self, x):\n",
        "        x = F.relu(self.fc1(x))\n",
        "        x = self.fc2(x)\n",
        "        return x\n",
        "\n",
        "net = Net()\n",
        "#choose optimizer and loss function\n",
        "criterion = nn.CrossEntropyLoss()\n",
        "optimizer = torch.optim.SGD(net.parameters(), lr=lr)\n",
        "\n",
        "X_train = torch.from_numpy(X_train).float()\n",
        "y_train = torch.from_numpy(y_train).long()"
      ]
    },
    {
      "cell_type": "code",
      "execution_count": 19,
      "id": "f4371ff5-aefd-47dd-b8fd-0461334eaa24",
      "metadata": {
        "colab": {
          "base_uri": "https://localhost:8080/"
        },
        "id": "f4371ff5-aefd-47dd-b8fd-0461334eaa24",
        "outputId": "ab18402c-51e1-4244-d8bc-28c73d4d360b"
      },
      "outputs": [
        {
          "name": "stdout",
          "output_type": "stream",
          "text": [
            "training data: <class 'torch.Tensor'> torch.Size([240, 4]) torch.float32\n",
            "test data: <class 'torch.Tensor'> torch.Size([240]) torch.int64\n"
          ]
        }
      ],
      "source": [
        "print(\"training data:\",type(X_train), X_train.shape, X_train.dtype)\n",
        "print(\"test data:\", type(y_train), y_train.shape, y_train.dtype)"
      ]
    },
    {
      "cell_type": "code",
      "execution_count": 20,
      "id": "b320e6fe-93d0-4a7d-b50f-7bde9bf8b4e3",
      "metadata": {
        "colab": {
          "base_uri": "https://localhost:8080/"
        },
        "id": "b320e6fe-93d0-4a7d-b50f-7bde9bf8b4e3",
        "outputId": "afbacf77-1240-4f66-e6d9-e05f0e6436ec"
      },
      "outputs": [
        {
          "name": "stdout",
          "output_type": "stream",
          "text": [
            "False\n",
            "True\n"
          ]
        }
      ],
      "source": [
        "net.eval()\n",
        "print(net.training\n",
        ")\n",
        "net.train()\n",
        "print(net.training\n",
        ")"
      ]
    },
    {
      "cell_type": "markdown",
      "id": "841e78a4",
      "metadata": {},
      "source": [
        "訓練ループ"
      ]
    },
    {
      "cell_type": "code",
      "execution_count": 21,
      "id": "30ab578e-3bf7-4da7-8478-c5926185e985",
      "metadata": {
        "colab": {
          "base_uri": "https://localhost:8080/"
        },
        "id": "30ab578e-3bf7-4da7-8478-c5926185e985",
        "outputId": "ecc5aa76-a197-47fa-cebe-09d0a1bfba0b"
      },
      "outputs": [
        {
          "name": "stdout",
          "output_type": "stream",
          "text": [
            "Epoch [1/100] Loss: 1.1014   Acc: 42.9167\n",
            "Epoch [2/100] Loss: 1.0938   Acc: 44.1667\n",
            "Epoch [3/100] Loss: 1.0864   Acc: 46.2500\n",
            "Epoch [4/100] Loss: 1.0790   Acc: 49.1667\n",
            "Epoch [5/100] Loss: 1.0718   Acc: 51.6667\n",
            "Epoch [6/100] Loss: 1.0646   Acc: 52.5000\n",
            "Epoch [7/100] Loss: 1.0575   Acc: 55.4167\n",
            "Epoch [8/100] Loss: 1.0505   Acc: 55.4167\n",
            "Epoch [9/100] Loss: 1.0436   Acc: 59.1667\n",
            "Epoch [10/100] Loss: 1.0367   Acc: 60.4167\n",
            "Epoch [11/100] Loss: 1.0300   Acc: 62.5000\n",
            "Epoch [12/100] Loss: 1.0233   Acc: 66.2500\n",
            "Epoch [13/100] Loss: 1.0167   Acc: 67.5000\n",
            "Epoch [14/100] Loss: 1.0102   Acc: 68.3333\n",
            "Epoch [15/100] Loss: 1.0037   Acc: 70.4167\n",
            "Epoch [16/100] Loss: 0.9973   Acc: 71.2500\n",
            "Epoch [17/100] Loss: 0.9910   Acc: 72.9167\n",
            "Epoch [18/100] Loss: 0.9848   Acc: 73.7500\n",
            "Epoch [19/100] Loss: 0.9786   Acc: 74.1667\n",
            "Epoch [20/100] Loss: 0.9725   Acc: 75.8333\n",
            "Epoch [21/100] Loss: 0.9664   Acc: 75.8333\n",
            "Epoch [22/100] Loss: 0.9604   Acc: 76.2500\n",
            "Epoch [23/100] Loss: 0.9545   Acc: 76.2500\n",
            "Epoch [24/100] Loss: 0.9486   Acc: 76.2500\n",
            "Epoch [25/100] Loss: 0.9428   Acc: 77.0833\n",
            "Epoch [26/100] Loss: 0.9371   Acc: 77.5000\n",
            "Epoch [27/100] Loss: 0.9314   Acc: 77.9167\n",
            "Epoch [28/100] Loss: 0.9257   Acc: 77.9167\n",
            "Epoch [29/100] Loss: 0.9202   Acc: 78.3333\n",
            "Epoch [30/100] Loss: 0.9146   Acc: 78.3333\n",
            "Epoch [31/100] Loss: 0.9092   Acc: 78.3333\n",
            "Epoch [32/100] Loss: 0.9038   Acc: 78.3333\n",
            "Epoch [33/100] Loss: 0.8984   Acc: 78.3333\n",
            "Epoch [34/100] Loss: 0.8931   Acc: 78.3333\n",
            "Epoch [35/100] Loss: 0.8878   Acc: 78.3333\n",
            "Epoch [36/100] Loss: 0.8826   Acc: 78.3333\n",
            "Epoch [37/100] Loss: 0.8775   Acc: 78.3333\n",
            "Epoch [38/100] Loss: 0.8723   Acc: 78.3333\n",
            "Epoch [39/100] Loss: 0.8673   Acc: 78.7500\n",
            "Epoch [40/100] Loss: 0.8623   Acc: 78.7500\n",
            "Epoch [41/100] Loss: 0.8573   Acc: 78.7500\n",
            "Epoch [42/100] Loss: 0.8524   Acc: 78.7500\n",
            "Epoch [43/100] Loss: 0.8475   Acc: 78.7500\n",
            "Epoch [44/100] Loss: 0.8427   Acc: 78.7500\n",
            "Epoch [45/100] Loss: 0.8379   Acc: 78.7500\n",
            "Epoch [46/100] Loss: 0.8331   Acc: 79.1667\n",
            "Epoch [47/100] Loss: 0.8284   Acc: 79.1667\n",
            "Epoch [48/100] Loss: 0.8238   Acc: 79.1667\n",
            "Epoch [49/100] Loss: 0.8192   Acc: 79.1667\n",
            "Epoch [50/100] Loss: 0.8146   Acc: 79.1667\n",
            "Epoch [51/100] Loss: 0.8101   Acc: 79.5833\n",
            "Epoch [52/100] Loss: 0.8056   Acc: 79.5833\n",
            "Epoch [53/100] Loss: 0.8012   Acc: 80.0000\n",
            "Epoch [54/100] Loss: 0.7968   Acc: 80.0000\n",
            "Epoch [55/100] Loss: 0.7924   Acc: 80.0000\n",
            "Epoch [56/100] Loss: 0.7881   Acc: 80.0000\n",
            "Epoch [57/100] Loss: 0.7838   Acc: 80.0000\n",
            "Epoch [58/100] Loss: 0.7795   Acc: 80.0000\n",
            "Epoch [59/100] Loss: 0.7753   Acc: 80.0000\n",
            "Epoch [60/100] Loss: 0.7712   Acc: 80.0000\n",
            "Epoch [61/100] Loss: 0.7670   Acc: 80.0000\n",
            "Epoch [62/100] Loss: 0.7629   Acc: 80.0000\n",
            "Epoch [63/100] Loss: 0.7589   Acc: 80.0000\n",
            "Epoch [64/100] Loss: 0.7548   Acc: 80.0000\n",
            "Epoch [65/100] Loss: 0.7508   Acc: 80.0000\n",
            "Epoch [66/100] Loss: 0.7469   Acc: 80.0000\n",
            "Epoch [67/100] Loss: 0.7430   Acc: 80.0000\n",
            "Epoch [68/100] Loss: 0.7391   Acc: 80.0000\n",
            "Epoch [69/100] Loss: 0.7352   Acc: 80.0000\n",
            "Epoch [70/100] Loss: 0.7314   Acc: 80.0000\n",
            "Epoch [71/100] Loss: 0.7276   Acc: 80.0000\n",
            "Epoch [72/100] Loss: 0.7239   Acc: 80.0000\n",
            "Epoch [73/100] Loss: 0.7202   Acc: 80.0000\n",
            "Epoch [74/100] Loss: 0.7165   Acc: 80.0000\n",
            "Epoch [75/100] Loss: 0.7128   Acc: 80.0000\n",
            "Epoch [76/100] Loss: 0.7092   Acc: 80.0000\n",
            "Epoch [77/100] Loss: 0.7056   Acc: 80.0000\n",
            "Epoch [78/100] Loss: 0.7021   Acc: 80.0000\n",
            "Epoch [79/100] Loss: 0.6985   Acc: 80.0000\n",
            "Epoch [80/100] Loss: 0.6950   Acc: 80.0000\n",
            "Epoch [81/100] Loss: 0.6916   Acc: 80.0000\n",
            "Epoch [82/100] Loss: 0.6882   Acc: 80.0000\n",
            "Epoch [83/100] Loss: 0.6847   Acc: 80.0000\n",
            "Epoch [84/100] Loss: 0.6814   Acc: 80.0000\n",
            "Epoch [85/100] Loss: 0.6780   Acc: 80.0000\n",
            "Epoch [86/100] Loss: 0.6747   Acc: 80.0000\n",
            "Epoch [87/100] Loss: 0.6714   Acc: 80.0000\n",
            "Epoch [88/100] Loss: 0.6682   Acc: 80.0000\n",
            "Epoch [89/100] Loss: 0.6650   Acc: 80.0000\n",
            "Epoch [90/100] Loss: 0.6618   Acc: 80.0000\n",
            "Epoch [91/100] Loss: 0.6586   Acc: 80.0000\n",
            "Epoch [92/100] Loss: 0.6555   Acc: 80.0000\n",
            "Epoch [93/100] Loss: 0.6523   Acc: 80.0000\n",
            "Epoch [94/100] Loss: 0.6493   Acc: 80.0000\n",
            "Epoch [95/100] Loss: 0.6462   Acc: 80.0000\n",
            "Epoch [96/100] Loss: 0.6432   Acc: 80.0000\n",
            "Epoch [97/100] Loss: 0.6402   Acc: 80.0000\n",
            "Epoch [98/100] Loss: 0.6372   Acc: 80.0000\n",
            "Epoch [99/100] Loss: 0.6342   Acc: 80.0000\n",
            "Epoch [100/100] Loss: 0.6313   Acc: 80.0000\n"
          ]
        }
      ],
      "source": [
        "# logging\n",
        "logs = {\"loss\":[], \"acc\":[]}\n",
        "\n",
        "#train\n",
        "if torch.cuda.is_available():\n",
        "  net = net.to(\"cuda:0\")\n",
        "  X_train = X_train.to(\"cuda:0\")\n",
        "  y_train = y_train.to(\"cuda:0\")\n",
        "\n",
        "for epoch in range(num_epoch):\n",
        "\n",
        "    #feedforward - backprop\n",
        "    # 勾配の初期化\n",
        "    optimizer.zero_grad()\n",
        "    # フォワードプロップ。順伝搬\n",
        "    out = net(X_train)\n",
        "    # 損失関数の計算\n",
        "    loss = criterion(out, y_train)\n",
        "    # 逆伝搬して、各パラメータの勾配を求める\n",
        "    loss.backward()\n",
        "    # 勾配を使って学習可能パラメータの値を更新\n",
        "    optimizer.step()\n",
        "\n",
        "    with torch.no_grad():\n",
        "        acc = 100 * torch.sum(y_train==torch.max(out.data, 1)[1]).double() / len(y_train)\n",
        "    print ('Epoch [%d/%d] Loss: %.4f   Acc: %.4f'\n",
        "                   %(epoch+1, num_epoch, loss.item(), acc.item()))\n",
        "\n",
        "    # logging\n",
        "    logs[\"loss\"] += [loss.cpu().detach().item()]\n",
        "    logs[\"acc\"]  += [acc.cpu().detach().item()]"
      ]
    },
    {
      "cell_type": "markdown",
      "id": "a35ac247",
      "metadata": {},
      "source": [
        "学習中の損失関数のモニタリング"
      ]
    },
    {
      "cell_type": "code",
      "execution_count": 22,
      "id": "02aa603b-b55b-4736-93d2-5cc5ef5c03a5",
      "metadata": {
        "colab": {
          "base_uri": "https://localhost:8080/",
          "height": 283
        },
        "id": "02aa603b-b55b-4736-93d2-5cc5ef5c03a5",
        "outputId": "d60d0e9b-db08-4043-96ec-c4c272e58ec4"
      },
      "outputs": [
        {
          "data": {
            "text/plain": [
              "<Axes: >"
            ]
          },
          "execution_count": 22,
          "metadata": {},
          "output_type": "execute_result"
        },
        {
          "data": {
            "image/png": "[encoded data removed]",
            "text/plain": [
              "<Figure size 640x480 with 1 Axes>"
            ]
          },
          "metadata": {},
          "output_type": "display_data"
        }
      ],
      "source": [
        "pd.DataFrame(logs)[\"loss\"].plot()"
      ]
    },
    {
      "cell_type": "markdown",
      "id": "46764fb8",
      "metadata": {},
      "source": [
        "学習中の正答率のモニタリング"
      ]
    },
    {
      "cell_type": "code",
      "execution_count": 23,
      "id": "d677b96a-eef0-4677-80a0-7803dddccc70",
      "metadata": {
        "colab": {
          "base_uri": "https://localhost:8080/",
          "height": 283
        },
        "id": "d677b96a-eef0-4677-80a0-7803dddccc70",
        "outputId": "55cbf778-c7b3-4755-e681-7efb5e2f3f00"
      },
      "outputs": [
        {
          "data": {
            "text/plain": [
              "<Axes: >"
            ]
          },
          "execution_count": 23,
          "metadata": {},
          "output_type": "execute_result"
        },
        {
          "data": {
            "image/png": "[encoded data removed]",
            "text/plain": [
              "<Figure size 640x480 with 1 Axes>"
            ]
          },
          "metadata": {},
          "output_type": "display_data"
        }
      ],
      "source": [
        "pd.DataFrame(logs)[\"acc\"].plot()"
      ]
    },
    {
      "cell_type": "markdown",
      "id": "0c85a6bb-0c4e-47bf-a656-78684c40745b",
      "metadata": {
        "id": "0c85a6bb-0c4e-47bf-a656-78684c40745b"
      },
      "source": [
        "## SECTION 3 : モデルの評価"
      ]
    },
    {
      "cell_type": "code",
      "execution_count": 24,
      "id": "2ea94302-4a35-4deb-ba0c-86e68482b893",
      "metadata": {
        "colab": {
          "base_uri": "https://localhost:8080/",
          "height": 417
        },
        "id": "2ea94302-4a35-4deb-ba0c-86e68482b893",
        "outputId": "e69b8370-db20-4c6a-aa81-d3d3a00b2d62"
      },
      "outputs": [
        {
          "name": "stdout",
          "output_type": "stream",
          "text": [
            "Accuracy of the network 80.3922 %\n"
          ]
        }
      ],
      "source": [
        "#load\n",
        "df_test = pd.read_csv(test_url)\n",
        "\n",
        "#change string value to numeric\n",
        "df_test.loc[df_test['species']=='Adelie', 'species']=0\n",
        "df_test.loc[df_test['species']=='Gentoo', 'species']=1\n",
        "df_test.loc[df_test['species']=='Chinstrap', 'species']=2\n",
        "df_test = df_test.apply(pd.to_numeric)\n",
        "\n",
        "#change dataframe to array\n",
        "df_test_array = df_test.values\n",
        "\n",
        "#split x and y (feature and target)\n",
        "X_test = df_test_array[:,1:]\n",
        "y_test = df_test_array[:,0]\n",
        "\n",
        "#standardization\n",
        "X_test = scaler.transform(X_test)\n",
        "\n",
        "#get prediction\n",
        "X_test = torch.Tensor(X_test).float()\n",
        "y_test = torch.Tensor(y_test).long()\n",
        "\n",
        "# 必要ならばCPUからGPUへ配列を移動\n",
        "#X_test = X_test.to(X_train.device)\n",
        "#y_test = y_test.to(y_train.device)\n",
        "\n",
        "if torch.cuda.is_available():\n",
        "  X_test = X_test.cuda()\n",
        "  y_test = y_test.cuda()\n",
        "\n",
        "#テストデータに対するクラスラベルの予測\n",
        "out = net.forward(X_test)#.softmax(1)\n",
        "_, predicted = torch.max(out.data, 1)\n",
        "\n",
        "#get accuration\n",
        "print('Accuracy of the network %.4f %%' % (100 * torch.sum(y_test==predicted).double() / len(y_test)))"
      ]
    },
    {
      "cell_type": "code",
      "execution_count": null,
      "id": "v5287bkFLvQC",
      "metadata": {
        "id": "v5287bkFLvQC"
      },
      "outputs": [],
      "source": []
    },
    {
      "cell_type": "markdown",
      "id": "e250a917-73f8-4570-8c5a-5133fc159f41",
      "metadata": {
        "id": "e250a917-73f8-4570-8c5a-5133fc159f41",
        "tags": []
      },
      "source": [
        "### [課題1] 入力層の次元数と隠れ層の次元数とクラス数を__init__の引数で変更できるようにNetクラスを修正せよ。\n"
      ]
    },
    {
      "cell_type": "code",
      "execution_count": null,
      "id": "030559e1-afb4-4ae1-b720-ad8cb590c8ae",
      "metadata": {
        "colab": {
          "base_uri": "https://localhost:8080/"
        },
        "id": "030559e1-afb4-4ae1-b720-ad8cb590c8ae",
        "outputId": "f2e0cdf1-9bd2-4317-c9c8-a102d75f06d9",
        "tags": [
          "hide-input"
        ]
      },
      "outputs": [
        {
          "data": {
            "text/plain": [
              "FixedNet(\n",
              "  (fc1): Linear(in_features=4, out_features=100, bias=True)\n",
              "  (fc2): Linear(in_features=100, out_features=3, bias=True)\n",
              ")"
            ]
          },
          "execution_count": 45,
          "metadata": {},
          "output_type": "execute_result"
        }
      ],
      "source": [
        "class FixedNet(nn.Module):\n",
        "\n",
        "    def __init__(self, num_features, hidden_size, num_class):\n",
        "        super().__init__()\n",
        "        self.fc1 = nn.Linear(num_features, hidden_size)\n",
        "        self.fc2 = nn.Linear(hidden_size, num_class)\n",
        "\n",
        "    def forward(self, x):\n",
        "        x = F.relu(self.fc1(x))\n",
        "        x = self.fc2(x)\n",
        "        return x\n",
        "\n",
        "num_features = X_train.shape[1]\n",
        "hidden_size = 100\n",
        "num_class = 3\n",
        "fixed_net = FixedNet(num_features,hidden_size, num_class)\n",
        "fixed_net"
      ]
    },
    {
      "cell_type": "markdown",
      "id": "5f1a1125-437f-40e0-bbf0-b7812849a458",
      "metadata": {
        "id": "5f1a1125-437f-40e0-bbf0-b7812849a458"
      },
      "source": [
        "### [課題2] 課題1で作ったクラスを使って，クラス数をそのままに隠れ層の次元数を100にして200エポック訓練せよ．また，その際のtestデータの正答率を示せ．この際、set_seedを使いSEEDを1111に固定する事．\n"
      ]
    },
    {
      "cell_type": "code",
      "execution_count": null,
      "id": "f702b4f8-55d6-418e-a340-d6597351b1ea",
      "metadata": {
        "id": "f702b4f8-55d6-418e-a340-d6597351b1ea",
        "tags": [
          "hide-input"
        ]
      },
      "outputs": [],
      "source": [
        "set_seed(1111)\n",
        "net = FixedNet(num_features,hidden_size, num_class)\n",
        "#choose optimizer and loss function\n",
        "criterion = nn.CrossEntropyLoss()\n",
        "optimizer = torch.optim.SGD(net.parameters(), lr=lr)\n",
        "\n",
        "# 訓練のコード\n",
        "\n",
        "# 評価のコード\n"
      ]
    },
    {
      "cell_type": "markdown",
      "id": "g7tfpwniPzvX",
      "metadata": {
        "id": "g7tfpwniPzvX"
      },
      "source": [
        "### [課題3] ペンギンデータのクラス分類を行うニューラルネットワークを作れ。ただし、ニューラルネットワークの隠れ層は5層で、それぞれが100次元のネットワークを作成せよ。また、このニューラルネットワークの活性化関数はすべてtanhである。この隠れ層をまとめたsequentialをfeature_extractorという変数にせよ。出力層は3クラス分類を行うために次元数は3にする。\n"
      ]
    },
    {
      "cell_type": "code",
      "execution_count": null,
      "id": "RNQaR1_XPytp",
      "metadata": {
        "id": "RNQaR1_XPytp"
      },
      "outputs": [],
      "source": [
        "class TanhNet(nn.Module):\n",
        "  def __init__(self, hidden_size=100, n_class=3):\n",
        "    super().__init__()\n",
        "    self.feature_extractor = nn.Sequential(\n",
        "          nn.Linear(4, hidden_size), # 1\n",
        "          nn.Tanh(),\n",
        "          nn.Linear(hidden_size, hidden_size), # 2\n",
        "          nn.Tanh(),\n",
        "          ... # 3\n",
        "          ... # 4\n",
        "          ... # 5\n",
        "      )\n",
        "    self.classifier = nn.Linear(hidden_size, n_class)\n",
        "\n",
        "  def forward(self,x):\n",
        "    x = self.feature_extractor(x)\n",
        "    return self.classifier(x)"
      ]
    },
    {
      "cell_type": "code",
      "execution_count": null,
      "id": "4M8uhvUuSNgd",
      "metadata": {
        "colab": {
          "base_uri": "https://localhost:8080/"
        },
        "id": "4M8uhvUuSNgd",
        "outputId": "b13cf1f8-8b5d-4719-97d0-90e766dfe999"
      },
      "outputs": [
        {
          "data": {
            "text/plain": [
              "TanhNet(\n",
              "  (feature_extractor): Sequential(\n",
              "    (0): Linear(in_features=4, out_features=100, bias=True)\n",
              "    (1): Tanh()\n",
              "    (2): Linear(in_features=100, out_features=100, bias=True)\n",
              "    (3): Tanh()\n",
              "  )\n",
              "  (classifier): Linear(in_features=100, out_features=3, bias=True)\n",
              ")"
            ]
          },
          "execution_count": 53,
          "metadata": {},
          "output_type": "execute_result"
        }
      ],
      "source": [
        "a = TanhNet()\n",
        "#a(X_train.cpu())\n",
        "a"
      ]
    },
    {
      "cell_type": "markdown",
      "id": "bGfomVdsUbWz",
      "metadata": {
        "id": "bGfomVdsUbWz"
      },
      "source": [
        "### [課題4] 課題3で作ったクラスを使って、200エポック訓練せよ。また、その際のtestデータの正答率を提出せよ。この際、set_seedを使いSEEDを1111に固定する事。"
      ]
    },
    {
      "cell_type": "code",
      "execution_count": null,
      "id": "1Wo_bcndUhyy",
      "metadata": {
        "id": "1Wo_bcndUhyy"
      },
      "outputs": [],
      "source": []
    }
  ],
  "metadata": {
    "accelerator": "GPU",
    "colab": {
      "collapsed_sections": [
        "9753b6b1-36b6-46a4-ad4d-6fd7fac1894f"
      ],
      "provenance": []
    },
    "gpuClass": "standard",
    "kernelspec": {
      "display_name": "Python 3 (ipykernel)",
      "language": "python",
      "name": "python3"
    },
    "language_info": {
      "codemirror_mode": {
        "name": "ipython",
        "version": 3
      },
      "file_extension": ".py",
      "mimetype": "text/x-python",
      "name": "python",
      "nbconvert_exporter": "python",
      "pygments_lexer": "ipython3",
      "version": "3.11.8"
    }
  },
  "nbformat": 4,
  "nbformat_minor": 5
}
