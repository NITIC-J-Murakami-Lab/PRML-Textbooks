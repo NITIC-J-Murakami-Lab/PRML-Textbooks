{
 "cells": [
  {
   "cell_type": "markdown",
   "metadata": {},
   "source": [
    "# クラス\n",
    "\n",
    "これまでstr型，int型，float型，list型などの様々な型（Type）を扱ってきましたが，これらのことを __組み込み型__ と呼びます．これに対して，ユーザーが自分で定義して作る新しい方を __ユーザー定義型__ と呼びます．クラスとはこのユーザー定義型のことです．使い方を学んでいきましょう．"
   ]
  },
  {
   "cell_type": "markdown",
   "metadata": {},
   "source": [
    "## クラスとは何か"
   ]
  },
  {
   "cell_type": "markdown",
   "metadata": {},
   "source": [
    "設計書に従ってロボットが生産される様子をイメージしてください．この設計書は少し特殊で，「その時々で必要な値」を入れることが可能になっています．必要な値を入れた設計書から，「設計書に書かれた製造手順」に従って実際のロボットを作成します．\n",
    "\n",
    "また，この設計書には「作られたロボットはどのような動作ができるのか」についても書かれています．この動作の中では，他の物体を掴んで動かす処理や，自分自身の内部情報を読み取ってから何かを出力する処理が含まれています．\n",
    "\n",
    "ここでいう設計書がクラスであり，「設計書に書かれた製造手順」がコンストラクターです．また，「作られたロボットはどのような動作ができるのか」はメソッドとして実装されます．"
   ]
  },
  {
   "cell_type": "markdown",
   "metadata": {},
   "source": [
    "## クラスの作り方"
   ]
  },
  {
   "cell_type": "markdown",
   "metadata": {},
   "source": [
    "### 属性を持ったクラス\n",
    "\n",
    "ゲームキャラクターのクラスを作成しましょう．ここで，HumanクラスはHP，MP，攻撃力，防御力，スピードを持っていることにします．全てデフォルトで100の値を持っていることにしましょう．"
   ]
  },
  {
   "cell_type": "code",
   "execution_count": 1,
   "metadata": {},
   "outputs": [],
   "source": [
    "class Human:\n",
    "    def __init__(self, hp=100,mp=100, attack=100, defence=100, speed=100):\n",
    "        self.hp = hp\n",
    "        self.mp = mp\n",
    "        self.a = attack\n",
    "        self.d = defence\n",
    "        self.s = speed"
   ]
  },
  {
   "cell_type": "markdown",
   "metadata": {},
   "source": [
    "これでステータスだけ持ったキャラクターの設計図が作成できました． `__init__`メソッドのように`__`で囲まれたメソッドは __特殊メソッド__ と呼ばれ，重要な役割があります．この場合は「インスタンスを作る際に，初期化作業を行う」のが`__init__`の役割です．なのでこれを __コンストラクタ__ とも呼びます．\n",
    "\n",
    "コンストラクタを含めて，メソッドの第二引数以降は普通の関数と同じです．では第一引数の`self`は何かというと，「このメソッドを呼び出すオブジェクト」が勝手に入力される引数です．\n",
    "\n",
    "この設計図（クラス）をもとに実体（インスタンス）を作成します．クラスの初期化は，クラスを関数のように呼び出すことで行います．また，その際に実際には `__init__`メソッドが呼ばれていることに注意してください．"
   ]
  },
  {
   "cell_type": "code",
   "execution_count": 7,
   "metadata": {},
   "outputs": [
    {
     "data": {
      "text/plain": [
       "80"
      ]
     },
     "execution_count": 7,
     "metadata": {},
     "output_type": "execute_result"
    }
   ],
   "source": [
    "taro = Human() # 平凡な人間\n",
    "yusya = Human(1000,1000, 300, 200,300) # パワフルな人間\n",
    "madoshi = Human(80,1200, 200, 80,200) # MPが高いがスタミナがない人間 \n",
    "\n",
    "madoshi.hp"
   ]
  },
  {
   "cell_type": "markdown",
   "metadata": {},
   "source": [
    "同じクラスでもパラメータを変えるだけで様々なバリエーションが作れることがわかると思います．また，このクラスはユーザー定義型なので，type関数でインスタンスを確認すると："
   ]
  },
  {
   "cell_type": "code",
   "execution_count": 10,
   "metadata": {},
   "outputs": [
    {
     "data": {
      "text/plain": [
       "__main__.Human"
      ]
     },
     "execution_count": 10,
     "metadata": {},
     "output_type": "execute_result"
    }
   ],
   "source": [
    "type(taro)"
   ]
  },
  {
   "cell_type": "markdown",
   "metadata": {},
   "source": [
    "このようにHuman型であることがわかります．"
   ]
  },
  {
   "cell_type": "markdown",
   "metadata": {},
   "source": [
    "### メソッドを持ったクラス\n",
    "\n",
    "クラスは値と専用関数をまとめたものとも言えます．今 `__init__`メソッドで初期化時に設定する __インスタンス属性__ （インスタンスごとに値を変えられる属性）を設定しました．次はその他のメソッドを設定して，この型専用の関数を用意します．"
   ]
  },
  {
   "cell_type": "markdown",
   "metadata": {},
   "source": [
    "ここでは，「自分のattackの数値 - 相手のdefence数値」分だけ相手のhpを減少させる攻撃「メガトンパンチ」をメソッドとして実装します．また，同様にして，「自分のattackの数値 - 相手のdefence数値/2」分だけ相手のhpを減少させる攻撃「メガトンキック」をメソッドとして実装します．"
   ]
  },
  {
   "cell_type": "code",
   "execution_count": 28,
   "metadata": {},
   "outputs": [],
   "source": [
    "class Human:\n",
    "    def __init__(self, hp=100,mp=100, attack=100, defence=100, speed=100):\n",
    "        self.hp = hp\n",
    "        self.mp = mp\n",
    "        self.a = attack\n",
    "        self.d = defence\n",
    "        self.s = speed\n",
    "    \n",
    "    def megaton_punch(self, target):\n",
    "        \"\"\"\n",
    "        targetはHumanインスタンス\n",
    "        \"\"\"\n",
    "        damage = self.a - target.d\n",
    "        if damage < 0:\n",
    "            damage = 0\n",
    "        \n",
    "        target.hp -= damage\n",
    "        return target \n",
    "\n",
    "    def megaton_kick(self, target):\n",
    "        \"\"\"\n",
    "        targetはHumanインスタンス\n",
    "        \"\"\"\n",
    "        damage = self.a - target.d/2\n",
    "        if damage < 0:\n",
    "            damage = 0\n",
    "        \n",
    "        target.hp -= damage\n",
    "        return target \n",
    "    \n",
    "ichiro = Human(attack=110) \n",
    "jiro = Human() "
   ]
  },
  {
   "cell_type": "markdown",
   "metadata": {},
   "source": [
    "`__init__`と同様に，第一引`self`は「このメソッドを呼び出したオブジェクト（インスタンス）」を指します．そのため，下の例では`ichiro`が`megaton_punch`の`self`に紐づけられています．"
   ]
  },
  {
   "cell_type": "code",
   "execution_count": 26,
   "metadata": {},
   "outputs": [
    {
     "data": {
      "text/plain": [
       "90"
      ]
     },
     "execution_count": 26,
     "metadata": {},
     "output_type": "execute_result"
    }
   ],
   "source": [
    "jiro = ichiro.megaton_punch(jiro)\n",
    "\n",
    "jiro.hp"
   ]
  },
  {
   "cell_type": "markdown",
   "metadata": {},
   "source": [
    "メソッドはクラスに束縛されていることを除けば，関数と全く同じです．普通のメソッドは第一引数の`self`を必ず取るので，\n",
    "\n",
    "```py\n",
    "self.variable = \"hoge\"\n",
    "```\n",
    "\n",
    "のように，いずれかのメソッドの中でインスタンス変数を追加した場合，他のメソッドの中でも`self.variable`を参照することができます．普通の関数との違いはこれだけです．"
   ]
  },
  {
   "cell_type": "markdown",
   "metadata": {},
   "source": [
    "#### [問題]「hyper_beam」をメソッドとして実装しなさい．\n",
    "\n",
    "hyper_beamは「自分のmp $\\times$ 自分のattack - 相手のmp $\\times$ 相手のdefence」の分だけ相手にダメージを与える攻撃とします．"
   ]
  },
  {
   "cell_type": "code",
   "execution_count": 32,
   "metadata": {},
   "outputs": [
    {
     "name": "stdout",
     "output_type": "stream",
     "text": [
      "100\n"
     ]
    }
   ],
   "source": [
    "class Human:\n",
    "    def __init__(self, hp=100,mp=100, attack=100, defence=100, speed=100):\n",
    "        self.hp = hp\n",
    "        self.mp = mp\n",
    "        self.a = attack\n",
    "        self.d = defence\n",
    "        self.s = speed\n",
    "    \n",
    "    def megaton_punch(self, target):\n",
    "        \"\"\"\n",
    "        targetはHumanインスタンス\n",
    "        \"\"\"\n",
    "        damage = self.a - target.d\n",
    "        if damage < 0:\n",
    "            damage = 0\n",
    "        \n",
    "        target.hp -= damage\n",
    "        return target \n",
    "    \n",
    "    def megaton_kick(self, target):\n",
    "        \"\"\"\n",
    "        targetはHumanインスタンス\n",
    "        \"\"\"\n",
    "        damage = self.a - target.d/2\n",
    "        if damage < 0:\n",
    "            damage = 0\n",
    "        \n",
    "        target.hp -= damage\n",
    "        return target \n",
    "    \n",
    "ichiro = Human(mp=90, attack=110) \n",
    "jiro = Human(mp=95, defence=90) \n",
    "\n",
    "#ichiroからjiroへhyper_beam\n",
    "print(jiro.hp)"
   ]
  },
  {
   "cell_type": "markdown",
   "metadata": {},
   "source": [
    "### クラスの継承\n",
    "\n",
    "人間クラスをもとにして，ドワーフクラスを作ります．ドワーフは人間と同様に，メガトンパンチ・メガトンキックや破壊光線を撃つことができます．しかしメガトンパンチの威力が人間より大きいことを表すために，種族ボーナスとして必ず+20ダメージになるようにしたいです．\n",
    "\n",
    "このような場合に，クラスの「継承」を行います．継承とは，親のクラスの機能を引き継いだ子クラスを設計することです．定義の仕方は以下の通り．\n",
    "\n",
    "```py\n",
    "class 子クラス(親クラス):\n",
    "    def 親クラスになかったメソッド(self,...):\n",
    "        ...\n",
    "    \n",
    "    def 親クラスと同名のメソッド(self, ...):\n",
    "        親クラスとは違う機能\n",
    "\n",
    "```\n",
    "\n",
    "1. 子クラスは基本的に，親クラスの全ての機能を継承します．同じ名前，同じ機能のメソッドならば改めて書く必要はありません．\n",
    "2. もし親クラスにないメソッドを追加したい場合は，普通にそのメソッドを定義してください．\n",
    "3. もし親クラスにあるメソッドの処理を変更したい場合は，同じメソッド名のまま普通に新しいメソッドとして定義してください．（これをオーバーライドと呼びます）\n",
    "\n",
    "ではドワーフのクラスを作成します．"
   ]
  },
  {
   "cell_type": "code",
   "execution_count": 36,
   "metadata": {},
   "outputs": [
    {
     "name": "stdout",
     "output_type": "stream",
     "text": [
      "60\n",
      "-5.0\n"
     ]
    }
   ],
   "source": [
    "class Dwarf(Human):\n",
    "    def __init__(self, hp=100,mp=100, attack=100, defence=100, speed=100):\n",
    "        self.hp = hp\n",
    "        self.mp = mp\n",
    "        self.a = attack\n",
    "        self.d = defence\n",
    "        self.s = speed\n",
    "    \n",
    "    def megaton_punch(self, target):\n",
    "        \"\"\"\n",
    "        targetはHumanインスタンス\n",
    "        \"\"\"\n",
    "        damage = self.a - target.d\n",
    "        if damage < 0:\n",
    "            damage = 0\n",
    "        \n",
    "        target.hp -= damage + 20\n",
    "        return target \n",
    "    \n",
    "dwaichi = Dwarf(mp=90, attack=110) \n",
    "dwaji = Dwarf(mp=95, defence=90) \n",
    "\n",
    "dwaji=dwaichi.megaton_punch(dwaji)\n",
    "print(dwaji.hp)\n",
    "dwaji=dwaichi.megaton_kick(dwaji)\n",
    "print(dwaji.hp)"
   ]
  },
  {
   "cell_type": "markdown",
   "metadata": {},
   "source": [
    "#### [問題]Humanクラスの子クラスとしてElfクラスを作成してください．\n",
    "\n",
    "このクラスは種族特性として，破壊光線が+20ダメージになりますが，その代わりにメガトンキックが-10ダメージになります．"
   ]
  },
  {
   "cell_type": "code",
   "execution_count": 37,
   "metadata": {},
   "outputs": [],
   "source": [
    "class Elf():\n",
    "    ..."
   ]
  },
  {
   "cell_type": "markdown",
   "metadata": {},
   "source": [
    "## クラス変数\n",
    "\n",
    "インスタンス変数`self.variable`は，インスタンス毎に値を変えることができました．これに対して，同じクラスから生成されれば，どのインスタンスであっても同じ値をとってほしい変数がある場合，クラス変数として定義します．"
   ]
  },
  {
   "cell_type": "code",
   "execution_count": 14,
   "metadata": {},
   "outputs": [
    {
     "name": "stdout",
     "output_type": "stream",
     "text": [
      "クラス変数\n",
      "インスタンス変数1\n",
      "クラス変数\n",
      "インスタンス変数2\n"
     ]
    }
   ],
   "source": [
    "class Test:\n",
    "    a = \"クラス変数\" # クラス変数はここに定義します．\n",
    "    def __init__(self,x=\"インスタンス変数\"):\n",
    "        self.x = x\n",
    "\n",
    "instance1 = Test(\"インスタンス変数1\")\n",
    "instance2 = Test(\"インスタンス変数2\")\n",
    "\n",
    "print(instance1.a)\n",
    "print(instance1.x)\n",
    "\n",
    "print(instance2.a)\n",
    "print(instance2.x)"
   ]
  },
  {
   "cell_type": "markdown",
   "metadata": {},
   "source": [
    "クラス変数は`クラス.クラス変数`に値を代入することで，更新することが可能です．更新するとどうなるか確認してみてください．"
   ]
  },
  {
   "cell_type": "code",
   "execution_count": 15,
   "metadata": {},
   "outputs": [
    {
     "name": "stdout",
     "output_type": "stream",
     "text": [
      "クラス変数\n",
      "インスタンス変数1\n",
      "クラス変数\n",
      "インスタンス変数2\n"
     ]
    }
   ],
   "source": [
    "#Test.a = \"クラス変数2\"\n",
    "\n",
    "print(instance1.a)\n",
    "print(instance1.x)\n",
    "\n",
    "print(instance2.a)\n",
    "print(instance2.x)"
   ]
  },
  {
   "cell_type": "markdown",
   "metadata": {},
   "source": [
    "クラス変数への代入を行うと，そのクラスから作られた全てのインスタンスが持つクラス変数も更新されます．"
   ]
  },
  {
   "cell_type": "markdown",
   "metadata": {},
   "source": [
    "## staticmethod\n",
    "\n",
    "staticmethodは，selfを受け取らないメソッドです．これは以下のような場合に使うと良いでしょう．\n",
    "\n",
    "1. 関数として定義しても良いけど，クラスの中に入れておいた方が収まりがいい場合\n",
    "2. [継承クラスで動作が変わらない時](https://qiita.com/msrks/items/fdc9afd12effc2cba1bc)\n",
    "\n",
    "実際に使う場合には，以下のように，「メソッドの宣言の前の行に`@staticmethod`をつける」ことで行います．"
   ]
  },
  {
   "cell_type": "code",
   "execution_count": 22,
   "metadata": {},
   "outputs": [
    {
     "name": "stdout",
     "output_type": "stream",
     "text": [
      "適当な文字列\n",
      "適当\n"
     ]
    }
   ],
   "source": [
    "class Test2:\n",
    "    a = \"クラス変数\" # クラス変数はここに定義します．\n",
    "    def __init__(self,x=\"インスタンス変数\"):\n",
    "        self.x = x\n",
    "\n",
    "    @staticmethod\n",
    "    def test_static():\n",
    "        print(\"適当な文字列\")\n",
    "\n",
    "    @staticmethod\n",
    "    def test_static2(y):\n",
    "        print(y)\n",
    "\n",
    "instance3 = Test2()\n",
    "instance3.test_static()\n",
    "instance3.test_static2(\"適当\")"
   ]
  },
  {
   "cell_type": "markdown",
   "metadata": {},
   "source": [
    "メソッド，関数の上に`@hogehoge`と宣言することで関数の挙動を変えることができます．これを __デコレータ__ と呼びます．`@staticmethod`以外にもたくさんのデコレータがありますし，自分でデコレータを定義することも可能です．"
   ]
  },
  {
   "cell_type": "markdown",
   "metadata": {},
   "source": [
    "## classmethod\n",
    "\n",
    "classmethodは，第一引数にインスタンス(self)の代わりにクラス自体(cls)を受け取るメソッドです．これは以下のような場合に使うと良いでしょう．\n",
    "\n",
    "1. クラス変数にだけアクセスする時\n",
    "2. 継承クラスで動作を変えたい時\n",
    "\n",
    "実際に使う場合には，以下のように，「メソッドの宣言の前の行に`@classmethod`をつける」ことで行います．"
   ]
  },
  {
   "cell_type": "code",
   "execution_count": 26,
   "metadata": {},
   "outputs": [
    {
     "name": "stdout",
     "output_type": "stream",
     "text": [
      "<class '__main__.Test3'>\n",
      "クラス変数\n"
     ]
    },
    {
     "ename": "AttributeError",
     "evalue": "type object 'Test3' has no attribute 'x'",
     "output_type": "error",
     "traceback": [
      "\u001b[0;31m---------------------------------------------------------------------------\u001b[0m",
      "\u001b[0;31mAttributeError\u001b[0m                            Traceback (most recent call last)",
      "Cell \u001b[0;32mIn[26], line 28\u001b[0m\n\u001b[1;32m     26\u001b[0m instance4 \u001b[38;5;241m=\u001b[39m Test3()\n\u001b[1;32m     27\u001b[0m instance5 \u001b[38;5;241m=\u001b[39m Test3()\n\u001b[0;32m---> 28\u001b[0m \u001b[43minstance4\u001b[49m\u001b[38;5;241;43m.\u001b[39;49m\u001b[43mtest_classmethod\u001b[49m\u001b[43m(\u001b[49m\u001b[43m)\u001b[49m\n",
      "Cell \u001b[0;32mIn[26], line 18\u001b[0m, in \u001b[0;36mTest3.test_classmethod\u001b[0;34m(cls)\u001b[0m\n\u001b[1;32m     16\u001b[0m \u001b[38;5;28mprint\u001b[39m(\u001b[38;5;28mcls\u001b[39m)\n\u001b[1;32m     17\u001b[0m \u001b[38;5;28mprint\u001b[39m(\u001b[38;5;28mcls\u001b[39m\u001b[38;5;241m.\u001b[39ma)\n\u001b[0;32m---> 18\u001b[0m \u001b[38;5;28mprint\u001b[39m(\u001b[38;5;28;43mcls\u001b[39;49m\u001b[38;5;241;43m.\u001b[39;49m\u001b[43mx\u001b[49m)\n",
      "\u001b[0;31mAttributeError\u001b[0m: type object 'Test3' has no attribute 'x'"
     ]
    }
   ],
   "source": [
    "class Test3:\n",
    "    a = \"クラス変数\" # クラス変数はここに定義します．\n",
    "    def __init__(self,x=\"インスタンス変数\"):\n",
    "        self.x = x\n",
    "\n",
    "    @staticmethod\n",
    "    def test_static():\n",
    "        print(\"適当な文字列\")\n",
    "\n",
    "    @staticmethod\n",
    "    def test_static2(y):\n",
    "        print(y)\n",
    "\n",
    "    @classmethod\n",
    "    def test_classmethod(cls):\n",
    "        print(cls)\n",
    "        print(cls.a)\n",
    "        print(cls.x)\n",
    "\n",
    "    @classmethod\n",
    "    def update_classvariable(cls, new_a):\n",
    "        cls.a = new_a\n",
    "\n",
    "    \n",
    "\n",
    "instance4 = Test3()\n",
    "instance5 = Test3()\n",
    "instance4.test_classmethod()"
   ]
  },
  {
   "cell_type": "markdown",
   "metadata": {},
   "source": [
    "`cls`はインスタンスではなくクラスが入っているため，インスタンス変数`x`を呼び出すことはできません．\n",
    "\n",
    "また，`cls.a`に代入することで，クラス変数の値を更新することも可能です．"
   ]
  },
  {
   "cell_type": "code",
   "execution_count": 28,
   "metadata": {},
   "outputs": [
    {
     "name": "stdout",
     "output_type": "stream",
     "text": [
      "新しい値\n",
      "新しい値\n"
     ]
    }
   ],
   "source": [
    "instance4.update_classvariable(\"新しい値\")\n",
    "\n",
    "print(instance4.a)\n",
    "print(instance5.a)"
   ]
  },
  {
   "cell_type": "markdown",
   "metadata": {},
   "source": [
    "#### [問題] 通常のメソッドの中でクラス変数を更新した場合，どのような挙動になるのか確認してみてください．"
   ]
  }
 ],
 "metadata": {
  "kernelspec": {
   "display_name": ".venv",
   "language": "python",
   "name": "python3"
  },
  "language_info": {
   "codemirror_mode": {
    "name": "ipython",
    "version": 3
   },
   "file_extension": ".py",
   "mimetype": "text/x-python",
   "name": "python",
   "nbconvert_exporter": "python",
   "pygments_lexer": "ipython3",
   "version": "3.11.8"
  }
 },
 "nbformat": 4,
 "nbformat_minor": 2
}
