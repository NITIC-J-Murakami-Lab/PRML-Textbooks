{
 "cells": [
  {
   "cell_type": "markdown",
   "metadata": {},
   "source": [
    "# Python BootCamp: アルゴリズムの実装"
   ]
  },
  {
   "cell_type": "markdown",
   "metadata": {},
   "source": [
    "## [問題] fizzbuzz\n",
    "「fizzbuzzを行う関数を実装しよう」\n",
    "\n",
    "fizzbuzzを行う関数を実装しましょう。\n",
    "Fizz Buzzについては[wikiを参照](https://ja.wikipedia.org/wiki/Fizz_Buzz)してください。\n",
    "\n",
    "\n",
    "関数の雛形として、以下を用意しました。\n",
    "```python\n",
    "def fizzbuzz(max_number):\n",
    "    for i in range(max_number):\n",
    "        print(\"{}\".format(i))\n",
    "```\n",
    "これを拡張して、max_numberとして与えられた数字(int)までfizz buzzする関数を作成し、実行結果を示してください。\n"
   ]
  },
  {
   "cell_type": "code",
   "execution_count": 1,
   "metadata": {},
   "outputs": [
    {
     "name": "stdout",
     "output_type": "stream",
     "text": [
      "0\n",
      "1\n",
      "2\n",
      "3\n",
      "4\n"
     ]
    }
   ],
   "source": [
    "# 関数の宣言\n",
    "def fizzbuzz(max_number):\n",
    "    for i in range(max_number):\n",
    "        print(\"{}\".format(i))\n",
    "        \n",
    "# 実行\n",
    "fizzbuzz(5)"
   ]
  },
  {
   "cell_type": "markdown",
   "metadata": {},
   "source": [
    "::::{admonition} 回答例\n",
    ":class: dropdown, hint \n",
    "\n",
    "```python\n",
    "def fizzbuzz(max_number):\n",
    "    for num in range(1, max_number):\n",
    "        if num % 3 == 0 and num % 5 == 0:\n",
    "            print('fizzbuzz')\n",
    "        elif num % 3 == 0:\n",
    "            print('fizz')\n",
    "        elif num % 5 == 0:\n",
    "            print('buzz')\n",
    "        else:\n",
    "            print(num)\n",
    "\n",
    "fizzbuzz(50)\n",
    "```\n",
    "::::"
   ]
  },
  {
   "cell_type": "markdown",
   "metadata": {},
   "source": [
    "## [問題] フィボナッチ数列\n",
    "\n",
    "「フィボナッチ数列を100桁目まで返す関数を実装しよう」\n",
    "\n",
    "フィボナッチ数列を列挙する関数を作りましょう。\n",
    "\n",
    "```python\n",
    "fib_list = [1,1]\n",
    "```\n",
    "が最初に与えられます。これを元にしてどんどんfib_listにフォボナッチ数列を作成して、len(fib_list)==100になるまでそれを繰り返してください。"
   ]
  },
  {
   "cell_type": "code",
   "execution_count": 2,
   "metadata": {},
   "outputs": [],
   "source": [
    "fib_list = [1,1]"
   ]
  },
  {
   "cell_type": "markdown",
   "metadata": {},
   "source": [
    "::::{admonition} 回答例\n",
    ":class: dropdown, hint \n",
    "\n",
    "```python\n",
    "def fibo(n):\n",
    "    if n < 3:\n",
    "        return [1,1]\n",
    "    fibo_list = [1,1]\n",
    "    for i in range(2, n-1):\n",
    "        fibo_i = fibo_list[i-1] + fibo_list[i-2]\n",
    "        fibo_list.append(fibo_i)\n",
    "    return fibo_list\n",
    "        \n",
    "print(fibo(10))\n",
    "```\n",
    "::::"
   ]
  },
  {
   "cell_type": "markdown",
   "metadata": {},
   "source": [
    "## [問題] 合計\n",
    "\n",
    "「aからbまでの和を計算する関数を実装しよう」\n",
    "\n",
    "$a=5, b=10$ ならば \n",
    " \n",
    "$$\n",
    "\\text{result} = 5+6+7+8+9+10\n",
    "$$\n",
    "\n",
    "のように、aとbの２つのint型数字を受け取って、aからbまで足し合わせた答えを返す関数を作りましょう。\n",
    "\n",
    "ただし、以下の条件をみたすようにしてください。\n",
    "* a < bの場合は正しく動作し、それ以外の場合（a >= b）は標準出力に\"ERROR\"と表示。\n",
    "* Pythonの組み込み関数であるsum()は使わない事。\n"
   ]
  },
  {
   "cell_type": "code",
   "execution_count": 5,
   "metadata": {},
   "outputs": [],
   "source": [
    "def mysum():\n",
    "    ..."
   ]
  },
  {
   "cell_type": "markdown",
   "metadata": {},
   "source": [
    "::::{admonition} 回答例\n",
    ":class: dropdown, hint \n",
    "\n",
    "```py\n",
    "def mysum(a,b):\n",
    "    total = 0\n",
    "    if a >= b:\n",
    "        print(\"ERROR\")\n",
    "    else:\n",
    "        for num in range(a,b+1):\n",
    "            total += num\n",
    "        return total\n",
    "\n",
    "mysum(5,10)\n",
    "```"
   ]
  },
  {
   "cell_type": "markdown",
   "metadata": {},
   "source": [
    "## [問題] 階乗\n",
    "\n",
    "「階乗を計算する関数を実装しよう」... [階乗とは](https://ja.wikipedia.org/wiki/%E9%9A%8E%E4%B9%97)\n",
    "\n",
    "階乗を実装する関数を作成しましょう。\n",
    "\n",
    "```python\n",
    "def factorial(target_number):\n",
    "    result = 1\n",
    "    return result\n",
    "```\n",
    "上記の関数を元にして、階乗を計算する関数を完成させましょう。"
   ]
  },
  {
   "cell_type": "code",
   "execution_count": 3,
   "metadata": {},
   "outputs": [],
   "source": [
    "def factorial(target_number):\n",
    "    result = 0\n",
    "    return result"
   ]
  },
  {
   "cell_type": "markdown",
   "metadata": {},
   "source": [
    "::::{admonition} 回答例\n",
    ":class: dropdown, hint \n",
    "\n",
    "```py\n",
    "def fact(n):\n",
    "    if n == 0:\n",
    "        return 1\n",
    "    else:\n",
    "        return n * fact(n-1)\n",
    "\n",
    "fact(5)\n",
    "```\n",
    "::::"
   ]
  },
  {
   "cell_type": "markdown",
   "metadata": {},
   "source": [
    "## [問題] ユークリッドの互除法\n",
    "\n",
    "「最大公約数を求める関数を実装しよう」\n",
    "\n",
    "ユークリッドの互除法を使って、２つの数字から最大公約数を求める関数を作成しましょう！\n",
    "\n",
    "ユークリッドの互除法について知りたい場合は[このページ](https://ja.wikipedia.org/wiki/%E3%83%A6%E3%83%BC%E3%82%AF%E3%83%AA%E3%83%83%E3%83%89%E3%81%AE%E4%BA%92%E9%99%A4%E6%B3%95)のみを読んでアルゴリズムを理解し、プログラムを実装してください。"
   ]
  },
  {
   "cell_type": "code",
   "execution_count": 8,
   "metadata": {},
   "outputs": [],
   "source": [
    "def euclidean_algorithm(a, b):\n",
    "    ..."
   ]
  },
  {
   "cell_type": "markdown",
   "metadata": {},
   "source": [
    "::::{admonition} 回答例\n",
    ":class: dropdown, hint \n",
    "\n",
    "\n",
    "```py\n",
    "def euclidean_algorithm(a, b):\n",
    "    while a % b != 0:\n",
    "        c = a % b\n",
    "        #a = b\n",
    "        #b = c\n",
    "        a,b = b,c\n",
    "    return b\n",
    "    \n",
    "euclidean_algorithm(28, 20)\n",
    "```\n",
    "::::"
   ]
  },
  {
   "cell_type": "markdown",
   "metadata": {},
   "source": [
    "## [問題] 数字列の反転\n",
    "\n",
    "「数字を逆順にしよう」 \n",
    "与えられた数字を逆に並べ替える関数を作成して下さい。\n",
    "\n",
    "例：4365->5634\n",
    "\n",
    "以降、問題文の下に関数の雛形が与えられた場合はそれを改変して答えを作成してください。  \n",
    "また、作成した関数の実行結果まで示してください。"
   ]
  },
  {
   "cell_type": "code",
   "execution_count": 6,
   "metadata": {},
   "outputs": [],
   "source": [
    "def reversed_int(x):\n",
    "    ..."
   ]
  },
  {
   "cell_type": "markdown",
   "metadata": {},
   "source": [
    "::::{admonition} 回答例\n",
    ":class: dropdown, hint \n",
    "\n",
    "\n",
    "```py\n",
    "def reversed_int(x):\n",
    "    x = str(x)[::-1]\n",
    "    return int(x)\n",
    "\n",
    "reversed_int(4365)\n",
    "```\n",
    "::::"
   ]
  },
  {
   "cell_type": "markdown",
   "metadata": {},
   "source": [
    "## [問題] 回文判定\n",
    "\n",
    "「受け取った文字列が回文か否かを判別する関数を作成しよう」\n",
    "\n",
    "うけとった文字列が回文か否かを判別する関数を作成してください。\n",
    "\n",
    "ただしこの時、関数が受け取る文字列は句読点や記号を含まないものと仮定します。（記号などが含まれる場合については考えなくても良い）  \n",
    "回分であればTrue, 回文でなければFalseを返り値として返してください。"
   ]
  },
  {
   "cell_type": "code",
   "execution_count": 24,
   "metadata": {},
   "outputs": [
    {
     "name": "stdout",
     "output_type": "stream",
     "text": [
      "たけやぶやけた None\n",
      "たけやぶやけたかな None\n"
     ]
    }
   ],
   "source": [
    "def palindrome_checker(sent:str)->bool:\n",
    "    ...\n",
    "\n",
    "print(\"たけやぶやけた\", palindrome_checker(\"たけやぶやけた\"))\n",
    "print(\"たけやぶやけたかな\", palindrome_checker(\"たけやぶやけたかな\"))"
   ]
  },
  {
   "cell_type": "markdown",
   "metadata": {},
   "source": [
    "::::{admonition} 回答例\n",
    ":class: dropdown, hint \n",
    "\n",
    "```py\n",
    "def palindrome_checker(sent:str)->bool:\n",
    "    reversed_sent = \"\".join(list(reversed(sent)))\n",
    "    if sent == reversed_sent:\n",
    "        return True\n",
    "    else:\n",
    "        return False \n",
    "    \n",
    "print(\"たけやぶやけた\", palindrome_checker(\"たけやぶやけた\"))\n",
    "print(\"たけやぶやけたかな\", palindrome_checker(\"たけやぶやけたかな\"))\n",
    "```\n",
    "::::"
   ]
  },
  {
   "cell_type": "markdown",
   "metadata": {},
   "source": [
    "## [問題] filter関数実装の準備\n",
    "\n",
    "以下の作りかけの関数mod_filterを元に、関数の第一引数Xから第二引数yで割り切れる値だけを抽出してリストとして返す関数を完成させよ。\n",
    "\n",
    "条件：\n",
    "1. 引数Xは一次元配列。各要素には数字が入っている。\n",
    "2. yは数字。intでもfloatでもいいがここではintにしておく。\n",
    "\n",
    "実装のヒント\n",
    "1. forループでXの中身を取り出していき、それぞれyで割り切れるか確認していく。\n",
    "2. mod_filterの返り値resultはlist型でなければならない。\n",
    "\n"
   ]
  },
  {
   "cell_type": "code",
   "execution_count": 28,
   "metadata": {},
   "outputs": [
    {
     "data": {
      "text/plain": [
       "Ellipsis"
      ]
     },
     "execution_count": 28,
     "metadata": {},
     "output_type": "execute_result"
    }
   ],
   "source": [
    "def mod_filter(X:list, y:int)->list:\n",
    "    result = ...\n",
    "    return result\n",
    "\n",
    "# *** test ***\n",
    "sample_vector = list(range(100))\n",
    "y = 7\n",
    "mod_filter(sample_vector,y)"
   ]
  },
  {
   "cell_type": "markdown",
   "metadata": {},
   "source": [
    "::::{admonition} 回答例\n",
    ":class: dropdown, hint\n",
    "\n",
    "```py\n",
    "def mod_filter(X:list, y:int):\n",
    "    result = []\n",
    "    for x in X:\n",
    "        if x % y == 0:\n",
    "            result.append(x)\n",
    "    return result\n",
    "\n",
    "# *** test ***\n",
    "sample_vector = list(range(100))\n",
    "y = 7\n",
    "mod_filter(sample_vector,y)\n",
    "```\n",
    "\n",
    "::::"
   ]
  },
  {
   "cell_type": "markdown",
   "metadata": {},
   "source": [
    "## [問題] filter関数の実装\n",
    "\n",
    "以下に示す未完成の関数_filterを元に、関数の第__2__引数Xの中から第__1__引数で指定された関数の返り値がTrueになるものだけを抽出してリストとして返す関数を完成させよ。\n",
    "\n",
    "条件：\n",
    "- 引数Xは一次元配列。要素はすべて文字列。\n",
    "- funcは関数。lamdba式などで定義される。\n",
    "\n",
    "実装のヒント：\n",
    "1. 基本はmod_filterと同じ。\n",
    "2. 引数funcに渡される関数は、値を一つ受け取ったら、それが何かの条件にあっていればTrue,それ以外ならFalseを返すような関数。例えば以下の関数eval_fnならば、単語の文字数が3以上のものだけを取り出すフィルターになる。\n",
    "```python\n",
    "eval_fn = lambda token: len(token)>=3\n",
    "```"
   ]
  },
  {
   "cell_type": "code",
   "execution_count": 35,
   "metadata": {},
   "outputs": [
    {
     "data": {
      "text/plain": [
       "Ellipsis"
      ]
     },
     "execution_count": 35,
     "metadata": {},
     "output_type": "execute_result"
    }
   ],
   "source": [
    "def _filter(func, X:list):\n",
    "    result = ...\n",
    "    return result\n",
    "\n",
    "# *** test ***\n",
    "sample_text = \"k-means clustering is a method of vector quantization, originally from signal processing, that aims to partition n observations into k clusters in which each observation belongs to the cluster with the nearest mean (cluster centers or cluster centroid), serving as a prototype of the cluster.\"\n",
    "sample_words = sample_text.split(\" \")\n",
    "_filter(lambda token: len(token)>=3, sample_words)"
   ]
  },
  {
   "cell_type": "markdown",
   "metadata": {},
   "source": [
    "::::{admonition} 回答例\n",
    ":class: dropdown, hint\n",
    "\n",
    "```py\n",
    "\n",
    "def _filter(func, X:list):\n",
    "    result = []\n",
    "    for x in X:\n",
    "        if func(x):\n",
    "            result.append(x)\n",
    "    return result\n",
    "\n",
    "# *** test ***\n",
    "sample_text = \"k-means clustering is a method of vector quantization, originally from signal processing, that aims to partition n observations into k clusters in which each observation belongs to the cluster with the nearest mean (cluster centers or cluster centroid), serving as a prototype of the cluster.\"\n",
    "sample_words = sample_text.split(\" \")\n",
    "_filter(lambda token: len(token)>=3, sample_words)\n",
    "```\n",
    "\n",
    "::::"
   ]
  },
  {
   "cell_type": "markdown",
   "metadata": {},
   "source": [
    "## [問題] 統計的代表値計算の再現 － 中央値 np.median\n",
    "\n",
    "以下に示すnp.medianに習い、ベクトルAの中央値を求めるpure python関数_medianを作成せよ。"
   ]
  },
  {
   "cell_type": "code",
   "execution_count": 38,
   "metadata": {},
   "outputs": [
    {
     "data": {
      "text/plain": [
       "6.0"
      ]
     },
     "execution_count": 38,
     "metadata": {},
     "output_type": "execute_result"
    }
   ],
   "source": [
    "import numpy as np\n",
    "A = [10, 1, 11, 3, 7, 1, 6, 15, 2]\n",
    "np.median(A)"
   ]
  },
  {
   "cell_type": "markdown",
   "metadata": {},
   "source": [
    "::::{admonition} 回答例\n",
    ":class: dropdown, hint\n",
    "\n",
    "```py\n",
    "def _median(x):\n",
    "    ...\n",
    "```\n",
    "\n",
    "::::"
   ]
  },
  {
   "cell_type": "markdown",
   "metadata": {},
   "source": [
    "## [問題] 統計的代表値計算の再現 － 最頻値: statistics.mode\n",
    "\n",
    "statistics.modeに習い、ベクトルAの中央値を求めるpure python関数_modeを作成せよ。"
   ]
  },
  {
   "cell_type": "code",
   "execution_count": 39,
   "metadata": {},
   "outputs": [
    {
     "data": {
      "text/plain": [
       "1"
      ]
     },
     "execution_count": 39,
     "metadata": {},
     "output_type": "execute_result"
    }
   ],
   "source": [
    "import statistics\n",
    "statistics.mode(A)"
   ]
  },
  {
   "cell_type": "markdown",
   "metadata": {},
   "source": [
    "::::{admonition} 回答例\n",
    ":class: dropdown, hint\n",
    "\n",
    "```py\n",
    "def _mode():\n",
    "    ...\n",
    "```\n",
    "\n",
    "::::"
   ]
  },
  {
   "cell_type": "markdown",
   "metadata": {},
   "source": []
  }
 ],
 "metadata": {
  "kernelspec": {
   "display_name": ".venv",
   "language": "python",
   "name": "python3"
  },
  "language_info": {
   "codemirror_mode": {
    "name": "ipython",
    "version": 3
   },
   "file_extension": ".py",
   "mimetype": "text/x-python",
   "name": "python",
   "nbconvert_exporter": "python",
   "pygments_lexer": "ipython3",
   "version": "3.11.8"
  }
 },
 "nbformat": 4,
 "nbformat_minor": 2
}
