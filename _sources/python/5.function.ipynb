{
 "cells": [
  {
   "cell_type": "markdown",
   "metadata": {},
   "source": [
    "# 関数"
   ]
  },
  {
   "cell_type": "markdown",
   "metadata": {},
   "source": [
    "## 関数とは"
   ]
  },
  {
   "cell_type": "markdown",
   "metadata": {},
   "source": [
    "プログラミングにおける関数とは，数学の関数に似て非なるものです．Pythonプログラムを（処理単位で）まとめたものをここでは関数と呼びます．\n",
    "\n",
    "> ![](https://cdn-xtech.nikkei.com/atcl/learning/lecture/19/00108/00004/ph1.jpg?__scale=w:1299,h:687,q:100&_sh=09e080070d)  \n",
    "> Pythonの関数、呼び出しと定義をマスターしよう | 日経クロステック（xTECH） https://xtech.nikkei.com/atcl/learning/lecture/19/00108/00004/ \n",
    "\n",
    "関数はデータを入力されて，それをもとに何かしらの処理を行って何かを出力することもできますし，入力なしに何かを行うこともできます．出力もないかもしれません．この辺りについての自由度が非常に高く，数学的な関数と同じ名前ですが，その定義まで同じであるとは言えません．  \n",
    "とりあえず何かの処理についてのコードをひとまとまりにして名前をつけたものを関数と呼ぶのだと思ってください．\n"
   ]
  },
  {
   "cell_type": "markdown",
   "metadata": {},
   "source": [
    "## 関数の使い方"
   ]
  },
  {
   "cell_type": "markdown",
   "metadata": {},
   "source": [
    "これまで使ってきたprint，typeも関数です．"
   ]
  },
  {
   "cell_type": "code",
   "execution_count": 1,
   "metadata": {},
   "outputs": [
    {
     "name": "stdout",
     "output_type": "stream",
     "text": [
      "適当な文字列\n"
     ]
    }
   ],
   "source": [
    "print(\"適当な文字列\")"
   ]
  },
  {
   "cell_type": "code",
   "execution_count": 2,
   "metadata": {},
   "outputs": [
    {
     "data": {
      "text/plain": [
       "str"
      ]
     },
     "execution_count": 2,
     "metadata": {},
     "output_type": "execute_result"
    }
   ],
   "source": [
    "type(\"適当なオブジェクト\")"
   ]
  },
  {
   "cell_type": "markdown",
   "metadata": {},
   "source": [
    "このように，一般的な関数には引数と呼ばれる「関数へ与えるオブジェクト」が指定されています．引数として「関数へ与えるオブジェクト」を渡すことで，関数の中ではそのオブジェクトに何かしら処理を行います．\n",
    "\n",
    "さて，関数には引数だけでなく，戻り値（返り値）と呼ばれる，「関数内での処理の結果として得られたオブジェクト」を関数の外へ出す機能も用意されています．"
   ]
  },
  {
   "cell_type": "code",
   "execution_count": 8,
   "metadata": {},
   "outputs": [
    {
     "name": "stdout",
     "output_type": "stream",
     "text": [
      "--------------------\n",
      "戻り値は： <class 'str'>\n",
      "type関数の戻り値の型は： <class 'type'>\n"
     ]
    }
   ],
   "source": [
    "return_value = type(\"適当なオブジェクト\")\n",
    "\n",
    "print(\"--------------------\")\n",
    "print(\"戻り値は：\",return_value)\n",
    "print(\"type関数の戻り値の型は：\", type(return_value))"
   ]
  },
  {
   "cell_type": "markdown",
   "metadata": {},
   "source": [
    "この引数と戻り値を理解すれば，関数の使い方は大体OKです．ただし，関数には「引数がない関数」や「戻り値がない関数」も存在します．注意しましょう．print関数は「引数はあるが戻り値がない関数」にあたります．"
   ]
  },
  {
   "cell_type": "code",
   "execution_count": 9,
   "metadata": {},
   "outputs": [
    {
     "name": "stdout",
     "output_type": "stream",
     "text": [
      "適当なオブジェクト\n",
      "--------------------\n",
      "戻り値は： None\n",
      "print関数の戻り値の型は： <class 'NoneType'>\n"
     ]
    }
   ],
   "source": [
    "return_value = print(\"適当なオブジェクト\")\n",
    "\n",
    "print(\"--------------------\")\n",
    "print(\"戻り値は：\",return_value)\n",
    "print(\"print関数の戻り値の型は：\", type(return_value))"
   ]
  },
  {
   "cell_type": "markdown",
   "metadata": {},
   "source": [
    "ここで，`None`とは「何もない」ことを表す特別なpythonオブジェクトです．ここで`None`が戻ってきたということは，print関数の中では「標準出力に文字列を表示する処理」が行われていますが，「関数自体の戻り値はない」ことを表しています．"
   ]
  },
  {
   "cell_type": "markdown",
   "metadata": {},
   "source": [
    "## 関数の作り方"
   ]
  },
  {
   "cell_type": "markdown",
   "metadata": {},
   "source": [
    "### 基本的な関数"
   ]
  },
  {
   "cell_type": "markdown",
   "metadata": {},
   "source": [
    "自分で関数を作るには，以下のように書くと良いでしょう．\n",
    "\n",
    "```py\n",
    "def 関数の名前(引数1, 引数2, 引数3=初期値):\n",
    "    # 何かしらのプログラム\n",
    "    return 戻り値\n",
    "```\n",
    "\n",
    "1. 関数名はほぼなんでもOKですが，頭文字が数字だと変数名として使えないなどの「変数名と同様の制限」があります．\n",
    "2. 引数はいくらでも設定できます．\n",
    "    1. 初期値を設定する引数は初期値の無い引数よりも後ろに設置することがルールです．\n",
    "    2. 引数なしでもOKです．\n",
    "3. 戻り値が必要な場合は`return`を関数の中に設置します．\n",
    "    1. 戻り値なしでも構いません．\n",
    "    2. returnは関数の中に何個でも設置できます．\n",
    "\n",
    "これを元に，与えられた数字を二乗するだけの関数を作ってみましょう．"
   ]
  },
  {
   "cell_type": "code",
   "execution_count": 10,
   "metadata": {},
   "outputs": [],
   "source": [
    "def nijou(val):\n",
    "    tmp = val**2\n",
    "    return tmp"
   ]
  },
  {
   "cell_type": "markdown",
   "metadata": {},
   "source": [
    "ここで，\n",
    "1. `nijou`は「関数名」，\n",
    "2. `val`は「引数」，\n",
    "3. `return`は「戻り値」の宣言\n",
    "\n",
    "です．これを使って $10^2$ を計算してみます．"
   ]
  },
  {
   "cell_type": "code",
   "execution_count": 14,
   "metadata": {},
   "outputs": [
    {
     "data": {
      "text/plain": [
       "100"
      ]
     },
     "execution_count": 14,
     "metadata": {},
     "output_type": "execute_result"
    }
   ],
   "source": [
    "nijou(10)"
   ]
  },
  {
   "cell_type": "markdown",
   "metadata": {},
   "source": [
    "関数の中で定義された`tmp`という変数は，関数の中だけで有効な引数です．関数の外では利用できません．また，引数も関数の中だけで有効な変数として機能します．関数の外で別の変数が付けられていても，関数の中では引数（ここでは`val`）として扱われます．"
   ]
  },
  {
   "cell_type": "code",
   "execution_count": 16,
   "metadata": {},
   "outputs": [
    {
     "name": "stdout",
     "output_type": "stream",
     "text": [
      "4\n"
     ]
    }
   ],
   "source": [
    "a = 2\n",
    "b = nijou(a)\n",
    "print(b) # print(tmp) print(val) も試してみよう．"
   ]
  },
  {
   "cell_type": "markdown",
   "metadata": {},
   "source": [
    "変数名はできるだけ分かりやすく，読みやすいものが好まれます．例えば，\n",
    "1. aやb\n",
    "2. indexとして使われるi,j\n",
    "3. 値：value, val, 仮の：temp, tmp，インデックス：index, idx，カウンター：count,counter, cnt\n",
    "\n",
    "のような名前は使いやすい変数名です．これらは一つのプログラムの中で複数回使いたくなることがありますが，すでに使った変数名を再び使うと，値を上書きしてしまいプログラムがうまく動作しないかもしれません．\n",
    "\n",
    "そこでプログラムでは「変数スコープ」という機能が使われています．「関数の中で定義した変数は関数の中だけで通用する」というルールがこの「変数スコープ」です．Python以外の言語だと，for文がスコープを持ったり，他にも色々なコードブロックがスコープを持つことがあります．\n",
    "\n",
    "注意するべきこととしては，スコープの中で別のスコープを作ると，基本的には内側から外側のスコープの変数も使えてしまう点です．"
   ]
  },
  {
   "cell_type": "code",
   "execution_count": 41,
   "metadata": {},
   "outputs": [
    {
     "name": "stdout",
     "output_type": "stream",
     "text": [
      "グローバルで定義された元の変数： 11\n",
      "-------------\n",
      "仮の関数内からグローバル変数aを参照： 11\n",
      "-------------\n",
      "仮の関数2内で変数aを定義： 10\n",
      "-------------\n",
      "11\n"
     ]
    }
   ],
   "source": [
    "a = 11\n",
    "\n",
    "def 仮の関数():\n",
    "    print(\"仮の関数内からグローバル変数aを参照：\",a)\n",
    "\n",
    "def 仮の関数2():\n",
    "    a = 10\n",
    "    print(\"仮の関数2内で変数aを定義：\",a)\n",
    "\n",
    "\n",
    "print(\"グローバルで定義された元の変数：\", a)\n",
    "print(\"-------------\")\n",
    "仮の関数()\n",
    "print(\"-------------\")\n",
    "仮の関数2()\n",
    "print(\"-------------\")\n",
    "print(a)"
   ]
  },
  {
   "cell_type": "markdown",
   "metadata": {},
   "source": [
    "入れ構造の内側にあるスコープから，外側のスコープの変数を参照することはできますが，値を直接書き換えることはできません．以下の関数を実行してみてください．\n",
    "\n",
    "```py\n",
    "def 仮の関数3():\n",
    "    a -= 10\n",
    "    print(\"仮の関数3内で変数aを定義：\",a)\n",
    "```\n",
    "\n"
   ]
  },
  {
   "cell_type": "code",
   "execution_count": 43,
   "metadata": {},
   "outputs": [
    {
     "ename": "UnboundLocalError",
     "evalue": "cannot access local variable 'a' where it is not associated with a value",
     "output_type": "error",
     "traceback": [
      "\u001b[0;31m---------------------------------------------------------------------------\u001b[0m",
      "\u001b[0;31mUnboundLocalError\u001b[0m                         Traceback (most recent call last)",
      "Cell \u001b[0;32mIn[43], line 5\u001b[0m\n\u001b[1;32m      2\u001b[0m     a \u001b[38;5;241m-\u001b[39m\u001b[38;5;241m=\u001b[39m \u001b[38;5;241m10\u001b[39m\n\u001b[1;32m      3\u001b[0m     \u001b[38;5;28mprint\u001b[39m(\u001b[38;5;124m\"\u001b[39m\u001b[38;5;124m仮の関数3内で変数aを定義：\u001b[39m\u001b[38;5;124m\"\u001b[39m,a)\n\u001b[0;32m----> 5\u001b[0m \u001b[43m仮の関数3\u001b[49m\u001b[43m(\u001b[49m\u001b[43m)\u001b[49m\n",
      "Cell \u001b[0;32mIn[43], line 2\u001b[0m, in \u001b[0;36m仮の関数3\u001b[0;34m()\u001b[0m\n\u001b[1;32m      1\u001b[0m \u001b[38;5;28;01mdef\u001b[39;00m \u001b[38;5;21m仮の関数3\u001b[39m():\n\u001b[0;32m----> 2\u001b[0m     \u001b[43ma\u001b[49m \u001b[38;5;241m-\u001b[39m\u001b[38;5;241m=\u001b[39m \u001b[38;5;241m10\u001b[39m\n\u001b[1;32m      3\u001b[0m     \u001b[38;5;28mprint\u001b[39m(\u001b[38;5;124m\"\u001b[39m\u001b[38;5;124m仮の関数3内で変数aを定義：\u001b[39m\u001b[38;5;124m\"\u001b[39m,a)\n",
      "\u001b[0;31mUnboundLocalError\u001b[0m: cannot access local variable 'a' where it is not associated with a value"
     ]
    }
   ],
   "source": [
    "def 仮の関数3():\n",
    "    a -= 10\n",
    "    print(\"仮の関数3内で変数aを定義：\",a)\n",
    "\n",
    "仮の関数3()"
   ]
  },
  {
   "cell_type": "markdown",
   "metadata": {},
   "source": [
    "また，外側のスコープで定義された変数と同じ名前を引数として利用することも可能ですが，その場合も外側のスコープの変数ではなく，関数の中だけで有効な別の変数として扱われます．"
   ]
  },
  {
   "cell_type": "code",
   "execution_count": 34,
   "metadata": {},
   "outputs": [
    {
     "name": "stdout",
     "output_type": "stream",
     "text": [
      "11\n",
      "関数4の戻り値 110\n",
      "11\n"
     ]
    }
   ],
   "source": [
    "def 仮の関数4(a):\n",
    "    a+=10\n",
    "    return a \n",
    "\n",
    "print(a)\n",
    "b = 仮の関数4(100)\n",
    "print(\"関数4の戻り値\",b)\n",
    "print(a)\n"
   ]
  },
  {
   "cell_type": "code",
   "execution_count": 35,
   "metadata": {},
   "outputs": [
    {
     "name": "stdout",
     "output_type": "stream",
     "text": [
      "11\n",
      "関数4の戻り値 21\n",
      "11\n"
     ]
    }
   ],
   "source": [
    "print(a)\n",
    "b = 仮の関数4(a)\n",
    "print(\"関数4の戻り値\",b)\n",
    "print(a)\n"
   ]
  },
  {
   "cell_type": "markdown",
   "metadata": {},
   "source": [
    "#### [問題] $\\text{BMI}=体重[kg] ÷ (身長[m])^2$を元に，身長と体重を受け取ってBMIを返す関数`calc_bmi`を作成してください．"
   ]
  },
  {
   "cell_type": "code",
   "execution_count": null,
   "metadata": {},
   "outputs": [],
   "source": []
  },
  {
   "cell_type": "markdown",
   "metadata": {},
   "source": [
    "#### [発展問題]nを引数に取り，n以下のフィボナッチ数列を全てprintする関数`fibonacci`を作成してください．\n",
    "\n",
    "フィボナッチ数列とは\n",
    "> 《Fibonacci numbers》数学で、最初の二項が1で、第三項以降の項がすべて直前の二項の和になっている数列。すなわち、1, 1, 2, 3, 5, 8, 13, 21, 34, 55, 89…という数列のこと。イタリアの数学者レオナルド＝フィボナッチの名にちなむ。\n",
    "\n",
    "例えば100以下のフィボナッチ数列は：1 1 2 3 5 8 13 21 34 55 89 \n",
    "\n"
   ]
  },
  {
   "cell_type": "code",
   "execution_count": 44,
   "metadata": {},
   "outputs": [
    {
     "name": "stdout",
     "output_type": "stream",
     "text": [
      "1 1 2 3 5 8 13 21 34 55 89 "
     ]
    }
   ],
   "source": [
    "def fibonacci(n=100):\n",
    "    a, b = 0, 1\n",
    "    while b <= n:\n",
    "        print(b, end=' ')\n",
    "        #a, b = b, a+b\n",
    "        tmp = b \n",
    "        b = a+b\n",
    "        a = tmp\n",
    "\n",
    "fibonacci(n=100)"
   ]
  },
  {
   "cell_type": "markdown",
   "metadata": {},
   "source": []
  }
 ],
 "metadata": {
  "kernelspec": {
   "display_name": ".venv",
   "language": "python",
   "name": "python3"
  },
  "language_info": {
   "codemirror_mode": {
    "name": "ipython",
    "version": 3
   },
   "file_extension": ".py",
   "mimetype": "text/x-python",
   "name": "python",
   "nbconvert_exporter": "python",
   "pygments_lexer": "ipython3",
   "version": "3.11.8"
  }
 },
 "nbformat": 4,
 "nbformat_minor": 2
}
