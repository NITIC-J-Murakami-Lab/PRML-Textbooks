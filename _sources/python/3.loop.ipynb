{
 "cells": [
  {
   "cell_type": "markdown",
   "metadata": {},
   "source": [
    "# 繰り返し処理\n",
    "\n",
    "複数の処理を繰り返し行うには，while文やfor文といった文を使います．今回はこれらの使い方を学びましょう．"
   ]
  },
  {
   "cell_type": "markdown",
   "metadata": {},
   "source": [
    "## while文による繰り返し処理\n",
    "while文は繰り返し処理を行うために用います．使い方は以下の通り：\n",
    "\n",
    "```python\n",
    "while 条件:\n",
    "    処理\n",
    "```\n",
    "\n",
    "ここで，「条件」がTrueの間，while文は「処理」を繰り返します．条件は等式や不等式などの，TrueやFalseを返す式を書くと良いでしょう．例えば："
   ]
  },
  {
   "cell_type": "code",
   "execution_count": null,
   "metadata": {},
   "outputs": [],
   "source": [
    "i = 0\n",
    "while i < 10:\n",
    "    print(\"iの値は\", i, \"です\")\n",
    "    i = i+1 # i+=1 でも同じです．"
   ]
  },
  {
   "cell_type": "markdown",
   "metadata": {},
   "source": [
    "ここでは「`i<10` （iは10未満である）」が正しい（True）間，whileブロックの処理が実行されています．  \n",
    "iの値はコードブロックの一番最後で更新されており，一度の処理ごとに値が1増えています．  \n",
    "10回目の処理の後でiの値は10に到達し，「`i<10` （iは10未満である）」が間違い（False）になり，ループ処理が終了しました．\n"
   ]
  },
  {
   "cell_type": "markdown",
   "metadata": {},
   "source": [
    "### [問題1] 以下の条件に合うプログラムを作成して実行して下さい．\n",
    "\n",
    "`i=0`が与えられたとき，while文を使って，ループの中でiに1づつ値を足していきます．iの値が奇数の場合は`print(\"i=\",i,\"（iは奇数）\"，)`を実行し，偶数の場合は`print(\"i=\",i,\"（iは偶数）\"，)`を実行するプログラムを作成して下さい．また，この繰り返し処理はiの値が20と等しくなった時に終了します．\n",
    "```py\n",
    "print(\"i=\",i,\"（iは奇数）\")\n",
    "print(\"i=\",i,\"（iは偶数）\")\n",
    "```\n"
   ]
  },
  {
   "cell_type": "code",
   "execution_count": null,
   "metadata": {},
   "outputs": [],
   "source": [
    "i = 0\n",
    "\n",
    "# iの値が20と等しくなるまで奇数/偶数判定を行い続ける"
   ]
  },
  {
   "cell_type": "code",
   "execution_count": 3,
   "metadata": {
    "tags": [
     "hide-input"
    ]
   },
   "outputs": [
    {
     "name": "stdout",
     "output_type": "stream",
     "text": [
      "i= 0 （iは偶数）\n",
      "i= 1 （iは奇数）\n",
      "i= 2 （iは偶数）\n",
      "i= 3 （iは奇数）\n",
      "i= 4 （iは偶数）\n",
      "i= 5 （iは奇数）\n",
      "i= 6 （iは偶数）\n",
      "i= 7 （iは奇数）\n",
      "i= 8 （iは偶数）\n",
      "i= 9 （iは奇数）\n",
      "i= 10 （iは偶数）\n",
      "i= 11 （iは奇数）\n",
      "i= 12 （iは偶数）\n",
      "i= 13 （iは奇数）\n",
      "i= 14 （iは偶数）\n",
      "i= 15 （iは奇数）\n",
      "i= 16 （iは偶数）\n",
      "i= 17 （iは奇数）\n",
      "i= 18 （iは偶数）\n",
      "i= 19 （iは奇数）\n",
      "-----------\n",
      "i= 0 （iは偶数）\n",
      "i= 1 （iは奇数）\n",
      "i= 2 （iは偶数）\n",
      "i= 3 （iは奇数）\n",
      "i= 4 （iは偶数）\n",
      "i= 5 （iは奇数）\n",
      "i= 6 （iは偶数）\n",
      "i= 7 （iは奇数）\n",
      "i= 8 （iは偶数）\n",
      "i= 9 （iは奇数）\n",
      "i= 10 （iは偶数）\n",
      "i= 11 （iは奇数）\n",
      "i= 12 （iは偶数）\n",
      "i= 13 （iは奇数）\n",
      "i= 14 （iは偶数）\n",
      "i= 15 （iは奇数）\n",
      "i= 16 （iは偶数）\n",
      "i= 17 （iは奇数）\n",
      "i= 18 （iは偶数）\n",
      "i= 19 （iは奇数）\n"
     ]
    }
   ],
   "source": [
    "i = 0\n",
    "\n",
    "# iの値が20と等しくなるまで奇数/偶数判定を行い続ける\n",
    "while i!=20:\n",
    "    if i % 2 == 0:\n",
    "        print(\"i=\",i,\"（iは偶数）\")\n",
    "    else:\n",
    "        print(\"i=\",i,\"（iは奇数）\")\n",
    "    i+=1\n",
    "\n",
    "print(\"-----------\")\n",
    "# または\n",
    "i = 0\n",
    "while i!=20:\n",
    "    if i % 2 == 0:\n",
    "        print(\"i=\",i,\"（iは偶数）\")\n",
    "        i+=1\n",
    "        continue\n",
    "    print(\"i=\",i,\"（iは奇数）\")\n",
    "    i+=1"
   ]
  },
  {
   "cell_type": "markdown",
   "metadata": {},
   "source": [
    "## breakを使って繰り返し処理を抜ける\n",
    "\n",
    "\n",
    "breakはwhileや後述するforのような繰り返し処理の中でのみ利用できる構文です．Pythonが`break`文を評価すると，whileやforを終了させます．最初の例を使ってbreakの挙動を確認しましょう．\n",
    "\n",
    "まずは何の条件も敷かずに，breakを書いてみます．"
   ]
  },
  {
   "cell_type": "code",
   "execution_count": null,
   "metadata": {},
   "outputs": [],
   "source": [
    "i = 0\n",
    "while i < 10:\n",
    "    print(\"iの値は\", i, \"です\")\n",
    "    i = i+1 # i+=1 でも同じです．\n",
    "    break"
   ]
  },
  {
   "cell_type": "markdown",
   "metadata": {},
   "source": [
    "するとループ処理の1回目でwhileブロックから抜けたことがわかると思います．では次に，iの値が4になったらループから抜けるように，プログラムを修正してみます．"
   ]
  },
  {
   "cell_type": "code",
   "execution_count": null,
   "metadata": {},
   "outputs": [],
   "source": [
    "i = 0\n",
    "while i < 10:\n",
    "    print(\"iの値は\", i, \"です\")\n",
    "    i = i+1 # i+=1 でも同じです．\n",
    "    if i == 4:\n",
    "        break"
   ]
  },
  {
   "cell_type": "markdown",
   "metadata": {},
   "source": [
    "このようにbreakはif文と共に利用することが多いです．while文を使ったこの例ではあまり有用性が見出せないかもしれませんが，for文では力を発揮します．"
   ]
  },
  {
   "cell_type": "markdown",
   "metadata": {},
   "source": [
    "### [問題2]完全数を見つけたときにbreakするように，問題1のプログラムを修正して下さい．\n",
    "\n",
    "ヒント：古来から「6、28、496、8128」が完全数であることが知られています．これ以外にもありますが，ここでは「6か28」であればbreakするように条件式を書いてみて下さい．"
   ]
  },
  {
   "cell_type": "code",
   "execution_count": null,
   "metadata": {},
   "outputs": [],
   "source": []
  },
  {
   "cell_type": "markdown",
   "metadata": {},
   "source": [
    "## 繰り返し処理：for文"
   ]
  },
  {
   "cell_type": "markdown",
   "metadata": {},
   "source": [
    "### forによる繰り返し処理\n",
    "\n",
    "for文はwhile文のように繰り返し処理を行うための構文です．使い方は以下の通り：\n",
    "\n",
    "```py\n",
    "\n",
    "for 仮変数 in シーケンシャル:\n",
    "    処理\n",
    "\n",
    "```\n",
    "\n",
    "ここでいうシーケンシャルとは，複数の要素がまとまったデータ型のことを言います．今はひとまず忘れて，range関数で代用することにしましょう．range関数を使うと，以下のような動作をさせることができます．"
   ]
  },
  {
   "cell_type": "code",
   "execution_count": null,
   "metadata": {},
   "outputs": [],
   "source": [
    "for i in range(0,10):\n",
    "    print(i)"
   ]
  },
  {
   "cell_type": "markdown",
   "metadata": {},
   "source": [
    "`range(0,10)`は0からスタートして，10の一つ前までの数字を生成します．スタート地点が0であるならば，第一引数は省略して`range(10)`としても同様です．\n",
    "\n",
    "for文は複数の要素に対して何かしらの処理を適用する際に非常に便利なので，これから多用します．もちろんbreakも使うことができるので，試してみて下さい．"
   ]
  },
  {
   "cell_type": "markdown",
   "metadata": {},
   "source": []
  }
 ],
 "metadata": {
  "kernelspec": {
   "display_name": ".venv",
   "language": "python",
   "name": "python3"
  },
  "language_info": {
   "codemirror_mode": {
    "name": "ipython",
    "version": 3
   },
   "file_extension": ".py",
   "mimetype": "text/x-python",
   "name": "python",
   "nbconvert_exporter": "python",
   "pygments_lexer": "ipython3",
   "version": "3.11.8"
  }
 },
 "nbformat": 4,
 "nbformat_minor": 2
}
