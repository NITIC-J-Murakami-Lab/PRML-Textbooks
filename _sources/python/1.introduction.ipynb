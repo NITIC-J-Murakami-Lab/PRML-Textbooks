{
  "cells": [
    {
      "cell_type": "markdown",
      "metadata": {
        "id": "wd3Gx0Im5zMD"
      },
      "source": [
        "# 初めてのPython"
      ]
    },
    {
      "cell_type": "markdown",
      "metadata": {
        "id": "-BuTJLsE5zMD"
      },
      "source": [
        "## Hello world!をやってみよう！\n",
        "\n",
        "下のコードをコードセルに書き込んで実行してみよう．\n",
        "```python\n",
        "print(\"Hello world!\")\n",
        "```"
      ]
    },
    {
      "cell_type": "code",
      "execution_count": null,
      "metadata": {
        "colab": {
          "base_uri": "https://localhost:8080/"
        },
        "id": "LWclnzl75zMD",
        "outputId": "2d804881-e5fc-4d84-efb2-29230767b10f"
      },
      "outputs": [],
      "source": []
    },
    {
      "cell_type": "markdown",
      "metadata": {
        "id": "TXLqHFKv5zME"
      },
      "source": [
        "printは __print関数__ です．文字列などを表示するための関数（機能）で，`()`の中に入れられた文字列をただ単に表示してくれます．この`()`の中に書かれたものを __引数__ と呼ぶぞ．覚えておこう．\n",
        "\n",
        "また，プログラム中にコメント（プログラムとして認識されたくないメモなど）を書く場合は # を使おう．\n",
        "\n",
        "```python\n",
        "print(\"Hello world!\") # ハローワールドを表示させるためのプログラム\n",
        "```\n",
        "\n",
        "これをコードセルに書いて実行してみよう．"
      ]
    },
    {
      "cell_type": "code",
      "execution_count": null,
      "metadata": {
        "colab": {
          "base_uri": "https://localhost:8080/"
        },
        "id": "RVrGrqB45zME",
        "outputId": "5788e6cb-6fb2-44fb-a546-8e4f57c885b8"
      },
      "outputs": [],
      "source": []
    },
    {
      "cell_type": "markdown",
      "metadata": {
        "id": "7a5MUHAb5zME"
      },
      "source": [
        "## Pythonを電卓代わりに使ってみよう．"
      ]
    },
    {
      "cell_type": "markdown",
      "metadata": {},
      "source": [
        "### 四則演算\n",
        "\n",
        "以下の表を参考に，いろんな計算を試してみよう．\n",
        "\n",
        "| 演算                     | 演算子 | 使い方 |\n",
        "| ------------------------ | ------ | ------ |\n",
        "| 足し算                   | +      | 1+1    |\n",
        "| 引き算                   | -      | 1-2    |\n",
        "| 掛け算                   | *      | 2*3    |\n",
        "| 割り算                   | /      | 6/3    |\n",
        "| 割り算（余りを切り捨て） | //     | 6//4   |\n",
        "| mod（余り）              | %      | 6%4    |  "
      ]
    },
    {
      "cell_type": "code",
      "execution_count": null,
      "metadata": {
        "colab": {
          "base_uri": "https://localhost:8080/"
        },
        "id": "9WfrSxQUAAXQ",
        "outputId": "fb292608-82e7-47b5-88ca-50f28cb13d91"
      },
      "outputs": [],
      "source": [
        "1-3"
      ]
    },
    {
      "cell_type": "code",
      "execution_count": null,
      "metadata": {
        "colab": {
          "base_uri": "https://localhost:8080/"
        },
        "id": "iJ-YYWVGAAA3",
        "outputId": "4a02c6ab-3c26-405c-b97b-dea6d5dd6554"
      },
      "outputs": [],
      "source": [
        "5*6"
      ]
    },
    {
      "cell_type": "code",
      "execution_count": null,
      "metadata": {
        "colab": {
          "base_uri": "https://localhost:8080/"
        },
        "id": "mbE3K7Wd__tW",
        "outputId": "7b9c7e8a-b773-4c58-9f4b-ced2517e96d4"
      },
      "outputs": [],
      "source": [
        "8/2"
      ]
    },
    {
      "cell_type": "code",
      "execution_count": null,
      "metadata": {
        "colab": {
          "base_uri": "https://localhost:8080/"
        },
        "id": "KeGbKypW5zME",
        "outputId": "10c4a4e9-85a9-47d2-d4ba-d60354bd1dcf"
      },
      "outputs": [],
      "source": [
        "1+1"
      ]
    },
    {
      "cell_type": "markdown",
      "metadata": {
        "id": "9tNqCySx5zME"
      },
      "source": [
        "#### [問題] 太郎くんは、一つ100円のももを5つ、一つ40円のみかんを8つ買いました。全部でいくらになったでしょう？"
      ]
    },
    {
      "cell_type": "code",
      "execution_count": null,
      "metadata": {
        "colab": {
          "base_uri": "https://localhost:8080/"
        },
        "id": "Q6RfAg2W5zME",
        "outputId": "7cb5edae-989b-4d56-95ca-2a5606f17d0b",
        "tags": [
          "hide-input"
        ]
      },
      "outputs": [],
      "source": [
        "# もも = 100\n",
        "100*5 + 40 * 8"
      ]
    },
    {
      "cell_type": "markdown",
      "metadata": {
        "id": "7VqUXI8i5zME"
      },
      "source": [
        "## “変数”で電卓より優れた電卓に．\n",
        "\n",
        "円周率(3.141592653589793...)のような値を使う度にいちいち手打ちしていくのは大変なので，piという変数に代入しましょう．\n",
        "\n",
        "以下のコードをコードセルに入力しpiの値が3.141592653589793になっていることを確かめてみましょう．\n",
        "```python\n",
        "pi = 3.141592653589793\n",
        "print(pi)\n",
        "```"
      ]
    },
    {
      "cell_type": "code",
      "execution_count": null,
      "metadata": {
        "colab": {
          "base_uri": "https://localhost:8080/"
        },
        "id": "KimRW8m95zME",
        "outputId": "bc9f5720-f137-41c9-bfa6-6bdbaf7f6ac2"
      },
      "outputs": [],
      "source": [
        "pi = 3.141592653589793\n",
        "print(pi)"
      ]
    },
    {
      "cell_type": "markdown",
      "metadata": {
        "id": "_3goZ3yV5zME"
      },
      "source": [
        "代入された値は，後から修正することもできます．piに以下の値を再び代入して，printしてみてください．  \n",
        "`3.141592653589793238462643`"
      ]
    },
    {
      "cell_type": "code",
      "execution_count": null,
      "metadata": {
        "colab": {
          "base_uri": "https://localhost:8080/"
        },
        "id": "NmjZSPjr5zME",
        "outputId": "76901756-792d-4096-e9d2-2055344e1674"
      },
      "outputs": [],
      "source": [
        "pi = 0\n",
        "print(pi)"
      ]
    },
    {
      "cell_type": "markdown",
      "metadata": {
        "id": "IypVQGsw5zME"
      },
      "source": [
        "### [問題] 半径5cmの円の面積を求めて，これを変数「area」に代入してください．その後これをprintして，中身を確認してみましょう．"
      ]
    },
    {
      "cell_type": "code",
      "execution_count": null,
      "metadata": {
        "colab": {
          "base_uri": "https://localhost:8080/"
        },
        "id": "_nOV7f0k5zME",
        "outputId": "d1666276-da58-4a21-e96d-5e5cfa4bce40",
        "tags": [
          "hide-input"
        ]
      },
      "outputs": [],
      "source": [
        "pi = 3.141592653589793\n",
        "hankei = 5\n",
        "\n",
        "area = hankei * hankei * pi\n",
        "print(area)"
      ]
    },
    {
      "cell_type": "markdown",
      "metadata": {
        "id": "mZmbM2Pa5zME"
      },
      "source": [
        "## 値の大小関係\n",
        "以下の表を参考に，いろんな等式，不等式を試してみよう．\n",
        "\n",
        "| 意味           | コード |  \n",
        "| -------------- | ------ |\n",
        "| AはBより大きい | A>B    |   \n",
        "| AはBと等しい   | A==B   |   \n",
        "| AはB以上である | A>=B   |  \n",
        "| AはB以下である | A<=B   |\n",
        "| AはB未満である | A<B    |\n",
        "\n",
        "これらのコードは，それぞれ「それが正しければ`True`，間違っていれば`False`」を返します．"
      ]
    },
    {
      "cell_type": "code",
      "execution_count": null,
      "metadata": {
        "colab": {
          "base_uri": "https://localhost:8080/"
        },
        "id": "zO2e3WUs5zME",
        "outputId": "98471bf5-6ced-4797-dd3c-e098830a3ae4"
      },
      "outputs": [],
      "source": [
        "1 > 2"
      ]
    },
    {
      "cell_type": "code",
      "execution_count": null,
      "metadata": {
        "colab": {
          "base_uri": "https://localhost:8080/"
        },
        "id": "qzftWNkHCBqm",
        "outputId": "0e84c556-02b1-4a99-9913-77773efb60fd"
      },
      "outputs": [],
      "source": [
        "100 == 50 *2"
      ]
    },
    {
      "cell_type": "code",
      "execution_count": null,
      "metadata": {
        "colab": {
          "base_uri": "https://localhost:8080/"
        },
        "id": "-7-0NDpqCBny",
        "outputId": "be300773-239a-4676-ac22-65c088602d0d"
      },
      "outputs": [],
      "source": [
        "100 <= 50 *2"
      ]
    },
    {
      "cell_type": "code",
      "execution_count": null,
      "metadata": {
        "id": "i7FTZ6NACBkE"
      },
      "outputs": [],
      "source": []
    },
    {
      "cell_type": "markdown",
      "metadata": {
        "id": "KRBf1mGz5zME"
      },
      "source": [
        "## 整数型（int）と浮動小数点数型（float）\n",
        "\n",
        "type関数を使うことで，そのオブジェクトがどんな型なのかを知ることができます．3と3.0それぞれの型を確認してみましょう．"
      ]
    },
    {
      "cell_type": "code",
      "execution_count": null,
      "metadata": {
        "colab": {
          "base_uri": "https://localhost:8080/"
        },
        "id": "-K7ldplg5zME",
        "outputId": "46a553e8-eba0-4a56-cb5f-e2a184931d1d"
      },
      "outputs": [],
      "source": [
        "type(3)"
      ]
    },
    {
      "cell_type": "code",
      "execution_count": null,
      "metadata": {
        "colab": {
          "base_uri": "https://localhost:8080/"
        },
        "id": "EVCAO3zuCX54",
        "outputId": "1eb01b0f-219a-4382-e950-033da394ef11"
      },
      "outputs": [],
      "source": [
        "type(3.0)"
      ]
    },
    {
      "cell_type": "code",
      "execution_count": null,
      "metadata": {
        "colab": {
          "base_uri": "https://localhost:8080/"
        },
        "id": "tncCq_ZqCbh2",
        "outputId": "b9c3f4b9-de49-4736-d183-c19b762bce0e"
      },
      "outputs": [],
      "source": [
        "type(\"hello world\")"
      ]
    },
    {
      "cell_type": "code",
      "execution_count": null,
      "metadata": {
        "colab": {
          "base_uri": "https://localhost:8080/"
        },
        "id": "HidpxdyQCbWR",
        "outputId": "1e07561b-20ce-4983-a3fb-d2e6e1aec149"
      },
      "outputs": [],
      "source": [
        "1 + 1.0"
      ]
    },
    {
      "cell_type": "code",
      "execution_count": null,
      "metadata": {
        "colab": {
          "base_uri": "https://localhost:8080/"
        },
        "id": "a1og64_KDYtB",
        "outputId": "c0be62cf-56e5-48ea-fad9-1ded16ca448c"
      },
      "outputs": [],
      "source": [
        "5 / 3"
      ]
    },
    {
      "cell_type": "markdown",
      "metadata": {},
      "source": [
        "数と数の割り算が定義されていることについては違和感がないと思います．では，文字の割り算はどうでしょうか？\n",
        "```python\n",
        "\"hello worldXXXX\" / 3\n",
        "```\n",
        "このコードを実行してみて下さい．"
      ]
    },
    {
      "cell_type": "code",
      "execution_count": null,
      "metadata": {
        "colab": {
          "base_uri": "https://localhost:8080/",
          "height": 145
        },
        "id": "TmrkQzLVCZ07",
        "outputId": "bb2c7a14-77bc-4439-83b9-74a110975d45"
      },
      "outputs": [],
      "source": []
    },
    {
      "cell_type": "markdown",
      "metadata": {},
      "source": [
        "> TypeError: unsupported operand type(s) for /: 'str' and 'int'\n",
        "\n",
        "は文字列と整数との割り算がサポートされていないことを表すエラーです．"
      ]
    },
    {
      "cell_type": "markdown",
      "metadata": {
        "id": "Zb28o40QYjh1"
      },
      "source": [
        "オブジェクトの種類（数字と文字列など）の違いによって\n",
        "- 同じ演算子でも違う挙動をする\n",
        "- 数字ペアで使えた演算子が数字と文字列のペアでは使えない\n",
        "\n",
        "のようなことが起こりえます．文字列と数字の割り算ができないのは理解しやすいのではないでしょうか．このオブジェクトの種類のことを「型」と呼びます．数字を表す型として，ここまでで出てきたものは「整数型」と「浮動小数点数型」です．これ以外にも以下の図に示すようにたくさんの型をPythonは（標準で）持っています．\n",
        "\n",
        "> ![](https://images.theengineeringprojects.com/image/webp/2020/06/Datatypes-in-python.jpg.webp?ssl=1)  \n",
        "> [How to use Data Types in Python - The Engineering Projects](https://www.theengineeringprojects.com/2020/06/how-to-use-data-types-in-python.html) より"
      ]
    },
    {
      "cell_type": "markdown",
      "metadata": {
        "id": "ewFn4RZZ5zME"
      },
      "source": [
        "また，何かしらの操作（掛け算や割り算など）を行うと，整数型同士の計算でも小数が登場することがありますよね．Pythonではそのような場合は自動的に，その操作によって生成されたオブジェクトの型をよしなに変換してくれます．\n",
        "\n",
        "e.g. 割り算をすると，整数型のオブジェクトが勝手に浮動小数点数型に変換されていることがあります．確認してみましょう．"
      ]
    },
    {
      "cell_type": "code",
      "execution_count": null,
      "metadata": {
        "id": "fXJrSyAy5zME"
      },
      "outputs": [],
      "source": []
    },
    {
      "cell_type": "markdown",
      "metadata": {
        "id": "ddJZTvOa5zME"
      },
      "source": [
        "## 文字列型\n",
        "\n",
        "`\" \"` で囲まれた文字列は __文字列型__ として扱われます．文字列同士の足し算もできるぞ．試してみよう．"
      ]
    },
    {
      "cell_type": "code",
      "execution_count": null,
      "metadata": {
        "colab": {
          "base_uri": "https://localhost:8080/",
          "height": 35
        },
        "id": "SkhBpgw_5zME",
        "outputId": "1a26b5df-96da-4342-8a8c-6496d5e3a1e2"
      },
      "outputs": [],
      "source": [
        "\"aaa\"\n",
        "\n",
        "'aaa'"
      ]
    },
    {
      "cell_type": "markdown",
      "metadata": {
        "id": "OB9Mri0rJh4z"
      },
      "source": [
        "\n",
        "___\n"
      ]
    },
    {
      "cell_type": "markdown",
      "metadata": {
        "id": "THbU4pgL5zME"
      },
      "source": [
        "## 数字型から文字列型への変換\n",
        "\n",
        "数字を`str()`関数に渡すと文字列になります．試してみよう！"
      ]
    },
    {
      "cell_type": "code",
      "execution_count": null,
      "metadata": {
        "id": "nD4ZQJ7D5zME"
      },
      "outputs": [],
      "source": []
    },
    {
      "cell_type": "markdown",
      "metadata": {
        "id": "DeizOTX75zME"
      },
      "source": [
        "## 文字列に特定の文字が含まれているか？\n",
        "\n",
        "`探したい文字 in 検索対象`で検索対象の中に探したい文字があるかを確認できます．やってみよう．\n",
        "```python\n",
        "\"あ\" in \"あいうえお\"\n",
        "```\n",
        "\n",
        "```python\n",
        "\"a\" in \"ABCDE\"\n",
        "```\n"
      ]
    },
    {
      "cell_type": "code",
      "execution_count": null,
      "metadata": {
        "id": "beS89MTg5zMF"
      },
      "outputs": [],
      "source": []
    },
    {
      "cell_type": "markdown",
      "metadata": {
        "id": "t_mw7Fg75zMF"
      },
      "source": [
        "`in`を`not in`に変えてみると...?"
      ]
    },
    {
      "cell_type": "code",
      "execution_count": null,
      "metadata": {
        "id": "u25y8B215zMF"
      },
      "outputs": [],
      "source": []
    }
  ],
  "metadata": {
    "colab": {
      "provenance": [],
      "toc_visible": true
    },
    "kernelspec": {
      "display_name": ".venv",
      "language": "python",
      "name": "python3"
    },
    "language_info": {
      "codemirror_mode": {
        "name": "ipython",
        "version": 3
      },
      "file_extension": ".py",
      "mimetype": "text/x-python",
      "name": "python",
      "nbconvert_exporter": "python",
      "pygments_lexer": "ipython3",
      "version": "3.12.2"
    }
  },
  "nbformat": 4,
  "nbformat_minor": 0
}
