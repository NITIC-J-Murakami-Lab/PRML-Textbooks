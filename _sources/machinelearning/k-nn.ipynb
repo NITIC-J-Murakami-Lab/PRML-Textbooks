{
  "cells": [
    {
      "cell_type": "markdown",
      "id": "ebaa7d1c-e4cf-4489-81ac-7f695066cf21",
      "metadata": {
        "id": "ebaa7d1c-e4cf-4489-81ac-7f695066cf21",
        "tags": []
      },
      "source": [
        "# k近傍法(k-nearest neighbor algorithm, k-NN）の実装"
      ]
    },
    {
      "cell_type": "markdown",
      "id": "a03fa6f8-353d-486c-beb8-977b5bb9a715",
      "metadata": {
        "id": "a03fa6f8-353d-486c-beb8-977b5bb9a715"
      },
      "source": [
        "## k-NNのScikit-Learn実装を使った演習"
      ]
    },
    {
      "cell_type": "markdown",
      "id": "c445a60b-410c-4f56-ad04-e0f137f16bc0",
      "metadata": {
        "id": "c445a60b-410c-4f56-ad04-e0f137f16bc0"
      },
      "source": [
        "### パッケージの用意とデータの確認\n",
        "\n",
        "k-NNをsklearnを使って試してみましょう。  \n",
        "\n",
        "インポートするパッケージは以下の通りです。(matplotlibとplotlyをimportしていますが、どちらか得意な方を利用すれば問題ありません）"
      ]
    },
    {
      "cell_type": "code",
      "execution_count": 4,
      "id": "edc61d78-0b95-4af5-8fe9-79dd234b7e40",
      "metadata": {
        "id": "edc61d78-0b95-4af5-8fe9-79dd234b7e40"
      },
      "outputs": [],
      "source": [
        "import numpy as np\n",
        "import pandas as pd\n",
        "import matplotlib.pyplot as plt\n",
        "import plotly.express as px\n",
        "from sklearn.model_selection import train_test_split\n",
        "from sklearn.datasets import load_iris\n",
        "from sklearn.neighbors import KNeighborsClassifier as KNN"
      ]
    },
    {
      "cell_type": "markdown",
      "id": "8328eca0-7fbc-42f8-87e8-fd176dc2287d",
      "metadata": {
        "id": "8328eca0-7fbc-42f8-87e8-fd176dc2287d"
      },
      "source": [
        "さて、まずはデータを読み込みましょう。"
      ]
    },
    {
      "cell_type": "code",
      "execution_count": 5,
      "id": "c6057bf1-40c7-4bc9-abf5-e431576ed184",
      "metadata": {
        "colab": {
          "base_uri": "https://localhost:8080/",
          "height": 187
        },
        "id": "c6057bf1-40c7-4bc9-abf5-e431576ed184",
        "outputId": "939d0c5f-deb2-4c85-e332-22ec745a9028"
      },
      "outputs": [
        {
          "data": {
            "text/html": [
              "<div style=\"max-width:800px; border: 1px solid var(--colab-border-color);\"><style>\n",
              "      pre.function-repr-contents {\n",
              "        overflow-x: auto;\n",
              "        padding: 8px 12px;\n",
              "        max-height: 500px;\n",
              "      }\n",
              "\n",
              "      pre.function-repr-contents.function-repr-contents-collapsed {\n",
              "        cursor: pointer;\n",
              "        max-height: 100px;\n",
              "      }\n",
              "    </style>\n",
              "    <pre style=\"white-space: initial; background:\n",
              "         var(--colab-secondary-surface-color); padding: 8px 12px;\n",
              "         border-bottom: 1px solid var(--colab-border-color);\"><b>sklearn.utils._bunch.Bunch</b><br/>def __init__(**kwargs)</pre><pre class=\"function-repr-contents function-repr-contents-collapsed\" style=\"\"><a class=\"filepath\" style=\"display:none\" href=\"#\">/usr/local/lib/python3.10/dist-packages/sklearn/utils/_bunch.py</a>Container object exposing keys as attributes.\n",
              "\n",
              "Bunch objects are sometimes used as an output for functions and methods.\n",
              "They extend dictionaries by enabling values to be accessed by key,\n",
              "`bunch[&quot;value_key&quot;]`, or by an attribute, `bunch.value_key`.\n",
              "\n",
              "Examples\n",
              "--------\n",
              "&gt;&gt;&gt; from sklearn.utils import Bunch\n",
              "&gt;&gt;&gt; b = Bunch(a=1, b=2)\n",
              "&gt;&gt;&gt; b[&#x27;b&#x27;]\n",
              "2\n",
              "&gt;&gt;&gt; b.b\n",
              "2\n",
              "&gt;&gt;&gt; b.a = 3\n",
              "&gt;&gt;&gt; b[&#x27;a&#x27;]\n",
              "3\n",
              "&gt;&gt;&gt; b.c = 6\n",
              "&gt;&gt;&gt; b[&#x27;c&#x27;]\n",
              "6</pre>\n",
              "      <script>\n",
              "      if (google.colab.kernel.accessAllowed && google.colab.files && google.colab.files.view) {\n",
              "        for (const element of document.querySelectorAll('.filepath')) {\n",
              "          element.style.display = 'block'\n",
              "          element.onclick = (event) => {\n",
              "            event.preventDefault();\n",
              "            event.stopPropagation();\n",
              "            google.colab.files.view(element.textContent, 1);\n",
              "          };\n",
              "        }\n",
              "      }\n",
              "      for (const element of document.querySelectorAll('.function-repr-contents')) {\n",
              "        element.onclick = (event) => {\n",
              "          event.preventDefault();\n",
              "          event.stopPropagation();\n",
              "          element.classList.toggle('function-repr-contents-collapsed');\n",
              "        };\n",
              "      }\n",
              "      </script>\n",
              "      </div>"
            ],
            "text/plain": [
              "sklearn.utils._bunch.Bunch"
            ]
          },
          "execution_count": 5,
          "metadata": {},
          "output_type": "execute_result"
        }
      ],
      "source": [
        "iris = load_iris()\n",
        "type(iris)"
      ]
    },
    {
      "cell_type": "markdown",
      "id": "8edbf7a3-ff9f-47b2-a518-7501350f5c82",
      "metadata": {
        "id": "8edbf7a3-ff9f-47b2-a518-7501350f5c82"
      },
      "source": [
        "この`sklearn.utils.Bunch`はdict型に近いデータ構造を持ったクラスです。keyの一覧を見てみましょう。"
      ]
    },
    {
      "cell_type": "code",
      "execution_count": 6,
      "id": "30829c17-1f18-4a9f-a404-104f53e5e249",
      "metadata": {
        "colab": {
          "base_uri": "https://localhost:8080/"
        },
        "id": "30829c17-1f18-4a9f-a404-104f53e5e249",
        "outputId": "020e0a54-0c2f-4f00-eef2-05730be1cc69"
      },
      "outputs": [
        {
          "data": {
            "text/plain": [
              "dict_keys(['data', 'target', 'frame', 'target_names', 'DESCR', 'feature_names', 'filename', 'data_module'])"
            ]
          },
          "execution_count": 6,
          "metadata": {},
          "output_type": "execute_result"
        }
      ],
      "source": [
        "iris.keys()"
      ]
    },
    {
      "cell_type": "markdown",
      "id": "5c275dbf-70a8-418d-b01e-604b564c8395",
      "metadata": {
        "id": "5c275dbf-70a8-418d-b01e-604b564c8395"
      },
      "source": [
        "この内、`data`には説明変数に相当する特徴量が`np.ndarray`として対応しています。  \n",
        "また、`feature_names`は各特徴量の名前です。DataFrameにして表示してみます。"
      ]
    },
    {
      "cell_type": "code",
      "execution_count": 7,
      "id": "11091ed8-048c-4535-81eb-b65290f8663b",
      "metadata": {
        "colab": {
          "base_uri": "https://localhost:8080/",
          "height": 677
        },
        "id": "11091ed8-048c-4535-81eb-b65290f8663b",
        "outputId": "a299c3b6-748c-410e-b89f-4ff3b97fd326"
      },
      "outputs": [
        {
          "data": {
            "application/vnd.google.colaboratory.intrinsic+json": {
              "summary": "{\n  \"name\": \"iris_df\",\n  \"rows\": 150,\n  \"fields\": [\n    {\n      \"column\": \"sepal length (cm)\",\n      \"properties\": {\n        \"dtype\": \"number\",\n        \"std\": 0.828066127977863,\n        \"min\": 4.3,\n        \"max\": 7.9,\n        \"num_unique_values\": 35,\n        \"samples\": [\n          6.2,\n          4.5,\n          5.6\n        ],\n        \"semantic_type\": \"\",\n        \"description\": \"\"\n      }\n    },\n    {\n      \"column\": \"sepal width (cm)\",\n      \"properties\": {\n        \"dtype\": \"number\",\n        \"std\": 0.4358662849366982,\n        \"min\": 2.0,\n        \"max\": 4.4,\n        \"num_unique_values\": 23,\n        \"samples\": [\n          2.3,\n          4.0,\n          3.5\n        ],\n        \"semantic_type\": \"\",\n        \"description\": \"\"\n      }\n    },\n    {\n      \"column\": \"petal length (cm)\",\n      \"properties\": {\n        \"dtype\": \"number\",\n        \"std\": 1.7652982332594662,\n        \"min\": 1.0,\n        \"max\": 6.9,\n        \"num_unique_values\": 43,\n        \"samples\": [\n          6.7,\n          3.8,\n          3.7\n        ],\n        \"semantic_type\": \"\",\n        \"description\": \"\"\n      }\n    },\n    {\n      \"column\": \"petal width (cm)\",\n      \"properties\": {\n        \"dtype\": \"number\",\n        \"std\": 0.7622376689603465,\n        \"min\": 0.1,\n        \"max\": 2.5,\n        \"num_unique_values\": 22,\n        \"samples\": [\n          0.2,\n          1.2,\n          1.3\n        ],\n        \"semantic_type\": \"\",\n        \"description\": \"\"\n      }\n    },\n    {\n      \"column\": \"label\",\n      \"properties\": {\n        \"dtype\": \"number\",\n        \"std\": 0,\n        \"min\": 0,\n        \"max\": 2,\n        \"num_unique_values\": 3,\n        \"samples\": [\n          0,\n          1,\n          2\n        ],\n        \"semantic_type\": \"\",\n        \"description\": \"\"\n      }\n    }\n  ]\n}",
              "type": "dataframe",
              "variable_name": "iris_df"
            },
            "text/html": [
              "\n",
              "  <div id=\"df-93e448c0-1bc7-41bd-828b-047a3043ca6d\" class=\"colab-df-container\">\n",
              "    <div>\n",
              "<style scoped>\n",
              "    .dataframe tbody tr th:only-of-type {\n",
              "        vertical-align: middle;\n",
              "    }\n",
              "\n",
              "    .dataframe tbody tr th {\n",
              "        vertical-align: top;\n",
              "    }\n",
              "\n",
              "    .dataframe thead th {\n",
              "        text-align: right;\n",
              "    }\n",
              "</style>\n",
              "<table border=\"1\" class=\"dataframe\">\n",
              "  <thead>\n",
              "    <tr style=\"text-align: right;\">\n",
              "      <th></th>\n",
              "      <th>sepal length (cm)</th>\n",
              "      <th>sepal width (cm)</th>\n",
              "      <th>petal length (cm)</th>\n",
              "      <th>petal width (cm)</th>\n",
              "      <th>label</th>\n",
              "    </tr>\n",
              "  </thead>\n",
              "  <tbody>\n",
              "    <tr>\n",
              "      <th>0</th>\n",
              "      <td>5.1</td>\n",
              "      <td>3.5</td>\n",
              "      <td>1.4</td>\n",
              "      <td>0.2</td>\n",
              "      <td>0</td>\n",
              "    </tr>\n",
              "    <tr>\n",
              "      <th>1</th>\n",
              "      <td>4.9</td>\n",
              "      <td>3.0</td>\n",
              "      <td>1.4</td>\n",
              "      <td>0.2</td>\n",
              "      <td>0</td>\n",
              "    </tr>\n",
              "    <tr>\n",
              "      <th>2</th>\n",
              "      <td>4.7</td>\n",
              "      <td>3.2</td>\n",
              "      <td>1.3</td>\n",
              "      <td>0.2</td>\n",
              "      <td>0</td>\n",
              "    </tr>\n",
              "    <tr>\n",
              "      <th>3</th>\n",
              "      <td>4.6</td>\n",
              "      <td>3.1</td>\n",
              "      <td>1.5</td>\n",
              "      <td>0.2</td>\n",
              "      <td>0</td>\n",
              "    </tr>\n",
              "    <tr>\n",
              "      <th>4</th>\n",
              "      <td>5.0</td>\n",
              "      <td>3.6</td>\n",
              "      <td>1.4</td>\n",
              "      <td>0.2</td>\n",
              "      <td>0</td>\n",
              "    </tr>\n",
              "    <tr>\n",
              "      <th>5</th>\n",
              "      <td>5.4</td>\n",
              "      <td>3.9</td>\n",
              "      <td>1.7</td>\n",
              "      <td>0.4</td>\n",
              "      <td>0</td>\n",
              "    </tr>\n",
              "    <tr>\n",
              "      <th>6</th>\n",
              "      <td>4.6</td>\n",
              "      <td>3.4</td>\n",
              "      <td>1.4</td>\n",
              "      <td>0.3</td>\n",
              "      <td>0</td>\n",
              "    </tr>\n",
              "    <tr>\n",
              "      <th>7</th>\n",
              "      <td>5.0</td>\n",
              "      <td>3.4</td>\n",
              "      <td>1.5</td>\n",
              "      <td>0.2</td>\n",
              "      <td>0</td>\n",
              "    </tr>\n",
              "    <tr>\n",
              "      <th>8</th>\n",
              "      <td>4.4</td>\n",
              "      <td>2.9</td>\n",
              "      <td>1.4</td>\n",
              "      <td>0.2</td>\n",
              "      <td>0</td>\n",
              "    </tr>\n",
              "    <tr>\n",
              "      <th>9</th>\n",
              "      <td>4.9</td>\n",
              "      <td>3.1</td>\n",
              "      <td>1.5</td>\n",
              "      <td>0.1</td>\n",
              "      <td>0</td>\n",
              "    </tr>\n",
              "    <tr>\n",
              "      <th>10</th>\n",
              "      <td>5.4</td>\n",
              "      <td>3.7</td>\n",
              "      <td>1.5</td>\n",
              "      <td>0.2</td>\n",
              "      <td>0</td>\n",
              "    </tr>\n",
              "    <tr>\n",
              "      <th>11</th>\n",
              "      <td>4.8</td>\n",
              "      <td>3.4</td>\n",
              "      <td>1.6</td>\n",
              "      <td>0.2</td>\n",
              "      <td>0</td>\n",
              "    </tr>\n",
              "    <tr>\n",
              "      <th>12</th>\n",
              "      <td>4.8</td>\n",
              "      <td>3.0</td>\n",
              "      <td>1.4</td>\n",
              "      <td>0.1</td>\n",
              "      <td>0</td>\n",
              "    </tr>\n",
              "    <tr>\n",
              "      <th>13</th>\n",
              "      <td>4.3</td>\n",
              "      <td>3.0</td>\n",
              "      <td>1.1</td>\n",
              "      <td>0.1</td>\n",
              "      <td>0</td>\n",
              "    </tr>\n",
              "    <tr>\n",
              "      <th>14</th>\n",
              "      <td>5.8</td>\n",
              "      <td>4.0</td>\n",
              "      <td>1.2</td>\n",
              "      <td>0.2</td>\n",
              "      <td>0</td>\n",
              "    </tr>\n",
              "    <tr>\n",
              "      <th>15</th>\n",
              "      <td>5.7</td>\n",
              "      <td>4.4</td>\n",
              "      <td>1.5</td>\n",
              "      <td>0.4</td>\n",
              "      <td>0</td>\n",
              "    </tr>\n",
              "    <tr>\n",
              "      <th>16</th>\n",
              "      <td>5.4</td>\n",
              "      <td>3.9</td>\n",
              "      <td>1.3</td>\n",
              "      <td>0.4</td>\n",
              "      <td>0</td>\n",
              "    </tr>\n",
              "    <tr>\n",
              "      <th>17</th>\n",
              "      <td>5.1</td>\n",
              "      <td>3.5</td>\n",
              "      <td>1.4</td>\n",
              "      <td>0.3</td>\n",
              "      <td>0</td>\n",
              "    </tr>\n",
              "    <tr>\n",
              "      <th>18</th>\n",
              "      <td>5.7</td>\n",
              "      <td>3.8</td>\n",
              "      <td>1.7</td>\n",
              "      <td>0.3</td>\n",
              "      <td>0</td>\n",
              "    </tr>\n",
              "    <tr>\n",
              "      <th>19</th>\n",
              "      <td>5.1</td>\n",
              "      <td>3.8</td>\n",
              "      <td>1.5</td>\n",
              "      <td>0.3</td>\n",
              "      <td>0</td>\n",
              "    </tr>\n",
              "  </tbody>\n",
              "</table>\n",
              "</div>\n",
              "    <div class=\"colab-df-buttons\">\n",
              "\n",
              "  <div class=\"colab-df-container\">\n",
              "    <button class=\"colab-df-convert\" onclick=\"convertToInteractive('df-93e448c0-1bc7-41bd-828b-047a3043ca6d')\"\n",
              "            title=\"Convert this dataframe to an interactive table.\"\n",
              "            style=\"display:none;\">\n",
              "\n",
              "  <svg xmlns=\"http://www.w3.org/2000/svg\" height=\"24px\" viewBox=\"0 -960 960 960\">\n",
              "    <path d=\"M120-120v-720h720v720H120Zm60-500h600v-160H180v160Zm220 220h160v-160H400v160Zm0 220h160v-160H400v160ZM180-400h160v-160H180v160Zm440 0h160v-160H620v160ZM180-180h160v-160H180v160Zm440 0h160v-160H620v160Z\"/>\n",
              "  </svg>\n",
              "    </button>\n",
              "\n",
              "  <style>\n",
              "    .colab-df-container {\n",
              "      display:flex;\n",
              "      gap: 12px;\n",
              "    }\n",
              "\n",
              "    .colab-df-convert {\n",
              "      background-color: #E8F0FE;\n",
              "      border: none;\n",
              "      border-radius: 50%;\n",
              "      cursor: pointer;\n",
              "      display: none;\n",
              "      fill: #1967D2;\n",
              "      height: 32px;\n",
              "      padding: 0 0 0 0;\n",
              "      width: 32px;\n",
              "    }\n",
              "\n",
              "    .colab-df-convert:hover {\n",
              "      background-color: #E2EBFA;\n",
              "      box-shadow: 0px 1px 2px rgba(60, 64, 67, 0.3), 0px 1px 3px 1px rgba(60, 64, 67, 0.15);\n",
              "      fill: #174EA6;\n",
              "    }\n",
              "\n",
              "    .colab-df-buttons div {\n",
              "      margin-bottom: 4px;\n",
              "    }\n",
              "\n",
              "    [theme=dark] .colab-df-convert {\n",
              "      background-color: #3B4455;\n",
              "      fill: #D2E3FC;\n",
              "    }\n",
              "\n",
              "    [theme=dark] .colab-df-convert:hover {\n",
              "      background-color: #434B5C;\n",
              "      box-shadow: 0px 1px 3px 1px rgba(0, 0, 0, 0.15);\n",
              "      filter: drop-shadow(0px 1px 2px rgba(0, 0, 0, 0.3));\n",
              "      fill: #FFFFFF;\n",
              "    }\n",
              "  </style>\n",
              "\n",
              "    <script>\n",
              "      const buttonEl =\n",
              "        document.querySelector('#df-93e448c0-1bc7-41bd-828b-047a3043ca6d button.colab-df-convert');\n",
              "      buttonEl.style.display =\n",
              "        google.colab.kernel.accessAllowed ? 'block' : 'none';\n",
              "\n",
              "      async function convertToInteractive(key) {\n",
              "        const element = document.querySelector('#df-93e448c0-1bc7-41bd-828b-047a3043ca6d');\n",
              "        const dataTable =\n",
              "          await google.colab.kernel.invokeFunction('convertToInteractive',\n",
              "                                                    [key], {});\n",
              "        if (!dataTable) return;\n",
              "\n",
              "        const docLinkHtml = 'Like what you see? Visit the ' +\n",
              "          '<a target=\"_blank\" href=https://colab.research.google.com/notebooks/data_table.ipynb>data table notebook</a>'\n",
              "          + ' to learn more about interactive tables.';\n",
              "        element.innerHTML = '';\n",
              "        dataTable['output_type'] = 'display_data';\n",
              "        await google.colab.output.renderOutput(dataTable, element);\n",
              "        const docLink = document.createElement('div');\n",
              "        docLink.innerHTML = docLinkHtml;\n",
              "        element.appendChild(docLink);\n",
              "      }\n",
              "    </script>\n",
              "  </div>\n",
              "\n",
              "\n",
              "<div id=\"df-effcc735-57ad-48cb-917a-55cb9d4cd6db\">\n",
              "  <button class=\"colab-df-quickchart\" onclick=\"quickchart('df-effcc735-57ad-48cb-917a-55cb9d4cd6db')\"\n",
              "            title=\"Suggest charts\"\n",
              "            style=\"display:none;\">\n",
              "\n",
              "<svg xmlns=\"http://www.w3.org/2000/svg\" height=\"24px\"viewBox=\"0 0 24 24\"\n",
              "     width=\"24px\">\n",
              "    <g>\n",
              "        <path d=\"M19 3H5c-1.1 0-2 .9-2 2v14c0 1.1.9 2 2 2h14c1.1 0 2-.9 2-2V5c0-1.1-.9-2-2-2zM9 17H7v-7h2v7zm4 0h-2V7h2v10zm4 0h-2v-4h2v4z\"/>\n",
              "    </g>\n",
              "</svg>\n",
              "  </button>\n",
              "\n",
              "<style>\n",
              "  .colab-df-quickchart {\n",
              "      --bg-color: #E8F0FE;\n",
              "      --fill-color: #1967D2;\n",
              "      --hover-bg-color: #E2EBFA;\n",
              "      --hover-fill-color: #174EA6;\n",
              "      --disabled-fill-color: #AAA;\n",
              "      --disabled-bg-color: #DDD;\n",
              "  }\n",
              "\n",
              "  [theme=dark] .colab-df-quickchart {\n",
              "      --bg-color: #3B4455;\n",
              "      --fill-color: #D2E3FC;\n",
              "      --hover-bg-color: #434B5C;\n",
              "      --hover-fill-color: #FFFFFF;\n",
              "      --disabled-bg-color: #3B4455;\n",
              "      --disabled-fill-color: #666;\n",
              "  }\n",
              "\n",
              "  .colab-df-quickchart {\n",
              "    background-color: var(--bg-color);\n",
              "    border: none;\n",
              "    border-radius: 50%;\n",
              "    cursor: pointer;\n",
              "    display: none;\n",
              "    fill: var(--fill-color);\n",
              "    height: 32px;\n",
              "    padding: 0;\n",
              "    width: 32px;\n",
              "  }\n",
              "\n",
              "  .colab-df-quickchart:hover {\n",
              "    background-color: var(--hover-bg-color);\n",
              "    box-shadow: 0 1px 2px rgba(60, 64, 67, 0.3), 0 1px 3px 1px rgba(60, 64, 67, 0.15);\n",
              "    fill: var(--button-hover-fill-color);\n",
              "  }\n",
              "\n",
              "  .colab-df-quickchart-complete:disabled,\n",
              "  .colab-df-quickchart-complete:disabled:hover {\n",
              "    background-color: var(--disabled-bg-color);\n",
              "    fill: var(--disabled-fill-color);\n",
              "    box-shadow: none;\n",
              "  }\n",
              "\n",
              "  .colab-df-spinner {\n",
              "    border: 2px solid var(--fill-color);\n",
              "    border-color: transparent;\n",
              "    border-bottom-color: var(--fill-color);\n",
              "    animation:\n",
              "      spin 1s steps(1) infinite;\n",
              "  }\n",
              "\n",
              "  @keyframes spin {\n",
              "    0% {\n",
              "      border-color: transparent;\n",
              "      border-bottom-color: var(--fill-color);\n",
              "      border-left-color: var(--fill-color);\n",
              "    }\n",
              "    20% {\n",
              "      border-color: transparent;\n",
              "      border-left-color: var(--fill-color);\n",
              "      border-top-color: var(--fill-color);\n",
              "    }\n",
              "    30% {\n",
              "      border-color: transparent;\n",
              "      border-left-color: var(--fill-color);\n",
              "      border-top-color: var(--fill-color);\n",
              "      border-right-color: var(--fill-color);\n",
              "    }\n",
              "    40% {\n",
              "      border-color: transparent;\n",
              "      border-right-color: var(--fill-color);\n",
              "      border-top-color: var(--fill-color);\n",
              "    }\n",
              "    60% {\n",
              "      border-color: transparent;\n",
              "      border-right-color: var(--fill-color);\n",
              "    }\n",
              "    80% {\n",
              "      border-color: transparent;\n",
              "      border-right-color: var(--fill-color);\n",
              "      border-bottom-color: var(--fill-color);\n",
              "    }\n",
              "    90% {\n",
              "      border-color: transparent;\n",
              "      border-bottom-color: var(--fill-color);\n",
              "    }\n",
              "  }\n",
              "</style>\n",
              "\n",
              "  <script>\n",
              "    async function quickchart(key) {\n",
              "      const quickchartButtonEl =\n",
              "        document.querySelector('#' + key + ' button');\n",
              "      quickchartButtonEl.disabled = true;  // To prevent multiple clicks.\n",
              "      quickchartButtonEl.classList.add('colab-df-spinner');\n",
              "      try {\n",
              "        const charts = await google.colab.kernel.invokeFunction(\n",
              "            'suggestCharts', [key], {});\n",
              "      } catch (error) {\n",
              "        console.error('Error during call to suggestCharts:', error);\n",
              "      }\n",
              "      quickchartButtonEl.classList.remove('colab-df-spinner');\n",
              "      quickchartButtonEl.classList.add('colab-df-quickchart-complete');\n",
              "    }\n",
              "    (() => {\n",
              "      let quickchartButtonEl =\n",
              "        document.querySelector('#df-effcc735-57ad-48cb-917a-55cb9d4cd6db button');\n",
              "      quickchartButtonEl.style.display =\n",
              "        google.colab.kernel.accessAllowed ? 'block' : 'none';\n",
              "    })();\n",
              "  </script>\n",
              "</div>\n",
              "    </div>\n",
              "  </div>\n"
            ],
            "text/plain": [
              "    sepal length (cm)  sepal width (cm)  petal length (cm)  petal width (cm)  \\\n",
              "0                 5.1               3.5                1.4               0.2   \n",
              "1                 4.9               3.0                1.4               0.2   \n",
              "2                 4.7               3.2                1.3               0.2   \n",
              "3                 4.6               3.1                1.5               0.2   \n",
              "4                 5.0               3.6                1.4               0.2   \n",
              "5                 5.4               3.9                1.7               0.4   \n",
              "6                 4.6               3.4                1.4               0.3   \n",
              "7                 5.0               3.4                1.5               0.2   \n",
              "8                 4.4               2.9                1.4               0.2   \n",
              "9                 4.9               3.1                1.5               0.1   \n",
              "10                5.4               3.7                1.5               0.2   \n",
              "11                4.8               3.4                1.6               0.2   \n",
              "12                4.8               3.0                1.4               0.1   \n",
              "13                4.3               3.0                1.1               0.1   \n",
              "14                5.8               4.0                1.2               0.2   \n",
              "15                5.7               4.4                1.5               0.4   \n",
              "16                5.4               3.9                1.3               0.4   \n",
              "17                5.1               3.5                1.4               0.3   \n",
              "18                5.7               3.8                1.7               0.3   \n",
              "19                5.1               3.8                1.5               0.3   \n",
              "\n",
              "    label  \n",
              "0       0  \n",
              "1       0  \n",
              "2       0  \n",
              "3       0  \n",
              "4       0  \n",
              "5       0  \n",
              "6       0  \n",
              "7       0  \n",
              "8       0  \n",
              "9       0  \n",
              "10      0  \n",
              "11      0  \n",
              "12      0  \n",
              "13      0  \n",
              "14      0  \n",
              "15      0  \n",
              "16      0  \n",
              "17      0  \n",
              "18      0  \n",
              "19      0  "
            ]
          },
          "execution_count": 7,
          "metadata": {},
          "output_type": "execute_result"
        }
      ],
      "source": [
        "iris_df = pd.DataFrame(data=iris.data, columns=iris.feature_names)\n",
        "iris_df[\"label\"] = iris.target\n",
        "\n",
        "iris_df.head(20)"
      ]
    },
    {
      "cell_type": "code",
      "execution_count": 8,
      "id": "f46312f5-04c6-49bb-a7a9-836665d67a01",
      "metadata": {
        "colab": {
          "base_uri": "https://localhost:8080/"
        },
        "id": "f46312f5-04c6-49bb-a7a9-836665d67a01",
        "outputId": "fd2f3457-6f53-4c28-ed2c-941aae007759"
      },
      "outputs": [
        {
          "name": "stdout",
          "output_type": "stream",
          "text": [
            "<class 'pandas.core.frame.DataFrame'>\n",
            "RangeIndex: 150 entries, 0 to 149\n",
            "Data columns (total 5 columns):\n",
            " #   Column             Non-Null Count  Dtype  \n",
            "---  ------             --------------  -----  \n",
            " 0   sepal length (cm)  150 non-null    float64\n",
            " 1   sepal width (cm)   150 non-null    float64\n",
            " 2   petal length (cm)  150 non-null    float64\n",
            " 3   petal width (cm)   150 non-null    float64\n",
            " 4   label              150 non-null    int64  \n",
            "dtypes: float64(4), int64(1)\n",
            "memory usage: 6.0 KB\n"
          ]
        }
      ],
      "source": [
        "iris_df.info()"
      ]
    },
    {
      "cell_type": "code",
      "execution_count": 9,
      "id": "e6c44c75-8156-407a-b78d-6954e69e520b",
      "metadata": {
        "colab": {
          "base_uri": "https://localhost:8080/",
          "height": 300
        },
        "id": "e6c44c75-8156-407a-b78d-6954e69e520b",
        "outputId": "14135e54-3e6a-4eaf-c1ab-a65b115688e8"
      },
      "outputs": [
        {
          "data": {
            "application/vnd.google.colaboratory.intrinsic+json": {
              "summary": "{\n  \"name\": \"iris_df\",\n  \"rows\": 8,\n  \"fields\": [\n    {\n      \"column\": \"sepal length (cm)\",\n      \"properties\": {\n        \"dtype\": \"number\",\n        \"std\": 51.24711349471842,\n        \"min\": 0.828066127977863,\n        \"max\": 150.0,\n        \"num_unique_values\": 8,\n        \"samples\": [\n          5.843333333333334,\n          5.8,\n          150.0\n        ],\n        \"semantic_type\": \"\",\n        \"description\": \"\"\n      }\n    },\n    {\n      \"column\": \"sepal width (cm)\",\n      \"properties\": {\n        \"dtype\": \"number\",\n        \"std\": 52.08617800869865,\n        \"min\": 0.4358662849366982,\n        \"max\": 150.0,\n        \"num_unique_values\": 8,\n        \"samples\": [\n          3.0573333333333337,\n          3.0,\n          150.0\n        ],\n        \"semantic_type\": \"\",\n        \"description\": \"\"\n      }\n    },\n    {\n      \"column\": \"petal length (cm)\",\n      \"properties\": {\n        \"dtype\": \"number\",\n        \"std\": 51.83521261418364,\n        \"min\": 1.0,\n        \"max\": 150.0,\n        \"num_unique_values\": 8,\n        \"samples\": [\n          3.7580000000000005,\n          4.35,\n          150.0\n        ],\n        \"semantic_type\": \"\",\n        \"description\": \"\"\n      }\n    },\n    {\n      \"column\": \"petal width (cm)\",\n      \"properties\": {\n        \"dtype\": \"number\",\n        \"std\": 52.63664824261751,\n        \"min\": 0.1,\n        \"max\": 150.0,\n        \"num_unique_values\": 8,\n        \"samples\": [\n          1.1993333333333336,\n          1.3,\n          150.0\n        ],\n        \"semantic_type\": \"\",\n        \"description\": \"\"\n      }\n    },\n    {\n      \"column\": \"label\",\n      \"properties\": {\n        \"dtype\": \"number\",\n        \"std\": 52.69404575122032,\n        \"min\": 0.0,\n        \"max\": 150.0,\n        \"num_unique_values\": 5,\n        \"samples\": [\n          1.0,\n          2.0,\n          0.8192319205190405\n        ],\n        \"semantic_type\": \"\",\n        \"description\": \"\"\n      }\n    }\n  ]\n}",
              "type": "dataframe"
            },
            "text/html": [
              "\n",
              "  <div id=\"df-ddd6e945-21a3-4a0c-b24e-8368da2ae0c2\" class=\"colab-df-container\">\n",
              "    <div>\n",
              "<style scoped>\n",
              "    .dataframe tbody tr th:only-of-type {\n",
              "        vertical-align: middle;\n",
              "    }\n",
              "\n",
              "    .dataframe tbody tr th {\n",
              "        vertical-align: top;\n",
              "    }\n",
              "\n",
              "    .dataframe thead th {\n",
              "        text-align: right;\n",
              "    }\n",
              "</style>\n",
              "<table border=\"1\" class=\"dataframe\">\n",
              "  <thead>\n",
              "    <tr style=\"text-align: right;\">\n",
              "      <th></th>\n",
              "      <th>sepal length (cm)</th>\n",
              "      <th>sepal width (cm)</th>\n",
              "      <th>petal length (cm)</th>\n",
              "      <th>petal width (cm)</th>\n",
              "      <th>label</th>\n",
              "    </tr>\n",
              "  </thead>\n",
              "  <tbody>\n",
              "    <tr>\n",
              "      <th>count</th>\n",
              "      <td>150.000000</td>\n",
              "      <td>150.000000</td>\n",
              "      <td>150.000000</td>\n",
              "      <td>150.000000</td>\n",
              "      <td>150.000000</td>\n",
              "    </tr>\n",
              "    <tr>\n",
              "      <th>mean</th>\n",
              "      <td>5.843333</td>\n",
              "      <td>3.057333</td>\n",
              "      <td>3.758000</td>\n",
              "      <td>1.199333</td>\n",
              "      <td>1.000000</td>\n",
              "    </tr>\n",
              "    <tr>\n",
              "      <th>std</th>\n",
              "      <td>0.828066</td>\n",
              "      <td>0.435866</td>\n",
              "      <td>1.765298</td>\n",
              "      <td>0.762238</td>\n",
              "      <td>0.819232</td>\n",
              "    </tr>\n",
              "    <tr>\n",
              "      <th>min</th>\n",
              "      <td>4.300000</td>\n",
              "      <td>2.000000</td>\n",
              "      <td>1.000000</td>\n",
              "      <td>0.100000</td>\n",
              "      <td>0.000000</td>\n",
              "    </tr>\n",
              "    <tr>\n",
              "      <th>25%</th>\n",
              "      <td>5.100000</td>\n",
              "      <td>2.800000</td>\n",
              "      <td>1.600000</td>\n",
              "      <td>0.300000</td>\n",
              "      <td>0.000000</td>\n",
              "    </tr>\n",
              "    <tr>\n",
              "      <th>50%</th>\n",
              "      <td>5.800000</td>\n",
              "      <td>3.000000</td>\n",
              "      <td>4.350000</td>\n",
              "      <td>1.300000</td>\n",
              "      <td>1.000000</td>\n",
              "    </tr>\n",
              "    <tr>\n",
              "      <th>75%</th>\n",
              "      <td>6.400000</td>\n",
              "      <td>3.300000</td>\n",
              "      <td>5.100000</td>\n",
              "      <td>1.800000</td>\n",
              "      <td>2.000000</td>\n",
              "    </tr>\n",
              "    <tr>\n",
              "      <th>max</th>\n",
              "      <td>7.900000</td>\n",
              "      <td>4.400000</td>\n",
              "      <td>6.900000</td>\n",
              "      <td>2.500000</td>\n",
              "      <td>2.000000</td>\n",
              "    </tr>\n",
              "  </tbody>\n",
              "</table>\n",
              "</div>\n",
              "    <div class=\"colab-df-buttons\">\n",
              "\n",
              "  <div class=\"colab-df-container\">\n",
              "    <button class=\"colab-df-convert\" onclick=\"convertToInteractive('df-ddd6e945-21a3-4a0c-b24e-8368da2ae0c2')\"\n",
              "            title=\"Convert this dataframe to an interactive table.\"\n",
              "            style=\"display:none;\">\n",
              "\n",
              "  <svg xmlns=\"http://www.w3.org/2000/svg\" height=\"24px\" viewBox=\"0 -960 960 960\">\n",
              "    <path d=\"M120-120v-720h720v720H120Zm60-500h600v-160H180v160Zm220 220h160v-160H400v160Zm0 220h160v-160H400v160ZM180-400h160v-160H180v160Zm440 0h160v-160H620v160ZM180-180h160v-160H180v160Zm440 0h160v-160H620v160Z\"/>\n",
              "  </svg>\n",
              "    </button>\n",
              "\n",
              "  <style>\n",
              "    .colab-df-container {\n",
              "      display:flex;\n",
              "      gap: 12px;\n",
              "    }\n",
              "\n",
              "    .colab-df-convert {\n",
              "      background-color: #E8F0FE;\n",
              "      border: none;\n",
              "      border-radius: 50%;\n",
              "      cursor: pointer;\n",
              "      display: none;\n",
              "      fill: #1967D2;\n",
              "      height: 32px;\n",
              "      padding: 0 0 0 0;\n",
              "      width: 32px;\n",
              "    }\n",
              "\n",
              "    .colab-df-convert:hover {\n",
              "      background-color: #E2EBFA;\n",
              "      box-shadow: 0px 1px 2px rgba(60, 64, 67, 0.3), 0px 1px 3px 1px rgba(60, 64, 67, 0.15);\n",
              "      fill: #174EA6;\n",
              "    }\n",
              "\n",
              "    .colab-df-buttons div {\n",
              "      margin-bottom: 4px;\n",
              "    }\n",
              "\n",
              "    [theme=dark] .colab-df-convert {\n",
              "      background-color: #3B4455;\n",
              "      fill: #D2E3FC;\n",
              "    }\n",
              "\n",
              "    [theme=dark] .colab-df-convert:hover {\n",
              "      background-color: #434B5C;\n",
              "      box-shadow: 0px 1px 3px 1px rgba(0, 0, 0, 0.15);\n",
              "      filter: drop-shadow(0px 1px 2px rgba(0, 0, 0, 0.3));\n",
              "      fill: #FFFFFF;\n",
              "    }\n",
              "  </style>\n",
              "\n",
              "    <script>\n",
              "      const buttonEl =\n",
              "        document.querySelector('#df-ddd6e945-21a3-4a0c-b24e-8368da2ae0c2 button.colab-df-convert');\n",
              "      buttonEl.style.display =\n",
              "        google.colab.kernel.accessAllowed ? 'block' : 'none';\n",
              "\n",
              "      async function convertToInteractive(key) {\n",
              "        const element = document.querySelector('#df-ddd6e945-21a3-4a0c-b24e-8368da2ae0c2');\n",
              "        const dataTable =\n",
              "          await google.colab.kernel.invokeFunction('convertToInteractive',\n",
              "                                                    [key], {});\n",
              "        if (!dataTable) return;\n",
              "\n",
              "        const docLinkHtml = 'Like what you see? Visit the ' +\n",
              "          '<a target=\"_blank\" href=https://colab.research.google.com/notebooks/data_table.ipynb>data table notebook</a>'\n",
              "          + ' to learn more about interactive tables.';\n",
              "        element.innerHTML = '';\n",
              "        dataTable['output_type'] = 'display_data';\n",
              "        await google.colab.output.renderOutput(dataTable, element);\n",
              "        const docLink = document.createElement('div');\n",
              "        docLink.innerHTML = docLinkHtml;\n",
              "        element.appendChild(docLink);\n",
              "      }\n",
              "    </script>\n",
              "  </div>\n",
              "\n",
              "\n",
              "<div id=\"df-985b02ff-5b83-4e40-8149-deee366c9978\">\n",
              "  <button class=\"colab-df-quickchart\" onclick=\"quickchart('df-985b02ff-5b83-4e40-8149-deee366c9978')\"\n",
              "            title=\"Suggest charts\"\n",
              "            style=\"display:none;\">\n",
              "\n",
              "<svg xmlns=\"http://www.w3.org/2000/svg\" height=\"24px\"viewBox=\"0 0 24 24\"\n",
              "     width=\"24px\">\n",
              "    <g>\n",
              "        <path d=\"M19 3H5c-1.1 0-2 .9-2 2v14c0 1.1.9 2 2 2h14c1.1 0 2-.9 2-2V5c0-1.1-.9-2-2-2zM9 17H7v-7h2v7zm4 0h-2V7h2v10zm4 0h-2v-4h2v4z\"/>\n",
              "    </g>\n",
              "</svg>\n",
              "  </button>\n",
              "\n",
              "<style>\n",
              "  .colab-df-quickchart {\n",
              "      --bg-color: #E8F0FE;\n",
              "      --fill-color: #1967D2;\n",
              "      --hover-bg-color: #E2EBFA;\n",
              "      --hover-fill-color: #174EA6;\n",
              "      --disabled-fill-color: #AAA;\n",
              "      --disabled-bg-color: #DDD;\n",
              "  }\n",
              "\n",
              "  [theme=dark] .colab-df-quickchart {\n",
              "      --bg-color: #3B4455;\n",
              "      --fill-color: #D2E3FC;\n",
              "      --hover-bg-color: #434B5C;\n",
              "      --hover-fill-color: #FFFFFF;\n",
              "      --disabled-bg-color: #3B4455;\n",
              "      --disabled-fill-color: #666;\n",
              "  }\n",
              "\n",
              "  .colab-df-quickchart {\n",
              "    background-color: var(--bg-color);\n",
              "    border: none;\n",
              "    border-radius: 50%;\n",
              "    cursor: pointer;\n",
              "    display: none;\n",
              "    fill: var(--fill-color);\n",
              "    height: 32px;\n",
              "    padding: 0;\n",
              "    width: 32px;\n",
              "  }\n",
              "\n",
              "  .colab-df-quickchart:hover {\n",
              "    background-color: var(--hover-bg-color);\n",
              "    box-shadow: 0 1px 2px rgba(60, 64, 67, 0.3), 0 1px 3px 1px rgba(60, 64, 67, 0.15);\n",
              "    fill: var(--button-hover-fill-color);\n",
              "  }\n",
              "\n",
              "  .colab-df-quickchart-complete:disabled,\n",
              "  .colab-df-quickchart-complete:disabled:hover {\n",
              "    background-color: var(--disabled-bg-color);\n",
              "    fill: var(--disabled-fill-color);\n",
              "    box-shadow: none;\n",
              "  }\n",
              "\n",
              "  .colab-df-spinner {\n",
              "    border: 2px solid var(--fill-color);\n",
              "    border-color: transparent;\n",
              "    border-bottom-color: var(--fill-color);\n",
              "    animation:\n",
              "      spin 1s steps(1) infinite;\n",
              "  }\n",
              "\n",
              "  @keyframes spin {\n",
              "    0% {\n",
              "      border-color: transparent;\n",
              "      border-bottom-color: var(--fill-color);\n",
              "      border-left-color: var(--fill-color);\n",
              "    }\n",
              "    20% {\n",
              "      border-color: transparent;\n",
              "      border-left-color: var(--fill-color);\n",
              "      border-top-color: var(--fill-color);\n",
              "    }\n",
              "    30% {\n",
              "      border-color: transparent;\n",
              "      border-left-color: var(--fill-color);\n",
              "      border-top-color: var(--fill-color);\n",
              "      border-right-color: var(--fill-color);\n",
              "    }\n",
              "    40% {\n",
              "      border-color: transparent;\n",
              "      border-right-color: var(--fill-color);\n",
              "      border-top-color: var(--fill-color);\n",
              "    }\n",
              "    60% {\n",
              "      border-color: transparent;\n",
              "      border-right-color: var(--fill-color);\n",
              "    }\n",
              "    80% {\n",
              "      border-color: transparent;\n",
              "      border-right-color: var(--fill-color);\n",
              "      border-bottom-color: var(--fill-color);\n",
              "    }\n",
              "    90% {\n",
              "      border-color: transparent;\n",
              "      border-bottom-color: var(--fill-color);\n",
              "    }\n",
              "  }\n",
              "</style>\n",
              "\n",
              "  <script>\n",
              "    async function quickchart(key) {\n",
              "      const quickchartButtonEl =\n",
              "        document.querySelector('#' + key + ' button');\n",
              "      quickchartButtonEl.disabled = true;  // To prevent multiple clicks.\n",
              "      quickchartButtonEl.classList.add('colab-df-spinner');\n",
              "      try {\n",
              "        const charts = await google.colab.kernel.invokeFunction(\n",
              "            'suggestCharts', [key], {});\n",
              "      } catch (error) {\n",
              "        console.error('Error during call to suggestCharts:', error);\n",
              "      }\n",
              "      quickchartButtonEl.classList.remove('colab-df-spinner');\n",
              "      quickchartButtonEl.classList.add('colab-df-quickchart-complete');\n",
              "    }\n",
              "    (() => {\n",
              "      let quickchartButtonEl =\n",
              "        document.querySelector('#df-985b02ff-5b83-4e40-8149-deee366c9978 button');\n",
              "      quickchartButtonEl.style.display =\n",
              "        google.colab.kernel.accessAllowed ? 'block' : 'none';\n",
              "    })();\n",
              "  </script>\n",
              "</div>\n",
              "    </div>\n",
              "  </div>\n"
            ],
            "text/plain": [
              "       sepal length (cm)  sepal width (cm)  petal length (cm)  \\\n",
              "count         150.000000        150.000000         150.000000   \n",
              "mean            5.843333          3.057333           3.758000   \n",
              "std             0.828066          0.435866           1.765298   \n",
              "min             4.300000          2.000000           1.000000   \n",
              "25%             5.100000          2.800000           1.600000   \n",
              "50%             5.800000          3.000000           4.350000   \n",
              "75%             6.400000          3.300000           5.100000   \n",
              "max             7.900000          4.400000           6.900000   \n",
              "\n",
              "       petal width (cm)       label  \n",
              "count        150.000000  150.000000  \n",
              "mean           1.199333    1.000000  \n",
              "std            0.762238    0.819232  \n",
              "min            0.100000    0.000000  \n",
              "25%            0.300000    0.000000  \n",
              "50%            1.300000    1.000000  \n",
              "75%            1.800000    2.000000  \n",
              "max            2.500000    2.000000  "
            ]
          },
          "execution_count": 9,
          "metadata": {},
          "output_type": "execute_result"
        }
      ],
      "source": [
        "iris_df.describe()"
      ]
    },
    {
      "cell_type": "markdown",
      "id": "9d0c2baf-1f26-42da-aec1-1212f3ca7c91",
      "metadata": {
        "id": "9d0c2baf-1f26-42da-aec1-1212f3ca7c91"
      },
      "source": [
        "このDataFrameを自分で操作して、データがどのような形なのかを確認してください。  \n",
        "データは全部で150個、3クラス。1クラス50個のデータがあります。  \n",
        "\n",
        "\n",
        "データセットの各特徴が何を表しているかについては，以下の画像を参考にしてください．\n",
        "\n",
        "> ![](./figs/setosa_versicolor_virginica.png)  \n",
        "> 出典：[Iris Species Classification — Machine Learning Model](https://morioh.com/p/eafb28ccf4e3)"
      ]
    },
    {
      "cell_type": "markdown",
      "id": "ce4c94e8",
      "metadata": {},
      "source": [
        "ここでは、全体の30％をテストデータとして利用します。また、教師データとテストデータで各クラスに偏りが無いように、`stratify`という引数を利用していることに注意してください。\n",
        "`stratify`を使わない場合、完全なランダムサンプリングで教師とテストを分割します。  \n",
        "これに対して`stratify`に正解ラベルを指定すると、クラスに属するデータの偏りを母集団の分布と同じようにサンプリングしてくれます。これを**層化抽出法（stratified sampling, 層化サンプリング）**と呼びます。\n",
        "\n",
        "※ 関数の使い方が分からない場合は、コードセル上で\n",
        "```python\n",
        "train_test_split?\n",
        "```\n",
        "のように`?`をつけて実行してみてください。docstringに書かれた説明が表示されるはずです。"
      ]
    },
    {
      "cell_type": "code",
      "execution_count": 10,
      "id": "7bebaa4e-3f6f-4f0c-908d-cb8a46688431",
      "metadata": {
        "id": "7bebaa4e-3f6f-4f0c-908d-cb8a46688431"
      },
      "outputs": [],
      "source": [
        "X_train,X_test, y_train, y_test = train_test_split(iris.data, iris.target, # 分割したいデータを列挙\n",
        "                                                   test_size=0.3, # テストデータの割合\n",
        "                                                   stratify=iris.target, # 層化サンプリングの指針になるlabelを指定\n",
        "                                                   random_state=2022 # 乱数シードの設定\n",
        "                                                  )"
      ]
    },
    {
      "cell_type": "markdown",
      "id": "87861b86-edcb-4e72-bbaa-7135885d8c62",
      "metadata": {
        "id": "87861b86-edcb-4e72-bbaa-7135885d8c62"
      },
      "source": [
        "上で登場した変数はそれぞれ以下のような意味になります。\n",
        "- `X_train`: 教師データ\n",
        "- `X_test`: テストデータ\n",
        "- `y_train`: 教師ラベル\n",
        "- `y_test`: テストラベル  \n",
        "\n",
        "これらはおそらく、一般的な名前の付け方だと思うので、覚えておくと良いでしょう。"
      ]
    },
    {
      "cell_type": "markdown",
      "id": "1dbb2495-46c9-485c-ae74-3df498519b28",
      "metadata": {
        "id": "1dbb2495-46c9-485c-ae74-3df498519b28"
      },
      "source": [
        "### sklearnによる実験"
      ]
    },
    {
      "cell_type": "markdown",
      "id": "a1437097-e717-46f2-ba5c-e55d8d289e07",
      "metadata": {
        "id": "a1437097-e717-46f2-ba5c-e55d8d289e07"
      },
      "source": [
        "それではsklearnのk-NNを利用してみましょう。\n",
        "\n",
        "sklearnの教師あり学習モデルの使い方はほぼ一貫しています。\n",
        "1. インスタンスの生成\n",
        "2. 学習\n",
        "3. 予測 or スコアの算出\n",
        "\n",
        "この流れにそって、実験を行います。"
      ]
    },
    {
      "cell_type": "markdown",
      "id": "58492a63-65b6-491d-b281-3effe084a586",
      "metadata": {
        "id": "58492a63-65b6-491d-b281-3effe084a586"
      },
      "source": [
        "\n",
        "\n",
        "KNNクラスの使い方を知るために、?を使ってマニュアルを読んでみましょう。\n",
        "```python\n",
        "classifier = KNN?\n",
        "```\n",
        "すると以下のような表示が出てきます。\n",
        "```python\n",
        "Init signature:\n",
        "KNN(\n",
        "    n_neighbors=5,\n",
        "    *,\n",
        "    weights='uniform',\n",
        "    algorithm='auto',\n",
        "    leaf_size=30,\n",
        "    p=2,\n",
        "    metric='minkowski',\n",
        "    metric_params=None,\n",
        "    n_jobs=None,\n",
        ")\n",
        "```\n",
        "\n",
        "ここで`n_neighbors`が`k`に相当します。最低限、これだけを指定すれば動作します。  \n",
        "また、`n_jobs`は並列計算をさせたい時に、cpuのコア数を指定するオプションです。`None`は並列計算をしない設定です。特にこだわりがなく、並列化したい場合は`-1`を指定しましょう。使えるコアをすべて使ってくれるはずです。\n",
        "\n",
        "最後に、\n",
        "`p=2`と`metric='minkowski'`はそれぞれ、距離計算に利用する距離自体を指定するオプションです。デフォルトのまま利用すれば、ユークリッド距離を利用してくれます。※ [ミンコフスキー距離](https://ja.wikipedia.org/wiki/%E3%83%9F%E3%83%B3%E3%82%B3%E3%83%95%E3%82%B9%E3%82%AD%E3%83%BC%E8%B7%9D%E9%9B%A2)(minkowski)\n",
        "\n",
        "k=4で実験をしてみましょう。"
      ]
    },
    {
      "cell_type": "code",
      "execution_count": 11,
      "id": "c02d246f-3e4a-4618-9635-93aa81f46b8a",
      "metadata": {
        "id": "c02d246f-3e4a-4618-9635-93aa81f46b8a"
      },
      "outputs": [],
      "source": [
        "# 1. インスタンスの生成\n",
        "classifier = KNN(n_neighbors=4)"
      ]
    },
    {
      "cell_type": "markdown",
      "id": "4d8759ae-cdab-49a7-ad1e-c559a6e54082",
      "metadata": {
        "id": "4d8759ae-cdab-49a7-ad1e-c559a6e54082"
      },
      "source": [
        "次に、学習ステップです。fitメソッドを利用します。"
      ]
    },
    {
      "cell_type": "code",
      "execution_count": 12,
      "id": "3f1e36fb-9094-4a18-b079-db04f85b76a0",
      "metadata": {
        "id": "3f1e36fb-9094-4a18-b079-db04f85b76a0"
      },
      "outputs": [],
      "source": [
        "classifier.fit?"
      ]
    },
    {
      "cell_type": "code",
      "execution_count": 13,
      "id": "62e45824-fbb5-4b8f-8afa-801e78a50052",
      "metadata": {
        "colab": {
          "base_uri": "https://localhost:8080/",
          "height": 75
        },
        "id": "62e45824-fbb5-4b8f-8afa-801e78a50052",
        "outputId": "a5059ba9-30e4-49cd-ceb1-58162dcf23de"
      },
      "outputs": [
        {
          "data": {
            "text/html": [
              "<style>#sk-container-id-1 {color: black;background-color: white;}#sk-container-id-1 pre{padding: 0;}#sk-container-id-1 div.sk-toggleable {background-color: white;}#sk-container-id-1 label.sk-toggleable__label {cursor: pointer;display: block;width: 100%;margin-bottom: 0;padding: 0.3em;box-sizing: border-box;text-align: center;}#sk-container-id-1 label.sk-toggleable__label-arrow:before {content: \"▸\";float: left;margin-right: 0.25em;color: #696969;}#sk-container-id-1 label.sk-toggleable__label-arrow:hover:before {color: black;}#sk-container-id-1 div.sk-estimator:hover label.sk-toggleable__label-arrow:before {color: black;}#sk-container-id-1 div.sk-toggleable__content {max-height: 0;max-width: 0;overflow: hidden;text-align: left;background-color: #f0f8ff;}#sk-container-id-1 div.sk-toggleable__content pre {margin: 0.2em;color: black;border-radius: 0.25em;background-color: #f0f8ff;}#sk-container-id-1 input.sk-toggleable__control:checked~div.sk-toggleable__content {max-height: 200px;max-width: 100%;overflow: auto;}#sk-container-id-1 input.sk-toggleable__control:checked~label.sk-toggleable__label-arrow:before {content: \"▾\";}#sk-container-id-1 div.sk-estimator input.sk-toggleable__control:checked~label.sk-toggleable__label {background-color: #d4ebff;}#sk-container-id-1 div.sk-label input.sk-toggleable__control:checked~label.sk-toggleable__label {background-color: #d4ebff;}#sk-container-id-1 input.sk-hidden--visually {border: 0;clip: rect(1px 1px 1px 1px);clip: rect(1px, 1px, 1px, 1px);height: 1px;margin: -1px;overflow: hidden;padding: 0;position: absolute;width: 1px;}#sk-container-id-1 div.sk-estimator {font-family: monospace;background-color: #f0f8ff;border: 1px dotted black;border-radius: 0.25em;box-sizing: border-box;margin-bottom: 0.5em;}#sk-container-id-1 div.sk-estimator:hover {background-color: #d4ebff;}#sk-container-id-1 div.sk-parallel-item::after {content: \"\";width: 100%;border-bottom: 1px solid gray;flex-grow: 1;}#sk-container-id-1 div.sk-label:hover label.sk-toggleable__label {background-color: #d4ebff;}#sk-container-id-1 div.sk-serial::before {content: \"\";position: absolute;border-left: 1px solid gray;box-sizing: border-box;top: 0;bottom: 0;left: 50%;z-index: 0;}#sk-container-id-1 div.sk-serial {display: flex;flex-direction: column;align-items: center;background-color: white;padding-right: 0.2em;padding-left: 0.2em;position: relative;}#sk-container-id-1 div.sk-item {position: relative;z-index: 1;}#sk-container-id-1 div.sk-parallel {display: flex;align-items: stretch;justify-content: center;background-color: white;position: relative;}#sk-container-id-1 div.sk-item::before, #sk-container-id-1 div.sk-parallel-item::before {content: \"\";position: absolute;border-left: 1px solid gray;box-sizing: border-box;top: 0;bottom: 0;left: 50%;z-index: -1;}#sk-container-id-1 div.sk-parallel-item {display: flex;flex-direction: column;z-index: 1;position: relative;background-color: white;}#sk-container-id-1 div.sk-parallel-item:first-child::after {align-self: flex-end;width: 50%;}#sk-container-id-1 div.sk-parallel-item:last-child::after {align-self: flex-start;width: 50%;}#sk-container-id-1 div.sk-parallel-item:only-child::after {width: 0;}#sk-container-id-1 div.sk-dashed-wrapped {border: 1px dashed gray;margin: 0 0.4em 0.5em 0.4em;box-sizing: border-box;padding-bottom: 0.4em;background-color: white;}#sk-container-id-1 div.sk-label label {font-family: monospace;font-weight: bold;display: inline-block;line-height: 1.2em;}#sk-container-id-1 div.sk-label-container {text-align: center;}#sk-container-id-1 div.sk-container {/* jupyter's `normalize.less` sets `[hidden] { display: none; }` but bootstrap.min.css set `[hidden] { display: none !important; }` so we also need the `!important` here to be able to override the default hidden behavior on the sphinx rendered scikit-learn.org. See: https://github.com/scikit-learn/scikit-learn/issues/21755 */display: inline-block !important;position: relative;}#sk-container-id-1 div.sk-text-repr-fallback {display: none;}</style><div id=\"sk-container-id-1\" class=\"sk-top-container\"><div class=\"sk-text-repr-fallback\"><pre>KNeighborsClassifier(n_neighbors=4)</pre><b>In a Jupyter environment, please rerun this cell to show the HTML representation or trust the notebook. <br />On GitHub, the HTML representation is unable to render, please try loading this page with nbviewer.org.</b></div><div class=\"sk-container\" hidden><div class=\"sk-item\"><div class=\"sk-estimator sk-toggleable\"><input class=\"sk-toggleable__control sk-hidden--visually\" id=\"sk-estimator-id-1\" type=\"checkbox\" checked><label for=\"sk-estimator-id-1\" class=\"sk-toggleable__label sk-toggleable__label-arrow\">KNeighborsClassifier</label><div class=\"sk-toggleable__content\"><pre>KNeighborsClassifier(n_neighbors=4)</pre></div></div></div></div></div>"
            ],
            "text/plain": [
              "KNeighborsClassifier(n_neighbors=4)"
            ]
          },
          "execution_count": 13,
          "metadata": {},
          "output_type": "execute_result"
        }
      ],
      "source": [
        "# 2. 学習\n",
        "\n",
        "classifier.fit(X_train,y_train)"
      ]
    },
    {
      "cell_type": "markdown",
      "id": "1ae17b50-e72a-4bb1-ad16-de0ab2ff5def",
      "metadata": {
        "id": "1ae17b50-e72a-4bb1-ad16-de0ab2ff5def"
      },
      "source": [
        "最後に予測性能をテストデータで評価します。scoreメソッドを利用します。"
      ]
    },
    {
      "cell_type": "code",
      "execution_count": 14,
      "id": "8999e4d9-6f82-477c-9a70-42bf0ddde55b",
      "metadata": {
        "id": "8999e4d9-6f82-477c-9a70-42bf0ddde55b"
      },
      "outputs": [],
      "source": [
        "classifier.score?"
      ]
    },
    {
      "cell_type": "code",
      "execution_count": 15,
      "id": "c9a55be2-cdcb-4231-9710-60e7ccabccc1",
      "metadata": {
        "colab": {
          "base_uri": "https://localhost:8080/"
        },
        "id": "c9a55be2-cdcb-4231-9710-60e7ccabccc1",
        "outputId": "2c0758a2-153c-451c-adc0-0b1ea886898f"
      },
      "outputs": [
        {
          "data": {
            "text/plain": [
              "0.8666666666666667"
            ]
          },
          "execution_count": 15,
          "metadata": {},
          "output_type": "execute_result"
        }
      ],
      "source": [
        "classifier.score(X_test, y_test)"
      ]
    },
    {
      "cell_type": "markdown",
      "id": "e3f20893-2a71-4c5c-96d1-d4be2e9c71aa",
      "metadata": {
        "id": "e3f20893-2a71-4c5c-96d1-d4be2e9c71aa"
      },
      "source": [
        "0.86... の正答率が確認できれば、これで完了です。"
      ]
    },
    {
      "cell_type": "markdown",
      "id": "7aa95a08-2d22-4ac4-a28c-55262bfdc409",
      "metadata": {
        "id": "7aa95a08-2d22-4ac4-a28c-55262bfdc409"
      },
      "source": [
        "## k-NNのNumpyを利用した実装"
      ]
    },
    {
      "cell_type": "markdown",
      "id": "7a9ccdb9-35d6-484f-a2be-6457d7800d70",
      "metadata": {
        "id": "7a9ccdb9-35d6-484f-a2be-6457d7800d70"
      },
      "source": [
        "このセクションではk-NNをNumPyを使って実装してもらいます。\n",
        "\n"
      ]
    },
    {
      "cell_type": "markdown",
      "id": "c85bc0cd-a4b5-4b25-afc7-47acbffcdc15",
      "metadata": {
        "id": "c85bc0cd-a4b5-4b25-afc7-47acbffcdc15"
      },
      "source": [
        "### k-NNクラスのヒント"
      ]
    },
    {
      "cell_type": "markdown",
      "id": "3a078bd7-be8b-40a5-b696-a85decdce6d1",
      "metadata": {
        "id": "3a078bd7-be8b-40a5-b696-a85decdce6d1"
      },
      "source": [
        "k-NNのクラスの雛形を示します。\n",
        "\n",
        "```python\n",
        "\n",
        "import numpy as np\n",
        "import scipy.stats as stats\n",
        "\n",
        "class KNearestNeighbor():\n",
        "    def __init__(self, k):\n",
        "        self.k = k\n",
        "        self.is_fitted = False\n",
        "        \n",
        "    def fit(self, X, y):\n",
        "        ...\n",
        "        # 教師データのXとyをこのインスタンスの変数として保存して、predictで使えるようにする\n",
        "        return self\n",
        "    \n",
        "    def predict(self, X)->np.ndarray:\n",
        "        ...\n",
        "        # 1. 以下の2,3を全てのXに対して行う\n",
        "        # 2. x(x \\in X)と教師データの距離を計算する\n",
        "        # 3. 距離の近いself.k個のデータのラベルの中で、最も出現したものをxのラベルとする\n",
        "        return pred_y\n",
        "    \n",
        "    def score(self, X,y)->float:\n",
        "        ...\n",
        "        # Xに対しての予測ラベルpred_yと正解ラベルyとの比較をして、等しいラベルを持っていた数を数える\n",
        "        # score = 等しいラベルの数 / データの総数\n",
        "        return score\n",
        "    \n",
        "    def __repr__(self):\n",
        "        return ...\n",
        "```\n",
        "\n",
        "\n",
        "predictの所をもう少し細かく書くと以下のようになります。\n",
        "```python\n",
        "pred_y = []\n",
        "for x in テストデータ:\n",
        "    xと教師データとの距離を計算し、距離が近い順にk個のラベルを得る。\n",
        "    k個のラベルの中で最も出現頻度の高いラベルをxのラベルに採用する。\n",
        "    pred_y.append(xのラベル)\n",
        "pred_yを教師ラベルと同じ型にキャスト変換してreturnする。\n",
        "```\n",
        "\n",
        "これらを参考に、以下の実装課題をやってみてください。"
      ]
    },
    {
      "cell_type": "markdown",
      "id": "e67bc6e3-807a-4a9d-8a7f-af0c9f219d42",
      "metadata": {
        "id": "e67bc6e3-807a-4a9d-8a7f-af0c9f219d42"
      },
      "source": [
        "### [基礎]以下の要件を満たす用に、`KNearestNeighbor`クラスを修正してk-nnを実装してください。"
      ]
    },
    {
      "cell_type": "markdown",
      "id": "693a58e5-3aa4-4f2c-a75a-6a30d3141151",
      "metadata": {
        "id": "693a58e5-3aa4-4f2c-a75a-6a30d3141151"
      },
      "source": [
        "1. `__init__`メソッドにおいて、`k`の値が1以上でない場合にエラーを出して下さい。\n",
        "1. `__init__`メソッドの引数`k`にint型のtype hintを追加し、デフォルト引数として3が与えられているようにしてください。\n",
        "1. `fit`メソッドにおいて、与えられた`X`と`y`をそれぞれインスタンス変数`self._X`, `self._y`として保存してください。\n",
        "1. `fit`メソッドが呼び出されたらself.is_fittedをTrueにして下さい。\n",
        "1. `predict`メソッドに、このメソッドに与えられたテストデータ`X`のラベルを予測するコードを追加してください。\n",
        "1. `predict`メソッドにおいて、返り値として、`X`に対する予測ラベルを`np.ndarray`型で返してください。このとき、`X.shape[0] == pred_y.size`になります。\n",
        "1. `predict`メソッドにおいて、引数`X`が`self._X`と同じ特徴量の次元数を持っているかを確認してください。また、異なっていた場合はエラーを出してください。\n",
        "1. `predict`メソッドが呼び出された際に、事前にfitが実行されていないならエラーを出すようにしてください。\n",
        "1. `score`メソッドに正答率を計算するコードを追加してください。正答率は0から1の範囲で値を取ります。\n",
        "1. `__repr__`メソッドを実装し、`eval(repr(ここで実装したクラスのインスタンス))`とした際に、インスタンスを再構成できるようにしてください。\n",
        "1. `__repr__`を除く全てのメソッドにdocstringを追加し、docstringから以下が分かるようにして下さい。\n",
        "    1. なんのためのメソッドなのか（何を実行するメソッドなのか）\n",
        "    2. どんな引数を受け取るのか\n",
        "    3. どんな返り値を返すのか\n",
        "    \n",
        "※k-nnクラスは以下のセルにまとめて実装してください。\n",
        "    "
      ]
    },
    {
      "cell_type": "code",
      "execution_count": 16,
      "id": "c0b84d8a-91c2-4e5a-9f8f-c481ddf3b5be",
      "metadata": {
        "id": "c0b84d8a-91c2-4e5a-9f8f-c481ddf3b5be"
      },
      "outputs": [],
      "source": [
        "# クラスを実装するセル\n",
        "\n",
        "\n",
        "\n",
        "\n",
        "\n"
      ]
    },
    {
      "cell_type": "markdown",
      "id": "935464a8-cebe-4782-8a43-28f5f7e97e7c",
      "metadata": {
        "id": "935464a8-cebe-4782-8a43-28f5f7e97e7c"
      },
      "source": [
        "### [発展]`KNearestNeighbor`クラスを修正し、距離尺度としてユークリッド距離（euclid）、[コサイン距離](https://www.haya-programming.com/entry/2019/07/05/030935)(cos)を選択できるようにしなさい。また、動作することを確認してください。\n",
        "\n",
        "- `__init__`の引数に` metric`を追加します。\n",
        "- `metric`にeuclid, cosなどの文字列が与えられた場合、それぞれを距離尺度として利用します。\n",
        "- `metric`に上記2つ以外の文字列が与えられた場合は、`NotImplementedError`を返してください。"
      ]
    },
    {
      "cell_type": "code",
      "execution_count": 17,
      "id": "9e0a3837-4ea2-4f99-8a09-ef30d2e3f2ed",
      "metadata": {
        "id": "9e0a3837-4ea2-4f99-8a09-ef30d2e3f2ed"
      },
      "outputs": [],
      "source": [
        "# クラスを実装するセル\n",
        "\n",
        "\n",
        "\n"
      ]
    },
    {
      "cell_type": "markdown",
      "id": "d13f0220-2358-40d4-8c32-4a4512f60981",
      "metadata": {
        "id": "d13f0220-2358-40d4-8c32-4a4512f60981"
      },
      "source": [
        "## 実験"
      ]
    },
    {
      "cell_type": "markdown",
      "id": "68ebf52a-7534-49c7-a52b-d0c77af9729d",
      "metadata": {
        "id": "68ebf52a-7534-49c7-a52b-d0c77af9729d"
      },
      "source": [
        "### [基礎]sklearnを使った実験で用いた`X_train,X_test,y_train, y_test`を使って、k=4の際の正答率を表示する実験を行ってください。"
      ]
    },
    {
      "cell_type": "code",
      "execution_count": 18,
      "id": "114323cb-08df-4335-9771-0d0e634e7b36",
      "metadata": {
        "id": "114323cb-08df-4335-9771-0d0e634e7b36"
      },
      "outputs": [],
      "source": [
        "# 正答率を計算するセル\n",
        "\n",
        "\n",
        "\n",
        "\n"
      ]
    },
    {
      "cell_type": "markdown",
      "id": "e0ecae66-26c9-4ce5-93e1-86d5831c7914",
      "metadata": {
        "id": "e0ecae66-26c9-4ce5-93e1-86d5831c7914"
      },
      "source": [
        "### [基礎]Kの値を1~10の範囲で変化させて、正答率を折れ線グラフにしなさい。\n"
      ]
    },
    {
      "cell_type": "code",
      "execution_count": 19,
      "id": "f13cc73a-9eb6-4e65-a484-e0f5020406f2",
      "metadata": {
        "id": "f13cc73a-9eb6-4e65-a484-e0f5020406f2"
      },
      "outputs": [],
      "source": [
        "# kと正答率の関係をプロットするセル\n",
        "\n",
        "\n",
        "\n",
        "\n",
        "\n",
        "\n",
        "\n",
        "\n",
        "\n",
        "\n",
        "\n"
      ]
    },
    {
      "cell_type": "markdown",
      "id": "2a4878eb-70e7-4bc1-8ec1-e1b03e762753",
      "metadata": {
        "id": "2a4878eb-70e7-4bc1-8ec1-e1b03e762753"
      },
      "source": [
        "### [発展]kの値と正答率の間には、どのような関係がありますか？"
      ]
    },
    {
      "cell_type": "markdown",
      "id": "387869b5-2fa5-4945-9e45-f125390592ed",
      "metadata": {
        "id": "387869b5-2fa5-4945-9e45-f125390592ed"
      },
      "source": [
        "---\n",
        "(解答欄)\n",
        "\n",
        "\n",
        "\n",
        "\n",
        "\n",
        "\n",
        "\n",
        "\n",
        "-----"
      ]
    },
    {
      "cell_type": "markdown",
      "id": "6999fbef-7523-46e0-b1ab-56074923df75",
      "metadata": {
        "id": "6999fbef-7523-46e0-b1ab-56074923df75"
      },
      "source": [
        "[終わり]"
      ]
    }
  ],
  "metadata": {
    "colab": {
      "provenance": []
    },
    "kernelspec": {
      "display_name": ".venv",
      "language": "python",
      "name": "python3"
    },
    "language_info": {
      "codemirror_mode": {
        "name": "ipython",
        "version": 3
      },
      "file_extension": ".py",
      "mimetype": "text/x-python",
      "name": "python",
      "nbconvert_exporter": "python",
      "pygments_lexer": "ipython3",
      "version": "3.11.8"
    }
  },
  "nbformat": 4,
  "nbformat_minor": 5
}
